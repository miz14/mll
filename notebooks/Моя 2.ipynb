{
 "cells": [
  {
   "cell_type": "code",
   "execution_count": 2,
   "id": "d466b4cc",
   "metadata": {},
   "outputs": [],
   "source": [
    "import pandas as pd\n",
    "import numpy as np\n",
    "import random\n",
    "from sklearn.preprocessing import StandardScaler\n",
    "from sklearn.utils import shuffle\n",
    "from sklearn.model_selection import train_test_split\n",
    "from sklearn.neighbors import KNeighborsClassifier\n",
    "from sklearn.model_selection import GridSearchCV\n",
    "from sklearn.metrics import confusion_matrix\n",
    "from sklearn.metrics import accuracy_score, precision_score, recall_score, f1_score, roc_auc_score\n",
    "import matplotlib.pyplot as plt\n",
    "from sklearn.metrics import RocCurveDisplay\n",
    "from sklearn.naive_bayes import GaussianNB\n",
    "import numpy as np\n",
    "from sklearn.linear_model import LogisticRegression, Ridge\n",
    "from sklearn import svm"
   ]
  },
  {
   "cell_type": "code",
   "execution_count": 2,
   "id": "4a9d7155",
   "metadata": {},
   "outputs": [],
   "source": [
    "data = [\n",
    "        ('солнечно', True),\n",
    "        ('снег', False),\n",
    "        ('облачно', False),\n",
    "        ('дождь', False),\n",
    "        ('солнечно', True),\n",
    "        ('снег', False),\n",
    "        ('облачно', True),\n",
    "        ('снег', False),\n",
    "        ('солнечно', False),\n",
    "        ('облачно', True),\n",
    "        ('снег', True),\n",
    "        ('солнечно', True),\n",
    "        ('дождь', False),\n",
    "        ('дождь', True),\n",
    "        ('облачно', True),\n",
    "]"
   ]
  },
  {
   "cell_type": "code",
   "execution_count": 3,
   "id": "84f1002d",
   "metadata": {},
   "outputs": [
    {
     "data": {
      "text/html": [
       "<div>\n",
       "<style scoped>\n",
       "    .dataframe tbody tr th:only-of-type {\n",
       "        vertical-align: middle;\n",
       "    }\n",
       "\n",
       "    .dataframe tbody tr th {\n",
       "        vertical-align: top;\n",
       "    }\n",
       "\n",
       "    .dataframe thead th {\n",
       "        text-align: right;\n",
       "    }\n",
       "</style>\n",
       "<table border=\"1\" class=\"dataframe\">\n",
       "  <thead>\n",
       "    <tr style=\"text-align: right;\">\n",
       "      <th></th>\n",
       "      <th>weather</th>\n",
       "      <th>stroll</th>\n",
       "    </tr>\n",
       "  </thead>\n",
       "  <tbody>\n",
       "    <tr>\n",
       "      <th>0</th>\n",
       "      <td>солнечно</td>\n",
       "      <td>True</td>\n",
       "    </tr>\n",
       "    <tr>\n",
       "      <th>1</th>\n",
       "      <td>снег</td>\n",
       "      <td>False</td>\n",
       "    </tr>\n",
       "    <tr>\n",
       "      <th>2</th>\n",
       "      <td>облачно</td>\n",
       "      <td>False</td>\n",
       "    </tr>\n",
       "    <tr>\n",
       "      <th>3</th>\n",
       "      <td>дождь</td>\n",
       "      <td>False</td>\n",
       "    </tr>\n",
       "    <tr>\n",
       "      <th>4</th>\n",
       "      <td>солнечно</td>\n",
       "      <td>True</td>\n",
       "    </tr>\n",
       "    <tr>\n",
       "      <th>5</th>\n",
       "      <td>снег</td>\n",
       "      <td>False</td>\n",
       "    </tr>\n",
       "    <tr>\n",
       "      <th>6</th>\n",
       "      <td>облачно</td>\n",
       "      <td>True</td>\n",
       "    </tr>\n",
       "    <tr>\n",
       "      <th>7</th>\n",
       "      <td>снег</td>\n",
       "      <td>False</td>\n",
       "    </tr>\n",
       "    <tr>\n",
       "      <th>8</th>\n",
       "      <td>солнечно</td>\n",
       "      <td>False</td>\n",
       "    </tr>\n",
       "    <tr>\n",
       "      <th>9</th>\n",
       "      <td>облачно</td>\n",
       "      <td>True</td>\n",
       "    </tr>\n",
       "    <tr>\n",
       "      <th>10</th>\n",
       "      <td>снег</td>\n",
       "      <td>True</td>\n",
       "    </tr>\n",
       "    <tr>\n",
       "      <th>11</th>\n",
       "      <td>солнечно</td>\n",
       "      <td>True</td>\n",
       "    </tr>\n",
       "    <tr>\n",
       "      <th>12</th>\n",
       "      <td>дождь</td>\n",
       "      <td>False</td>\n",
       "    </tr>\n",
       "    <tr>\n",
       "      <th>13</th>\n",
       "      <td>дождь</td>\n",
       "      <td>True</td>\n",
       "    </tr>\n",
       "    <tr>\n",
       "      <th>14</th>\n",
       "      <td>облачно</td>\n",
       "      <td>True</td>\n",
       "    </tr>\n",
       "  </tbody>\n",
       "</table>\n",
       "</div>"
      ],
      "text/plain": [
       "     weather  stroll\n",
       "0   солнечно    True\n",
       "1       снег   False\n",
       "2    облачно   False\n",
       "3      дождь   False\n",
       "4   солнечно    True\n",
       "5       снег   False\n",
       "6    облачно    True\n",
       "7       снег   False\n",
       "8   солнечно   False\n",
       "9    облачно    True\n",
       "10      снег    True\n",
       "11  солнечно    True\n",
       "12     дождь   False\n",
       "13     дождь    True\n",
       "14   облачно    True"
      ]
     },
     "execution_count": 3,
     "metadata": {},
     "output_type": "execute_result"
    }
   ],
   "source": [
    "df = pd.DataFrame(data, columns=['weather', 'stroll'])\n",
    "df"
   ]
  },
  {
   "cell_type": "code",
   "execution_count": 4,
   "id": "2752b3fd",
   "metadata": {},
   "outputs": [
    {
     "name": "stdout",
     "output_type": "stream",
     "text": [
      "0.26666666666666666 0.2 0.26666666666666666 0.26666666666666666\n"
     ]
    }
   ],
   "source": [
    "p_sunny = len(df.loc[df['weather'] == 'солнечно']) / len(df)\n",
    "p_rain =  len(df.loc[df['weather'] == 'дождь']) / len(df)\n",
    "p_snow = len(df.loc[df['weather'] == 'снег']) / len(df)\n",
    "p_cloudly = len(df.loc[df['weather'] == 'облачно']) / len(df)\n",
    "print(p_sunny, p_rain, p_snow, p_cloudly)"
   ]
  },
  {
   "cell_type": "code",
   "execution_count": 5,
   "id": "fb329e9f",
   "metadata": {},
   "outputs": [
    {
     "name": "stdout",
     "output_type": "stream",
     "text": [
      "0.5333333333333333 0.4666666666666667\n"
     ]
    }
   ],
   "source": [
    "p_stroll = len(df.loc[df['stroll'] == True]) / len(df)\n",
    "p_not_stroll = len(df.loc[df['stroll'] == False]) / len(df)\n",
    "print(p_stroll, p_not_stroll)"
   ]
  },
  {
   "cell_type": "code",
   "execution_count": 6,
   "id": "8e6e15f1",
   "metadata": {},
   "outputs": [
    {
     "name": "stdout",
     "output_type": "stream",
     "text": [
      "0.125\n"
     ]
    }
   ],
   "source": [
    "p_rain_if_stroll = len(df.loc[(df['weather'] == 'дождь') & (df['stroll'] == True)]) / len(df.loc[df['stroll'] == True])\n",
    "print(p_rain_if_stroll)"
   ]
  },
  {
   "cell_type": "code",
   "execution_count": 7,
   "id": "708d42e1",
   "metadata": {},
   "outputs": [
    {
     "name": "stdout",
     "output_type": "stream",
     "text": [
      "0.3333333333333333\n"
     ]
    }
   ],
   "source": [
    "p_stroll_if_rain = p_stroll * p_rain_if_stroll / p_rain\n",
    "print(p_stroll_if_rain)"
   ]
  },
  {
   "cell_type": "markdown",
   "id": "6a7ae773",
   "metadata": {},
   "source": [
    "## Задание 2"
   ]
  },
  {
   "cell_type": "code",
   "execution_count": 8,
   "id": "082db42b",
   "metadata": {},
   "outputs": [
    {
     "data": {
      "text/html": [
       "<div>\n",
       "<style scoped>\n",
       "    .dataframe tbody tr th:only-of-type {\n",
       "        vertical-align: middle;\n",
       "    }\n",
       "\n",
       "    .dataframe tbody tr th {\n",
       "        vertical-align: top;\n",
       "    }\n",
       "\n",
       "    .dataframe thead th {\n",
       "        text-align: right;\n",
       "    }\n",
       "</style>\n",
       "<table border=\"1\" class=\"dataframe\">\n",
       "  <thead>\n",
       "    <tr style=\"text-align: right;\">\n",
       "      <th></th>\n",
       "      <th>time_left</th>\n",
       "      <th>ct_score</th>\n",
       "      <th>t_score</th>\n",
       "      <th>map</th>\n",
       "      <th>bomb_planted</th>\n",
       "      <th>ct_health</th>\n",
       "      <th>t_health</th>\n",
       "      <th>ct_armor</th>\n",
       "      <th>t_armor</th>\n",
       "      <th>ct_money</th>\n",
       "      <th>t_money</th>\n",
       "      <th>ct_helmets</th>\n",
       "      <th>t_helmets</th>\n",
       "      <th>ct_defuse_kits</th>\n",
       "      <th>ct_players_alive</th>\n",
       "      <th>t_players_alive</th>\n",
       "    </tr>\n",
       "  </thead>\n",
       "  <tbody>\n",
       "    <tr>\n",
       "      <th>0</th>\n",
       "      <td>175.00</td>\n",
       "      <td>0.0</td>\n",
       "      <td>0.0</td>\n",
       "      <td>de_dust2</td>\n",
       "      <td>False</td>\n",
       "      <td>500.0</td>\n",
       "      <td>500.0</td>\n",
       "      <td>0.0</td>\n",
       "      <td>0.0</td>\n",
       "      <td>4000.0</td>\n",
       "      <td>4000.0</td>\n",
       "      <td>0.0</td>\n",
       "      <td>0.0</td>\n",
       "      <td>0.0</td>\n",
       "      <td>5.0</td>\n",
       "      <td>5.0</td>\n",
       "    </tr>\n",
       "    <tr>\n",
       "      <th>1</th>\n",
       "      <td>156.03</td>\n",
       "      <td>0.0</td>\n",
       "      <td>0.0</td>\n",
       "      <td>de_dust2</td>\n",
       "      <td>False</td>\n",
       "      <td>500.0</td>\n",
       "      <td>500.0</td>\n",
       "      <td>400.0</td>\n",
       "      <td>300.0</td>\n",
       "      <td>600.0</td>\n",
       "      <td>650.0</td>\n",
       "      <td>0.0</td>\n",
       "      <td>0.0</td>\n",
       "      <td>1.0</td>\n",
       "      <td>5.0</td>\n",
       "      <td>5.0</td>\n",
       "    </tr>\n",
       "    <tr>\n",
       "      <th>2</th>\n",
       "      <td>96.03</td>\n",
       "      <td>0.0</td>\n",
       "      <td>0.0</td>\n",
       "      <td>de_dust2</td>\n",
       "      <td>False</td>\n",
       "      <td>391.0</td>\n",
       "      <td>400.0</td>\n",
       "      <td>294.0</td>\n",
       "      <td>200.0</td>\n",
       "      <td>750.0</td>\n",
       "      <td>500.0</td>\n",
       "      <td>0.0</td>\n",
       "      <td>0.0</td>\n",
       "      <td>1.0</td>\n",
       "      <td>4.0</td>\n",
       "      <td>4.0</td>\n",
       "    </tr>\n",
       "    <tr>\n",
       "      <th>3</th>\n",
       "      <td>76.03</td>\n",
       "      <td>0.0</td>\n",
       "      <td>0.0</td>\n",
       "      <td>de_dust2</td>\n",
       "      <td>False</td>\n",
       "      <td>391.0</td>\n",
       "      <td>400.0</td>\n",
       "      <td>294.0</td>\n",
       "      <td>200.0</td>\n",
       "      <td>750.0</td>\n",
       "      <td>500.0</td>\n",
       "      <td>0.0</td>\n",
       "      <td>0.0</td>\n",
       "      <td>1.0</td>\n",
       "      <td>4.0</td>\n",
       "      <td>4.0</td>\n",
       "    </tr>\n",
       "    <tr>\n",
       "      <th>4</th>\n",
       "      <td>174.97</td>\n",
       "      <td>1.0</td>\n",
       "      <td>0.0</td>\n",
       "      <td>de_dust2</td>\n",
       "      <td>False</td>\n",
       "      <td>500.0</td>\n",
       "      <td>500.0</td>\n",
       "      <td>192.0</td>\n",
       "      <td>0.0</td>\n",
       "      <td>18350.0</td>\n",
       "      <td>10750.0</td>\n",
       "      <td>0.0</td>\n",
       "      <td>0.0</td>\n",
       "      <td>1.0</td>\n",
       "      <td>5.0</td>\n",
       "      <td>5.0</td>\n",
       "    </tr>\n",
       "    <tr>\n",
       "      <th>...</th>\n",
       "      <td>...</td>\n",
       "      <td>...</td>\n",
       "      <td>...</td>\n",
       "      <td>...</td>\n",
       "      <td>...</td>\n",
       "      <td>...</td>\n",
       "      <td>...</td>\n",
       "      <td>...</td>\n",
       "      <td>...</td>\n",
       "      <td>...</td>\n",
       "      <td>...</td>\n",
       "      <td>...</td>\n",
       "      <td>...</td>\n",
       "      <td>...</td>\n",
       "      <td>...</td>\n",
       "      <td>...</td>\n",
       "    </tr>\n",
       "    <tr>\n",
       "      <th>122405</th>\n",
       "      <td>15.41</td>\n",
       "      <td>11.0</td>\n",
       "      <td>14.0</td>\n",
       "      <td>de_train</td>\n",
       "      <td>True</td>\n",
       "      <td>200.0</td>\n",
       "      <td>242.0</td>\n",
       "      <td>195.0</td>\n",
       "      <td>359.0</td>\n",
       "      <td>100.0</td>\n",
       "      <td>5950.0</td>\n",
       "      <td>2.0</td>\n",
       "      <td>4.0</td>\n",
       "      <td>1.0</td>\n",
       "      <td>2.0</td>\n",
       "      <td>4.0</td>\n",
       "    </tr>\n",
       "    <tr>\n",
       "      <th>122406</th>\n",
       "      <td>174.93</td>\n",
       "      <td>11.0</td>\n",
       "      <td>15.0</td>\n",
       "      <td>de_train</td>\n",
       "      <td>False</td>\n",
       "      <td>500.0</td>\n",
       "      <td>500.0</td>\n",
       "      <td>95.0</td>\n",
       "      <td>175.0</td>\n",
       "      <td>11500.0</td>\n",
       "      <td>23900.0</td>\n",
       "      <td>1.0</td>\n",
       "      <td>2.0</td>\n",
       "      <td>1.0</td>\n",
       "      <td>5.0</td>\n",
       "      <td>5.0</td>\n",
       "    </tr>\n",
       "    <tr>\n",
       "      <th>122407</th>\n",
       "      <td>114.93</td>\n",
       "      <td>11.0</td>\n",
       "      <td>15.0</td>\n",
       "      <td>de_train</td>\n",
       "      <td>False</td>\n",
       "      <td>500.0</td>\n",
       "      <td>500.0</td>\n",
       "      <td>495.0</td>\n",
       "      <td>475.0</td>\n",
       "      <td>1200.0</td>\n",
       "      <td>6700.0</td>\n",
       "      <td>3.0</td>\n",
       "      <td>5.0</td>\n",
       "      <td>1.0</td>\n",
       "      <td>5.0</td>\n",
       "      <td>5.0</td>\n",
       "    </tr>\n",
       "    <tr>\n",
       "      <th>122408</th>\n",
       "      <td>94.93</td>\n",
       "      <td>11.0</td>\n",
       "      <td>15.0</td>\n",
       "      <td>de_train</td>\n",
       "      <td>False</td>\n",
       "      <td>500.0</td>\n",
       "      <td>500.0</td>\n",
       "      <td>495.0</td>\n",
       "      <td>475.0</td>\n",
       "      <td>1200.0</td>\n",
       "      <td>6700.0</td>\n",
       "      <td>3.0</td>\n",
       "      <td>5.0</td>\n",
       "      <td>1.0</td>\n",
       "      <td>5.0</td>\n",
       "      <td>5.0</td>\n",
       "    </tr>\n",
       "    <tr>\n",
       "      <th>122409</th>\n",
       "      <td>74.93</td>\n",
       "      <td>11.0</td>\n",
       "      <td>15.0</td>\n",
       "      <td>de_train</td>\n",
       "      <td>False</td>\n",
       "      <td>375.0</td>\n",
       "      <td>479.0</td>\n",
       "      <td>395.0</td>\n",
       "      <td>466.0</td>\n",
       "      <td>1100.0</td>\n",
       "      <td>7000.0</td>\n",
       "      <td>2.0</td>\n",
       "      <td>5.0</td>\n",
       "      <td>1.0</td>\n",
       "      <td>4.0</td>\n",
       "      <td>5.0</td>\n",
       "    </tr>\n",
       "  </tbody>\n",
       "</table>\n",
       "<p>122410 rows × 16 columns</p>\n",
       "</div>"
      ],
      "text/plain": [
       "        time_left  ct_score  t_score       map  bomb_planted  ct_health  \\\n",
       "0          175.00       0.0      0.0  de_dust2         False      500.0   \n",
       "1          156.03       0.0      0.0  de_dust2         False      500.0   \n",
       "2           96.03       0.0      0.0  de_dust2         False      391.0   \n",
       "3           76.03       0.0      0.0  de_dust2         False      391.0   \n",
       "4          174.97       1.0      0.0  de_dust2         False      500.0   \n",
       "...           ...       ...      ...       ...           ...        ...   \n",
       "122405      15.41      11.0     14.0  de_train          True      200.0   \n",
       "122406     174.93      11.0     15.0  de_train         False      500.0   \n",
       "122407     114.93      11.0     15.0  de_train         False      500.0   \n",
       "122408      94.93      11.0     15.0  de_train         False      500.0   \n",
       "122409      74.93      11.0     15.0  de_train         False      375.0   \n",
       "\n",
       "        t_health  ct_armor  t_armor  ct_money  t_money  ct_helmets  t_helmets  \\\n",
       "0          500.0       0.0      0.0    4000.0   4000.0         0.0        0.0   \n",
       "1          500.0     400.0    300.0     600.0    650.0         0.0        0.0   \n",
       "2          400.0     294.0    200.0     750.0    500.0         0.0        0.0   \n",
       "3          400.0     294.0    200.0     750.0    500.0         0.0        0.0   \n",
       "4          500.0     192.0      0.0   18350.0  10750.0         0.0        0.0   \n",
       "...          ...       ...      ...       ...      ...         ...        ...   \n",
       "122405     242.0     195.0    359.0     100.0   5950.0         2.0        4.0   \n",
       "122406     500.0      95.0    175.0   11500.0  23900.0         1.0        2.0   \n",
       "122407     500.0     495.0    475.0    1200.0   6700.0         3.0        5.0   \n",
       "122408     500.0     495.0    475.0    1200.0   6700.0         3.0        5.0   \n",
       "122409     479.0     395.0    466.0    1100.0   7000.0         2.0        5.0   \n",
       "\n",
       "        ct_defuse_kits  ct_players_alive  t_players_alive  \n",
       "0                  0.0               5.0              5.0  \n",
       "1                  1.0               5.0              5.0  \n",
       "2                  1.0               4.0              4.0  \n",
       "3                  1.0               4.0              4.0  \n",
       "4                  1.0               5.0              5.0  \n",
       "...                ...               ...              ...  \n",
       "122405             1.0               2.0              4.0  \n",
       "122406             1.0               5.0              5.0  \n",
       "122407             1.0               5.0              5.0  \n",
       "122408             1.0               5.0              5.0  \n",
       "122409             1.0               4.0              5.0  \n",
       "\n",
       "[122410 rows x 16 columns]"
      ]
     },
     "execution_count": 8,
     "metadata": {},
     "output_type": "execute_result"
    }
   ],
   "source": [
    "df = pd.read_csv('../data/csgo_task.csv')\n",
    "\n",
    "df"
   ]
  },
  {
   "cell_type": "code",
   "execution_count": 9,
   "id": "0fd169a9",
   "metadata": {},
   "outputs": [
    {
     "name": "stdout",
     "output_type": "stream",
     "text": [
      "<class 'pandas.core.frame.DataFrame'>\n",
      "Int64Index: 118089 entries, 0 to 122409\n",
      "Data columns (total 16 columns):\n",
      " #   Column            Non-Null Count   Dtype  \n",
      "---  ------            --------------   -----  \n",
      " 0   time_left         118089 non-null  float64\n",
      " 1   ct_score          118089 non-null  float64\n",
      " 2   t_score           118089 non-null  float64\n",
      " 3   map               118089 non-null  object \n",
      " 4   bomb_planted      118089 non-null  bool   \n",
      " 5   ct_health         118089 non-null  float64\n",
      " 6   t_health          118089 non-null  float64\n",
      " 7   ct_armor          118089 non-null  float64\n",
      " 8   t_armor           118089 non-null  float64\n",
      " 9   ct_money          118089 non-null  float64\n",
      " 10  t_money           118089 non-null  float64\n",
      " 11  ct_helmets        118089 non-null  float64\n",
      " 12  t_helmets         118089 non-null  float64\n",
      " 13  ct_defuse_kits    118089 non-null  float64\n",
      " 14  ct_players_alive  118089 non-null  float64\n",
      " 15  t_players_alive   118089 non-null  float64\n",
      "dtypes: bool(1), float64(14), object(1)\n",
      "memory usage: 14.5+ MB\n"
     ]
    }
   ],
   "source": [
    "df1 = df.dropna()\n",
    "df1.info()"
   ]
  },
  {
   "cell_type": "code",
   "execution_count": 10,
   "id": "9740fa30",
   "metadata": {},
   "outputs": [],
   "source": [
    "X = df1.drop([\"map\", \"bomb_planted\"], axis=1)\n",
    "y = df1[\"bomb_planted\"].apply(lambda x: 1 if x == True else 0)"
   ]
  },
  {
   "cell_type": "code",
   "execution_count": 11,
   "id": "ddcbd11d",
   "metadata": {},
   "outputs": [
    {
     "data": {
      "text/plain": [
       "26414"
      ]
     },
     "execution_count": 11,
     "metadata": {},
     "output_type": "execute_result"
    }
   ],
   "source": [
    "#пропуск\n",
    "df2 = df1.copy()\n",
    "countdrop = df2.shape[0] - df2[df2[\"bomb_planted\"] == True].shape[0]\n",
    "#while True:\n",
    "#    countdrop -= 10\n",
    "#    if (countdrop <= 0):\n",
    "#        break\n",
    "#    drop_indices = random.sample(list(df2[df2[\"bomb_planted\"] == 1].index), 100000)\n",
    "#    df2 = df2.drop(drop_indices)\n",
    "#    print(df2.shape[0])\n",
    "drop_indices = random.sample(list(df2[df2[\"bomb_planted\"] == 0].index), df2.shape[0] - df2[df2[\"bomb_planted\"] == False].shape[0])\n",
    "df2 = pd.concat([df2.loc[drop_indices], df2[df2[\"bomb_planted\"] == 1]])\n",
    "df2.shape[0]"
   ]
  },
  {
   "cell_type": "code",
   "execution_count": 12,
   "id": "6d53c34d",
   "metadata": {},
   "outputs": [],
   "source": [
    "df2.to_csv(\"../data/cs.csv\", index_label=False)"
   ]
  },
  {
   "cell_type": "code",
   "execution_count": 13,
   "id": "b73cf5fb",
   "metadata": {},
   "outputs": [],
   "source": [
    "#df2 = df1.copy()\n",
    "X = df2.drop([\"map\", \"bomb_planted\"], axis=1)\n",
    "y = df2[\"bomb_planted\"].apply(lambda x: 1 if x == True else 0)"
   ]
  },
  {
   "cell_type": "code",
   "execution_count": 14,
   "id": "39f47e5d",
   "metadata": {},
   "outputs": [
    {
     "data": {
      "text/plain": [
       "0    13207\n",
       "1    13207\n",
       "Name: bomb_planted, dtype: int64"
      ]
     },
     "execution_count": 14,
     "metadata": {},
     "output_type": "execute_result"
    }
   ],
   "source": [
    "y.value_counts()"
   ]
  },
  {
   "cell_type": "code",
   "execution_count": 15,
   "id": "3507a6d9",
   "metadata": {},
   "outputs": [],
   "source": [
    "scaler = StandardScaler()\n",
    "X = scaler.fit_transform(X)"
   ]
  },
  {
   "cell_type": "code",
   "execution_count": 16,
   "id": "d1ca4f6f",
   "metadata": {},
   "outputs": [],
   "source": [
    "#A = np.array(X1)\n",
    "#plt.scatter(A[:, 5], A[:, 6], marker=\"o\", c=y1, s=10, edgecolor=\"k\")\n",
    "#plt.show()"
   ]
  },
  {
   "cell_type": "code",
   "execution_count": 17,
   "id": "b6acfd84",
   "metadata": {},
   "outputs": [],
   "source": [
    "X_train, X_test, y_train, y_test = train_test_split(X, y, test_size=0.33, random_state=42)\n"
   ]
  },
  {
   "cell_type": "code",
   "execution_count": 18,
   "id": "1380e550",
   "metadata": {},
   "outputs": [
    {
     "data": {
      "text/html": [
       "<style>#sk-container-id-1 {color: black;background-color: white;}#sk-container-id-1 pre{padding: 0;}#sk-container-id-1 div.sk-toggleable {background-color: white;}#sk-container-id-1 label.sk-toggleable__label {cursor: pointer;display: block;width: 100%;margin-bottom: 0;padding: 0.3em;box-sizing: border-box;text-align: center;}#sk-container-id-1 label.sk-toggleable__label-arrow:before {content: \"▸\";float: left;margin-right: 0.25em;color: #696969;}#sk-container-id-1 label.sk-toggleable__label-arrow:hover:before {color: black;}#sk-container-id-1 div.sk-estimator:hover label.sk-toggleable__label-arrow:before {color: black;}#sk-container-id-1 div.sk-toggleable__content {max-height: 0;max-width: 0;overflow: hidden;text-align: left;background-color: #f0f8ff;}#sk-container-id-1 div.sk-toggleable__content pre {margin: 0.2em;color: black;border-radius: 0.25em;background-color: #f0f8ff;}#sk-container-id-1 input.sk-toggleable__control:checked~div.sk-toggleable__content {max-height: 200px;max-width: 100%;overflow: auto;}#sk-container-id-1 input.sk-toggleable__control:checked~label.sk-toggleable__label-arrow:before {content: \"▾\";}#sk-container-id-1 div.sk-estimator input.sk-toggleable__control:checked~label.sk-toggleable__label {background-color: #d4ebff;}#sk-container-id-1 div.sk-label input.sk-toggleable__control:checked~label.sk-toggleable__label {background-color: #d4ebff;}#sk-container-id-1 input.sk-hidden--visually {border: 0;clip: rect(1px 1px 1px 1px);clip: rect(1px, 1px, 1px, 1px);height: 1px;margin: -1px;overflow: hidden;padding: 0;position: absolute;width: 1px;}#sk-container-id-1 div.sk-estimator {font-family: monospace;background-color: #f0f8ff;border: 1px dotted black;border-radius: 0.25em;box-sizing: border-box;margin-bottom: 0.5em;}#sk-container-id-1 div.sk-estimator:hover {background-color: #d4ebff;}#sk-container-id-1 div.sk-parallel-item::after {content: \"\";width: 100%;border-bottom: 1px solid gray;flex-grow: 1;}#sk-container-id-1 div.sk-label:hover label.sk-toggleable__label {background-color: #d4ebff;}#sk-container-id-1 div.sk-serial::before {content: \"\";position: absolute;border-left: 1px solid gray;box-sizing: border-box;top: 0;bottom: 0;left: 50%;z-index: 0;}#sk-container-id-1 div.sk-serial {display: flex;flex-direction: column;align-items: center;background-color: white;padding-right: 0.2em;padding-left: 0.2em;position: relative;}#sk-container-id-1 div.sk-item {position: relative;z-index: 1;}#sk-container-id-1 div.sk-parallel {display: flex;align-items: stretch;justify-content: center;background-color: white;position: relative;}#sk-container-id-1 div.sk-item::before, #sk-container-id-1 div.sk-parallel-item::before {content: \"\";position: absolute;border-left: 1px solid gray;box-sizing: border-box;top: 0;bottom: 0;left: 50%;z-index: -1;}#sk-container-id-1 div.sk-parallel-item {display: flex;flex-direction: column;z-index: 1;position: relative;background-color: white;}#sk-container-id-1 div.sk-parallel-item:first-child::after {align-self: flex-end;width: 50%;}#sk-container-id-1 div.sk-parallel-item:last-child::after {align-self: flex-start;width: 50%;}#sk-container-id-1 div.sk-parallel-item:only-child::after {width: 0;}#sk-container-id-1 div.sk-dashed-wrapped {border: 1px dashed gray;margin: 0 0.4em 0.5em 0.4em;box-sizing: border-box;padding-bottom: 0.4em;background-color: white;}#sk-container-id-1 div.sk-label label {font-family: monospace;font-weight: bold;display: inline-block;line-height: 1.2em;}#sk-container-id-1 div.sk-label-container {text-align: center;}#sk-container-id-1 div.sk-container {/* jupyter's `normalize.less` sets `[hidden] { display: none; }` but bootstrap.min.css set `[hidden] { display: none !important; }` so we also need the `!important` here to be able to override the default hidden behavior on the sphinx rendered scikit-learn.org. See: https://github.com/scikit-learn/scikit-learn/issues/21755 */display: inline-block !important;position: relative;}#sk-container-id-1 div.sk-text-repr-fallback {display: none;}</style><div id=\"sk-container-id-1\" class=\"sk-top-container\"><div class=\"sk-text-repr-fallback\"><pre>GridSearchCV(cv=3, estimator=KNeighborsClassifier(),\n",
       "             param_grid={&#x27;n_neighbors&#x27;: range(1, 10, 2),\n",
       "                         &#x27;weights&#x27;: [&#x27;uniform&#x27;, &#x27;distance&#x27;]},\n",
       "             scoring=&#x27;accuracy&#x27;)</pre><b>In a Jupyter environment, please rerun this cell to show the HTML representation or trust the notebook. <br />On GitHub, the HTML representation is unable to render, please try loading this page with nbviewer.org.</b></div><div class=\"sk-container\" hidden><div class=\"sk-item sk-dashed-wrapped\"><div class=\"sk-label-container\"><div class=\"sk-label sk-toggleable\"><input class=\"sk-toggleable__control sk-hidden--visually\" id=\"sk-estimator-id-1\" type=\"checkbox\" ><label for=\"sk-estimator-id-1\" class=\"sk-toggleable__label sk-toggleable__label-arrow\">GridSearchCV</label><div class=\"sk-toggleable__content\"><pre>GridSearchCV(cv=3, estimator=KNeighborsClassifier(),\n",
       "             param_grid={&#x27;n_neighbors&#x27;: range(1, 10, 2),\n",
       "                         &#x27;weights&#x27;: [&#x27;uniform&#x27;, &#x27;distance&#x27;]},\n",
       "             scoring=&#x27;accuracy&#x27;)</pre></div></div></div><div class=\"sk-parallel\"><div class=\"sk-parallel-item\"><div class=\"sk-item\"><div class=\"sk-label-container\"><div class=\"sk-label sk-toggleable\"><input class=\"sk-toggleable__control sk-hidden--visually\" id=\"sk-estimator-id-2\" type=\"checkbox\" ><label for=\"sk-estimator-id-2\" class=\"sk-toggleable__label sk-toggleable__label-arrow\">estimator: KNeighborsClassifier</label><div class=\"sk-toggleable__content\"><pre>KNeighborsClassifier()</pre></div></div></div><div class=\"sk-serial\"><div class=\"sk-item\"><div class=\"sk-estimator sk-toggleable\"><input class=\"sk-toggleable__control sk-hidden--visually\" id=\"sk-estimator-id-3\" type=\"checkbox\" ><label for=\"sk-estimator-id-3\" class=\"sk-toggleable__label sk-toggleable__label-arrow\">KNeighborsClassifier</label><div class=\"sk-toggleable__content\"><pre>KNeighborsClassifier()</pre></div></div></div></div></div></div></div></div></div></div>"
      ],
      "text/plain": [
       "GridSearchCV(cv=3, estimator=KNeighborsClassifier(),\n",
       "             param_grid={'n_neighbors': range(1, 10, 2),\n",
       "                         'weights': ['uniform', 'distance']},\n",
       "             scoring='accuracy')"
      ]
     },
     "execution_count": 18,
     "metadata": {},
     "output_type": "execute_result"
    }
   ],
   "source": [
    "knn = KNeighborsClassifier(metric='minkowski', p=2) #minkowski sum(|x - y|^p)^(1/p)\n",
    "\n",
    "grid_knn = {\"n_neighbors\": range(1, 10, 2), \"weights\": ['uniform', 'distance']}\n",
    "\n",
    "gs_knn = GridSearchCV(estimator=knn, param_grid=grid_knn, scoring=\"accuracy\", cv=3)\n",
    "gs_knn.fit(X_train, y_train)"
   ]
  },
  {
   "cell_type": "code",
   "execution_count": 19,
   "id": "ee555afe",
   "metadata": {},
   "outputs": [
    {
     "name": "stdout",
     "output_type": "stream",
     "text": [
      "Accuracy: 0.9113227027647126\n",
      "Precision: 0.8740273396424816\n",
      "Recall_score: 0.9598152424942263\n",
      "F1: 0.9149146945514585\n",
      "ROC_AUC: 0.9116377329407535\n"
     ]
    }
   ],
   "source": [
    "y_pred = gs_knn.predict(X_test)\n",
    "print(f'Accuracy: {accuracy_score(y_test, y_pred)}')\n",
    "print(f'Precision: {precision_score(y_test, y_pred)}')\n",
    "print(f'Recall_score: {recall_score(y_test, y_pred)}')\n",
    "print(f'F1: {f1_score(y_test, y_pred)}')\n",
    "print(f'ROC_AUC: {roc_auc_score(y_test, y_pred)}')"
   ]
  },
  {
   "cell_type": "code",
   "execution_count": 20,
   "id": "c59f4754",
   "metadata": {},
   "outputs": [
    {
     "data": {
      "text/plain": [
       "<sklearn.metrics._plot.roc_curve.RocCurveDisplay at 0x12a2154a2f0>"
      ]
     },
     "execution_count": 20,
     "metadata": {},
     "output_type": "execute_result"
    },
    {
     "data": {
      "image/png": "[encoded data removed]",
      "text/plain": [
       "<Figure size 640x480 with 1 Axes>"
      ]
     },
     "metadata": {},
     "output_type": "display_data"
    }
   ],
   "source": [
    "RocCurveDisplay.from_estimator(gs_knn, X_test, y_test)"
   ]
  },
  {
   "cell_type": "code",
   "execution_count": 21,
   "id": "322c9e85",
   "metadata": {},
   "outputs": [
    {
     "data": {
      "text/html": [
       "<style>#sk-container-id-2 {color: black;background-color: white;}#sk-container-id-2 pre{padding: 0;}#sk-container-id-2 div.sk-toggleable {background-color: white;}#sk-container-id-2 label.sk-toggleable__label {cursor: pointer;display: block;width: 100%;margin-bottom: 0;padding: 0.3em;box-sizing: border-box;text-align: center;}#sk-container-id-2 label.sk-toggleable__label-arrow:before {content: \"▸\";float: left;margin-right: 0.25em;color: #696969;}#sk-container-id-2 label.sk-toggleable__label-arrow:hover:before {color: black;}#sk-container-id-2 div.sk-estimator:hover label.sk-toggleable__label-arrow:before {color: black;}#sk-container-id-2 div.sk-toggleable__content {max-height: 0;max-width: 0;overflow: hidden;text-align: left;background-color: #f0f8ff;}#sk-container-id-2 div.sk-toggleable__content pre {margin: 0.2em;color: black;border-radius: 0.25em;background-color: #f0f8ff;}#sk-container-id-2 input.sk-toggleable__control:checked~div.sk-toggleable__content {max-height: 200px;max-width: 100%;overflow: auto;}#sk-container-id-2 input.sk-toggleable__control:checked~label.sk-toggleable__label-arrow:before {content: \"▾\";}#sk-container-id-2 div.sk-estimator input.sk-toggleable__control:checked~label.sk-toggleable__label {background-color: #d4ebff;}#sk-container-id-2 div.sk-label input.sk-toggleable__control:checked~label.sk-toggleable__label {background-color: #d4ebff;}#sk-container-id-2 input.sk-hidden--visually {border: 0;clip: rect(1px 1px 1px 1px);clip: rect(1px, 1px, 1px, 1px);height: 1px;margin: -1px;overflow: hidden;padding: 0;position: absolute;width: 1px;}#sk-container-id-2 div.sk-estimator {font-family: monospace;background-color: #f0f8ff;border: 1px dotted black;border-radius: 0.25em;box-sizing: border-box;margin-bottom: 0.5em;}#sk-container-id-2 div.sk-estimator:hover {background-color: #d4ebff;}#sk-container-id-2 div.sk-parallel-item::after {content: \"\";width: 100%;border-bottom: 1px solid gray;flex-grow: 1;}#sk-container-id-2 div.sk-label:hover label.sk-toggleable__label {background-color: #d4ebff;}#sk-container-id-2 div.sk-serial::before {content: \"\";position: absolute;border-left: 1px solid gray;box-sizing: border-box;top: 0;bottom: 0;left: 50%;z-index: 0;}#sk-container-id-2 div.sk-serial {display: flex;flex-direction: column;align-items: center;background-color: white;padding-right: 0.2em;padding-left: 0.2em;position: relative;}#sk-container-id-2 div.sk-item {position: relative;z-index: 1;}#sk-container-id-2 div.sk-parallel {display: flex;align-items: stretch;justify-content: center;background-color: white;position: relative;}#sk-container-id-2 div.sk-item::before, #sk-container-id-2 div.sk-parallel-item::before {content: \"\";position: absolute;border-left: 1px solid gray;box-sizing: border-box;top: 0;bottom: 0;left: 50%;z-index: -1;}#sk-container-id-2 div.sk-parallel-item {display: flex;flex-direction: column;z-index: 1;position: relative;background-color: white;}#sk-container-id-2 div.sk-parallel-item:first-child::after {align-self: flex-end;width: 50%;}#sk-container-id-2 div.sk-parallel-item:last-child::after {align-self: flex-start;width: 50%;}#sk-container-id-2 div.sk-parallel-item:only-child::after {width: 0;}#sk-container-id-2 div.sk-dashed-wrapped {border: 1px dashed gray;margin: 0 0.4em 0.5em 0.4em;box-sizing: border-box;padding-bottom: 0.4em;background-color: white;}#sk-container-id-2 div.sk-label label {font-family: monospace;font-weight: bold;display: inline-block;line-height: 1.2em;}#sk-container-id-2 div.sk-label-container {text-align: center;}#sk-container-id-2 div.sk-container {/* jupyter's `normalize.less` sets `[hidden] { display: none; }` but bootstrap.min.css set `[hidden] { display: none !important; }` so we also need the `!important` here to be able to override the default hidden behavior on the sphinx rendered scikit-learn.org. See: https://github.com/scikit-learn/scikit-learn/issues/21755 */display: inline-block !important;position: relative;}#sk-container-id-2 div.sk-text-repr-fallback {display: none;}</style><div id=\"sk-container-id-2\" class=\"sk-top-container\"><div class=\"sk-text-repr-fallback\"><pre>GridSearchCV(cv=3, estimator=GaussianNB(),\n",
       "             param_grid={&#x27;var_smoothing&#x27;: array([1.00000000e+00, 6.55128557e-01, 4.29193426e-01, 2.81176870e-01,\n",
       "       1.84206997e-01, 1.20679264e-01, 7.90604321e-02, 5.17947468e-02,\n",
       "       3.39322177e-02, 2.22299648e-02, 1.45634848e-02, 9.54095476e-03,\n",
       "       6.25055193e-03, 4.09491506e-03, 2.68269580e-03, 1.75751062e-03,\n",
       "       1.15139540e-03, 7.54312006e-04, 4.94...\n",
       "       7.19685673e-06, 4.71486636e-06, 3.08884360e-06, 2.02358965e-06,\n",
       "       1.32571137e-06, 8.68511374e-07, 5.68986603e-07, 3.72759372e-07,\n",
       "       2.44205309e-07, 1.59985872e-07, 1.04811313e-07, 6.86648845e-08,\n",
       "       4.49843267e-08, 2.94705170e-08, 1.93069773e-08, 1.26485522e-08,\n",
       "       8.28642773e-09, 5.42867544e-09, 3.55648031e-09, 2.32995181e-09,\n",
       "       1.52641797e-09, 1.00000000e-09])},\n",
       "             scoring=&#x27;accuracy&#x27;)</pre><b>In a Jupyter environment, please rerun this cell to show the HTML representation or trust the notebook. <br />On GitHub, the HTML representation is unable to render, please try loading this page with nbviewer.org.</b></div><div class=\"sk-container\" hidden><div class=\"sk-item sk-dashed-wrapped\"><div class=\"sk-label-container\"><div class=\"sk-label sk-toggleable\"><input class=\"sk-toggleable__control sk-hidden--visually\" id=\"sk-estimator-id-4\" type=\"checkbox\" ><label for=\"sk-estimator-id-4\" class=\"sk-toggleable__label sk-toggleable__label-arrow\">GridSearchCV</label><div class=\"sk-toggleable__content\"><pre>GridSearchCV(cv=3, estimator=GaussianNB(),\n",
       "             param_grid={&#x27;var_smoothing&#x27;: array([1.00000000e+00, 6.55128557e-01, 4.29193426e-01, 2.81176870e-01,\n",
       "       1.84206997e-01, 1.20679264e-01, 7.90604321e-02, 5.17947468e-02,\n",
       "       3.39322177e-02, 2.22299648e-02, 1.45634848e-02, 9.54095476e-03,\n",
       "       6.25055193e-03, 4.09491506e-03, 2.68269580e-03, 1.75751062e-03,\n",
       "       1.15139540e-03, 7.54312006e-04, 4.94...\n",
       "       7.19685673e-06, 4.71486636e-06, 3.08884360e-06, 2.02358965e-06,\n",
       "       1.32571137e-06, 8.68511374e-07, 5.68986603e-07, 3.72759372e-07,\n",
       "       2.44205309e-07, 1.59985872e-07, 1.04811313e-07, 6.86648845e-08,\n",
       "       4.49843267e-08, 2.94705170e-08, 1.93069773e-08, 1.26485522e-08,\n",
       "       8.28642773e-09, 5.42867544e-09, 3.55648031e-09, 2.32995181e-09,\n",
       "       1.52641797e-09, 1.00000000e-09])},\n",
       "             scoring=&#x27;accuracy&#x27;)</pre></div></div></div><div class=\"sk-parallel\"><div class=\"sk-parallel-item\"><div class=\"sk-item\"><div class=\"sk-label-container\"><div class=\"sk-label sk-toggleable\"><input class=\"sk-toggleable__control sk-hidden--visually\" id=\"sk-estimator-id-5\" type=\"checkbox\" ><label for=\"sk-estimator-id-5\" class=\"sk-toggleable__label sk-toggleable__label-arrow\">estimator: GaussianNB</label><div class=\"sk-toggleable__content\"><pre>GaussianNB()</pre></div></div></div><div class=\"sk-serial\"><div class=\"sk-item\"><div class=\"sk-estimator sk-toggleable\"><input class=\"sk-toggleable__control sk-hidden--visually\" id=\"sk-estimator-id-6\" type=\"checkbox\" ><label for=\"sk-estimator-id-6\" class=\"sk-toggleable__label sk-toggleable__label-arrow\">GaussianNB</label><div class=\"sk-toggleable__content\"><pre>GaussianNB()</pre></div></div></div></div></div></div></div></div></div></div>"
      ],
      "text/plain": [
       "GridSearchCV(cv=3, estimator=GaussianNB(),\n",
       "             param_grid={'var_smoothing': array([1.00000000e+00, 6.55128557e-01, 4.29193426e-01, 2.81176870e-01,\n",
       "       1.84206997e-01, 1.20679264e-01, 7.90604321e-02, 5.17947468e-02,\n",
       "       3.39322177e-02, 2.22299648e-02, 1.45634848e-02, 9.54095476e-03,\n",
       "       6.25055193e-03, 4.09491506e-03, 2.68269580e-03, 1.75751062e-03,\n",
       "       1.15139540e-03, 7.54312006e-04, 4.94...\n",
       "       7.19685673e-06, 4.71486636e-06, 3.08884360e-06, 2.02358965e-06,\n",
       "       1.32571137e-06, 8.68511374e-07, 5.68986603e-07, 3.72759372e-07,\n",
       "       2.44205309e-07, 1.59985872e-07, 1.04811313e-07, 6.86648845e-08,\n",
       "       4.49843267e-08, 2.94705170e-08, 1.93069773e-08, 1.26485522e-08,\n",
       "       8.28642773e-09, 5.42867544e-09, 3.55648031e-09, 2.32995181e-09,\n",
       "       1.52641797e-09, 1.00000000e-09])},\n",
       "             scoring='accuracy')"
      ]
     },
     "execution_count": 21,
     "metadata": {},
     "output_type": "execute_result"
    }
   ],
   "source": [
    "gnb = GaussianNB()\n",
    "grid_NB = {\"var_smoothing\": np.logspace(0,-9, num=50)}\n",
    "gs_NB = GridSearchCV(estimator=gnb, param_grid=grid_NB, scoring=\"accuracy\", cv=3)\n",
    "\n",
    "gs_NB.fit(X_train, y_train)"
   ]
  },
  {
   "cell_type": "code",
   "execution_count": 22,
   "id": "1e398012",
   "metadata": {},
   "outputs": [
    {
     "name": "stdout",
     "output_type": "stream",
     "text": [
      "Accuracy: 0.9028335436503384\n",
      "Precision: 0.8928490863974735\n",
      "Recall_score: 0.9140877598152425\n",
      "F1: 0.903343603788657\n",
      "ROC_AUC: 0.9029066562923944\n"
     ]
    }
   ],
   "source": [
    "y_pred = gs_NB.predict(X_test)\n",
    "print(f'Accuracy: {accuracy_score(y_test, y_pred)}')\n",
    "print(f'Precision: {precision_score(y_test, y_pred)}')\n",
    "print(f'Recall_score: {recall_score(y_test, y_pred)}')\n",
    "print(f'F1: {f1_score(y_test, y_pred)}')\n",
    "print(f'ROC_AUC: {roc_auc_score(y_test, y_pred)}')"
   ]
  },
  {
   "cell_type": "code",
   "execution_count": 23,
   "id": "add9e493",
   "metadata": {},
   "outputs": [
    {
     "data": {
      "text/plain": [
       "<sklearn.metrics._plot.roc_curve.RocCurveDisplay at 0x12a21a06170>"
      ]
     },
     "execution_count": 23,
     "metadata": {},
     "output_type": "execute_result"
    },
    {
     "data": {
      "image/png": "[encoded data removed]",
      "text/plain": [
       "<Figure size 640x480 with 1 Axes>"
      ]
     },
     "metadata": {},
     "output_type": "display_data"
    }
   ],
   "source": [
    "RocCurveDisplay.from_estimator(gs_NB, X_test, y_test)"
   ]
  },
  {
   "cell_type": "code",
   "execution_count": 3,
   "id": "6bcef7ea",
   "metadata": {},
   "outputs": [
    {
     "ename": "NameError",
     "evalue": "name 'X_train' is not defined",
     "output_type": "error",
     "traceback": [
      "\u001b[1;31m---------------------------------------------------------------------------\u001b[0m",
      "\u001b[1;31mNameError\u001b[0m                                 Traceback (most recent call last)",
      "Cell \u001b[1;32mIn[3], line 6\u001b[0m\n\u001b[0;32m      3\u001b[0m grid_lr\u001b[38;5;241m=\u001b[39m{ \u001b[38;5;124m\"\u001b[39m\u001b[38;5;124msolver\u001b[39m\u001b[38;5;124m\"\u001b[39m : [\u001b[38;5;124m\"\u001b[39m\u001b[38;5;124mlbfgs\u001b[39m\u001b[38;5;124m\"\u001b[39m, \u001b[38;5;124m\"\u001b[39m\u001b[38;5;124mliblinear\u001b[39m\u001b[38;5;124m\"\u001b[39m, \u001b[38;5;124m\"\u001b[39m\u001b[38;5;124mnewton-cg\u001b[39m\u001b[38;5;124m\"\u001b[39m, \u001b[38;5;124m\"\u001b[39m\u001b[38;5;124mnewton-cholesky\u001b[39m\u001b[38;5;124m\"\u001b[39m, \u001b[38;5;124m\"\u001b[39m\u001b[38;5;124msag\u001b[39m\u001b[38;5;124m\"\u001b[39m, \u001b[38;5;124m\"\u001b[39m\u001b[38;5;124msaga\u001b[39m\u001b[38;5;124m\"\u001b[39m], \u001b[38;5;124m\"\u001b[39m\u001b[38;5;124mpenalty\u001b[39m\u001b[38;5;124m\"\u001b[39m : \u001b[38;5;124m\"\u001b[39m\u001b[38;5;124ml2\u001b[39m\u001b[38;5;124m\"\u001b[39m }\n\u001b[0;32m      4\u001b[0m gs_lr \u001b[38;5;241m=\u001b[39m GridSearchCV(estimator\u001b[38;5;241m=\u001b[39mlr, param_grid\u001b[38;5;241m=\u001b[39mgrid_lr, scoring\u001b[38;5;241m=\u001b[39m\u001b[38;5;124m\"\u001b[39m\u001b[38;5;124maccuracy\u001b[39m\u001b[38;5;124m\"\u001b[39m)\n\u001b[1;32m----> 6\u001b[0m display(\u001b[43mX_train\u001b[49m)\n\u001b[0;32m      7\u001b[0m display(y_train)\n\u001b[0;32m      8\u001b[0m lr\u001b[38;5;241m.\u001b[39mfit(X_train, y_train)\n",
      "\u001b[1;31mNameError\u001b[0m: name 'X_train' is not defined"
     ]
    }
   ],
   "source": [
    "lr = LogisticRegression()\n",
    "\n",
    "grid_lr={ \"solver\" : [\"lbfgs\", \"liblinear\", \"newton-cg\", \"newton-cholesky\", \"sag\", \"saga\"], \"penalty\" : \"l2\" }\n",
    "gs_lr = GridSearchCV(estimator=lr, param_grid=grid_lr, scoring=\"accuracy\")\n",
    "\n",
    "display(X_train)\n",
    "display(y_train)\n",
    "lr.fit(X_train, y_train)"
   ]
  },
  {
   "cell_type": "code",
   "execution_count": 25,
   "id": "bd2133dc",
   "metadata": {},
   "outputs": [
    {
     "name": "stdout",
     "output_type": "stream",
     "text": [
      "Accuracy: 0.9455087759550304\n",
      "Precision: 0.916396629941672\n",
      "Recall_score: 0.979676674364896\n",
      "F1: 0.9469806898091304\n",
      "ROC_AUC: 0.9457307465738316\n"
     ]
    }
   ],
   "source": [
    "y_pred = lr.predict(X_test)\n",
    "print(f'Accuracy: {accuracy_score(y_test, y_pred)}')\n",
    "print(f'Precision: {precision_score(y_test, y_pred)}')\n",
    "print(f'Recall_score: {recall_score(y_test, y_pred)}')\n",
    "print(f'F1: {f1_score(y_test, y_pred)}')\n",
    "print(f'ROC_AUC: {roc_auc_score(y_test, y_pred)}')\n",
    "#Accuracy: 0.9392866307415961\n",
    "#Precision: 0.735595703125\n",
    "#Recall_score: 0.7013500931098696\n",
    "#F1: 0.7180648236415634\n",
    "#ROC_AUC: 0.8350581578198596"
   ]
  },
  {
   "cell_type": "code",
   "execution_count": 26,
   "id": "59b04512",
   "metadata": {},
   "outputs": [
    {
     "data": {
      "text/plain": [
       "array([[4000,  387],\n",
       "       [  88, 4242]], dtype=int64)"
      ]
     },
     "execution_count": 26,
     "metadata": {},
     "output_type": "execute_result"
    }
   ],
   "source": [
    "confusion_matrix(y_test, y_pred)"
   ]
  },
  {
   "cell_type": "code",
   "execution_count": 29,
   "id": "b75e8179",
   "metadata": {},
   "outputs": [
    {
     "data": {
      "text/plain": [
       "<sklearn.metrics._plot.roc_curve.RocCurveDisplay at 0x238977067a0>"
      ]
     },
     "execution_count": 29,
     "metadata": {},
     "output_type": "execute_result"
    },
    {
     "data": {
      "image/png": "[encoded data removed]",
      "text/plain": [
       "<Figure size 640x480 with 1 Axes>"
      ]
     },
     "metadata": {},
     "output_type": "display_data"
    }
   ],
   "source": [
    "RocCurveDisplay.from_estimator(lr, X_test, y_test)"
   ]
  },
  {
   "cell_type": "code",
   "execution_count": 30,
   "id": "d04fcb52",
   "metadata": {},
   "outputs": [
    {
     "data": {
      "text/html": [
       "<style>#sk-container-id-4 {color: black;background-color: white;}#sk-container-id-4 pre{padding: 0;}#sk-container-id-4 div.sk-toggleable {background-color: white;}#sk-container-id-4 label.sk-toggleable__label {cursor: pointer;display: block;width: 100%;margin-bottom: 0;padding: 0.3em;box-sizing: border-box;text-align: center;}#sk-container-id-4 label.sk-toggleable__label-arrow:before {content: \"▸\";float: left;margin-right: 0.25em;color: #696969;}#sk-container-id-4 label.sk-toggleable__label-arrow:hover:before {color: black;}#sk-container-id-4 div.sk-estimator:hover label.sk-toggleable__label-arrow:before {color: black;}#sk-container-id-4 div.sk-toggleable__content {max-height: 0;max-width: 0;overflow: hidden;text-align: left;background-color: #f0f8ff;}#sk-container-id-4 div.sk-toggleable__content pre {margin: 0.2em;color: black;border-radius: 0.25em;background-color: #f0f8ff;}#sk-container-id-4 input.sk-toggleable__control:checked~div.sk-toggleable__content {max-height: 200px;max-width: 100%;overflow: auto;}#sk-container-id-4 input.sk-toggleable__control:checked~label.sk-toggleable__label-arrow:before {content: \"▾\";}#sk-container-id-4 div.sk-estimator input.sk-toggleable__control:checked~label.sk-toggleable__label {background-color: #d4ebff;}#sk-container-id-4 div.sk-label input.sk-toggleable__control:checked~label.sk-toggleable__label {background-color: #d4ebff;}#sk-container-id-4 input.sk-hidden--visually {border: 0;clip: rect(1px 1px 1px 1px);clip: rect(1px, 1px, 1px, 1px);height: 1px;margin: -1px;overflow: hidden;padding: 0;position: absolute;width: 1px;}#sk-container-id-4 div.sk-estimator {font-family: monospace;background-color: #f0f8ff;border: 1px dotted black;border-radius: 0.25em;box-sizing: border-box;margin-bottom: 0.5em;}#sk-container-id-4 div.sk-estimator:hover {background-color: #d4ebff;}#sk-container-id-4 div.sk-parallel-item::after {content: \"\";width: 100%;border-bottom: 1px solid gray;flex-grow: 1;}#sk-container-id-4 div.sk-label:hover label.sk-toggleable__label {background-color: #d4ebff;}#sk-container-id-4 div.sk-serial::before {content: \"\";position: absolute;border-left: 1px solid gray;box-sizing: border-box;top: 0;bottom: 0;left: 50%;z-index: 0;}#sk-container-id-4 div.sk-serial {display: flex;flex-direction: column;align-items: center;background-color: white;padding-right: 0.2em;padding-left: 0.2em;position: relative;}#sk-container-id-4 div.sk-item {position: relative;z-index: 1;}#sk-container-id-4 div.sk-parallel {display: flex;align-items: stretch;justify-content: center;background-color: white;position: relative;}#sk-container-id-4 div.sk-item::before, #sk-container-id-4 div.sk-parallel-item::before {content: \"\";position: absolute;border-left: 1px solid gray;box-sizing: border-box;top: 0;bottom: 0;left: 50%;z-index: -1;}#sk-container-id-4 div.sk-parallel-item {display: flex;flex-direction: column;z-index: 1;position: relative;background-color: white;}#sk-container-id-4 div.sk-parallel-item:first-child::after {align-self: flex-end;width: 50%;}#sk-container-id-4 div.sk-parallel-item:last-child::after {align-self: flex-start;width: 50%;}#sk-container-id-4 div.sk-parallel-item:only-child::after {width: 0;}#sk-container-id-4 div.sk-dashed-wrapped {border: 1px dashed gray;margin: 0 0.4em 0.5em 0.4em;box-sizing: border-box;padding-bottom: 0.4em;background-color: white;}#sk-container-id-4 div.sk-label label {font-family: monospace;font-weight: bold;display: inline-block;line-height: 1.2em;}#sk-container-id-4 div.sk-label-container {text-align: center;}#sk-container-id-4 div.sk-container {/* jupyter's `normalize.less` sets `[hidden] { display: none; }` but bootstrap.min.css set `[hidden] { display: none !important; }` so we also need the `!important` here to be able to override the default hidden behavior on the sphinx rendered scikit-learn.org. See: https://github.com/scikit-learn/scikit-learn/issues/21755 */display: inline-block !important;position: relative;}#sk-container-id-4 div.sk-text-repr-fallback {display: none;}</style><div id=\"sk-container-id-4\" class=\"sk-top-container\"><div class=\"sk-text-repr-fallback\"><pre>SVC()</pre><b>In a Jupyter environment, please rerun this cell to show the HTML representation or trust the notebook. <br />On GitHub, the HTML representation is unable to render, please try loading this page with nbviewer.org.</b></div><div class=\"sk-container\" hidden><div class=\"sk-item\"><div class=\"sk-estimator sk-toggleable\"><input class=\"sk-toggleable__control sk-hidden--visually\" id=\"sk-estimator-id-8\" type=\"checkbox\" checked><label for=\"sk-estimator-id-8\" class=\"sk-toggleable__label sk-toggleable__label-arrow\">SVC</label><div class=\"sk-toggleable__content\"><pre>SVC()</pre></div></div></div></div></div>"
      ],
      "text/plain": [
       "SVC()"
      ]
     },
     "execution_count": 30,
     "metadata": {},
     "output_type": "execute_result"
    }
   ],
   "source": [
    "svm1 = svm.SVC()\n",
    "svm1.fit(X_train, y_train)"
   ]
  },
  {
   "cell_type": "code",
   "execution_count": 31,
   "id": "c037c4aa",
   "metadata": {},
   "outputs": [
    {
     "name": "stdout",
     "output_type": "stream",
     "text": [
      "Accuracy: 0.9452793392222095\n",
      "Precision: 0.9174431202600216\n",
      "Recall_score: 0.9778290993071593\n",
      "F1: 0.9466741196198993\n",
      "ROC_AUC: 0.9454907976590503\n"
     ]
    }
   ],
   "source": [
    "y_perd = svm1.predict(X_test)\n",
    "print(f'Accuracy: {accuracy_score(y_test, y_pred)}')\n",
    "print(f'Precision: {precision_score(y_test, y_pred)}')\n",
    "print(f'Recall_score: {recall_score(y_test, y_pred)}')\n",
    "print(f'F1: {f1_score(y_test, y_pred)}')\n",
    "print(f'ROC_AUC: {roc_auc_score(y_test, y_pred)}')"
   ]
  },
  {
   "cell_type": "code",
   "execution_count": 32,
   "id": "1478a0d4",
   "metadata": {},
   "outputs": [
    {
     "data": {
      "text/plain": [
       "<sklearn.metrics._plot.roc_curve.RocCurveDisplay at 0x23882ee1990>"
      ]
     },
     "execution_count": 32,
     "metadata": {},
     "output_type": "execute_result"
    },
    {
     "data": {
      "image/png": "[encoded data removed]",
      "text/plain": [
       "<Figure size 640x480 with 1 Axes>"
      ]
     },
     "metadata": {},
     "output_type": "display_data"
    }
   ],
   "source": [
    "RocCurveDisplay.from_estimator(svm1, X_test, y_test)"
   ]
  },
  {
   "cell_type": "markdown",
   "id": "a9b3f142",
   "metadata": {},
   "source": [
    "## Задание 3"
   ]
  },
  {
   "cell_type": "code",
   "execution_count": 33,
   "id": "4b4877e7",
   "metadata": {},
   "outputs": [],
   "source": [
    "#Accuracy, Precision, Recall, F1\n",
    "class Metrics:\n",
    "    @staticmethod\n",
    "    def accuracy(y_test, y_pred): \n",
    "        return list(np.array(y_test)-np.array(y_pred)).count(0)/len(y_test)\n",
    "    @staticmethod\n",
    "    def precision(y_test, y_pred):\n",
    "        true, pred = list(y_test), list(y_pred) \n",
    "        if(len(true) - true.count(0) - true.count(1) or len(pred) - pred.count(0) - pred.count(1) != 0):\n",
    "            raise Exception(\"conf_matrix works only for binary data\")\n",
    "        TP = 0\n",
    "        TP_and_FP = 0\n",
    "        for i in range(len(true)):\n",
    "            if (true[i] == pred[i] == 1):\n",
    "                TP += 1\n",
    "                TP_and_FP += 1\n",
    "            elif (pred[i] == 1):\n",
    "                TP_and_FP += 1\n",
    "        return TP / TP_and_FP\n",
    "    @staticmethod\n",
    "    def recall(y_test, y_pred):\n",
    "        true, pred = list(y_test), list(y_pred) \n",
    "        if(len(true) - true.count(0) - true.count(1) or len(pred) - pred.count(0) - pred.count(1) != 0):\n",
    "            raise Exception(\"conf_matrix works only for binary data\")\n",
    "        TP = 0\n",
    "        TP_and_FN = 0\n",
    "        for i in range(len(true)):\n",
    "            if (true[i] == 1):\n",
    "                if (pred[i] == 1):\n",
    "                    TP += 1\n",
    "                    TP_and_FN += 1\n",
    "                elif (pred[i] == 0):\n",
    "                    TP_and_FN += 1\n",
    "        return TP / TP_and_FN\n",
    "    @staticmethod\n",
    "    def f1(y_test, y_pred):\n",
    "        pr = Metrics.precision(y_test, y_pred)\n",
    "        re = Metrics.recall(y_test, y_pred)\n",
    "        return 2 * pr * re / (pr + re)"
   ]
  },
  {
   "cell_type": "code",
   "execution_count": 34,
   "id": "69db95fc",
   "metadata": {},
   "outputs": [
    {
     "name": "stdout",
     "output_type": "stream",
     "text": [
      "[[1 1]\n",
      " [2 3]]\n",
      "----\n",
      "0.5714285714285714 0.5714285714285714\n",
      "0.75 0.75\n",
      "0.6 0.6\n",
      "0.6666666666666665 0.6666666666666665\n"
     ]
    }
   ],
   "source": [
    "a_true = [0, 0, 1, 1, 1, 1, 1]\n",
    "a_pred = [1, 0, 1, 0, 0, 1, 1]\n",
    "print(confusion_matrix(a_true, a_pred))\n",
    "print(\"----\")\n",
    "print(accuracy_score(a_true, a_pred), Metrics.accuracy(a_true, a_pred))\n",
    "print(precision_score(a_true, a_pred), Metrics.precision(a_true, a_pred))\n",
    "print(recall_score(a_true, a_pred), Metrics.recall(a_true, a_pred))\n",
    "print(f1_score(a_true, a_pred), Metrics.f1(a_true, a_pred))"
   ]
  },
  {
   "cell_type": "markdown",
   "id": "003ba453",
   "metadata": {},
   "source": [
    "## Задание 4"
   ]
  },
  {
   "cell_type": "code",
   "execution_count": 35,
   "id": "a358a2fc",
   "metadata": {},
   "outputs": [],
   "source": [
    "class KN_Classifier():\n",
    "    def __init__(self, neighbors = 3, p = 2):\n",
    "        self.n = neighbors\n",
    "        self.p = p\n",
    "    def fit(self, X, y):\n",
    "        #Down sampling\n",
    "        self.X = np.array(X)\n",
    "        self.y = np.array(y)\n",
    "    def predict(self, X_test):\n",
    "        predicts = []\n",
    "        X_test = np.array(X_test)\n",
    "        lenX = len(self.X)\n",
    "        for x in X_test: #sum(|x - y|^p)^(1/p)\n",
    "            pred = []\n",
    "            for j in range(lenX):\n",
    "                pred.append((sum(abs(x - self.X[j]) ** self.p) ** (1/self.p), self.y[j]))\n",
    "            pred = sorted(pred)[0 : self.n]\n",
    "            max_set = {}\n",
    "            for k in pred:\n",
    "                if k[1] not in max_set:\n",
    "                    max_set[k[1]] = 1\n",
    "                else:\n",
    "                    max_set[k[1]] += 1      \n",
    "            predicts.append(max(max_set, key=max_set.get))\n",
    "            iteration = len(predicts)\n",
    "            if (iteration % 1000 == 0):\n",
    "                print(\"iteration =\", iteration)\n",
    "        return predicts\n",
    "            \n",
    "        "
   ]
  },
  {
   "cell_type": "code",
   "execution_count": 36,
   "id": "acef5558",
   "metadata": {},
   "outputs": [
    {
     "name": "stdout",
     "output_type": "stream",
     "text": [
      "8717\n",
      "iteration = 1000\n",
      "iteration = 2000\n",
      "iteration = 3000\n",
      "iteration = 4000\n",
      "iteration = 5000\n",
      "iteration = 6000\n",
      "iteration = 7000\n",
      "iteration = 8000\n"
     ]
    }
   ],
   "source": [
    "print(X_test.shape[0])\n",
    "my_kn = KN_Classifier(neighbors = 5)\n",
    "my_kn.fit(X_train, y_train)\n",
    "y_perd = my_kn.predict(X_test)"
   ]
  },
  {
   "cell_type": "code",
   "execution_count": 37,
   "id": "f345e6d0",
   "metadata": {},
   "outputs": [
    {
     "name": "stdout",
     "output_type": "stream",
     "text": [
      "Accuracy: 0.9452793392222095\n",
      "Precision: 0.9174431202600216\n",
      "Recall_score: 0.9778290993071593\n",
      "F1: 0.9466741196198993\n",
      "ROC_AUC: 0.9454907976590503\n"
     ]
    }
   ],
   "source": [
    "print(f'Accuracy: {accuracy_score(y_test, y_pred)}')\n",
    "print(f'Precision: {precision_score(y_test, y_pred)}')\n",
    "print(f'Recall_score: {recall_score(y_test, y_pred)}')\n",
    "print(f'F1: {f1_score(y_test, y_pred)}')\n",
    "print(f'ROC_AUC: {roc_auc_score(y_test, y_pred)}')"
   ]
  },
  {
   "cell_type": "code",
   "execution_count": 38,
   "id": "866019ec",
   "metadata": {},
   "outputs": [],
   "source": [
    "class NB_Classifier():\n",
    "        \n",
    "    def fit(self, X, y):\n",
    "        X = pd.DataFrame(X)\n",
    "        columns_mean = []\n",
    "        columns_standart_dev = []\n",
    "        N = X.shape[0]\n",
    "        y = np.array(y)\n",
    "        class_data = {}\n",
    "        \n",
    "        for y_class in np.unique(y): #идем по классам\n",
    "            P_class = (y == y_class).sum() / len(y)\n",
    "            class_index = np.where(y == y_class)[0]\n",
    "            X_class = X.iloc[class_index]\n",
    "            one_class_data = {}\n",
    "            for column in X_class:\n",
    "                mean = np.mean(X_class[column])\n",
    "                std = (np.sqrt(1/(N-1) * sum([(x - mean) ** 2 for x in X_class[column]])))\n",
    "                one_class_data[column] = (mean, std)\n",
    "            class_data[y_class] = (P_class, one_class_data)\n",
    "            \n",
    "        self.class_data = class_data   \n",
    "                          \n",
    "                           \n",
    "    def predict(self, Xt):\n",
    "        predicts = []\n",
    "        X = np.array(Xt)\n",
    "        for x in X:\n",
    "            predict = []\n",
    "            for y_class in self.class_data:\n",
    "                p = self.class_data[y_class][0]\n",
    "                for i in range(len(x)):\n",
    "                    p *= 1 / (np.sqrt(2 * np.pi) * self.class_data[y_class][1][i][1]) * np.exp(-(x[i] -self.class_data[y_class][1][i][0]) ** 2 / (2 * self.class_data[y_class][1][i][1] ** 2))\n",
    "                predict.append((p, y_class))   \n",
    "                #print((p, y_class))\n",
    "            predicts.append(max(predict)[1])\n",
    "        return(predicts)\n",
    "                #print(y_class, P_class)\n",
    "        #for y_class in self.y.unique(): #идем по классам"
   ]
  },
  {
   "cell_type": "code",
   "execution_count": 39,
   "id": "9947308c",
   "metadata": {},
   "outputs": [
    {
     "name": "stdout",
     "output_type": "stream",
     "text": [
      "Accuracy: 0.8948032580016061\n",
      "Precision: 0.903523291558288\n",
      "Recall_score: 0.8824480369515012\n",
      "F1: 0.8928613155742494\n",
      "ROC_AUC: 0.8947229927178294\n"
     ]
    }
   ],
   "source": [
    "X_my = [[1, 0.5],\n",
    "       [0.6, 0.5],\n",
    "       [0.4, 0.5],\n",
    "       [0.2, 0.6],\n",
    "       [0.2, 0.4],\n",
    "       [0.1, 1]]\n",
    "y_my = [1, 1, 0, 0, 0, 1]\n",
    "\n",
    "X_my_test = [[1, 0.5],\n",
    "       [0.3, 0.5],\n",
    "       [0.4, 0.5],\n",
    "       [0.2, 0.6],\n",
    "       [0.2, 0.4],\n",
    "       [0.1, 1]]\n",
    "\n",
    "\n",
    "asd = NB_Classifier()\n",
    "asd.fit(X_train, y_train)\n",
    "y_pred = asd.predict(X_test)\n",
    "\n",
    "print(f'Accuracy: {accuracy_score(y_test, y_pred)}')\n",
    "print(f'Precision: {precision_score(y_test, y_pred)}')\n",
    "print(f'Recall_score: {recall_score(y_test, y_pred)}')\n",
    "print(f'F1: {f1_score(y_test, y_pred)}')\n",
    "print(f'ROC_AUC: {roc_auc_score(y_test, y_pred)}')"
   ]
  },
  {
   "cell_type": "code",
   "execution_count": null,
   "id": "351810cd",
   "metadata": {},
   "outputs": [],
   "source": []
  }
 ],
 "metadata": {
  "kernelspec": {
   "display_name": "Python 3 (ipykernel)",
   "language": "python",
   "name": "python3"
  },
  "language_info": {
   "codemirror_mode": {
    "name": "ipython",
    "version": 3
   },
   "file_extension": ".py",
   "mimetype": "text/x-python",
   "name": "python",
   "nbconvert_exporter": "python",
   "pygments_lexer": "ipython3",
   "version": "3.10.7"
  }
 },
 "nbformat": 4,
 "nbformat_minor": 5
}
