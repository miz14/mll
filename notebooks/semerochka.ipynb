{
 "cells": [
  {
   "cell_type": "code",
   "execution_count": 1,
   "id": "46d643a9",
   "metadata": {},
   "outputs": [],
   "source": [
    "import pandas as pd\n",
    "import numpy as np\n",
    "from sklearn.ensemble import GradientBoostingRegressor, GradientBoostingClassifier\n",
    "from sklearn.linear_model import Ridge\n",
    "from sklearn.metrics import mean_squared_error, mean_absolute_error, mean_absolute_percentage_error, r2_score\n",
    "from sklearn.preprocessing import StandardScaler\n",
    "from sklearn.model_selection import GridSearchCV, RandomizedSearchCV\n",
    "from sklearn.model_selection import train_test_split\n",
    "from sklearn.metrics import classification_report\n",
    "from sklearn.manifold import TSNE, Isomap\n",
    "from sklearn.tree import DecisionTreeClassifier, DecisionTreeRegressor\n",
    "from sklearn.decomposition import PCA\n",
    "import warnings\n",
    "from sklearn.feature_selection import VarianceThreshold, SelectKBest, RFE\n",
    "warnings.filterwarnings('ignore')"
   ]
  },
  {
   "cell_type": "code",
   "execution_count": 9,
   "id": "7b158208",
   "metadata": {},
   "outputs": [],
   "source": [
    "def testcf(X, y):\n",
    "    X_train, X_test, y_train, y_test = train_test_split(X, y, test_size=0.15, shuffle=False)\n",
    "    grad = GradientBoostingClassifier().fit(X_train, y_train)\n",
    "    predictions = grad.predict(X_test)\n",
    "    print(classification_report(y_test, predictions))\n",
    "\n",
    "def testrs(X, y):\n",
    "    X_train, X_test, y_train, y_test = train_test_split(X, y, test_size=0.15, shuffle=False)\n",
    "    grad = GradientBoostingRegressor().fit(X_train, y_train)\n",
    "    y_pred = grad.predict(X_test)\n",
    "    print(f'MAE: {mean_absolute_error(y_test, y_pred)}')\n",
    "    print(f'MSE: {mean_squared_error(y_test, y_pred)}')\n",
    "    print(f'RMSE: {np.sqrt(mean_squared_error(y_test, y_pred))}')\n",
    "    print(f'MAPE: {(mean_absolute_percentage_error(y_test, y_pred))}')\n",
    "    print(f'R^2: {r2_score(y_test, y_pred)}')\n",
    "\n",
    "def VT(n, X):\n",
    "    vt = VarianceThreshold(n)\n",
    "    X_vt = vt.fit_transform(X)\n",
    "    X_vt = pd.DataFrame(X_vt)\n",
    "    print(X_vt.columns)\n",
    "    print(X_vt)\n",
    "    return X_vt\n",
    "\n",
    "def scale(X):\n",
    "    scaler = StandardScaler()\n",
    "    X_scaled = scaler.fit_transform(X)\n",
    "    X_scaled = pd.DataFrame(X_scaled, columns=X.columns)\n",
    "    return X_scaled\n",
    "\n",
    "def SKB_r(X, y):\n",
    "    skb = SelectKBest(k=6)\n",
    "    X_skb = skb.fit_transform(X, y)\n",
    "    X_train, X_test, y_train, y_test = train_test_split(X_skb, y, test_size=0.15, shuffle=False)\n",
    "    parameters = {'alpha': np.arange(0, 1, 0.1)}\n",
    "    ridge_optimal = GridSearchCV(Ridge(), parameters).fit(X_train, y_train)\n",
    "    y_pred = ridge_optimal.predict(X_test)\n",
    "    print(X_skb.shape)\n",
    "    print(f'MAE: {mean_absolute_error(y_test, y_pred)}')\n",
    "    print(f'MSE: {mean_squared_error(y_test, y_pred)}')\n",
    "    print(f'RMSE: {np.sqrt(mean_squared_error(y_test, y_pred))}')\n",
    "    print(f'MAPE: {(mean_absolute_percentage_error(y_test, y_pred))}')\n",
    "    print(f'R^2: {r2_score(y_test, y_pred)}')\n",
    "    \n",
    "def SKB_c(X, y):\n",
    "    skb = SelectKBest(k=6)\n",
    "    X_skb = skb.fit_transform(X, y)\n",
    "    print(X_skb.shape)\n",
    "    testcf(X_skb, y)\n",
    "    \n",
    "def _RFE(X, y, est):\n",
    "    rfe = RFE(estimator=est, n_features_to_select=4, step=1).fit(X, y)\n",
    "    X_rfe = pd.DataFrame(rfe.transform(X), columns=rfe.get_feature_names_out())\n",
    "    print(X_rfe.columns)\n",
    "    return X_rfe"
   ]
  },
  {
   "cell_type": "code",
   "execution_count": 18,
   "id": "52e8a03c",
   "metadata": {},
   "outputs": [
    {
     "data": {
      "text/html": [
       "<div>\n",
       "<style scoped>\n",
       "    .dataframe tbody tr th:only-of-type {\n",
       "        vertical-align: middle;\n",
       "    }\n",
       "\n",
       "    .dataframe tbody tr th {\n",
       "        vertical-align: top;\n",
       "    }\n",
       "\n",
       "    .dataframe thead th {\n",
       "        text-align: right;\n",
       "    }\n",
       "</style>\n",
       "<table border=\"1\" class=\"dataframe\">\n",
       "  <thead>\n",
       "    <tr style=\"text-align: right;\">\n",
       "      <th></th>\n",
       "      <th>ct_score</th>\n",
       "      <th>t_score</th>\n",
       "      <th>bomb_planted</th>\n",
       "      <th>ct_health</th>\n",
       "      <th>t_health</th>\n",
       "      <th>ct_armor</th>\n",
       "      <th>t_armor</th>\n",
       "      <th>ct_money</th>\n",
       "      <th>t_money</th>\n",
       "      <th>ct_helmets</th>\n",
       "      <th>t_helmets</th>\n",
       "      <th>ct_defuse_kits</th>\n",
       "      <th>ct_players_alive</th>\n",
       "      <th>t_players_alive</th>\n",
       "    </tr>\n",
       "    <tr>\n",
       "      <th>time_left</th>\n",
       "      <th></th>\n",
       "      <th></th>\n",
       "      <th></th>\n",
       "      <th></th>\n",
       "      <th></th>\n",
       "      <th></th>\n",
       "      <th></th>\n",
       "      <th></th>\n",
       "      <th></th>\n",
       "      <th></th>\n",
       "      <th></th>\n",
       "      <th></th>\n",
       "      <th></th>\n",
       "      <th></th>\n",
       "    </tr>\n",
       "  </thead>\n",
       "  <tbody>\n",
       "    <tr>\n",
       "      <th>175.00</th>\n",
       "      <td>0.0</td>\n",
       "      <td>0.0</td>\n",
       "      <td>0</td>\n",
       "      <td>0.0</td>\n",
       "      <td>0.0</td>\n",
       "      <td>0.0</td>\n",
       "      <td>0.0</td>\n",
       "      <td>0.0</td>\n",
       "      <td>0.0</td>\n",
       "      <td>0.0</td>\n",
       "      <td>0.0</td>\n",
       "      <td>0.0</td>\n",
       "      <td>0.0</td>\n",
       "      <td>0.0</td>\n",
       "    </tr>\n",
       "    <tr>\n",
       "      <th>156.03</th>\n",
       "      <td>0.0</td>\n",
       "      <td>0.0</td>\n",
       "      <td>0</td>\n",
       "      <td>0.0</td>\n",
       "      <td>0.0</td>\n",
       "      <td>0.0</td>\n",
       "      <td>0.0</td>\n",
       "      <td>0.0</td>\n",
       "      <td>0.0</td>\n",
       "      <td>0.0</td>\n",
       "      <td>0.0</td>\n",
       "      <td>0.0</td>\n",
       "      <td>0.0</td>\n",
       "      <td>0.0</td>\n",
       "    </tr>\n",
       "    <tr>\n",
       "      <th>96.03</th>\n",
       "      <td>0.0</td>\n",
       "      <td>0.0</td>\n",
       "      <td>0</td>\n",
       "      <td>0.0</td>\n",
       "      <td>0.0</td>\n",
       "      <td>0.0</td>\n",
       "      <td>0.0</td>\n",
       "      <td>0.0</td>\n",
       "      <td>0.0</td>\n",
       "      <td>0.0</td>\n",
       "      <td>0.0</td>\n",
       "      <td>0.0</td>\n",
       "      <td>0.0</td>\n",
       "      <td>0.0</td>\n",
       "    </tr>\n",
       "    <tr>\n",
       "      <th>76.03</th>\n",
       "      <td>0.0</td>\n",
       "      <td>0.0</td>\n",
       "      <td>0</td>\n",
       "      <td>0.0</td>\n",
       "      <td>0.0</td>\n",
       "      <td>0.0</td>\n",
       "      <td>0.0</td>\n",
       "      <td>0.0</td>\n",
       "      <td>0.0</td>\n",
       "      <td>0.0</td>\n",
       "      <td>0.0</td>\n",
       "      <td>0.0</td>\n",
       "      <td>0.0</td>\n",
       "      <td>0.0</td>\n",
       "    </tr>\n",
       "    <tr>\n",
       "      <th>174.97</th>\n",
       "      <td>0.0</td>\n",
       "      <td>0.0</td>\n",
       "      <td>0</td>\n",
       "      <td>0.0</td>\n",
       "      <td>0.0</td>\n",
       "      <td>0.0</td>\n",
       "      <td>0.0</td>\n",
       "      <td>0.0</td>\n",
       "      <td>0.0</td>\n",
       "      <td>0.0</td>\n",
       "      <td>0.0</td>\n",
       "      <td>0.0</td>\n",
       "      <td>0.0</td>\n",
       "      <td>0.0</td>\n",
       "    </tr>\n",
       "    <tr>\n",
       "      <th>...</th>\n",
       "      <td>...</td>\n",
       "      <td>...</td>\n",
       "      <td>...</td>\n",
       "      <td>...</td>\n",
       "      <td>...</td>\n",
       "      <td>...</td>\n",
       "      <td>...</td>\n",
       "      <td>...</td>\n",
       "      <td>...</td>\n",
       "      <td>...</td>\n",
       "      <td>...</td>\n",
       "      <td>...</td>\n",
       "      <td>...</td>\n",
       "      <td>...</td>\n",
       "    </tr>\n",
       "    <tr>\n",
       "      <th>15.41</th>\n",
       "      <td>1.0</td>\n",
       "      <td>1.0</td>\n",
       "      <td>1</td>\n",
       "      <td>1.0</td>\n",
       "      <td>1.0</td>\n",
       "      <td>1.0</td>\n",
       "      <td>1.0</td>\n",
       "      <td>1.0</td>\n",
       "      <td>1.0</td>\n",
       "      <td>1.0</td>\n",
       "      <td>1.0</td>\n",
       "      <td>1.0</td>\n",
       "      <td>1.0</td>\n",
       "      <td>1.0</td>\n",
       "    </tr>\n",
       "    <tr>\n",
       "      <th>174.93</th>\n",
       "      <td>0.0</td>\n",
       "      <td>0.0</td>\n",
       "      <td>0</td>\n",
       "      <td>0.0</td>\n",
       "      <td>0.0</td>\n",
       "      <td>0.0</td>\n",
       "      <td>0.0</td>\n",
       "      <td>0.0</td>\n",
       "      <td>0.0</td>\n",
       "      <td>0.0</td>\n",
       "      <td>0.0</td>\n",
       "      <td>0.0</td>\n",
       "      <td>0.0</td>\n",
       "      <td>0.0</td>\n",
       "    </tr>\n",
       "    <tr>\n",
       "      <th>114.93</th>\n",
       "      <td>0.0</td>\n",
       "      <td>0.0</td>\n",
       "      <td>0</td>\n",
       "      <td>0.0</td>\n",
       "      <td>0.0</td>\n",
       "      <td>0.0</td>\n",
       "      <td>0.0</td>\n",
       "      <td>0.0</td>\n",
       "      <td>0.0</td>\n",
       "      <td>0.0</td>\n",
       "      <td>0.0</td>\n",
       "      <td>0.0</td>\n",
       "      <td>0.0</td>\n",
       "      <td>0.0</td>\n",
       "    </tr>\n",
       "    <tr>\n",
       "      <th>94.93</th>\n",
       "      <td>0.0</td>\n",
       "      <td>0.0</td>\n",
       "      <td>0</td>\n",
       "      <td>0.0</td>\n",
       "      <td>0.0</td>\n",
       "      <td>0.0</td>\n",
       "      <td>0.0</td>\n",
       "      <td>0.0</td>\n",
       "      <td>0.0</td>\n",
       "      <td>0.0</td>\n",
       "      <td>0.0</td>\n",
       "      <td>0.0</td>\n",
       "      <td>0.0</td>\n",
       "      <td>0.0</td>\n",
       "    </tr>\n",
       "    <tr>\n",
       "      <th>74.93</th>\n",
       "      <td>0.0</td>\n",
       "      <td>0.0</td>\n",
       "      <td>0</td>\n",
       "      <td>0.0</td>\n",
       "      <td>0.0</td>\n",
       "      <td>0.0</td>\n",
       "      <td>0.0</td>\n",
       "      <td>0.0</td>\n",
       "      <td>0.0</td>\n",
       "      <td>0.0</td>\n",
       "      <td>0.0</td>\n",
       "      <td>0.0</td>\n",
       "      <td>0.0</td>\n",
       "      <td>0.0</td>\n",
       "    </tr>\n",
       "  </tbody>\n",
       "</table>\n",
       "<p>122410 rows × 14 columns</p>\n",
       "</div>"
      ],
      "text/plain": [
       "           ct_score  t_score  bomb_planted  ct_health  t_health  ct_armor  \\\n",
       "time_left                                                                   \n",
       "175.00          0.0      0.0             0        0.0       0.0       0.0   \n",
       "156.03          0.0      0.0             0        0.0       0.0       0.0   \n",
       "96.03           0.0      0.0             0        0.0       0.0       0.0   \n",
       "76.03           0.0      0.0             0        0.0       0.0       0.0   \n",
       "174.97          0.0      0.0             0        0.0       0.0       0.0   \n",
       "...             ...      ...           ...        ...       ...       ...   \n",
       "15.41           1.0      1.0             1        1.0       1.0       1.0   \n",
       "174.93          0.0      0.0             0        0.0       0.0       0.0   \n",
       "114.93          0.0      0.0             0        0.0       0.0       0.0   \n",
       "94.93           0.0      0.0             0        0.0       0.0       0.0   \n",
       "74.93           0.0      0.0             0        0.0       0.0       0.0   \n",
       "\n",
       "           t_armor  ct_money  t_money  ct_helmets  t_helmets  ct_defuse_kits  \\\n",
       "time_left                                                                      \n",
       "175.00         0.0       0.0      0.0         0.0        0.0             0.0   \n",
       "156.03         0.0       0.0      0.0         0.0        0.0             0.0   \n",
       "96.03          0.0       0.0      0.0         0.0        0.0             0.0   \n",
       "76.03          0.0       0.0      0.0         0.0        0.0             0.0   \n",
       "174.97         0.0       0.0      0.0         0.0        0.0             0.0   \n",
       "...            ...       ...      ...         ...        ...             ...   \n",
       "15.41          1.0       1.0      1.0         1.0        1.0             1.0   \n",
       "174.93         0.0       0.0      0.0         0.0        0.0             0.0   \n",
       "114.93         0.0       0.0      0.0         0.0        0.0             0.0   \n",
       "94.93          0.0       0.0      0.0         0.0        0.0             0.0   \n",
       "74.93          0.0       0.0      0.0         0.0        0.0             0.0   \n",
       "\n",
       "           ct_players_alive  t_players_alive  \n",
       "time_left                                     \n",
       "175.00                  0.0              0.0  \n",
       "156.03                  0.0              0.0  \n",
       "96.03                   0.0              0.0  \n",
       "76.03                   0.0              0.0  \n",
       "174.97                  0.0              0.0  \n",
       "...                     ...              ...  \n",
       "15.41                   1.0              1.0  \n",
       "174.93                  0.0              0.0  \n",
       "114.93                  0.0              0.0  \n",
       "94.93                   0.0              0.0  \n",
       "74.93                   0.0              0.0  \n",
       "\n",
       "[122410 rows x 14 columns]"
      ]
     },
     "metadata": {},
     "output_type": "display_data"
    },
    {
     "name": "stdout",
     "output_type": "stream",
     "text": [
      "<class 'pandas.core.frame.DataFrame'>\n",
      "Float64Index: 122410 entries, 175.0 to 74.93\n",
      "Data columns (total 14 columns):\n",
      " #   Column            Non-Null Count   Dtype  \n",
      "---  ------            --------------   -----  \n",
      " 0   ct_score          122410 non-null  float64\n",
      " 1   t_score           122410 non-null  float64\n",
      " 2   bomb_planted      122410 non-null  int32  \n",
      " 3   ct_health         122410 non-null  float64\n",
      " 4   t_health          122410 non-null  float64\n",
      " 5   ct_armor          122410 non-null  float64\n",
      " 6   t_armor           122410 non-null  float64\n",
      " 7   ct_money          122410 non-null  float64\n",
      " 8   t_money           122410 non-null  float64\n",
      " 9   ct_helmets        122410 non-null  float64\n",
      " 10  t_helmets         122410 non-null  float64\n",
      " 11  ct_defuse_kits    122410 non-null  float64\n",
      " 12  ct_players_alive  122410 non-null  float64\n",
      " 13  t_players_alive   122410 non-null  float64\n",
      "dtypes: float64(13), int32(1)\n",
      "memory usage: 13.5 MB\n"
     ]
    },
    {
     "data": {
      "text/html": [
       "<div>\n",
       "<style scoped>\n",
       "    .dataframe tbody tr th:only-of-type {\n",
       "        vertical-align: middle;\n",
       "    }\n",
       "\n",
       "    .dataframe tbody tr th {\n",
       "        vertical-align: top;\n",
       "    }\n",
       "\n",
       "    .dataframe thead th {\n",
       "        text-align: right;\n",
       "    }\n",
       "</style>\n",
       "<table border=\"1\" class=\"dataframe\">\n",
       "  <thead>\n",
       "    <tr style=\"text-align: right;\">\n",
       "      <th></th>\n",
       "      <th>vendor_id</th>\n",
       "      <th>passenger_count</th>\n",
       "      <th>pickup_longitude</th>\n",
       "      <th>pickup_latitude</th>\n",
       "      <th>dropoff_longitude</th>\n",
       "      <th>dropoff_latitude</th>\n",
       "      <th>trip_duration</th>\n",
       "    </tr>\n",
       "    <tr>\n",
       "      <th>id</th>\n",
       "      <th></th>\n",
       "      <th></th>\n",
       "      <th></th>\n",
       "      <th></th>\n",
       "      <th></th>\n",
       "      <th></th>\n",
       "      <th></th>\n",
       "    </tr>\n",
       "  </thead>\n",
       "  <tbody>\n",
       "    <tr>\n",
       "      <th>id1080784</th>\n",
       "      <td>2.0</td>\n",
       "      <td>1</td>\n",
       "      <td>-73.953918</td>\n",
       "      <td>40.778873</td>\n",
       "      <td>-73.963875</td>\n",
       "      <td>40.771164</td>\n",
       "      <td>400</td>\n",
       "    </tr>\n",
       "    <tr>\n",
       "      <th>id0889885</th>\n",
       "      <td>1.0</td>\n",
       "      <td>2</td>\n",
       "      <td>-73.988312</td>\n",
       "      <td>40.731743</td>\n",
       "      <td>-73.994751</td>\n",
       "      <td>40.694931</td>\n",
       "      <td>1100</td>\n",
       "    </tr>\n",
       "    <tr>\n",
       "      <th>id0857912</th>\n",
       "      <td>2.0</td>\n",
       "      <td>2</td>\n",
       "      <td>-73.997314</td>\n",
       "      <td>40.721458</td>\n",
       "      <td>-73.948029</td>\n",
       "      <td>40.774918</td>\n",
       "      <td>1635</td>\n",
       "    </tr>\n",
       "    <tr>\n",
       "      <th>id3744273</th>\n",
       "      <td>2.0</td>\n",
       "      <td>6</td>\n",
       "      <td>-73.961670</td>\n",
       "      <td>40.759720</td>\n",
       "      <td>-73.956779</td>\n",
       "      <td>40.780628</td>\n",
       "      <td>1141</td>\n",
       "    </tr>\n",
       "    <tr>\n",
       "      <th>id0232939</th>\n",
       "      <td>1.0</td>\n",
       "      <td>1</td>\n",
       "      <td>-74.017120</td>\n",
       "      <td>40.708469</td>\n",
       "      <td>-73.988182</td>\n",
       "      <td>40.740631</td>\n",
       "      <td>848</td>\n",
       "    </tr>\n",
       "    <tr>\n",
       "      <th>...</th>\n",
       "      <td>...</td>\n",
       "      <td>...</td>\n",
       "      <td>...</td>\n",
       "      <td>...</td>\n",
       "      <td>...</td>\n",
       "      <td>...</td>\n",
       "      <td>...</td>\n",
       "    </tr>\n",
       "    <tr>\n",
       "      <th>id3905982</th>\n",
       "      <td>2.0</td>\n",
       "      <td>2</td>\n",
       "      <td>-73.965919</td>\n",
       "      <td>40.789780</td>\n",
       "      <td>-73.952637</td>\n",
       "      <td>40.789181</td>\n",
       "      <td>296</td>\n",
       "    </tr>\n",
       "    <tr>\n",
       "      <th>id0102861</th>\n",
       "      <td>1.0</td>\n",
       "      <td>1</td>\n",
       "      <td>-73.996666</td>\n",
       "      <td>40.737434</td>\n",
       "      <td>-74.001320</td>\n",
       "      <td>40.731911</td>\n",
       "      <td>315</td>\n",
       "    </tr>\n",
       "    <tr>\n",
       "      <th>id0439699</th>\n",
       "      <td>1.0</td>\n",
       "      <td>1</td>\n",
       "      <td>-73.997849</td>\n",
       "      <td>40.761696</td>\n",
       "      <td>-74.001488</td>\n",
       "      <td>40.741207</td>\n",
       "      <td>673</td>\n",
       "    </tr>\n",
       "    <tr>\n",
       "      <th>id2078912</th>\n",
       "      <td>1.0</td>\n",
       "      <td>1</td>\n",
       "      <td>-74.006706</td>\n",
       "      <td>40.708244</td>\n",
       "      <td>-74.013550</td>\n",
       "      <td>40.713814</td>\n",
       "      <td>447</td>\n",
       "    </tr>\n",
       "    <tr>\n",
       "      <th>id1053441</th>\n",
       "      <td>2.0</td>\n",
       "      <td>4</td>\n",
       "      <td>-74.003342</td>\n",
       "      <td>40.743839</td>\n",
       "      <td>-73.945847</td>\n",
       "      <td>40.712841</td>\n",
       "      <td>1224</td>\n",
       "    </tr>\n",
       "  </tbody>\n",
       "</table>\n",
       "<p>725295 rows × 7 columns</p>\n",
       "</div>"
      ],
      "text/plain": [
       "           vendor_id  passenger_count  pickup_longitude  pickup_latitude  \\\n",
       "id                                                                         \n",
       "id1080784        2.0                1        -73.953918        40.778873   \n",
       "id0889885        1.0                2        -73.988312        40.731743   \n",
       "id0857912        2.0                2        -73.997314        40.721458   \n",
       "id3744273        2.0                6        -73.961670        40.759720   \n",
       "id0232939        1.0                1        -74.017120        40.708469   \n",
       "...              ...              ...               ...              ...   \n",
       "id3905982        2.0                2        -73.965919        40.789780   \n",
       "id0102861        1.0                1        -73.996666        40.737434   \n",
       "id0439699        1.0                1        -73.997849        40.761696   \n",
       "id2078912        1.0                1        -74.006706        40.708244   \n",
       "id1053441        2.0                4        -74.003342        40.743839   \n",
       "\n",
       "           dropoff_longitude  dropoff_latitude  trip_duration  \n",
       "id                                                             \n",
       "id1080784         -73.963875         40.771164            400  \n",
       "id0889885         -73.994751         40.694931           1100  \n",
       "id0857912         -73.948029         40.774918           1635  \n",
       "id3744273         -73.956779         40.780628           1141  \n",
       "id0232939         -73.988182         40.740631            848  \n",
       "...                      ...               ...            ...  \n",
       "id3905982         -73.952637         40.789181            296  \n",
       "id0102861         -74.001320         40.731911            315  \n",
       "id0439699         -74.001488         40.741207            673  \n",
       "id2078912         -74.013550         40.713814            447  \n",
       "id1053441         -73.945847         40.712841           1224  \n",
       "\n",
       "[725295 rows x 7 columns]"
      ]
     },
     "metadata": {},
     "output_type": "display_data"
    },
    {
     "name": "stdout",
     "output_type": "stream",
     "text": [
      "(122410, 13) (725295, 6)\n"
     ]
    }
   ],
   "source": [
    "df_classification = pd.read_csv('../data/csgo_task.csv', index_col=0)\n",
    "df_classification = df_classification.drop([\"map\"], axis=1)\n",
    "df_classification.loc[df_classification[\"bomb_planted\"] == False] = 0\n",
    "df_classification.loc[df_classification[\"bomb_planted\"] == True] = 1\n",
    "df_classification = df_classification.dropna()\n",
    "df_classification[\"bomb_planted\"] = df_classification[\"bomb_planted\"].astype(int)\n",
    "display(df_classification)\n",
    "df_classification.info()\n",
    "\n",
    "df_regression = pd.read_csv('../data/trip_duration_task.csv', index_col=0)\n",
    "df_regression = df_regression.drop([\"pickup_datetime\", \"dropoff_datetime\"], axis=1)\n",
    "df_regression = df_regression.dropna()\n",
    "display(df_regression)\n",
    "y_cf = df_classification[\"bomb_planted\"]\n",
    "X_cf = df_classification.drop([\"bomb_planted\"], axis=1)\n",
    "y_rs = df_regression[\"trip_duration\"]\n",
    "X_rs = df_regression.drop([\"trip_duration\"], axis=1)\n",
    "print(X_cf.shape, X_rs.shape)"
   ]
  },
  {
   "cell_type": "code",
   "execution_count": 19,
   "id": "20c18d04",
   "metadata": {},
   "outputs": [
    {
     "name": "stdout",
     "output_type": "stream",
     "text": [
      "              precision    recall  f1-score   support\n",
      "\n",
      "           0       1.00      1.00      1.00     16317\n",
      "           1       1.00      1.00      1.00      2045\n",
      "\n",
      "    accuracy                           1.00     18362\n",
      "   macro avg       1.00      1.00      1.00     18362\n",
      "weighted avg       1.00      1.00      1.00     18362\n",
      "\n"
     ]
    }
   ],
   "source": [
    "testcf(X_cf, y_cf)"
   ]
  },
  {
   "cell_type": "code",
   "execution_count": 72,
   "id": "c5311d7c",
   "metadata": {},
   "outputs": [
    {
     "name": "stdout",
     "output_type": "stream",
     "text": [
      "MAE: 4440.313204322216\n",
      "MSE: 18043386702.082638\n",
      "RMSE: 134325.6740243005\n",
      "MAPE: 0.5719873460464336\n",
      "R^2: 0.0029335142194614194\n"
     ]
    }
   ],
   "source": [
    "testrs(X_rs, y_rs)"
   ]
  },
  {
   "cell_type": "code",
   "execution_count": 22,
   "id": "d94f44ea",
   "metadata": {},
   "outputs": [],
   "source": [
    "X_cf = scale(X_cf)\n",
    "scaler = StandardScaler()\n",
    "X_scaled = scaler.fit_transform(X_cf)\n",
    "X_cf = pd.DataFrame(X_scaled, columns=X_cf.columns)\n",
    "\n",
    "scaler = StandardScaler()\n",
    "X_scaled = scaler.fit_transform(X_rs)\n",
    "X_cf = pd.DataFrame(X_scaled, columns=X_rs.columns)\n",
    "X_rs = scale(X_rs)"
   ]
  },
  {
   "cell_type": "code",
   "execution_count": 80,
   "id": "ed0c6a3f",
   "metadata": {},
   "outputs": [
    {
     "name": "stdout",
     "output_type": "stream",
     "text": [
      "(144471, 8)\n",
      "              precision    recall  f1-score   support\n",
      "\n",
      "           0       0.52      0.88      0.66     10923\n",
      "           1       0.61      0.18      0.28     10748\n",
      "\n",
      "    accuracy                           0.54     21671\n",
      "   macro avg       0.57      0.53      0.47     21671\n",
      "weighted avg       0.57      0.54      0.47     21671\n",
      "\n"
     ]
    }
   ],
   "source": [
    "X_vt_cf = VT(1, X_cf)\n",
    "testcf(X_vt_cf, y_cf)"
   ]
  },
  {
   "cell_type": "code",
   "execution_count": 9,
   "id": "879d725f",
   "metadata": {},
   "outputs": [
    {
     "name": "stdout",
     "output_type": "stream",
     "text": [
      "RangeIndex(start=0, stop=4, step=1)\n",
      "              0         1        2         3\n",
      "0     -1.118436 -1.084684 -0.72541 -0.087525\n",
      "1      0.894106 -1.084684  1.37853 -0.087525\n",
      "2      0.894106 -1.084684 -0.72541 -0.087525\n",
      "3      0.894106 -1.084684  1.37853 -0.087525\n",
      "4      0.894106 -1.084684  1.37853 -0.087525\n",
      "...         ...       ...      ...       ...\n",
      "36957  0.894106  0.921927  1.37853 -0.087525\n",
      "36958  0.894106 -1.084684  1.37853 -0.087525\n",
      "36959  0.894106 -1.084684 -0.72541 -0.087525\n",
      "36960  0.894106 -1.084684  1.37853 -0.087525\n",
      "36961  0.894106 -1.084684 -0.72541 -0.087525\n",
      "\n",
      "[36962 rows x 4 columns]\n",
      "MAE: 6751.224923887392\n",
      "MSE: 18089076281.658974\n",
      "RMSE: 134495.63666401588\n",
      "MAPE: 1.3073483932428933\n",
      "R^2: 0.00040873606682623187\n"
     ]
    }
   ],
   "source": [
    "X_vt_rs = VT(1, X_rs)\n",
    "testrs(X_vt_rs, y_rs)"
   ]
  },
  {
   "cell_type": "code",
   "execution_count": 111,
   "id": "f4b3ea15",
   "metadata": {},
   "outputs": [
    {
     "name": "stdout",
     "output_type": "stream",
     "text": [
      "(144471, 6)\n",
      "              precision    recall  f1-score   support\n",
      "\n",
      "           0       0.55      0.84      0.66     10923\n",
      "           1       0.65      0.29      0.40     10748\n",
      "\n",
      "    accuracy                           0.57     21671\n",
      "   macro avg       0.60      0.57      0.53     21671\n",
      "weighted avg       0.60      0.57      0.53     21671\n",
      "\n"
     ]
    }
   ],
   "source": [
    "X_skb_cf = SKB_c(X_cf, y_cf)"
   ]
  },
  {
   "cell_type": "code",
   "execution_count": 109,
   "id": "ed8e403c",
   "metadata": {},
   "outputs": [
    {
     "name": "stdout",
     "output_type": "stream",
     "text": [
      "(36962, 6)\n",
      "MAE: 6192.661916260089\n",
      "MSE: 18063381323.77912\n",
      "RMSE: 134400.07932951202\n",
      "MAPE: 1.1727711226112054\n",
      "R^2: 0.0018286236842980363\n"
     ]
    }
   ],
   "source": [
    "X_skb_rs = SKB_r(X_rs, y_rs)"
   ]
  },
  {
   "cell_type": "code",
   "execution_count": 116,
   "id": "5888159d",
   "metadata": {},
   "outputs": [
    {
     "name": "stdout",
     "output_type": "stream",
     "text": [
      "              precision    recall  f1-score   support\n",
      "\n",
      "           0       0.52      0.92      0.66     10923\n",
      "           1       0.63      0.13      0.22     10748\n",
      "\n",
      "    accuracy                           0.53     21671\n",
      "   macro avg       0.57      0.53      0.44     21671\n",
      "weighted avg       0.57      0.53      0.44     21671\n",
      "\n"
     ]
    }
   ],
   "source": [
    "est = DecisionTreeClassifier().fit(X_cf, y_cf)\n",
    "X_rfe_c = _RFE(X_cf, y_cf, est)\n",
    "testcf(X_rfe_c, y_cf)"
   ]
  },
  {
   "cell_type": "code",
   "execution_count": 118,
   "id": "b7a53337",
   "metadata": {},
   "outputs": [
    {
     "data": {
      "text/plain": [
       "(144471, 4)"
      ]
     },
     "execution_count": 118,
     "metadata": {},
     "output_type": "execute_result"
    }
   ],
   "source": [
    "X_rfe_c.shape"
   ]
  },
  {
   "cell_type": "code",
   "execution_count": 13,
   "id": "6b5c56db",
   "metadata": {},
   "outputs": [
    {
     "name": "stdout",
     "output_type": "stream",
     "text": [
      "Index(['Year', 'Engine_capacity(cm3)', 'Transmission', 'Style_1'], dtype='object')\n",
      "MAE: 4603.368033869234\n",
      "MSE: 18044854561.12116\n",
      "RMSE: 134331.13771989412\n",
      "MAPE: 0.5982632435611465\n",
      "R^2: 0.0028524012290164213\n"
     ]
    }
   ],
   "source": [
    "est = Ridge().fit(X_rs, y_rs)\n",
    "X_rfe_r = _RFE(X_rs, y_rs, est)\n",
    "X_rfe_r.shape\n",
    "testrs(X_rfe_r, y_rs)"
   ]
  },
  {
   "cell_type": "code",
   "execution_count": 122,
   "id": "d68d517a",
   "metadata": {},
   "outputs": [
    {
     "data": {
      "text/plain": [
       "(36962, 4)"
      ]
     },
     "execution_count": 122,
     "metadata": {},
     "output_type": "execute_result"
    }
   ],
   "source": [
    "X_rfe_r.shape"
   ]
  },
  {
   "cell_type": "code",
   "execution_count": 123,
   "id": "56739e2c",
   "metadata": {},
   "outputs": [
    {
     "name": "stdout",
     "output_type": "stream",
     "text": [
      "MAE: 5409.590516652766\n",
      "MSE: 18057751928.742737\n",
      "RMSE: 134379.135020072\n",
      "MAPE: 0.8724710544541506\n",
      "R^2: 0.0021397006023220477\n"
     ]
    }
   ],
   "source": [
    "pca = PCA(n_components=2)\n",
    "X_pca = pca.fit_transform(X_rs, y_rs)\n",
    "testrs(X_pca, y_rs)"
   ]
  },
  {
   "cell_type": "code",
   "execution_count": 124,
   "id": "e44ab78c",
   "metadata": {},
   "outputs": [
    {
     "name": "stdout",
     "output_type": "stream",
     "text": [
      "              precision    recall  f1-score   support\n",
      "\n",
      "           0       0.52      0.86      0.65     10923\n",
      "           1       0.59      0.20      0.30     10748\n",
      "\n",
      "    accuracy                           0.53     21671\n",
      "   macro avg       0.56      0.53      0.47     21671\n",
      "weighted avg       0.56      0.53      0.48     21671\n",
      "\n"
     ]
    }
   ],
   "source": [
    "pca = PCA(n_components=2)\n",
    "X_pca = pca.fit_transform(X_cf, y_cf)\n",
    "testcf(X_pca, y_cf)"
   ]
  },
  {
   "cell_type": "code",
   "execution_count": 129,
   "id": "c23dd2d8",
   "metadata": {},
   "outputs": [
    {
     "name": "stdout",
     "output_type": "stream",
     "text": [
      "MAE: 4143.953075278765\n",
      "MSE: 54597754.567667834\n",
      "RMSE: 7389.029338666063\n",
      "MAPE: 0.7669672342855869\n",
      "R^2: 0.4587348987157732\n"
     ]
    }
   ],
   "source": [
    "tsne = TSNE(n_components=2)\n",
    "X_tsne = tsne.fit_transform(X_rs[:10000])\n",
    "testrs(X_tsne, y_rs[:10000])"
   ]
  },
  {
   "cell_type": "code",
   "execution_count": 130,
   "id": "9d00a361",
   "metadata": {},
   "outputs": [
    {
     "name": "stdout",
     "output_type": "stream",
     "text": [
      "              precision    recall  f1-score   support\n",
      "\n",
      "           0       0.70      0.93      0.80      5075\n",
      "           1       0.54      0.16      0.25      2425\n",
      "\n",
      "    accuracy                           0.68      7500\n",
      "   macro avg       0.62      0.55      0.52      7500\n",
      "weighted avg       0.65      0.68      0.62      7500\n",
      "\n"
     ]
    }
   ],
   "source": [
    "tsne = TSNE(n_components=2)\n",
    "X_tsne = tsne.fit_transform(X_cf[:50000])\n",
    "testcf(X_tsne, y_cf[:50000])"
   ]
  },
  {
   "cell_type": "code",
   "execution_count": 132,
   "id": "441ba72e",
   "metadata": {},
   "outputs": [
    {
     "name": "stdout",
     "output_type": "stream",
     "text": [
      "MAE: 3839.5736226104655\n",
      "MSE: 49190320.36058543\n",
      "RMSE: 7013.581136665165\n",
      "MAPE: 0.6019541013581632\n",
      "R^2: 0.35598514574057716\n"
     ]
    }
   ],
   "source": [
    "isomap = Isomap(n_components=2)\n",
    "X_isomap = isomap.fit_transform(X_rs[:3000])\n",
    "testrs(X_isomap, y_rs[:3000])"
   ]
  },
  {
   "cell_type": "code",
   "execution_count": 133,
   "id": "d73c4910",
   "metadata": {},
   "outputs": [
    {
     "name": "stdout",
     "output_type": "stream",
     "text": [
      "              precision    recall  f1-score   support\n",
      "\n",
      "           0       0.71      0.99      0.83      1056\n",
      "           1       0.59      0.02      0.04       444\n",
      "\n",
      "    accuracy                           0.71      1500\n",
      "   macro avg       0.65      0.51      0.43      1500\n",
      "weighted avg       0.67      0.71      0.59      1500\n",
      "\n"
     ]
    }
   ],
   "source": [
    "isomap = Isomap(n_components=2)\n",
    "X_isomap = isomap.fit_transform(X_cf[:10000])\n",
    "testcf(X_isomap, y_cf[:10000])"
   ]
  },
  {
   "cell_type": "code",
   "execution_count": null,
   "id": "9b7f4134",
   "metadata": {},
   "outputs": [],
   "source": []
  }
 ],
 "metadata": {
  "kernelspec": {
   "display_name": "Python 3 (ipykernel)",
   "language": "python",
   "name": "python3"
  },
  "language_info": {
   "codemirror_mode": {
    "name": "ipython",
    "version": 3
   },
   "file_extension": ".py",
   "mimetype": "text/x-python",
   "name": "python",
   "nbconvert_exporter": "python",
   "pygments_lexer": "ipython3",
   "version": "3.10.7"
  }
 },
 "nbformat": 4,
 "nbformat_minor": 5
}
