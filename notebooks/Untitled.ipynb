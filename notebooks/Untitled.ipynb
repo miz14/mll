{
 "cells": [
  {
   "cell_type": "markdown",
   "id": "942511e6",
   "metadata": {},
   "source": [
    "# Задача 1\n",
    "\n",
    "**Загрузите датасет для регрессии, выполните предварительную обработку (удалите пропуски, приведите все признаки к числам), выделите целевой признак и предикторы, разбейте данные на обучающую и тестовую выборку.**"
   ]
  },
  {
   "cell_type": "code",
   "execution_count": 1,
   "id": "4f5fec89",
   "metadata": {},
   "outputs": [],
   "source": [
    "import pandas as pd\n",
    "import numpy as np\n",
    "from matplotlib import pyplot as plt\n",
    "import matplotlib.dates as mdates\n",
    "from sklearn.linear_model import LinearRegression, Lasso, Ridge\n",
    "from sklearn.metrics import mean_squared_error, mean_absolute_error, mean_absolute_percentage_error\n",
    "from math import sqrt, pow\n",
    "from sklearn.model_selection import GridSearchCV, RandomizedSearchCV\n",
    "from sklearn.model_selection import train_test_split\n",
    "from sklearn.preprocessing import PolynomialFeatures\n",
    "from datetime import datetime as dt\n",
    "import folium"
   ]
  },
  {
   "cell_type": "markdown",
   "id": "d02e6211",
   "metadata": {},
   "source": [
    "- **Загрузка датасета**"
   ]
  },
  {
   "cell_type": "code",
   "execution_count": 2,
   "id": "69613c7f",
   "metadata": {},
   "outputs": [
    {
     "data": {
      "text/html": [
       "<div>\n",
       "<style scoped>\n",
       "    .dataframe tbody tr th:only-of-type {\n",
       "        vertical-align: middle;\n",
       "    }\n",
       "\n",
       "    .dataframe tbody tr th {\n",
       "        vertical-align: top;\n",
       "    }\n",
       "\n",
       "    .dataframe thead th {\n",
       "        text-align: right;\n",
       "    }\n",
       "</style>\n",
       "<table border=\"1\" class=\"dataframe\">\n",
       "  <thead>\n",
       "    <tr style=\"text-align: right;\">\n",
       "      <th></th>\n",
       "      <th>id</th>\n",
       "      <th>vendor_id</th>\n",
       "      <th>pickup_datetime</th>\n",
       "      <th>dropoff_datetime</th>\n",
       "      <th>passenger_count</th>\n",
       "      <th>pickup_longitude</th>\n",
       "      <th>pickup_latitude</th>\n",
       "      <th>dropoff_longitude</th>\n",
       "      <th>dropoff_latitude</th>\n",
       "      <th>trip_duration</th>\n",
       "    </tr>\n",
       "  </thead>\n",
       "  <tbody>\n",
       "    <tr>\n",
       "      <th>0</th>\n",
       "      <td>id1080784</td>\n",
       "      <td>2.0</td>\n",
       "      <td>2016-02-29 16:40:21</td>\n",
       "      <td>2016-02-29 16:47:01</td>\n",
       "      <td>1</td>\n",
       "      <td>-73.953918</td>\n",
       "      <td>40.778873</td>\n",
       "      <td>-73.963875</td>\n",
       "      <td>40.771164</td>\n",
       "      <td>400</td>\n",
       "    </tr>\n",
       "    <tr>\n",
       "      <th>1</th>\n",
       "      <td>id0889885</td>\n",
       "      <td>1.0</td>\n",
       "      <td>2016-03-11 23:35:37</td>\n",
       "      <td>2016-03-11 23:53:57</td>\n",
       "      <td>2</td>\n",
       "      <td>-73.988312</td>\n",
       "      <td>40.731743</td>\n",
       "      <td>-73.994751</td>\n",
       "      <td>40.694931</td>\n",
       "      <td>1100</td>\n",
       "    </tr>\n",
       "    <tr>\n",
       "      <th>2</th>\n",
       "      <td>id0857912</td>\n",
       "      <td>2.0</td>\n",
       "      <td>2016-02-21 17:59:33</td>\n",
       "      <td>2016-02-21 18:26:48</td>\n",
       "      <td>2</td>\n",
       "      <td>-73.997314</td>\n",
       "      <td>40.721458</td>\n",
       "      <td>-73.948029</td>\n",
       "      <td>40.774918</td>\n",
       "      <td>1635</td>\n",
       "    </tr>\n",
       "    <tr>\n",
       "      <th>3</th>\n",
       "      <td>id3744273</td>\n",
       "      <td>2.0</td>\n",
       "      <td>2016-01-05 09:44:31</td>\n",
       "      <td>2016-01-05 10:03:32</td>\n",
       "      <td>6</td>\n",
       "      <td>-73.961670</td>\n",
       "      <td>40.759720</td>\n",
       "      <td>-73.956779</td>\n",
       "      <td>40.780628</td>\n",
       "      <td>1141</td>\n",
       "    </tr>\n",
       "    <tr>\n",
       "      <th>4</th>\n",
       "      <td>id0232939</td>\n",
       "      <td>1.0</td>\n",
       "      <td>2016-02-17 06:42:23</td>\n",
       "      <td>2016-02-17 06:56:31</td>\n",
       "      <td>1</td>\n",
       "      <td>-74.017120</td>\n",
       "      <td>40.708469</td>\n",
       "      <td>-73.988182</td>\n",
       "      <td>40.740631</td>\n",
       "      <td>848</td>\n",
       "    </tr>\n",
       "    <tr>\n",
       "      <th>...</th>\n",
       "      <td>...</td>\n",
       "      <td>...</td>\n",
       "      <td>...</td>\n",
       "      <td>...</td>\n",
       "      <td>...</td>\n",
       "      <td>...</td>\n",
       "      <td>...</td>\n",
       "      <td>...</td>\n",
       "      <td>...</td>\n",
       "      <td>...</td>\n",
       "    </tr>\n",
       "    <tr>\n",
       "      <th>729317</th>\n",
       "      <td>id3905982</td>\n",
       "      <td>2.0</td>\n",
       "      <td>2016-05-21 13:29:38</td>\n",
       "      <td>2016-05-21 13:34:34</td>\n",
       "      <td>2</td>\n",
       "      <td>-73.965919</td>\n",
       "      <td>40.789780</td>\n",
       "      <td>-73.952637</td>\n",
       "      <td>40.789181</td>\n",
       "      <td>296</td>\n",
       "    </tr>\n",
       "    <tr>\n",
       "      <th>729318</th>\n",
       "      <td>id0102861</td>\n",
       "      <td>1.0</td>\n",
       "      <td>2016-02-22 00:43:11</td>\n",
       "      <td>2016-02-22 00:48:26</td>\n",
       "      <td>1</td>\n",
       "      <td>-73.996666</td>\n",
       "      <td>40.737434</td>\n",
       "      <td>-74.001320</td>\n",
       "      <td>40.731911</td>\n",
       "      <td>315</td>\n",
       "    </tr>\n",
       "    <tr>\n",
       "      <th>729319</th>\n",
       "      <td>id0439699</td>\n",
       "      <td>1.0</td>\n",
       "      <td>2016-04-15 18:56:48</td>\n",
       "      <td>2016-04-15 19:08:01</td>\n",
       "      <td>1</td>\n",
       "      <td>-73.997849</td>\n",
       "      <td>40.761696</td>\n",
       "      <td>-74.001488</td>\n",
       "      <td>40.741207</td>\n",
       "      <td>673</td>\n",
       "    </tr>\n",
       "    <tr>\n",
       "      <th>729320</th>\n",
       "      <td>id2078912</td>\n",
       "      <td>1.0</td>\n",
       "      <td>2016-06-19 09:50:47</td>\n",
       "      <td>2016-06-19 09:58:14</td>\n",
       "      <td>1</td>\n",
       "      <td>-74.006706</td>\n",
       "      <td>40.708244</td>\n",
       "      <td>-74.013550</td>\n",
       "      <td>40.713814</td>\n",
       "      <td>447</td>\n",
       "    </tr>\n",
       "    <tr>\n",
       "      <th>729321</th>\n",
       "      <td>id1053441</td>\n",
       "      <td>2.0</td>\n",
       "      <td>2016-01-01 17:24:16</td>\n",
       "      <td>2016-01-01 17:44:40</td>\n",
       "      <td>4</td>\n",
       "      <td>-74.003342</td>\n",
       "      <td>40.743839</td>\n",
       "      <td>-73.945847</td>\n",
       "      <td>40.712841</td>\n",
       "      <td>1224</td>\n",
       "    </tr>\n",
       "  </tbody>\n",
       "</table>\n",
       "<p>729322 rows × 10 columns</p>\n",
       "</div>"
      ],
      "text/plain": [
       "               id  vendor_id      pickup_datetime     dropoff_datetime  \\\n",
       "0       id1080784        2.0  2016-02-29 16:40:21  2016-02-29 16:47:01   \n",
       "1       id0889885        1.0  2016-03-11 23:35:37  2016-03-11 23:53:57   \n",
       "2       id0857912        2.0  2016-02-21 17:59:33  2016-02-21 18:26:48   \n",
       "3       id3744273        2.0  2016-01-05 09:44:31  2016-01-05 10:03:32   \n",
       "4       id0232939        1.0  2016-02-17 06:42:23  2016-02-17 06:56:31   \n",
       "...           ...        ...                  ...                  ...   \n",
       "729317  id3905982        2.0  2016-05-21 13:29:38  2016-05-21 13:34:34   \n",
       "729318  id0102861        1.0  2016-02-22 00:43:11  2016-02-22 00:48:26   \n",
       "729319  id0439699        1.0  2016-04-15 18:56:48  2016-04-15 19:08:01   \n",
       "729320  id2078912        1.0  2016-06-19 09:50:47  2016-06-19 09:58:14   \n",
       "729321  id1053441        2.0  2016-01-01 17:24:16  2016-01-01 17:44:40   \n",
       "\n",
       "        passenger_count  pickup_longitude  pickup_latitude  dropoff_longitude  \\\n",
       "0                     1        -73.953918        40.778873         -73.963875   \n",
       "1                     2        -73.988312        40.731743         -73.994751   \n",
       "2                     2        -73.997314        40.721458         -73.948029   \n",
       "3                     6        -73.961670        40.759720         -73.956779   \n",
       "4                     1        -74.017120        40.708469         -73.988182   \n",
       "...                 ...               ...              ...                ...   \n",
       "729317                2        -73.965919        40.789780         -73.952637   \n",
       "729318                1        -73.996666        40.737434         -74.001320   \n",
       "729319                1        -73.997849        40.761696         -74.001488   \n",
       "729320                1        -74.006706        40.708244         -74.013550   \n",
       "729321                4        -74.003342        40.743839         -73.945847   \n",
       "\n",
       "        dropoff_latitude  trip_duration  \n",
       "0              40.771164            400  \n",
       "1              40.694931           1100  \n",
       "2              40.774918           1635  \n",
       "3              40.780628           1141  \n",
       "4              40.740631            848  \n",
       "...                  ...            ...  \n",
       "729317         40.789181            296  \n",
       "729318         40.731911            315  \n",
       "729319         40.741207            673  \n",
       "729320         40.713814            447  \n",
       "729321         40.712841           1224  \n",
       "\n",
       "[729322 rows x 10 columns]"
      ]
     },
     "execution_count": 2,
     "metadata": {},
     "output_type": "execute_result"
    }
   ],
   "source": [
    "df = pd.read_csv('../data/trip_duration_task.csv')\n",
    "\n",
    "df"
   ]
  },
  {
   "cell_type": "markdown",
   "id": "70506d1c",
   "metadata": {},
   "source": [
    "## Предобработка датасета\n",
    "\n",
    "- **Удаление столбцов id, dropoff_datetime(т.к. является искомым)**"
   ]
  },
  {
   "cell_type": "code",
   "execution_count": 3,
   "id": "8b1f1b9f",
   "metadata": {},
   "outputs": [
    {
     "name": "stdout",
     "output_type": "stream",
     "text": [
      "<class 'pandas.core.frame.DataFrame'>\n",
      "RangeIndex: 729322 entries, 0 to 729321\n",
      "Data columns (total 8 columns):\n",
      " #   Column             Non-Null Count   Dtype  \n",
      "---  ------             --------------   -----  \n",
      " 0   vendor_id          727135 non-null  float64\n",
      " 1   pickup_datetime    729322 non-null  object \n",
      " 2   passenger_count    729322 non-null  int64  \n",
      " 3   pickup_longitude   729322 non-null  float64\n",
      " 4   pickup_latitude    727475 non-null  float64\n",
      " 5   dropoff_longitude  729322 non-null  float64\n",
      " 6   dropoff_latitude   729322 non-null  float64\n",
      " 7   trip_duration      729322 non-null  int64  \n",
      "dtypes: float64(5), int64(2), object(1)\n",
      "memory usage: 44.5+ MB\n"
     ]
    }
   ],
   "source": [
    "df1 = df.drop([\"id\", \"dropoff_datetime\"], axis=1)\n",
    "df1.info()"
   ]
  },
  {
   "cell_type": "markdown",
   "id": "0c7a345c",
   "metadata": {},
   "source": [
    "- **Исключение пустых строк**"
   ]
  },
  {
   "cell_type": "code",
   "execution_count": 4,
   "id": "38abd4a6",
   "metadata": {},
   "outputs": [],
   "source": [
    "df2 = df1.dropna()"
   ]
  },
  {
   "cell_type": "markdown",
   "id": "3d20bd12",
   "metadata": {},
   "source": [
    "- **Отбор основных путей перездок для улучшения результата прогноза**"
   ]
  },
  {
   "cell_type": "code",
   "execution_count": 5,
   "id": "c6eb2538",
   "metadata": {},
   "outputs": [],
   "source": [
    "dfl = df.head(500)\n",
    "m = folium.Map(location=[40.753093719482415, -73.97315979003906], zoom_start=12)\n",
    "result = [folium.Marker([x1, y1]).add_to(m) and folium.Marker([x2, y2]).add_to(m) for x1, y1, x2, y2 in zip(dfl['pickup_latitude'], dfl['pickup_longitude'], dfl['dropoff_latitude'], dfl['dropoff_longitude'])]\n",
    "m.save(\"name1.html\")\n",
    "#40.691510, -74.020491\n",
    "#40.820779, -73.919535\n",
    "\n",
    "df3 = df2[(40.691510 < df2.pickup_latitude) & (40.691510 < df2.dropoff_latitude) & (df2.pickup_latitude < 40.820779) & (df2.dropoff_latitude < 40.820779)]\n",
    "df3 = df3[(-74.020491 < df3.pickup_longitude) & (-74.020491 < df3.dropoff_longitude) & (df3.pickup_longitude < -73.919535) & (df3.dropoff_longitude < -73.919535)]"
   ]
  },
  {
   "cell_type": "markdown",
   "id": "423d3cb1",
   "metadata": {},
   "source": [
    "![plot](./loc.png)"
   ]
  },
  {
   "cell_type": "markdown",
   "id": "4716ea4a",
   "metadata": {},
   "source": [
    "- **Выделение прзнака из даты отправки - часовой период, из кол-ва пассажиров - 2 типа вместительности; удаление столбца vendor_idt**"
   ]
  },
  {
   "cell_type": "code",
   "execution_count": 6,
   "id": "b177fa05",
   "metadata": {
    "scrolled": false
   },
   "outputs": [
    {
     "name": "stdout",
     "output_type": "stream",
     "text": [
      "[1 2 6 3 4 5 0]\n",
      "<class 'pandas.core.frame.DataFrame'>\n",
      "Int64Index: 629577 entries, 0 to 729321\n",
      "Data columns (total 11 columns):\n",
      " #   Column             Non-Null Count   Dtype  \n",
      "---  ------             --------------   -----  \n",
      " 0   pickup_longitude   629577 non-null  float64\n",
      " 1   pickup_latitude    629577 non-null  float64\n",
      " 2   dropoff_longitude  629577 non-null  float64\n",
      " 3   dropoff_latitude   629577 non-null  float64\n",
      " 4   trip_duration      629577 non-null  int64  \n",
      " 5   hour_4_9           629577 non-null  uint8  \n",
      " 6   hour_10_15         629577 non-null  uint8  \n",
      " 7   hour_16_15         629577 non-null  uint8  \n",
      " 8   hour_night         629577 non-null  uint8  \n",
      " 9   pas0-3             629577 non-null  int64  \n",
      " 10  pas4-6             629577 non-null  int64  \n",
      "dtypes: float64(4), int64(3), uint8(4)\n",
      "memory usage: 40.8 MB\n"
     ]
    }
   ],
   "source": [
    "df4 = df3\n",
    "df_hours = pd.get_dummies(df4[\"pickup_datetime\"].apply(lambda date: int(date[11:13])), prefix=\"hour\")\n",
    "df4[\"hour_4_9\"] = df_hours.hour_4 + df_hours.hour_5 + df_hours.hour_6 + df_hours.hour_7 + df_hours.hour_8 + df_hours.hour_9\n",
    "df4[\"hour_10_15\"] = df_hours.hour_10 + df_hours.hour_11 + df_hours.hour_12 + df_hours.hour_13 + df_hours.hour_14 + df_hours.hour_15\n",
    "df4[\"hour_16_15\"] = df_hours.hour_16 + df_hours.hour_17 + df_hours.hour_18 + df_hours.hour_19 + df_hours.hour_20 + df_hours.hour_21\n",
    "df4[\"hour_night\"] = df_hours.hour_22 + df_hours.hour_23 + df_hours.hour_0 + df_hours.hour_1 + df_hours.hour_2 + df_hours.hour_3\n",
    "\n",
    "print(df4[\"passenger_count\"].unique())\n",
    "df4[\"pas0-3\"] = df4[\"passenger_count\"].apply(lambda count: 1 if count < 4 else 0)\n",
    "df4[\"pas4-6\"] = df4[\"passenger_count\"].apply(lambda count: 1 if count > 3 else 0)\n",
    "\n",
    "df4 = df4.drop([\"pickup_datetime\", \"vendor_id\", \"passenger_count\"], axis=1)\n",
    "df4.info()"
   ]
  },
  {
   "cell_type": "markdown",
   "id": "0763ba59",
   "metadata": {},
   "source": [
    "- **Избавляемся от слишком завышенных параметров времени поездки**"
   ]
  },
  {
   "cell_type": "code",
   "execution_count": 7,
   "id": "33ffc629",
   "metadata": {
    "scrolled": true
   },
   "outputs": [
    {
     "name": "stdout",
     "output_type": "stream",
     "text": [
      "838\n",
      "<class 'pandas.core.frame.DataFrame'>\n",
      "Int64Index: 628739 entries, 0 to 729321\n",
      "Data columns (total 11 columns):\n",
      " #   Column             Non-Null Count   Dtype  \n",
      "---  ------             --------------   -----  \n",
      " 0   pickup_longitude   628739 non-null  float64\n",
      " 1   pickup_latitude    628739 non-null  float64\n",
      " 2   dropoff_longitude  628739 non-null  float64\n",
      " 3   dropoff_latitude   628739 non-null  float64\n",
      " 4   trip_duration      628739 non-null  int64  \n",
      " 5   hour_4_9           628739 non-null  uint8  \n",
      " 6   hour_10_15         628739 non-null  uint8  \n",
      " 7   hour_16_15         628739 non-null  uint8  \n",
      " 8   hour_night         628739 non-null  uint8  \n",
      " 9   pas0-3             628739 non-null  int64  \n",
      " 10  pas4-6             628739 non-null  int64  \n",
      "dtypes: float64(4), int64(3), uint8(4)\n",
      "memory usage: 40.8 MB\n"
     ]
    }
   ],
   "source": [
    "df5 = df4\n",
    "print(df5[df5[\"trip_duration\"]>8000].shape[0])\n",
    "df5 = df5[df5[\"trip_duration\"]<8000]\n",
    "df5.info()"
   ]
  },
  {
   "cell_type": "markdown",
   "id": "6a9aba1e",
   "metadata": {},
   "source": [
    "- **Выделение целевого признака и предикатов.**"
   ]
  },
  {
   "cell_type": "code",
   "execution_count": 8,
   "id": "d6df9171",
   "metadata": {},
   "outputs": [],
   "source": [
    "y = df5['trip_duration']\n",
    "X = df5.drop(['trip_duration'], axis = 1)"
   ]
  },
  {
   "cell_type": "code",
   "execution_count": 9,
   "id": "ce20d00b",
   "metadata": {},
   "outputs": [],
   "source": [
    "X_train, X_test, y_train, y_test = train_test_split(X, y, test_size=0.7)"
   ]
  },
  {
   "cell_type": "code",
   "execution_count": 10,
   "id": "eaffb26d",
   "metadata": {},
   "outputs": [
    {
     "data": {
      "text/plain": [
       "((188621, 10), (188621,), (440118, 10), (440118,))"
      ]
     },
     "execution_count": 10,
     "metadata": {},
     "output_type": "execute_result"
    }
   ],
   "source": [
    "X_train.shape, y_train.shape, X_test.shape, y_test.shape"
   ]
  },
  {
   "cell_type": "markdown",
   "id": "851ab728",
   "metadata": {},
   "source": [
    "# Задача 2\n",
    "\n",
    "**Решите задачу регрессии на ваших данных с использованием моделей sklearn (линейная регрессия + L1, L2), для моделей с регуляризациями подберите гиперпараметр.**"
   ]
  },
  {
   "cell_type": "markdown",
   "id": "8eded0a9",
   "metadata": {},
   "source": [
    "- **!Подготовка нескольких гиперпараметров**"
   ]
  },
  {
   "cell_type": "code",
   "execution_count": 11,
   "id": "41bb0f1d",
   "metadata": {},
   "outputs": [],
   "source": [
    "parameters = {'alpha': np.arange(0.1, 1, 0.05)}"
   ]
  },
  {
   "cell_type": "markdown",
   "id": "d48c365f",
   "metadata": {},
   "source": [
    "- **Линейная регрессия.**"
   ]
  },
  {
   "cell_type": "code",
   "execution_count": 12,
   "id": "ff0cb715",
   "metadata": {},
   "outputs": [],
   "source": [
    "lr = LinearRegression().fit(X_train, y_train)\n",
    "y_pred = lr.predict(X_test)\n"
   ]
  },
  {
   "cell_type": "code",
   "execution_count": 13,
   "id": "1eb6ae5d",
   "metadata": {},
   "outputs": [
    {
     "name": "stdout",
     "output_type": "stream",
     "text": [
      "MAE: 340.9889903105531\n",
      "MSE: 202808.61893468324\n",
      "RMSE: 450.34277937442636\n",
      "MAPE: 1.0139020367349532\n",
      "R^2: 0.02959874216632663\n"
     ]
    }
   ],
   "source": [
    "print(f'MAE: {mean_absolute_error(y_test, y_pred)}')\n",
    "print(f'MSE: {mean_squared_error(y_test, y_pred)}')\n",
    "print(f'RMSE: {sqrt(mean_squared_error(y_test, y_pred))}')\n",
    "print(f'MAPE: {sqrt(mean_absolute_percentage_error(y_test, y_pred))}')\n",
    "score_lr = lr.score(X_test, y_test)\n",
    "print(f'R^2: {score_lr}')"
   ]
  },
  {
   "cell_type": "code",
   "execution_count": 14,
   "id": "7937db11",
   "metadata": {},
   "outputs": [
    {
     "data": {
      "text/plain": [
       "array([-2.08640988e+03, -1.32181518e+02,  2.78158111e+03, -2.71781275e+03,\n",
       "       -5.22193147e+14, -5.22193147e+14, -5.22193147e+14, -5.22193147e+14,\n",
       "        3.72818860e+14,  3.72818860e+14])"
      ]
     },
     "execution_count": 14,
     "metadata": {},
     "output_type": "execute_result"
    }
   ],
   "source": [
    "lr.coef_"
   ]
  },
  {
   "cell_type": "markdown",
   "id": "94b1ca20",
   "metadata": {},
   "source": [
    "- **Линейная регрессия. Регуляризация L1 / Ridge.**"
   ]
  },
  {
   "cell_type": "code",
   "execution_count": 15,
   "id": "01eefa8e",
   "metadata": {},
   "outputs": [],
   "source": [
    "# L1(RandomizedSearchCV)\n",
    "ridge_optimal = RandomizedSearchCV(Ridge(), parameters).fit(X_train, y_train)\n",
    "ridge = Ridge(alpha=ridge_optimal.best_params_['alpha']).fit(X_train, y_train)\n",
    "y_pred = ridge.predict(X_test)\n"
   ]
  },
  {
   "cell_type": "code",
   "execution_count": 16,
   "id": "023370c0",
   "metadata": {},
   "outputs": [
    {
     "name": "stdout",
     "output_type": "stream",
     "text": [
      "MAE: 340.9799806928698\n",
      "MSE: 202803.33999803013\n",
      "RMSE: 450.336918315643\n",
      "MAPE: 1.0139346883744897\n",
      "R^2: 0.029624000889526547\n"
     ]
    }
   ],
   "source": [
    "print(f'MAE: {mean_absolute_error(y_test, y_pred)}')\n",
    "print(f'MSE: {mean_squared_error(y_test, y_pred)}')\n",
    "print(f'RMSE: {sqrt(mean_squared_error(y_test, y_pred))}')\n",
    "print(f'MAPE: {sqrt(mean_absolute_percentage_error(y_test, y_pred))}')\n",
    "score_lr_L1_RandomSearchCV = ridge.score(X_test, y_test)\n",
    "print(f'R^2: {score_lr_L1_RandomSearchCV}')"
   ]
  },
  {
   "cell_type": "code",
   "execution_count": 17,
   "id": "be8d0400",
   "metadata": {},
   "outputs": [
    {
     "data": {
      "text/plain": [
       "array([-2075.11439083,  -141.77147048,  2764.53126776, -2705.63131971,\n",
       "         -32.38859288,    82.07020624,    14.51628233,   -64.19789562,\n",
       "          -3.04774238,     3.04774238])"
      ]
     },
     "execution_count": 17,
     "metadata": {},
     "output_type": "execute_result"
    }
   ],
   "source": [
    "ridge.coef_"
   ]
  },
  {
   "cell_type": "code",
   "execution_count": 18,
   "id": "c89f7327",
   "metadata": {},
   "outputs": [],
   "source": [
    "# L1(GridSearchCV)\n",
    "ridge_optimal = GridSearchCV(Ridge(), parameters).fit(X_train, y_train)\n",
    "ridge = Ridge(alpha=ridge_optimal.best_params_['alpha']).fit(X_train, y_train)\n",
    "y_pred = ridge.predict(X_test)"
   ]
  },
  {
   "cell_type": "code",
   "execution_count": 19,
   "id": "c2d9417e",
   "metadata": {},
   "outputs": [
    {
     "name": "stdout",
     "output_type": "stream",
     "text": [
      "MAE: 340.9799806928698\n",
      "MSE: 202803.33999803013\n",
      "RMSE: 450.336918315643\n",
      "MAPE: 1.0139346883744897\n",
      "R^2: 0.029624000889526547\n"
     ]
    }
   ],
   "source": [
    "print(f'MAE: {mean_absolute_error(y_test, y_pred)}')\n",
    "print(f'MSE: {mean_squared_error(y_test, y_pred)}')\n",
    "print(f'RMSE: {sqrt(mean_squared_error(y_test, y_pred))}')\n",
    "print(f'MAPE: {sqrt(mean_absolute_percentage_error(y_test, y_pred))}')\n",
    "score_lr_L1_GridSearchCV = ridge.score(X_test, y_test)\n",
    "print(f'R^2: {score_lr_L1_GridSearchCV}')"
   ]
  },
  {
   "cell_type": "code",
   "execution_count": 20,
   "id": "cdc393b1",
   "metadata": {},
   "outputs": [
    {
     "data": {
      "text/plain": [
       "array([-2075.11439083,  -141.77147048,  2764.53126776, -2705.63131971,\n",
       "         -32.38859288,    82.07020624,    14.51628233,   -64.19789562,\n",
       "          -3.04774238,     3.04774238])"
      ]
     },
     "execution_count": 20,
     "metadata": {},
     "output_type": "execute_result"
    }
   ],
   "source": [
    "ridge.coef_"
   ]
  },
  {
   "cell_type": "markdown",
   "id": "12f9716a",
   "metadata": {},
   "source": [
    "- **Линейная регрессия. Регуляризация L2 / Lasso.**"
   ]
  },
  {
   "cell_type": "code",
   "execution_count": 21,
   "id": "49a17511",
   "metadata": {},
   "outputs": [],
   "source": [
    "# L2(RandomizedSearchCV)\n",
    "lasso_optimal = RandomizedSearchCV(Lasso(), parameters).fit(X_train, y_train)\n",
    "lasso = Lasso(alpha=lasso_optimal.best_params_['alpha']).fit(X_train, y_train)\n",
    "y_pred = lasso.predict(X_test)"
   ]
  },
  {
   "cell_type": "code",
   "execution_count": 22,
   "id": "401160bb",
   "metadata": {},
   "outputs": [
    {
     "name": "stdout",
     "output_type": "stream",
     "text": [
      "MAE: 341.21275887334497\n",
      "MSE: 203035.03886063452\n",
      "RMSE: 450.594095456914\n",
      "MAPE: 1.0146452253262646\n",
      "R^2: 0.029624000889526547\n"
     ]
    }
   ],
   "source": [
    "print(f'MAE: {mean_absolute_error(y_test, y_pred)}')\n",
    "print(f'MSE: {mean_squared_error(y_test, y_pred)}')\n",
    "print(f'RMSE: {sqrt(mean_squared_error(y_test, y_pred))}')\n",
    "print(f'MAPE: {sqrt(mean_absolute_percentage_error(y_test, y_pred))}')\n",
    "score_lr_L2_RandomSearchCV = ridge.score(X_test, y_test)\n",
    "print(f'R^2: {score_lr_L2_RandomSearchCV}')"
   ]
  },
  {
   "cell_type": "code",
   "execution_count": 23,
   "id": "74829bca",
   "metadata": {},
   "outputs": [
    {
     "data": {
      "text/plain": [
       "array([-1353.76774794,  -338.3196697 ,  1784.0358348 , -2138.17607937,\n",
       "         -26.14173871,    87.25348486,    21.27248489,   -52.10093994,\n",
       "          -4.92951148,     0.        ])"
      ]
     },
     "execution_count": 23,
     "metadata": {},
     "output_type": "execute_result"
    }
   ],
   "source": [
    "lasso.coef_"
   ]
  },
  {
   "cell_type": "code",
   "execution_count": 24,
   "id": "394c5f23",
   "metadata": {},
   "outputs": [],
   "source": [
    "# L2(GridSearchCV)\n",
    "lasso_optimal = GridSearchCV(Lasso(), parameters).fit(X_train, y_train)\n",
    "lasso = Lasso(alpha=lasso_optimal.best_params_['alpha']).fit(X_train, y_train)\n",
    "y_pred = lasso.predict(X_test)"
   ]
  },
  {
   "cell_type": "code",
   "execution_count": 25,
   "id": "149da510",
   "metadata": {},
   "outputs": [
    {
     "name": "stdout",
     "output_type": "stream",
     "text": [
      "MAE: 341.21275887334497\n",
      "MSE: 203035.03886063452\n",
      "RMSE: 450.594095456914\n",
      "MAPE: 1.0146452253262646\n",
      "R^2: 0.029624000889526547\n"
     ]
    }
   ],
   "source": [
    "print(f'MAE: {mean_absolute_error(y_test, y_pred)}')\n",
    "print(f'MSE: {mean_squared_error(y_test, y_pred)}')\n",
    "print(f'RMSE: {sqrt(mean_squared_error(y_test, y_pred))}')\n",
    "print(f'MAPE: {sqrt(mean_absolute_percentage_error(y_test, y_pred))}')\n",
    "score_lr_L2_GridSearchCV = ridge.score(X_test, y_test)\n",
    "print(f'R^2: {score_lr_L2_GridSearchCV}')"
   ]
  },
  {
   "cell_type": "code",
   "execution_count": 26,
   "id": "a44df321",
   "metadata": {},
   "outputs": [
    {
     "data": {
      "text/plain": [
       "array([-1353.76774794,  -338.3196697 ,  1784.0358348 , -2138.17607937,\n",
       "         -26.14173871,    87.25348486,    21.27248489,   -52.10093994,\n",
       "          -4.92951148,     0.        ])"
      ]
     },
     "execution_count": 26,
     "metadata": {},
     "output_type": "execute_result"
    }
   ],
   "source": [
    "lasso.coef_"
   ]
  },
  {
   "cell_type": "markdown",
   "id": "5c337ed7",
   "metadata": {},
   "source": [
    "# Задача 3\n",
    "\n",
    "**Решите задачу регрессии на ваших данных с использованием моделей sklearn (полиномиальная регрессия + L1, L2), для моделей с регуляризациями подберите гиперпараметр.**"
   ]
  },
  {
   "cell_type": "markdown",
   "id": "9867ef36",
   "metadata": {},
   "source": [
    "- **Добавление предиката, степень полинома 2.**"
   ]
  },
  {
   "cell_type": "code",
   "execution_count": 45,
   "id": "81e38143",
   "metadata": {},
   "outputs": [],
   "source": [
    "pf = PolynomialFeatures(4)\n",
    "X_train_p = pf.fit_transform(X_train)\n",
    "X_test_p = pf.fit_transform(X_test)\n"
   ]
  },
  {
   "cell_type": "markdown",
   "id": "140e0b53",
   "metadata": {},
   "source": [
    "- **Полиномиальная регрессия.**"
   ]
  },
  {
   "cell_type": "code",
   "execution_count": 46,
   "id": "8ee213ed",
   "metadata": {},
   "outputs": [],
   "source": [
    "pr = LinearRegression().fit(X_train_p, y_train)\n",
    "y_pred = pr.predict(X_test_p)\n"
   ]
  },
  {
   "cell_type": "code",
   "execution_count": 47,
   "id": "5d8bd7e8",
   "metadata": {},
   "outputs": [
    {
     "name": "stdout",
     "output_type": "stream",
     "text": [
      "MAE: 217.9490247967768\n",
      "MSE: 97903.28288415968\n",
      "RMSE: 312.89500297090024\n",
      "MAPE: 0.7509673973740372\n",
      "0.12196524674561215\n",
      "R^2: 0.5315511275808644\n"
     ]
    }
   ],
   "source": [
    "print(f'MAE: {mean_absolute_error(y_test, y_pred)}')\n",
    "print(f'MSE: {mean_squared_error(y_test, y_pred)}')\n",
    "print(f'RMSE: {sqrt(mean_squared_error(y_test, y_pred))}')\n",
    "print(f'MAPE: {sqrt(mean_absolute_percentage_error(y_test, y_pred))}')\n",
    "score_pr = pr.score(X_test_p, y_test)\n",
    "print(f'R^2: {score_pr}')"
   ]
  },
  {
   "cell_type": "code",
   "execution_count": 30,
   "id": "a2a3625d",
   "metadata": {},
   "outputs": [
    {
     "data": {
      "text/plain": [
       "array([ 9.62274759e+02, -8.54688002e+08, -1.03356501e+09, ...,\n",
       "        0.00000000e+00,  0.00000000e+00, -4.38519146e+06])"
      ]
     },
     "execution_count": 30,
     "metadata": {},
     "output_type": "execute_result"
    }
   ],
   "source": [
    "pr.coef_"
   ]
  },
  {
   "cell_type": "markdown",
   "id": "b8d37747",
   "metadata": {},
   "source": [
    "- **Полиномиальная регрессия. Регуляризация L1 / Ridge.**"
   ]
  },
  {
   "cell_type": "code",
   "execution_count": 31,
   "id": "c32d88f5",
   "metadata": {},
   "outputs": [],
   "source": [
    "ridge = Ridge().fit(X_train_p, y_train)\n",
    "y_pred = ridge.predict(X_test_p)"
   ]
  },
  {
   "cell_type": "code",
   "execution_count": 32,
   "id": "cd5afbba",
   "metadata": {},
   "outputs": [
    {
     "name": "stdout",
     "output_type": "stream",
     "text": [
      "MAE: 241.3421293506089\n",
      "MSE: 116399.9035349563\n",
      "RMSE: 341.1743008125851\n",
      "MAPE: 0.8142651581742988\n",
      "R^2: 0.4430482619754039\n"
     ]
    }
   ],
   "source": [
    "print(f'MAE: {mean_absolute_error(y_test, y_pred)}')\n",
    "print(f'MSE: {mean_squared_error(y_test, y_pred)}')\n",
    "print(f'RMSE: {sqrt(mean_squared_error(y_test, y_pred))}')\n",
    "print(f'MAPE: {sqrt(mean_absolute_percentage_error(y_test, y_pred))}')\n",
    "score_pr_L1 = ridge.score(X_test_p, y_test)\n",
    "print(f'R^2: {score_pr_L1}')"
   ]
  },
  {
   "cell_type": "markdown",
   "id": "c0fb8f5c",
   "metadata": {},
   "source": [
    "# Задача 4\n",
    "\n",
    "**Вычислите значения метрик $R^2$, MAE, MSE, RMSE, MAPE для всех обученных моделей; выберите лучшую модель.**"
   ]
  },
  {
   "cell_type": "markdown",
   "id": "0d8905ce",
   "metadata": {},
   "source": [
    "- **Сравнение всех моделей по наибольшему коэффициенту детерминации.**"
   ]
  },
  {
   "cell_type": "code",
   "execution_count": 33,
   "id": "276e861b",
   "metadata": {},
   "outputs": [
    {
     "name": "stdout",
     "output_type": "stream",
     "text": [
      "0.02959874216632663\n",
      "0.029624000889526547\n",
      "0.029624000889526547\n",
      "0.029624000889526547\n",
      "0.029624000889526547\n",
      "----\n",
      "0.5315511275808644\n",
      "0.4430482619754039\n"
     ]
    }
   ],
   "source": [
    "print(score_lr)\n",
    "print(score_lr_L1_RandomSearchCV)\n",
    "print(score_lr_L1_GridSearchCV)\n",
    "print(score_lr_L2_RandomSearchCV)\n",
    "print(score_lr_L2_GridSearchCV)\n",
    "print(\"----\")\n",
    "print(score_pr)\n",
    "print(score_pr_L1)"
   ]
  },
  {
   "cell_type": "markdown",
   "id": "7e70f64e",
   "metadata": {},
   "source": [
    "**Наилучшей моделью оказалась: Полиномиальная регрессия 4 степени**"
   ]
  },
  {
   "cell_type": "markdown",
   "id": "2c2e8ba9",
   "metadata": {},
   "source": [
    "# Задача 5\n",
    "- **Самостоятельно реализуйте (желательно в виде класса) модель линейной регрессии с регуляризацией (можете выбрать L1 или L2).**\n",
    "- **Самостоятельно реализуйте вычисление всех используемых метрик (в виде функций, принимающих два аргумента).**\n",
    "- **Обучите вашу модель линейной регрессии на ваших данных; оцените качество с помощью реализованных вами метрик.**"
   ]
  },
  {
   "cell_type": "code",
   "execution_count": 38,
   "id": "49d68291",
   "metadata": {},
   "outputs": [],
   "source": [
    "class Metrics:\n",
    "    @staticmethod\n",
    "    def  mean_absolute_error(y_test, y_pred):\n",
    "        real, pred = np.array(y_test), np.array(y_pred)\n",
    "        return float(np.mean(np.abs(real - pred)))\n",
    "    @staticmethod\n",
    "    def mean_squared_error(y_test, y_pred):\n",
    "        real, pred = np.array(y_test), np.array(y_pred)\n",
    "        return float(np.mean((real - pred) ** 2))\n",
    "    @staticmethod\n",
    "    def root_mean_squared_error(y_test, y_pred):\n",
    "        return float(np.sqrt(Metrics.mean_squared_error(y_test, y_pred)))\n",
    "    @staticmethod\n",
    "    def mean_absolute_percentage_error(y_test, y_pred):\n",
    "        y_true, predictions = np.array(y_test), np.array(y_pred)\n",
    "        return np.mean(np.abs((real - pred) / np.abs(real)))\n",
    "    @staticmethod\n",
    "    def r_2_score(y_test, y_pred):\n",
    "        real, pred = np.array(y_test), np.array(y_pred)\n",
    "        return float(1 - np.sum((real - pred)**2) / np.sum((real - np.mean(real))**2))\n",
    "        #return ((real - pred), list(real-pred)-1,  np.sum((real - np.mean(real))**2))\n",
    "    #Metrics.r_2_score([1, 1, 3], [1, 2, 3])"
   ]
  },
  {
   "cell_type": "code",
   "execution_count": 48,
   "id": "e923ab9d",
   "metadata": {},
   "outputs": [],
   "source": [
    "class MyLinearRegression:\n",
    "    def __init__(self, iterations =1000, learning_rate = 1.2*1e-16):\n",
    "        self.lr = learning_rate  \n",
    "        self.i = iterations        \n",
    "\n",
    "    def transform(self, x):\n",
    "        return np.concatenate((np.ones((len(x), 1)), x), axis = 1)  #добавление к матрице столбца с единицами\n",
    "\n",
    "    def loss_func(self, x, y, w):\n",
    "        return sum((np.dot(x, w) - y) ** 2)/x.shape[1] #функция потерь sum((<w, x> - y)^2) * 1/len(x)\n",
    "    \n",
    "    def gradient(self, X, y, XT, l, w):\n",
    "        return w - self.lr * 2 * np.dot(XT, np.dot(X, w) - y) / l #функция для вычисления градиента\n",
    "                                                                  #w -n∇Q(w, X) = w - 2n/l * X.T(Xw - y)\n",
    "\n",
    "    def fit(self, x, y):\n",
    "        loss_abs = np.inf #переменная, отвечающая за прекращение работы алгоритма при минимальном изменении знач. функции потерь \n",
    "        eps = 1e-20\n",
    "        \n",
    "        X = self.transform(x)\n",
    "        w = np.zeros(X.shape[1]) #изначально веса = 0\n",
    "        iter = 0\n",
    "        XT = X.T\n",
    "        l = X.shape[0]\n",
    "        while iter <= self.i:\n",
    "            if (iter % 100 == 0):\n",
    "                loss = self.loss_func(X, y, w)\n",
    "                w = self.gradient(X, y, XT, l, w)\n",
    "                loss_abs = np.abs(loss - self.loss_func(X, y,w))\n",
    "                if(loss_abs <= eps):\n",
    "                    break\n",
    "            else:\n",
    "                w = self.gradient(X, y, XT, l, w)\n",
    "            iter += 1\n",
    "            \n",
    "        self.w = w\n",
    "        \n",
    "        \n",
    "    def predict(self, x):\n",
    "        return np.dot(self.transform(x), self.w) #ожидаемые y"
   ]
  },
  {
   "cell_type": "code",
   "execution_count": 49,
   "id": "045c4658",
   "metadata": {},
   "outputs": [],
   "source": [
    "(X1_train, \n",
    " X2_train, \n",
    " y1_train, y2_train) = train_test_split(X_train_p, y_train, \n",
    "                                     test_size=0.9, \n",
    "                                     random_state=0)"
   ]
  },
  {
   "cell_type": "code",
   "execution_count": 50,
   "id": "17806fde",
   "metadata": {},
   "outputs": [
    {
     "name": "stdout",
     "output_type": "stream",
     "text": [
      "[ 9.62274759e+02 -8.54688002e+08 -1.03356501e+09 ...  0.00000000e+00\n",
      "  0.00000000e+00 -4.38519146e+06]\n"
     ]
    }
   ],
   "source": [
    "print(pr.coef_)\n",
    "\n",
    "mlr = MyLinearRegression(iterations =2000, learning_rate = 7*1e-18)\n",
    "mlr.fit(X1_train, y1_train)"
   ]
  },
  {
   "cell_type": "code",
   "execution_count": 51,
   "id": "f52c5b10",
   "metadata": {},
   "outputs": [
    {
     "name": "stdout",
     "output_type": "stream",
     "text": [
      "[701.47618881 701.21664512 699.95871908 ... 700.65433072 700.86395798\n",
      " 699.72383245]\n",
      "[ 954.35742188  732.35742188 1388.35742188 ...  870.35742188  547.35742188\n",
      "  318.35742188]\n",
      "-809115.7352924455\n",
      "0.12196524674561215\n"
     ]
    }
   ],
   "source": [
    "pred1 = mlr.predict(X_test_p)\n",
    "print(pred1)\n",
    "pred2 = pr.predict(X_test_p)\n",
    "print(pred2)\n",
    "print(Metrics.r_2_score(pred1, y_test))\n",
    "print(Metrics.r_2_score(pred2, y_test))"
   ]
  },
  {
   "cell_type": "code",
   "execution_count": 59,
   "id": "7ab56948",
   "metadata": {},
   "outputs": [],
   "source": [
    "class MyRidge:\n",
    "    def __init__(self, iterations =1000, learning_rate = 1.2*1e-16, alpha = 2):\n",
    "        self.lr = learning_rate  \n",
    "        self.i = iterations        \n",
    "        self.alpha = alpha\n",
    "    def transform(self, x):\n",
    "        return np.concatenate((np.ones((len(x), 1)), x), axis = 1)  #добавление к матрице столбца с единицами\n",
    "\n",
    "    def loss_func(self, x, y, w):\n",
    "        return sum((np.dot(x, w) - y) ** 2)/x.shape[1] #функция потерь sum((<w, x> - y)^2) * 1/len(x)\n",
    "    \n",
    "    def gradient(self, X, y, XT, l, w):\n",
    "        return w - self.lr * ( 2 *np.dot(XT, np.dot(X, w) - y) + self.alpha * sum(np.abs(w))) / l #функция для вычисления градиента\n",
    "                                                                                               #w -n(∇Q(w, X) + a * sum(|w|)) = w - 2n/l * (X.T(Xw - y) + a * sum(w^2))\n",
    "\n",
    "    def fit(self, x, y):\n",
    "        loss_abs = np.inf #переменная, отвечающая за прекращение работы алгоритма при минимальном изменении знач. функции потерь \n",
    "        eps = 1e-20\n",
    "        \n",
    "        X = self.transform(x)\n",
    "        w = np.zeros(X.shape[1]) #изначально веса = 0\n",
    "\n",
    "        iter = 0\n",
    "        XT = X.T\n",
    "        l = X.shape[1]\n",
    "        while iter <= self.i:\n",
    "            if (iter % 100 == 0):\n",
    "                loss = self.loss_func(X, y, w)\n",
    "                w = self.gradient(X, y, XT, l, w)\n",
    "                loss_abs = np.abs(loss - self.loss_func(X, y,w))\n",
    "                if(loss_abs <= eps):\n",
    "                    break\n",
    "            else:\n",
    "                w = self.gradient(X, y, XT, l, w)\n",
    "            iter += 1\n",
    "            \n",
    "        self.w = w\n",
    "        \n",
    "        \n",
    "    def coef(self):\n",
    "        return self.w\n",
    "    \n",
    "    \n",
    "    def predict(self, x):\n",
    "        return np.dot(self.transform(x), self.w) #ожидаемые y"
   ]
  },
  {
   "cell_type": "code",
   "execution_count": 60,
   "id": "94c5bd83",
   "metadata": {},
   "outputs": [
    {
     "name": "stdout",
     "output_type": "stream",
     "text": [
      "[ 9.62274759e+02 -8.54688002e+08 -1.03356501e+09 ...  0.00000000e+00\n",
      "  0.00000000e+00 -4.38519146e+06]\n"
     ]
    }
   ],
   "source": [
    "print(pr.coef_)\n",
    "mlrr = MyRidge(iterations = 1000, learning_rate = 7.02*1e-18, alpha = 1)\n",
    "mlrr.fit(X1_train, y1_train)\n"
   ]
  },
  {
   "cell_type": "code",
   "execution_count": 57,
   "id": "8c5898c4",
   "metadata": {},
   "outputs": [
    {
     "name": "stdout",
     "output_type": "stream",
     "text": [
      "[1.50633668e+12 1.50578610e+12 1.50486380e+12 ... 1.50635190e+12\n",
      " 1.50503150e+12 1.50437524e+12]\n",
      "[ 954.35742188  732.35742188 1388.35742188 ...  870.35742188  547.35742188\n",
      "  318.35742188]\n",
      "-3598968.166666122\n",
      "0.12196524674561215\n"
     ]
    }
   ],
   "source": [
    "pred1 = mlrr.predict(X_test_p)\n",
    "print(pred1)\n",
    "pred2 = pr.predict(X_test_p)\n",
    "print(pred2)\n",
    "print(Metrics.r_2_score(pred1, y_test))\n",
    "print(Metrics.r_2_score(pred2, y_test))"
   ]
  },
  {
   "cell_type": "code",
   "execution_count": 61,
   "id": "f986bcc9",
   "metadata": {},
   "outputs": [],
   "source": [
    "class LinerReg:\n",
    "    def __init__(self, lr = 1e-4, iters = 20000):\n",
    "        self.lr = lr\n",
    "        self.iters = iters\n",
    "\n",
    "    def transform_(self, x):\n",
    "        return np.concatenate((np.ones((len(x), 1)), x), axis = 1)\n",
    "    \n",
    "    def loss_func(self, x, y, w):\n",
    "        return np.mean((y - np.dot(x, w)) ** 2)\n",
    "    \n",
    "    def fit(self, x, y):\n",
    "        dist = np.inf\n",
    "        eps = 1e-4\n",
    "        X = self.transform_(x)\n",
    "        \n",
    "        w = np.zeros(X.shape[1])\n",
    "        iter = 0\n",
    "        \n",
    "        while dist > eps and iter <= self.iters:\n",
    "            loss = self.loss_func(X, y, w)\n",
    "            w = w - self.lr * 2 * np.dot(X.T, np.dot(X, w) - y) / X.shape[0]\n",
    "            dist = np.abs(loss - self.loss_func(X, y, w))\n",
    "            iter += 1\n",
    "        print(iter)\n",
    "        self.w = w\n",
    "\n",
    "    def predict(self, x):\n",
    "        return np.dot(self.transform_(x), self.w)"
   ]
  },
  {
   "cell_type": "code",
   "execution_count": 68,
   "id": "63168e97",
   "metadata": {},
   "outputs": [
    {
     "name": "stdout",
     "output_type": "stream",
     "text": [
      "20001\n"
     ]
    }
   ],
   "source": [
    "from sklearn.datasets import make_regression\n",
    "X, y = make_regression(n_samples=230, n_features=1, noise=30, random_state=42)\n",
    "X_train, X_test, y_train, y_test = train_test_split(X, y, test_size=0.3)\n",
    "mlr = LinerReg()\n",
    "mlr.fit(X_train, y_train)"
   ]
  },
  {
   "cell_type": "code",
   "execution_count": 70,
   "id": "5959fc0f",
   "metadata": {},
   "outputs": [
    {
     "name": "stdout",
     "output_type": "stream",
     "text": [
      "[  47.13140226  -86.91333037  -43.95908027   25.14757948   27.9340972\n",
      "   63.46813822    4.60706389   43.13809128  150.05276805  -11.80805981\n",
      "   31.82621891  -22.37874104    4.6760138   -30.34299429   18.2489082\n",
      "   11.0025241   -58.91037751   67.18972922   49.28905834  -64.39842012\n",
      "  -33.09543936   12.83100884   55.5279751     2.31736202  -28.21800902\n",
      " -114.43853927  -37.37942745   10.80152953   -7.0037157    66.43672345\n",
      "   78.51671337  -81.33808939  -21.85189228  -80.56803675   54.31205995\n",
      "   11.06655467   96.76722113   24.95898435  -13.10490939  101.99615308\n",
      "   55.20238424  -24.22429407   53.78822249   65.8566468   -43.2048544\n",
      "   44.67387896  -54.46948121  -49.44806794   17.54021185   36.14426526\n",
      "  -59.44184314   57.16359955   25.20106748    2.36802801   40.39703285\n",
      "   77.09164312  -21.99496036 -111.56797861   98.27459226    2.0529655\n",
      "  -40.99772917  -25.95710242   64.45065352  -99.91229552   29.1867534\n",
      "   20.89894419  -17.43932724   70.62119333   16.33630462]\n",
      "0.5516111674658459\n"
     ]
    }
   ],
   "source": [
    "pred1 = mlr.predict(X_test)\n",
    "print(pred1)\n",
    "\n",
    "print(Metrics.r_2_score(pred1, y_test))\n"
   ]
  },
  {
   "cell_type": "code",
   "execution_count": null,
   "id": "939ca880",
   "metadata": {},
   "outputs": [],
   "source": []
  }
 ],
 "metadata": {
  "kernelspec": {
   "display_name": "Python 3 (ipykernel)",
   "language": "python",
   "name": "python3"
  },
  "language_info": {
   "codemirror_mode": {
    "name": "ipython",
    "version": 3
   },
   "file_extension": ".py",
   "mimetype": "text/x-python",
   "name": "python",
   "nbconvert_exporter": "python",
   "pygments_lexer": "ipython3",
   "version": "3.10.7"
  }
 },
 "nbformat": 4,
 "nbformat_minor": 5
}
