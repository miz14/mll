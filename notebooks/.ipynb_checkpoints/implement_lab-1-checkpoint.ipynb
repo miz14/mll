{
 "cells": [
  {
   "cell_type": "code",
   "execution_count": 472,
   "metadata": {},
   "outputs": [],
   "source": [
    "import pandas as pd\n",
    "from sklearn.model_selection import train_test_split\n",
    "from sklearn.preprocessing import StandardScaler, MinMaxScaler\n",
    "from sklearn.metrics import r2_score"
   ]
  },
  {
   "cell_type": "code",
   "execution_count": 473,
   "metadata": {},
   "outputs": [],
   "source": [
    "import numpy as np\n",
    "class Metrics:\n",
    "    @staticmethod\n",
    "    def  mean_absolute_error(y_test, y_pred):\n",
    "        y_true, predictions = np.array(y_test), np.array(y_pred)\n",
    "        return float(np.mean(np.abs(y_true-predictions)))\n",
    "    @staticmethod\n",
    "    def mean_squared_error(y_test, y_pred):\n",
    "        y_true, predictions = np.array(y_test), np.array(y_pred)\n",
    "        return float(np.mean((y_true-predictions)**2))\n",
    "    @staticmethod\n",
    "    def root_mean_squared_error(y_test, y_pred):\n",
    "        return float(np.sqrt(Metrics.mean_squared_error(y_test, y_pred)))\n",
    "    @staticmethod\n",
    "    def mean_absolute_percentage_error(y_test, y_pred):\n",
    "        y_true, predictions = np.array(y_test), np.array(y_pred)\n",
    "        return float(np.mean(np.abs((y_true-predictions)/y_true)))\n",
    "    @staticmethod\n",
    "    def r_2_score( y_test, y_pred):\n",
    "        y_true, predictions = np.array(y_test), np.array(y_pred)\n",
    "        mean_value = np.mean(y_test)\n",
    "        return float(1 - np.sum((y_true - predictions)**2)/ np.sum((y_true - mean_value)**2))\n",
    "    "
   ]
  },
  {
   "cell_type": "code",
   "execution_count": 474,
   "metadata": {},
   "outputs": [],
   "source": [
    "import numpy as np\n",
    "class MyLinearRegression:\n",
    "    def __init__( self, learning_rate = 0.0001, iterations =1000 ) :\n",
    "        self.learning_rate = learning_rate        \n",
    "        self.iterations = iterations        \n",
    "\n",
    "    def transform_(self, x):\n",
    "        return np.concatenate((np.ones((len(x), 1)), x), axis = 1)\n",
    "\n",
    "    def loss_func(self, x, y, w):\n",
    "        return sum((y - np.dot(x, w)) ** 2  )/x.shape[0]\n",
    "\n",
    "    def fit(self, x, y):\n",
    "        dist = np.inf\n",
    "        eps = 1e-20\n",
    "        X = self.transform_(x)\n",
    "\n",
    "        w = np.zeros(X.shape[1])\n",
    "        iter = 0\n",
    "\n",
    "        while iter <= self.iterations:\n",
    "            loss = self.loss_func(X, y,w)\n",
    "            w = w - self.learning_rate * 2 * np.dot(X.T, np.dot(X, w) - y) /X.shape[0]\n",
    "            dist = np.abs(loss - self.loss_func(X, y,w))\n",
    "            iter += 1\n",
    "            \n",
    "            if(dist <= eps):\n",
    "                break\n",
    "        print(iter)\n",
    "\n",
    "        self.w = w\n",
    "        return self\n",
    "        \n",
    "\n",
    "    def predict(self, x):\n",
    "        return np.dot(self.transform_(x), self.w)"
   ]
  },
  {
   "cell_type": "code",
   "execution_count": 475,
   "metadata": {},
   "outputs": [],
   "source": [
    "data= pd.read_csv(\"../data/trip_duration_task_m.csv\")\n",
    "data.drop([\"Unnamed: 0\"], axis=1, inplace=True)\n"
   ]
  },
  {
   "cell_type": "code",
   "execution_count": 476,
   "metadata": {},
   "outputs": [
    {
     "name": "stdout",
     "output_type": "stream",
     "text": [
      "<class 'pandas.core.frame.DataFrame'>\n",
      "RangeIndex: 199494 entries, 0 to 199493\n",
      "Data columns (total 5 columns):\n",
      " #   Column             Non-Null Count   Dtype  \n",
      "---  ------             --------------   -----  \n",
      " 0   pickup_longitude   199494 non-null  float64\n",
      " 1   pickup_latitude    199494 non-null  float64\n",
      " 2   dropoff_longitude  199494 non-null  float64\n",
      " 3   dropoff_latitude   199494 non-null  float64\n",
      " 4   trip_duration      199494 non-null  int64  \n",
      "dtypes: float64(4), int64(1)\n",
      "memory usage: 7.6 MB\n"
     ]
    }
   ],
   "source": [
    "data.info()"
   ]
  },
  {
   "cell_type": "code",
   "execution_count": 477,
   "metadata": {},
   "outputs": [],
   "source": [
    "y = data['trip_duration']\n",
    "X = data.drop(['trip_duration'], axis=1)"
   ]
  },
  {
   "cell_type": "code",
   "execution_count": 478,
   "metadata": {},
   "outputs": [],
   "source": [
    "X_train, X_test, y_train, y_test = train_test_split(X, y, test_size=0.2)"
   ]
  },
  {
   "cell_type": "code",
   "execution_count": 479,
   "metadata": {},
   "outputs": [
    {
     "data": {
      "text/html": [
       "<div>\n",
       "<style scoped>\n",
       "    .dataframe tbody tr th:only-of-type {\n",
       "        vertical-align: middle;\n",
       "    }\n",
       "\n",
       "    .dataframe tbody tr th {\n",
       "        vertical-align: top;\n",
       "    }\n",
       "\n",
       "    .dataframe thead th {\n",
       "        text-align: right;\n",
       "    }\n",
       "</style>\n",
       "<table border=\"1\" class=\"dataframe\">\n",
       "  <thead>\n",
       "    <tr style=\"text-align: right;\">\n",
       "      <th></th>\n",
       "      <th>pickup_longitude</th>\n",
       "      <th>pickup_latitude</th>\n",
       "      <th>dropoff_longitude</th>\n",
       "      <th>dropoff_latitude</th>\n",
       "    </tr>\n",
       "  </thead>\n",
       "  <tbody>\n",
       "    <tr>\n",
       "      <th>count</th>\n",
       "      <td>1.595950e+05</td>\n",
       "      <td>1.595950e+05</td>\n",
       "      <td>1.595950e+05</td>\n",
       "      <td>1.595950e+05</td>\n",
       "    </tr>\n",
       "    <tr>\n",
       "      <th>mean</th>\n",
       "      <td>5.485419e-14</td>\n",
       "      <td>-9.784435e-14</td>\n",
       "      <td>9.291421e-14</td>\n",
       "      <td>-5.875157e-14</td>\n",
       "    </tr>\n",
       "    <tr>\n",
       "      <th>std</th>\n",
       "      <td>1.000003e+00</td>\n",
       "      <td>1.000003e+00</td>\n",
       "      <td>1.000003e+00</td>\n",
       "      <td>1.000003e+00</td>\n",
       "    </tr>\n",
       "    <tr>\n",
       "      <th>min</th>\n",
       "      <td>-1.106038e+01</td>\n",
       "      <td>-1.196884e+01</td>\n",
       "      <td>-1.837213e+01</td>\n",
       "      <td>-1.410062e+01</td>\n",
       "    </tr>\n",
       "    <tr>\n",
       "      <th>25%</th>\n",
       "      <td>-4.796059e-01</td>\n",
       "      <td>-4.797874e-01</td>\n",
       "      <td>-4.881299e-01</td>\n",
       "      <td>-4.898499e-01</td>\n",
       "    </tr>\n",
       "    <tr>\n",
       "      <th>50%</th>\n",
       "      <td>-2.182762e-01</td>\n",
       "      <td>1.122560e-01</td>\n",
       "      <td>-1.741530e-01</td>\n",
       "      <td>8.246589e-02</td>\n",
       "    </tr>\n",
       "    <tr>\n",
       "      <th>75%</th>\n",
       "      <td>1.557606e-01</td>\n",
       "      <td>6.152800e-01</td>\n",
       "      <td>2.780986e-01</td>\n",
       "      <td>5.507349e-01</td>\n",
       "    </tr>\n",
       "    <tr>\n",
       "      <th>max</th>\n",
       "      <td>1.447750e+01</td>\n",
       "      <td>2.009006e+01</td>\n",
       "      <td>3.439554e+01</td>\n",
       "      <td>1.740549e+01</td>\n",
       "    </tr>\n",
       "  </tbody>\n",
       "</table>\n",
       "</div>"
      ],
      "text/plain": [
       "       pickup_longitude  pickup_latitude  dropoff_longitude  dropoff_latitude\n",
       "count      1.595950e+05     1.595950e+05       1.595950e+05      1.595950e+05\n",
       "mean       5.485419e-14    -9.784435e-14       9.291421e-14     -5.875157e-14\n",
       "std        1.000003e+00     1.000003e+00       1.000003e+00      1.000003e+00\n",
       "min       -1.106038e+01    -1.196884e+01      -1.837213e+01     -1.410062e+01\n",
       "25%       -4.796059e-01    -4.797874e-01      -4.881299e-01     -4.898499e-01\n",
       "50%       -2.182762e-01     1.122560e-01      -1.741530e-01      8.246589e-02\n",
       "75%        1.557606e-01     6.152800e-01       2.780986e-01      5.507349e-01\n",
       "max        1.447750e+01     2.009006e+01       3.439554e+01      1.740549e+01"
      ]
     },
     "execution_count": 479,
     "metadata": {},
     "output_type": "execute_result"
    }
   ],
   "source": [
    "standardScaler = StandardScaler()\n",
    "standardScaler.fit(X_train)\n",
    "X_train_std = pd.DataFrame(standardScaler.transform(X_train), columns=X.columns)\n",
    "X_test_std = pd.DataFrame(standardScaler.transform(X_test), columns=X.columns)\n",
    "X_train_std.describe()"
   ]
  },
  {
   "cell_type": "code",
   "execution_count": 480,
   "metadata": {},
   "outputs": [
    {
     "data": {
      "text/html": [
       "<div>\n",
       "<style scoped>\n",
       "    .dataframe tbody tr th:only-of-type {\n",
       "        vertical-align: middle;\n",
       "    }\n",
       "\n",
       "    .dataframe tbody tr th {\n",
       "        vertical-align: top;\n",
       "    }\n",
       "\n",
       "    .dataframe thead th {\n",
       "        text-align: right;\n",
       "    }\n",
       "</style>\n",
       "<table border=\"1\" class=\"dataframe\">\n",
       "  <thead>\n",
       "    <tr style=\"text-align: right;\">\n",
       "      <th></th>\n",
       "      <th>pickup_longitude</th>\n",
       "      <th>pickup_latitude</th>\n",
       "      <th>dropoff_longitude</th>\n",
       "      <th>dropoff_latitude</th>\n",
       "    </tr>\n",
       "  </thead>\n",
       "  <tbody>\n",
       "    <tr>\n",
       "      <th>count</th>\n",
       "      <td>159595.000000</td>\n",
       "      <td>159595.000000</td>\n",
       "      <td>159595.000000</td>\n",
       "      <td>159595.000000</td>\n",
       "    </tr>\n",
       "    <tr>\n",
       "      <th>mean</th>\n",
       "      <td>0.433097</td>\n",
       "      <td>0.373339</td>\n",
       "      <td>0.348170</td>\n",
       "      <td>0.447552</td>\n",
       "    </tr>\n",
       "    <tr>\n",
       "      <th>std</th>\n",
       "      <td>0.039158</td>\n",
       "      <td>0.031193</td>\n",
       "      <td>0.018951</td>\n",
       "      <td>0.031740</td>\n",
       "    </tr>\n",
       "    <tr>\n",
       "      <th>min</th>\n",
       "      <td>0.000000</td>\n",
       "      <td>0.000000</td>\n",
       "      <td>0.000000</td>\n",
       "      <td>0.000000</td>\n",
       "    </tr>\n",
       "    <tr>\n",
       "      <th>25%</th>\n",
       "      <td>0.414317</td>\n",
       "      <td>0.358373</td>\n",
       "      <td>0.338920</td>\n",
       "      <td>0.432004</td>\n",
       "    </tr>\n",
       "    <tr>\n",
       "      <th>50%</th>\n",
       "      <td>0.424550</td>\n",
       "      <td>0.376841</td>\n",
       "      <td>0.344870</td>\n",
       "      <td>0.450169</td>\n",
       "    </tr>\n",
       "    <tr>\n",
       "      <th>75%</th>\n",
       "      <td>0.439196</td>\n",
       "      <td>0.392531</td>\n",
       "      <td>0.353440</td>\n",
       "      <td>0.465032</td>\n",
       "    </tr>\n",
       "    <tr>\n",
       "      <th>max</th>\n",
       "      <td>1.000000</td>\n",
       "      <td>1.000000</td>\n",
       "      <td>1.000000</td>\n",
       "      <td>1.000000</td>\n",
       "    </tr>\n",
       "  </tbody>\n",
       "</table>\n",
       "</div>"
      ],
      "text/plain": [
       "       pickup_longitude  pickup_latitude  dropoff_longitude  dropoff_latitude\n",
       "count     159595.000000    159595.000000      159595.000000     159595.000000\n",
       "mean           0.433097         0.373339           0.348170          0.447552\n",
       "std            0.039158         0.031193           0.018951          0.031740\n",
       "min            0.000000         0.000000           0.000000          0.000000\n",
       "25%            0.414317         0.358373           0.338920          0.432004\n",
       "50%            0.424550         0.376841           0.344870          0.450169\n",
       "75%            0.439196         0.392531           0.353440          0.465032\n",
       "max            1.000000         1.000000           1.000000          1.000000"
      ]
     },
     "execution_count": 480,
     "metadata": {},
     "output_type": "execute_result"
    }
   ],
   "source": [
    "minMaxScaler = MinMaxScaler()\n",
    "minMaxScaler.fit(X_train)\n",
    "X_train_mms = pd.DataFrame(minMaxScaler.transform(X_train), columns=X.columns)\n",
    "X_test_mms = pd.DataFrame(minMaxScaler.transform(X_test), columns=X.columns)\n",
    "X_train_mms.describe()"
   ]
  },
  {
   "cell_type": "code",
   "execution_count": 481,
   "metadata": {},
   "outputs": [],
   "source": [
    "np.set_printoptions(suppress=True)"
   ]
  },
  {
   "cell_type": "code",
   "execution_count": 482,
   "metadata": {},
   "outputs": [
    {
     "name": "stdout",
     "output_type": "stream",
     "text": [
      "1001\n",
      "MAE: 807.8950778774531\n",
      "MSE: 11990532.5824192\n",
      "RMSE: 3462.7348414828416\n",
      "MAPE: 0.8204543318050092\n",
      "R^2: -0.0525336\n"
     ]
    }
   ],
   "source": [
    "myLinearRegression = MyLinearRegression()\n",
    "model = myLinearRegression.fit(X_train_std, y_train)\n",
    "y_pred_pf = myLinearRegression.predict(X_test_std)\n",
    "print(f'MAE: {Metrics.mean_absolute_error(y_test, y_pred_pf)}')\n",
    "print(f'MSE: {Metrics.mean_squared_error(y_test, y_pred_pf)}')\n",
    "print(f'RMSE: {Metrics.root_mean_squared_error(y_test, y_pred_pf)}')\n",
    "print(f'MAPE: {Metrics.mean_absolute_percentage_error(y_test, y_pred_pf)}')\n",
    "print(f'R^2: {Metrics.r_2_score(y_test, y_pred_pf):.7f}')"
   ]
  },
  {
   "cell_type": "code",
   "execution_count": 483,
   "metadata": {},
   "outputs": [
    {
     "name": "stdout",
     "output_type": "stream",
     "text": [
      "1001\n",
      "MAE: 727.2149397905063\n",
      "MSE: 11891540.299831105\n",
      "RMSE: 3448.4112718513006\n",
      "MAPE: 0.7007849214077622\n",
      "R^2: -0.0438440\n"
     ]
    }
   ],
   "source": [
    "myLinearRegression = MyLinearRegression()\n",
    "model = myLinearRegression.fit(X_train_mms, y_train)\n",
    "y_pred_pf = myLinearRegression.predict(X_test_mms)\n",
    "print(f'MAE: {Metrics.mean_absolute_error(y_test, y_pred_pf)}')\n",
    "print(f'MSE: {Metrics.mean_squared_error(y_test, y_pred_pf)}')\n",
    "print(f'RMSE: {Metrics.root_mean_squared_error(y_test, y_pred_pf)}')\n",
    "print(f'MAPE: {Metrics.mean_absolute_percentage_error(y_test, y_pred_pf)}')\n",
    "print(f'R^2: {Metrics.r_2_score(y_test, y_pred_pf):.7f}')"
   ]
  },
  {
   "cell_type": "code",
   "execution_count": 486,
   "metadata": {},
   "outputs": [],
   "source": [
    "import numpy as np\n",
    "class MyRidge:\n",
    "    def __init__( self, learning_rate, iterations, alpha ) :\n",
    "        self.learning_rate = learning_rate        \n",
    "        self.iterations = iterations        \n",
    "        self.alpha = alpha\n",
    "\n",
    "    def transform_(self, x):\n",
    "        return np.concatenate((np.ones((len(x), 1)), x), axis = 1)\n",
    "\n",
    "    def loss_func(self, x, y, w):\n",
    "        return sum(y - np.dot(x, w)) ** 2  + self.alpha * (np.matmul(w, w))/X.shape[0]\n",
    "\n",
    "    def fit(self, x, y):\n",
    "        dist = np.inf\n",
    "        eps = 1e-20\n",
    "        X = self.transform_(x)\n",
    "\n",
    "        w = np.zeros(X.shape[1])\n",
    "        iter = 0\n",
    "\n",
    "        while iter <= self.iterations:\n",
    "            loss = self.loss_func(X, y, w)\n",
    "            w = w - ((self.learning_rate * 2 * np.dot(X.T, np.dot(X, w) - y)) + ( 2 * self.alpha * w ))/X.shape[0]\n",
    "            dist = np.abs(loss - self.loss_func(X, y, w))\n",
    "            iter += 1\n",
    "            \n",
    "            if(dist <= eps):\n",
    "                break\n",
    "        print(iter)\n",
    "        self.w = w\n",
    "        return self\n",
    "        \n",
    "\n",
    "    def predict(self, x):\n",
    "        return np.dot(self.transform_(x), self.w)"
   ]
  },
  {
   "cell_type": "code",
   "execution_count": 487,
   "metadata": {},
   "outputs": [
    {
     "name": "stdout",
     "output_type": "stream",
     "text": [
      "1001\n",
      "MAE: 584.3242359126286\n",
      "MSE: 11323170.7975201\n",
      "RMSE: 3364.9919461300497\n",
      "MAPE: 1.5874738268237476\n",
      "R^2: 0.0060477\n"
     ]
    }
   ],
   "source": [
    "ridge = MyRidge(0.01, 1000, 1)\n",
    "model = ridge.fit(X_train_std, y_train)\n",
    "y_pred = ridge.predict(X_test_std)\n",
    "print(f'MAE: {Metrics.mean_absolute_error(y_test, y_pred)}')\n",
    "print(f'MSE: {Metrics.mean_squared_error(y_test, y_pred)}')\n",
    "print(f'RMSE: {Metrics.root_mean_squared_error(y_test, y_pred)}')\n",
    "print(f'MAPE: {Metrics.mean_absolute_percentage_error(y_test, y_pred)}')\n",
    "print(f'R^2: {Metrics.r_2_score(y_test, y_pred):.7f}')"
   ]
  },
  {
   "cell_type": "code",
   "execution_count": 488,
   "metadata": {},
   "outputs": [
    {
     "name": "stdout",
     "output_type": "stream",
     "text": [
      "1001\n",
      "MAE: 633.6350109343017\n",
      "MSE: 11385787.184564859\n",
      "RMSE: 3374.283210485578\n",
      "MAPE: 1.5329645008093007\n",
      "R^2: 0.0005512\n"
     ]
    }
   ],
   "source": [
    "ridge = MyRidge(0.01, 1000, 0.5)\n",
    "model = ridge.fit(X_train_mms, y_train)\n",
    "y_pred = ridge.predict(X_test_mms)\n",
    "print(f'MAE: {Metrics.mean_absolute_error(y_test, y_pred)}')\n",
    "print(f'MSE: {Metrics.mean_squared_error(y_test, y_pred)}')\n",
    "print(f'RMSE: {Metrics.root_mean_squared_error(y_test, y_pred)}')\n",
    "print(f'MAPE: {Metrics.mean_absolute_percentage_error(y_test, y_pred)}')\n",
    "print(f'R^2: {Metrics.r_2_score(y_test, y_pred):.7f}')"
   ]
  }
 ],
 "metadata": {
  "kernelspec": {
   "display_name": "Python 3 (ipykernel)",
   "language": "python",
   "name": "python3"
  },
  "language_info": {
   "codemirror_mode": {
    "name": "ipython",
    "version": 3
   },
   "file_extension": ".py",
   "mimetype": "text/x-python",
   "name": "python",
   "nbconvert_exporter": "python",
   "pygments_lexer": "ipython3",
   "version": "3.10.7"
  },
  "vscode": {
   "interpreter": {
    "hash": "cc7558d8b538955255440c691f4d27b22048480a322d80a916b86607cd7dd3e4"
   }
  }
 },
 "nbformat": 4,
 "nbformat_minor": 2
}
