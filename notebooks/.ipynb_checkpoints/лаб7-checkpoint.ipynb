{
 "cells": [
  {
   "cell_type": "markdown",
   "metadata": {},
   "source": [
    "### Load data"
   ]
  },
  {
   "cell_type": "code",
   "execution_count": 1,
   "metadata": {},
   "outputs": [],
   "source": [
    "from sklearn.tree import DecisionTreeRegressor\n",
    "from sklearn.tree import DecisionTreeClassifier\n",
    "from sklearn.model_selection import train_test_split\n",
    "from sklearn.metrics import classification_report\n",
    "from sklearn.metrics import mean_squared_error\n",
    "from sklearn.metrics import mean_absolute_error\n",
    "from sklearn.metrics import r2_score\n",
    "import pandas as pd\n",
    "import numpy as np\n",
    "import matplotlib.pyplot as plt"
   ]
  },
  {
   "cell_type": "code",
   "execution_count": 3,
   "metadata": {},
   "outputs": [],
   "source": [
    "def test_classification(X, y):\n",
    "    X_train, X_test, y_train, y_test = train_test_split(X, y, test_size=0.2, shuffle=False)\n",
    "    tree = DecisionTreeClassifier().fit(X_train, y_train)\n",
    "    print(classification_report(y_test, tree.predict(X_test)))"
   ]
  },
  {
   "cell_type": "code",
   "execution_count": 2,
   "metadata": {},
   "outputs": [],
   "source": [
    "def test_regression(X, y):\n",
    "    X_train, X_test, y_train, y_test = train_test_split(X, y, test_size=0.2, shuffle=False)\n",
    "    tree = DecisionTreeRegressor().fit(X_train, y_train)\n",
    "    print(\"mse =\", mean_squared_error(y_test, tree.predict(X_test)))\n",
    "    print(\"mae =\", mean_absolute_error(y_test, tree.predict(X_test)))\n",
    "    print(\"r2 =\", r2_score(y_test, tree.predict(X_test)))"
   ]
  },
  {
   "cell_type": "markdown",
   "metadata": {},
   "source": [
    "### Clasification"
   ]
  },
  {
   "cell_type": "code",
   "execution_count": 4,
   "metadata": {},
   "outputs": [
    {
     "data": {
      "text/html": [
       "<div>\n",
       "<style scoped>\n",
       "    .dataframe tbody tr th:only-of-type {\n",
       "        vertical-align: middle;\n",
       "    }\n",
       "\n",
       "    .dataframe tbody tr th {\n",
       "        vertical-align: top;\n",
       "    }\n",
       "\n",
       "    .dataframe thead th {\n",
       "        text-align: right;\n",
       "    }\n",
       "</style>\n",
       "<table border=\"1\" class=\"dataframe\">\n",
       "  <thead>\n",
       "    <tr style=\"text-align: right;\">\n",
       "      <th></th>\n",
       "      <th>time_left</th>\n",
       "      <th>ct_score</th>\n",
       "      <th>t_score</th>\n",
       "      <th>bomb_planted</th>\n",
       "      <th>ct_health</th>\n",
       "      <th>t_health</th>\n",
       "      <th>ct_money</th>\n",
       "      <th>t_money</th>\n",
       "      <th>ct_players_alive</th>\n",
       "      <th>t_players_alive</th>\n",
       "      <th>map_de_cache</th>\n",
       "      <th>map_de_dust2</th>\n",
       "      <th>map_de_inferno</th>\n",
       "      <th>map_de_mirage</th>\n",
       "      <th>map_de_nuke</th>\n",
       "      <th>map_de_overpass</th>\n",
       "      <th>map_de_train</th>\n",
       "      <th>map_de_vertigo</th>\n",
       "    </tr>\n",
       "  </thead>\n",
       "  <tbody>\n",
       "    <tr>\n",
       "      <th>0</th>\n",
       "      <td>175.00</td>\n",
       "      <td>0.0</td>\n",
       "      <td>0.0</td>\n",
       "      <td>0</td>\n",
       "      <td>500.0</td>\n",
       "      <td>500.0</td>\n",
       "      <td>4000.0</td>\n",
       "      <td>4000.0</td>\n",
       "      <td>5.0</td>\n",
       "      <td>5.0</td>\n",
       "      <td>0</td>\n",
       "      <td>1</td>\n",
       "      <td>0</td>\n",
       "      <td>0</td>\n",
       "      <td>0</td>\n",
       "      <td>0</td>\n",
       "      <td>0</td>\n",
       "      <td>0</td>\n",
       "    </tr>\n",
       "    <tr>\n",
       "      <th>1</th>\n",
       "      <td>156.03</td>\n",
       "      <td>0.0</td>\n",
       "      <td>0.0</td>\n",
       "      <td>0</td>\n",
       "      <td>500.0</td>\n",
       "      <td>500.0</td>\n",
       "      <td>600.0</td>\n",
       "      <td>650.0</td>\n",
       "      <td>5.0</td>\n",
       "      <td>5.0</td>\n",
       "      <td>0</td>\n",
       "      <td>1</td>\n",
       "      <td>0</td>\n",
       "      <td>0</td>\n",
       "      <td>0</td>\n",
       "      <td>0</td>\n",
       "      <td>0</td>\n",
       "      <td>0</td>\n",
       "    </tr>\n",
       "    <tr>\n",
       "      <th>2</th>\n",
       "      <td>96.03</td>\n",
       "      <td>0.0</td>\n",
       "      <td>0.0</td>\n",
       "      <td>0</td>\n",
       "      <td>391.0</td>\n",
       "      <td>400.0</td>\n",
       "      <td>750.0</td>\n",
       "      <td>500.0</td>\n",
       "      <td>4.0</td>\n",
       "      <td>4.0</td>\n",
       "      <td>0</td>\n",
       "      <td>1</td>\n",
       "      <td>0</td>\n",
       "      <td>0</td>\n",
       "      <td>0</td>\n",
       "      <td>0</td>\n",
       "      <td>0</td>\n",
       "      <td>0</td>\n",
       "    </tr>\n",
       "    <tr>\n",
       "      <th>3</th>\n",
       "      <td>76.03</td>\n",
       "      <td>0.0</td>\n",
       "      <td>0.0</td>\n",
       "      <td>0</td>\n",
       "      <td>391.0</td>\n",
       "      <td>400.0</td>\n",
       "      <td>750.0</td>\n",
       "      <td>500.0</td>\n",
       "      <td>4.0</td>\n",
       "      <td>4.0</td>\n",
       "      <td>0</td>\n",
       "      <td>1</td>\n",
       "      <td>0</td>\n",
       "      <td>0</td>\n",
       "      <td>0</td>\n",
       "      <td>0</td>\n",
       "      <td>0</td>\n",
       "      <td>0</td>\n",
       "    </tr>\n",
       "    <tr>\n",
       "      <th>4</th>\n",
       "      <td>174.97</td>\n",
       "      <td>1.0</td>\n",
       "      <td>0.0</td>\n",
       "      <td>0</td>\n",
       "      <td>500.0</td>\n",
       "      <td>500.0</td>\n",
       "      <td>18350.0</td>\n",
       "      <td>10750.0</td>\n",
       "      <td>5.0</td>\n",
       "      <td>5.0</td>\n",
       "      <td>0</td>\n",
       "      <td>1</td>\n",
       "      <td>0</td>\n",
       "      <td>0</td>\n",
       "      <td>0</td>\n",
       "      <td>0</td>\n",
       "      <td>0</td>\n",
       "      <td>0</td>\n",
       "    </tr>\n",
       "  </tbody>\n",
       "</table>\n",
       "</div>"
      ],
      "text/plain": [
       "   time_left  ct_score  t_score  bomb_planted  ct_health  t_health  ct_money   \n",
       "0     175.00       0.0      0.0             0      500.0     500.0    4000.0  \\\n",
       "1     156.03       0.0      0.0             0      500.0     500.0     600.0   \n",
       "2      96.03       0.0      0.0             0      391.0     400.0     750.0   \n",
       "3      76.03       0.0      0.0             0      391.0     400.0     750.0   \n",
       "4     174.97       1.0      0.0             0      500.0     500.0   18350.0   \n",
       "\n",
       "   t_money  ct_players_alive  t_players_alive  map_de_cache  map_de_dust2   \n",
       "0   4000.0               5.0              5.0             0             1  \\\n",
       "1    650.0               5.0              5.0             0             1   \n",
       "2    500.0               4.0              4.0             0             1   \n",
       "3    500.0               4.0              4.0             0             1   \n",
       "4  10750.0               5.0              5.0             0             1   \n",
       "\n",
       "   map_de_inferno  map_de_mirage  map_de_nuke  map_de_overpass  map_de_train   \n",
       "0               0              0            0                0             0  \\\n",
       "1               0              0            0                0             0   \n",
       "2               0              0            0                0             0   \n",
       "3               0              0            0                0             0   \n",
       "4               0              0            0                0             0   \n",
       "\n",
       "   map_de_vertigo  \n",
       "0               0  \n",
       "1               0  \n",
       "2               0  \n",
       "3               0  \n",
       "4               0  "
      ]
     },
     "execution_count": 4,
     "metadata": {},
     "output_type": "execute_result"
    }
   ],
   "source": [
    "from imblearn.under_sampling import RandomUnderSampler\n",
    "data_class = pd.read_csv('../data/classification/csgo_task_update.csv', index_col=0)\n",
    "data_class.head()"
   ]
  },
  {
   "cell_type": "code",
   "execution_count": 5,
   "metadata": {},
   "outputs": [
    {
     "data": {
      "text/plain": [
       "18"
      ]
     },
     "execution_count": 5,
     "metadata": {},
     "output_type": "execute_result"
    }
   ],
   "source": [
    "data_class.shape[1]"
   ]
  },
  {
   "cell_type": "code",
   "execution_count": 6,
   "metadata": {},
   "outputs": [],
   "source": [
    "X_class = data_class.drop(['bomb_planted'], axis=1)\n",
    "y_class = data_class['bomb_planted']"
   ]
  },
  {
   "cell_type": "code",
   "execution_count": 7,
   "metadata": {},
   "outputs": [
    {
     "name": "stdout",
     "output_type": "stream",
     "text": [
      "              precision    recall  f1-score   support\n",
      "\n",
      "           0       0.98      0.99      0.98     20576\n",
      "           1       0.90      0.87      0.88      2782\n",
      "\n",
      "    accuracy                           0.97     23358\n",
      "   macro avg       0.94      0.93      0.93     23358\n",
      "weighted avg       0.97      0.97      0.97     23358\n",
      "\n"
     ]
    }
   ],
   "source": [
    "test_classification(X_class, y_class)"
   ]
  },
  {
   "cell_type": "markdown",
   "metadata": {},
   "source": [
    "### Regression"
   ]
  },
  {
   "cell_type": "code",
   "execution_count": 8,
   "metadata": {},
   "outputs": [
    {
     "data": {
      "text/html": [
       "<div>\n",
       "<style scoped>\n",
       "    .dataframe tbody tr th:only-of-type {\n",
       "        vertical-align: middle;\n",
       "    }\n",
       "\n",
       "    .dataframe tbody tr th {\n",
       "        vertical-align: top;\n",
       "    }\n",
       "\n",
       "    .dataframe thead th {\n",
       "        text-align: right;\n",
       "    }\n",
       "</style>\n",
       "<table border=\"1\" class=\"dataframe\">\n",
       "  <thead>\n",
       "    <tr style=\"text-align: right;\">\n",
       "      <th></th>\n",
       "      <th>vendor_id</th>\n",
       "      <th>pickup_datetime_0</th>\n",
       "      <th>pickup_datetime_1</th>\n",
       "      <th>pickup_datetime_2</th>\n",
       "      <th>pickup_datetime_3</th>\n",
       "      <th>pickup_datetime_4</th>\n",
       "      <th>pickup_datetime_5</th>\n",
       "      <th>pickup_datetime_6</th>\n",
       "      <th>pickup_datetime_7</th>\n",
       "      <th>pickup_datetime_8</th>\n",
       "      <th>...</th>\n",
       "      <th>dropoff_datetime_16</th>\n",
       "      <th>dropoff_datetime_17</th>\n",
       "      <th>dropoff_datetime_18</th>\n",
       "      <th>dropoff_datetime_19</th>\n",
       "      <th>passenger_count</th>\n",
       "      <th>pickup_longitude</th>\n",
       "      <th>pickup_latitude</th>\n",
       "      <th>dropoff_longitude</th>\n",
       "      <th>dropoff_latitude</th>\n",
       "      <th>trip_duration</th>\n",
       "    </tr>\n",
       "    <tr>\n",
       "      <th>id</th>\n",
       "      <th></th>\n",
       "      <th></th>\n",
       "      <th></th>\n",
       "      <th></th>\n",
       "      <th></th>\n",
       "      <th></th>\n",
       "      <th></th>\n",
       "      <th></th>\n",
       "      <th></th>\n",
       "      <th></th>\n",
       "      <th></th>\n",
       "      <th></th>\n",
       "      <th></th>\n",
       "      <th></th>\n",
       "      <th></th>\n",
       "      <th></th>\n",
       "      <th></th>\n",
       "      <th></th>\n",
       "      <th></th>\n",
       "      <th></th>\n",
       "      <th></th>\n",
       "    </tr>\n",
       "  </thead>\n",
       "  <tbody>\n",
       "    <tr>\n",
       "      <th>id1080784</th>\n",
       "      <td>2.0</td>\n",
       "      <td>0</td>\n",
       "      <td>0</td>\n",
       "      <td>0</td>\n",
       "      <td>0</td>\n",
       "      <td>0</td>\n",
       "      <td>0</td>\n",
       "      <td>0</td>\n",
       "      <td>0</td>\n",
       "      <td>0</td>\n",
       "      <td>...</td>\n",
       "      <td>0</td>\n",
       "      <td>0</td>\n",
       "      <td>0</td>\n",
       "      <td>1</td>\n",
       "      <td>1</td>\n",
       "      <td>-73.953918</td>\n",
       "      <td>40.778873</td>\n",
       "      <td>-73.963875</td>\n",
       "      <td>40.771164</td>\n",
       "      <td>400</td>\n",
       "    </tr>\n",
       "    <tr>\n",
       "      <th>id0889885</th>\n",
       "      <td>1.0</td>\n",
       "      <td>0</td>\n",
       "      <td>0</td>\n",
       "      <td>0</td>\n",
       "      <td>0</td>\n",
       "      <td>0</td>\n",
       "      <td>0</td>\n",
       "      <td>0</td>\n",
       "      <td>0</td>\n",
       "      <td>0</td>\n",
       "      <td>...</td>\n",
       "      <td>0</td>\n",
       "      <td>0</td>\n",
       "      <td>1</td>\n",
       "      <td>0</td>\n",
       "      <td>2</td>\n",
       "      <td>-73.988312</td>\n",
       "      <td>40.731743</td>\n",
       "      <td>-73.994751</td>\n",
       "      <td>40.694931</td>\n",
       "      <td>1100</td>\n",
       "    </tr>\n",
       "    <tr>\n",
       "      <th>id0857912</th>\n",
       "      <td>2.0</td>\n",
       "      <td>0</td>\n",
       "      <td>0</td>\n",
       "      <td>0</td>\n",
       "      <td>0</td>\n",
       "      <td>0</td>\n",
       "      <td>0</td>\n",
       "      <td>0</td>\n",
       "      <td>0</td>\n",
       "      <td>0</td>\n",
       "      <td>...</td>\n",
       "      <td>0</td>\n",
       "      <td>0</td>\n",
       "      <td>1</td>\n",
       "      <td>1</td>\n",
       "      <td>2</td>\n",
       "      <td>-73.997314</td>\n",
       "      <td>40.721458</td>\n",
       "      <td>-73.948029</td>\n",
       "      <td>40.774918</td>\n",
       "      <td>1635</td>\n",
       "    </tr>\n",
       "    <tr>\n",
       "      <th>id3744273</th>\n",
       "      <td>2.0</td>\n",
       "      <td>0</td>\n",
       "      <td>0</td>\n",
       "      <td>0</td>\n",
       "      <td>0</td>\n",
       "      <td>0</td>\n",
       "      <td>0</td>\n",
       "      <td>0</td>\n",
       "      <td>0</td>\n",
       "      <td>0</td>\n",
       "      <td>...</td>\n",
       "      <td>0</td>\n",
       "      <td>1</td>\n",
       "      <td>0</td>\n",
       "      <td>0</td>\n",
       "      <td>6</td>\n",
       "      <td>-73.961670</td>\n",
       "      <td>40.759720</td>\n",
       "      <td>-73.956779</td>\n",
       "      <td>40.780628</td>\n",
       "      <td>1141</td>\n",
       "    </tr>\n",
       "    <tr>\n",
       "      <th>id0232939</th>\n",
       "      <td>1.0</td>\n",
       "      <td>0</td>\n",
       "      <td>0</td>\n",
       "      <td>0</td>\n",
       "      <td>0</td>\n",
       "      <td>0</td>\n",
       "      <td>0</td>\n",
       "      <td>0</td>\n",
       "      <td>0</td>\n",
       "      <td>0</td>\n",
       "      <td>...</td>\n",
       "      <td>0</td>\n",
       "      <td>1</td>\n",
       "      <td>0</td>\n",
       "      <td>1</td>\n",
       "      <td>1</td>\n",
       "      <td>-74.017120</td>\n",
       "      <td>40.708469</td>\n",
       "      <td>-73.988182</td>\n",
       "      <td>40.740631</td>\n",
       "      <td>848</td>\n",
       "    </tr>\n",
       "    <tr>\n",
       "      <th>...</th>\n",
       "      <td>...</td>\n",
       "      <td>...</td>\n",
       "      <td>...</td>\n",
       "      <td>...</td>\n",
       "      <td>...</td>\n",
       "      <td>...</td>\n",
       "      <td>...</td>\n",
       "      <td>...</td>\n",
       "      <td>...</td>\n",
       "      <td>...</td>\n",
       "      <td>...</td>\n",
       "      <td>...</td>\n",
       "      <td>...</td>\n",
       "      <td>...</td>\n",
       "      <td>...</td>\n",
       "      <td>...</td>\n",
       "      <td>...</td>\n",
       "      <td>...</td>\n",
       "      <td>...</td>\n",
       "      <td>...</td>\n",
       "      <td>...</td>\n",
       "    </tr>\n",
       "    <tr>\n",
       "      <th>id3905982</th>\n",
       "      <td>2.0</td>\n",
       "      <td>1</td>\n",
       "      <td>0</td>\n",
       "      <td>1</td>\n",
       "      <td>0</td>\n",
       "      <td>1</td>\n",
       "      <td>1</td>\n",
       "      <td>0</td>\n",
       "      <td>1</td>\n",
       "      <td>0</td>\n",
       "      <td>...</td>\n",
       "      <td>1</td>\n",
       "      <td>0</td>\n",
       "      <td>0</td>\n",
       "      <td>1</td>\n",
       "      <td>2</td>\n",
       "      <td>-73.965919</td>\n",
       "      <td>40.789780</td>\n",
       "      <td>-73.952637</td>\n",
       "      <td>40.789181</td>\n",
       "      <td>296</td>\n",
       "    </tr>\n",
       "    <tr>\n",
       "      <th>id0102861</th>\n",
       "      <td>1.0</td>\n",
       "      <td>1</td>\n",
       "      <td>0</td>\n",
       "      <td>1</td>\n",
       "      <td>0</td>\n",
       "      <td>1</td>\n",
       "      <td>1</td>\n",
       "      <td>0</td>\n",
       "      <td>1</td>\n",
       "      <td>0</td>\n",
       "      <td>...</td>\n",
       "      <td>0</td>\n",
       "      <td>1</td>\n",
       "      <td>0</td>\n",
       "      <td>0</td>\n",
       "      <td>1</td>\n",
       "      <td>-73.996666</td>\n",
       "      <td>40.737434</td>\n",
       "      <td>-74.001320</td>\n",
       "      <td>40.731911</td>\n",
       "      <td>315</td>\n",
       "    </tr>\n",
       "    <tr>\n",
       "      <th>id0439699</th>\n",
       "      <td>1.0</td>\n",
       "      <td>1</td>\n",
       "      <td>0</td>\n",
       "      <td>1</td>\n",
       "      <td>0</td>\n",
       "      <td>1</td>\n",
       "      <td>1</td>\n",
       "      <td>0</td>\n",
       "      <td>1</td>\n",
       "      <td>0</td>\n",
       "      <td>...</td>\n",
       "      <td>1</td>\n",
       "      <td>0</td>\n",
       "      <td>1</td>\n",
       "      <td>0</td>\n",
       "      <td>1</td>\n",
       "      <td>-73.997849</td>\n",
       "      <td>40.761696</td>\n",
       "      <td>-74.001488</td>\n",
       "      <td>40.741207</td>\n",
       "      <td>673</td>\n",
       "    </tr>\n",
       "    <tr>\n",
       "      <th>id2078912</th>\n",
       "      <td>1.0</td>\n",
       "      <td>1</td>\n",
       "      <td>0</td>\n",
       "      <td>1</td>\n",
       "      <td>0</td>\n",
       "      <td>1</td>\n",
       "      <td>1</td>\n",
       "      <td>0</td>\n",
       "      <td>1</td>\n",
       "      <td>0</td>\n",
       "      <td>...</td>\n",
       "      <td>1</td>\n",
       "      <td>0</td>\n",
       "      <td>1</td>\n",
       "      <td>1</td>\n",
       "      <td>1</td>\n",
       "      <td>-74.006706</td>\n",
       "      <td>40.708244</td>\n",
       "      <td>-74.013550</td>\n",
       "      <td>40.713814</td>\n",
       "      <td>447</td>\n",
       "    </tr>\n",
       "    <tr>\n",
       "      <th>id1053441</th>\n",
       "      <td>2.0</td>\n",
       "      <td>1</td>\n",
       "      <td>0</td>\n",
       "      <td>1</td>\n",
       "      <td>0</td>\n",
       "      <td>1</td>\n",
       "      <td>1</td>\n",
       "      <td>0</td>\n",
       "      <td>1</td>\n",
       "      <td>0</td>\n",
       "      <td>...</td>\n",
       "      <td>1</td>\n",
       "      <td>1</td>\n",
       "      <td>0</td>\n",
       "      <td>0</td>\n",
       "      <td>4</td>\n",
       "      <td>-74.003342</td>\n",
       "      <td>40.743839</td>\n",
       "      <td>-73.945847</td>\n",
       "      <td>40.712841</td>\n",
       "      <td>1224</td>\n",
       "    </tr>\n",
       "  </tbody>\n",
       "</table>\n",
       "<p>729322 rows × 47 columns</p>\n",
       "</div>"
      ],
      "text/plain": [
       "           vendor_id  pickup_datetime_0  pickup_datetime_1  pickup_datetime_2   \n",
       "id                                                                              \n",
       "id1080784        2.0                  0                  0                  0  \\\n",
       "id0889885        1.0                  0                  0                  0   \n",
       "id0857912        2.0                  0                  0                  0   \n",
       "id3744273        2.0                  0                  0                  0   \n",
       "id0232939        1.0                  0                  0                  0   \n",
       "...              ...                ...                ...                ...   \n",
       "id3905982        2.0                  1                  0                  1   \n",
       "id0102861        1.0                  1                  0                  1   \n",
       "id0439699        1.0                  1                  0                  1   \n",
       "id2078912        1.0                  1                  0                  1   \n",
       "id1053441        2.0                  1                  0                  1   \n",
       "\n",
       "           pickup_datetime_3  pickup_datetime_4  pickup_datetime_5   \n",
       "id                                                                   \n",
       "id1080784                  0                  0                  0  \\\n",
       "id0889885                  0                  0                  0   \n",
       "id0857912                  0                  0                  0   \n",
       "id3744273                  0                  0                  0   \n",
       "id0232939                  0                  0                  0   \n",
       "...                      ...                ...                ...   \n",
       "id3905982                  0                  1                  1   \n",
       "id0102861                  0                  1                  1   \n",
       "id0439699                  0                  1                  1   \n",
       "id2078912                  0                  1                  1   \n",
       "id1053441                  0                  1                  1   \n",
       "\n",
       "           pickup_datetime_6  pickup_datetime_7  pickup_datetime_8  ...   \n",
       "id                                                                  ...   \n",
       "id1080784                  0                  0                  0  ...  \\\n",
       "id0889885                  0                  0                  0  ...   \n",
       "id0857912                  0                  0                  0  ...   \n",
       "id3744273                  0                  0                  0  ...   \n",
       "id0232939                  0                  0                  0  ...   \n",
       "...                      ...                ...                ...  ...   \n",
       "id3905982                  0                  1                  0  ...   \n",
       "id0102861                  0                  1                  0  ...   \n",
       "id0439699                  0                  1                  0  ...   \n",
       "id2078912                  0                  1                  0  ...   \n",
       "id1053441                  0                  1                  0  ...   \n",
       "\n",
       "           dropoff_datetime_16  dropoff_datetime_17  dropoff_datetime_18   \n",
       "id                                                                         \n",
       "id1080784                    0                    0                    0  \\\n",
       "id0889885                    0                    0                    1   \n",
       "id0857912                    0                    0                    1   \n",
       "id3744273                    0                    1                    0   \n",
       "id0232939                    0                    1                    0   \n",
       "...                        ...                  ...                  ...   \n",
       "id3905982                    1                    0                    0   \n",
       "id0102861                    0                    1                    0   \n",
       "id0439699                    1                    0                    1   \n",
       "id2078912                    1                    0                    1   \n",
       "id1053441                    1                    1                    0   \n",
       "\n",
       "           dropoff_datetime_19  passenger_count  pickup_longitude   \n",
       "id                                                                  \n",
       "id1080784                    1                1        -73.953918  \\\n",
       "id0889885                    0                2        -73.988312   \n",
       "id0857912                    1                2        -73.997314   \n",
       "id3744273                    0                6        -73.961670   \n",
       "id0232939                    1                1        -74.017120   \n",
       "...                        ...              ...               ...   \n",
       "id3905982                    1                2        -73.965919   \n",
       "id0102861                    0                1        -73.996666   \n",
       "id0439699                    0                1        -73.997849   \n",
       "id2078912                    1                1        -74.006706   \n",
       "id1053441                    0                4        -74.003342   \n",
       "\n",
       "           pickup_latitude  dropoff_longitude  dropoff_latitude  trip_duration  \n",
       "id                                                                              \n",
       "id1080784        40.778873         -73.963875         40.771164            400  \n",
       "id0889885        40.731743         -73.994751         40.694931           1100  \n",
       "id0857912        40.721458         -73.948029         40.774918           1635  \n",
       "id3744273        40.759720         -73.956779         40.780628           1141  \n",
       "id0232939        40.708469         -73.988182         40.740631            848  \n",
       "...                    ...                ...               ...            ...  \n",
       "id3905982        40.789780         -73.952637         40.789181            296  \n",
       "id0102861        40.737434         -74.001320         40.731911            315  \n",
       "id0439699        40.761696         -74.001488         40.741207            673  \n",
       "id2078912        40.708244         -74.013550         40.713814            447  \n",
       "id1053441        40.743839         -73.945847         40.712841           1224  \n",
       "\n",
       "[729322 rows x 47 columns]"
      ]
     },
     "metadata": {},
     "output_type": "display_data"
    }
   ],
   "source": [
    "import category_encoders as ce\n",
    "data_regress = pd.read_csv('../data/regression/trip_duration_task.csv', index_col=0)\n",
    "\n",
    "for column in list(data_regress):\n",
    "  if data_regress[column].dtype == 'float64':\n",
    "    valuesNotNAN = data_regress[column].dropna()\n",
    "    data_regress[column] = data_regress[column].fillna(round(sum(valuesNotNAN)/len(valuesNotNAN)))\n",
    "\n",
    "bn = ce.BinaryEncoder()\n",
    "data_regress = bn.fit_transform(data_regress)\n",
    "\n",
    "data_regress.to_csv(\"../data/regression/trip_duration_update2.csv\")\n",
    "display(data_regress)"
   ]
  },
  {
   "cell_type": "code",
   "execution_count": 9,
   "metadata": {},
   "outputs": [
    {
     "data": {
      "text/plain": [
       "47"
      ]
     },
     "execution_count": 9,
     "metadata": {},
     "output_type": "execute_result"
    }
   ],
   "source": [
    "data_regress.shape[1]"
   ]
  },
  {
   "cell_type": "code",
   "execution_count": 10,
   "metadata": {},
   "outputs": [],
   "source": [
    "X_regress = data_regress.drop(['trip_duration'], axis=1)\n",
    "y_regress = data_regress['trip_duration']"
   ]
  },
  {
   "cell_type": "code",
   "execution_count": 45,
   "metadata": {},
   "outputs": [
    {
     "name": "stdout",
     "output_type": "stream",
     "text": [
      "mse = 25176301.021458197\n",
      "mae = 655.4952250368491\n",
      "r2 = -1.4743850452613172\n"
     ]
    }
   ],
   "source": [
    "test_regression(X_regress, y_regress)"
   ]
  },
  {
   "cell_type": "markdown",
   "metadata": {},
   "source": [
    "### 1. Feature selection"
   ]
  },
  {
   "cell_type": "markdown",
   "metadata": {},
   "source": [
    "### 1.1 VarianceThreshold"
   ]
  },
  {
   "cell_type": "markdown",
   "metadata": {},
   "source": [
    "### Classification"
   ]
  },
  {
   "cell_type": "code",
   "execution_count": 17,
   "metadata": {},
   "outputs": [],
   "source": [
    "from sklearn.feature_selection import VarianceThreshold"
   ]
  },
  {
   "cell_type": "code",
   "execution_count": 18,
   "metadata": {},
   "outputs": [
    {
     "data": {
      "text/html": [
       "<div>\n",
       "<style scoped>\n",
       "    .dataframe tbody tr th:only-of-type {\n",
       "        vertical-align: middle;\n",
       "    }\n",
       "\n",
       "    .dataframe tbody tr th {\n",
       "        vertical-align: top;\n",
       "    }\n",
       "\n",
       "    .dataframe thead th {\n",
       "        text-align: right;\n",
       "    }\n",
       "</style>\n",
       "<table border=\"1\" class=\"dataframe\">\n",
       "  <thead>\n",
       "    <tr style=\"text-align: right;\">\n",
       "      <th></th>\n",
       "      <th>time_left</th>\n",
       "      <th>ct_score</th>\n",
       "      <th>t_score</th>\n",
       "      <th>ct_health</th>\n",
       "      <th>t_health</th>\n",
       "      <th>ct_money</th>\n",
       "      <th>t_money</th>\n",
       "      <th>ct_players_alive</th>\n",
       "      <th>t_players_alive</th>\n",
       "      <th>map_de_cache</th>\n",
       "      <th>map_de_dust2</th>\n",
       "      <th>map_de_inferno</th>\n",
       "      <th>map_de_mirage</th>\n",
       "      <th>map_de_nuke</th>\n",
       "      <th>map_de_overpass</th>\n",
       "      <th>map_de_train</th>\n",
       "      <th>map_de_vertigo</th>\n",
       "    </tr>\n",
       "  </thead>\n",
       "  <tbody>\n",
       "    <tr>\n",
       "      <th>count</th>\n",
       "      <td>116789.000000</td>\n",
       "      <td>116789.000000</td>\n",
       "      <td>116789.000000</td>\n",
       "      <td>116789.000000</td>\n",
       "      <td>116789.000000</td>\n",
       "      <td>116789.000000</td>\n",
       "      <td>116789.000000</td>\n",
       "      <td>116789.000000</td>\n",
       "      <td>116789.000000</td>\n",
       "      <td>116789.000000</td>\n",
       "      <td>116789.000000</td>\n",
       "      <td>116789.00000</td>\n",
       "      <td>116789.000000</td>\n",
       "      <td>116789.000000</td>\n",
       "      <td>116789.000000</td>\n",
       "      <td>116789.000000</td>\n",
       "      <td>116789.000000</td>\n",
       "    </tr>\n",
       "    <tr>\n",
       "      <th>mean</th>\n",
       "      <td>94.214549</td>\n",
       "      <td>6.775570</td>\n",
       "      <td>6.838127</td>\n",
       "      <td>408.014154</td>\n",
       "      <td>398.066958</td>\n",
       "      <td>10011.058404</td>\n",
       "      <td>11511.858565</td>\n",
       "      <td>4.240177</td>\n",
       "      <td>4.230741</td>\n",
       "      <td>0.001233</td>\n",
       "      <td>0.180385</td>\n",
       "      <td>0.19727</td>\n",
       "      <td>0.151239</td>\n",
       "      <td>0.153396</td>\n",
       "      <td>0.114668</td>\n",
       "      <td>0.109813</td>\n",
       "      <td>0.091995</td>\n",
       "    </tr>\n",
       "    <tr>\n",
       "      <th>std</th>\n",
       "      <td>53.048789</td>\n",
       "      <td>4.803405</td>\n",
       "      <td>4.812977</td>\n",
       "      <td>134.035719</td>\n",
       "      <td>141.114284</td>\n",
       "      <td>11270.280297</td>\n",
       "      <td>12213.134892</td>\n",
       "      <td>1.223629</td>\n",
       "      <td>1.245803</td>\n",
       "      <td>0.035092</td>\n",
       "      <td>0.384510</td>\n",
       "      <td>0.39794</td>\n",
       "      <td>0.358283</td>\n",
       "      <td>0.360371</td>\n",
       "      <td>0.318623</td>\n",
       "      <td>0.312658</td>\n",
       "      <td>0.289020</td>\n",
       "    </tr>\n",
       "    <tr>\n",
       "      <th>min</th>\n",
       "      <td>0.010000</td>\n",
       "      <td>0.000000</td>\n",
       "      <td>0.000000</td>\n",
       "      <td>0.000000</td>\n",
       "      <td>0.000000</td>\n",
       "      <td>0.000000</td>\n",
       "      <td>0.000000</td>\n",
       "      <td>0.000000</td>\n",
       "      <td>0.000000</td>\n",
       "      <td>0.000000</td>\n",
       "      <td>0.000000</td>\n",
       "      <td>0.00000</td>\n",
       "      <td>0.000000</td>\n",
       "      <td>0.000000</td>\n",
       "      <td>0.000000</td>\n",
       "      <td>0.000000</td>\n",
       "      <td>0.000000</td>\n",
       "    </tr>\n",
       "    <tr>\n",
       "      <th>25%</th>\n",
       "      <td>54.900000</td>\n",
       "      <td>3.000000</td>\n",
       "      <td>3.000000</td>\n",
       "      <td>333.000000</td>\n",
       "      <td>309.000000</td>\n",
       "      <td>1300.000000</td>\n",
       "      <td>1650.000000</td>\n",
       "      <td>4.000000</td>\n",
       "      <td>4.000000</td>\n",
       "      <td>0.000000</td>\n",
       "      <td>0.000000</td>\n",
       "      <td>0.00000</td>\n",
       "      <td>0.000000</td>\n",
       "      <td>0.000000</td>\n",
       "      <td>0.000000</td>\n",
       "      <td>0.000000</td>\n",
       "      <td>0.000000</td>\n",
       "    </tr>\n",
       "    <tr>\n",
       "      <th>50%</th>\n",
       "      <td>94.880000</td>\n",
       "      <td>6.000000</td>\n",
       "      <td>6.000000</td>\n",
       "      <td>500.000000</td>\n",
       "      <td>498.000000</td>\n",
       "      <td>6000.000000</td>\n",
       "      <td>7750.000000</td>\n",
       "      <td>5.000000</td>\n",
       "      <td>5.000000</td>\n",
       "      <td>0.000000</td>\n",
       "      <td>0.000000</td>\n",
       "      <td>0.00000</td>\n",
       "      <td>0.000000</td>\n",
       "      <td>0.000000</td>\n",
       "      <td>0.000000</td>\n",
       "      <td>0.000000</td>\n",
       "      <td>0.000000</td>\n",
       "    </tr>\n",
       "    <tr>\n",
       "      <th>75%</th>\n",
       "      <td>114.960000</td>\n",
       "      <td>10.000000</td>\n",
       "      <td>10.000000</td>\n",
       "      <td>500.000000</td>\n",
       "      <td>500.000000</td>\n",
       "      <td>15050.000000</td>\n",
       "      <td>18350.000000</td>\n",
       "      <td>5.000000</td>\n",
       "      <td>5.000000</td>\n",
       "      <td>0.000000</td>\n",
       "      <td>0.000000</td>\n",
       "      <td>0.00000</td>\n",
       "      <td>0.000000</td>\n",
       "      <td>0.000000</td>\n",
       "      <td>0.000000</td>\n",
       "      <td>0.000000</td>\n",
       "      <td>0.000000</td>\n",
       "    </tr>\n",
       "    <tr>\n",
       "      <th>max</th>\n",
       "      <td>175.000000</td>\n",
       "      <td>32.000000</td>\n",
       "      <td>33.000000</td>\n",
       "      <td>500.000000</td>\n",
       "      <td>600.000000</td>\n",
       "      <td>80000.000000</td>\n",
       "      <td>80000.000000</td>\n",
       "      <td>5.000000</td>\n",
       "      <td>6.000000</td>\n",
       "      <td>1.000000</td>\n",
       "      <td>1.000000</td>\n",
       "      <td>1.00000</td>\n",
       "      <td>1.000000</td>\n",
       "      <td>1.000000</td>\n",
       "      <td>1.000000</td>\n",
       "      <td>1.000000</td>\n",
       "      <td>1.000000</td>\n",
       "    </tr>\n",
       "  </tbody>\n",
       "</table>\n",
       "</div>"
      ],
      "text/plain": [
       "           time_left       ct_score        t_score      ct_health   \n",
       "count  116789.000000  116789.000000  116789.000000  116789.000000  \\\n",
       "mean       94.214549       6.775570       6.838127     408.014154   \n",
       "std        53.048789       4.803405       4.812977     134.035719   \n",
       "min         0.010000       0.000000       0.000000       0.000000   \n",
       "25%        54.900000       3.000000       3.000000     333.000000   \n",
       "50%        94.880000       6.000000       6.000000     500.000000   \n",
       "75%       114.960000      10.000000      10.000000     500.000000   \n",
       "max       175.000000      32.000000      33.000000     500.000000   \n",
       "\n",
       "            t_health       ct_money        t_money  ct_players_alive   \n",
       "count  116789.000000  116789.000000  116789.000000     116789.000000  \\\n",
       "mean      398.066958   10011.058404   11511.858565          4.240177   \n",
       "std       141.114284   11270.280297   12213.134892          1.223629   \n",
       "min         0.000000       0.000000       0.000000          0.000000   \n",
       "25%       309.000000    1300.000000    1650.000000          4.000000   \n",
       "50%       498.000000    6000.000000    7750.000000          5.000000   \n",
       "75%       500.000000   15050.000000   18350.000000          5.000000   \n",
       "max       600.000000   80000.000000   80000.000000          5.000000   \n",
       "\n",
       "       t_players_alive   map_de_cache   map_de_dust2  map_de_inferno   \n",
       "count    116789.000000  116789.000000  116789.000000    116789.00000  \\\n",
       "mean          4.230741       0.001233       0.180385         0.19727   \n",
       "std           1.245803       0.035092       0.384510         0.39794   \n",
       "min           0.000000       0.000000       0.000000         0.00000   \n",
       "25%           4.000000       0.000000       0.000000         0.00000   \n",
       "50%           5.000000       0.000000       0.000000         0.00000   \n",
       "75%           5.000000       0.000000       0.000000         0.00000   \n",
       "max           6.000000       1.000000       1.000000         1.00000   \n",
       "\n",
       "       map_de_mirage    map_de_nuke  map_de_overpass   map_de_train   \n",
       "count  116789.000000  116789.000000    116789.000000  116789.000000  \\\n",
       "mean        0.151239       0.153396         0.114668       0.109813   \n",
       "std         0.358283       0.360371         0.318623       0.312658   \n",
       "min         0.000000       0.000000         0.000000       0.000000   \n",
       "25%         0.000000       0.000000         0.000000       0.000000   \n",
       "50%         0.000000       0.000000         0.000000       0.000000   \n",
       "75%         0.000000       0.000000         0.000000       0.000000   \n",
       "max         1.000000       1.000000         1.000000       1.000000   \n",
       "\n",
       "       map_de_vertigo  \n",
       "count   116789.000000  \n",
       "mean         0.091995  \n",
       "std          0.289020  \n",
       "min          0.000000  \n",
       "25%          0.000000  \n",
       "50%          0.000000  \n",
       "75%          0.000000  \n",
       "max          1.000000  "
      ]
     },
     "execution_count": 18,
     "metadata": {},
     "output_type": "execute_result"
    }
   ],
   "source": [
    "X_class.describe()"
   ]
  },
  {
   "cell_type": "code",
   "execution_count": 19,
   "metadata": {},
   "outputs": [
    {
     "name": "stdout",
     "output_type": "stream",
     "text": [
      "(116789, 7)\n",
      "              precision    recall  f1-score   support\n",
      "\n",
      "           0       0.98      0.99      0.98     20576\n",
      "           1       0.89      0.87      0.88      2782\n",
      "\n",
      "    accuracy                           0.97     23358\n",
      "   macro avg       0.94      0.93      0.93     23358\n",
      "weighted avg       0.97      0.97      0.97     23358\n",
      "\n"
     ]
    }
   ],
   "source": [
    "vt = VarianceThreshold(2)\n",
    "X_class_vt = vt.fit_transform(X_class)\n",
    "print(X_class_vt.shape)\n",
    "test_classification(X_class_vt, y_class)"
   ]
  },
  {
   "cell_type": "markdown",
   "metadata": {},
   "source": [
    "### Regression"
   ]
  },
  {
   "cell_type": "code",
   "execution_count": 20,
   "metadata": {},
   "outputs": [
    {
     "data": {
      "text/html": [
       "<div>\n",
       "<style scoped>\n",
       "    .dataframe tbody tr th:only-of-type {\n",
       "        vertical-align: middle;\n",
       "    }\n",
       "\n",
       "    .dataframe tbody tr th {\n",
       "        vertical-align: top;\n",
       "    }\n",
       "\n",
       "    .dataframe thead th {\n",
       "        text-align: right;\n",
       "    }\n",
       "</style>\n",
       "<table border=\"1\" class=\"dataframe\">\n",
       "  <thead>\n",
       "    <tr style=\"text-align: right;\">\n",
       "      <th></th>\n",
       "      <th>vendor_id</th>\n",
       "      <th>pickup_datetime_0</th>\n",
       "      <th>pickup_datetime_1</th>\n",
       "      <th>pickup_datetime_2</th>\n",
       "      <th>pickup_datetime_3</th>\n",
       "      <th>pickup_datetime_4</th>\n",
       "      <th>pickup_datetime_5</th>\n",
       "      <th>pickup_datetime_6</th>\n",
       "      <th>pickup_datetime_7</th>\n",
       "      <th>pickup_datetime_8</th>\n",
       "      <th>...</th>\n",
       "      <th>dropoff_datetime_15</th>\n",
       "      <th>dropoff_datetime_16</th>\n",
       "      <th>dropoff_datetime_17</th>\n",
       "      <th>dropoff_datetime_18</th>\n",
       "      <th>dropoff_datetime_19</th>\n",
       "      <th>passenger_count</th>\n",
       "      <th>pickup_longitude</th>\n",
       "      <th>pickup_latitude</th>\n",
       "      <th>dropoff_longitude</th>\n",
       "      <th>dropoff_latitude</th>\n",
       "    </tr>\n",
       "  </thead>\n",
       "  <tbody>\n",
       "    <tr>\n",
       "      <th>count</th>\n",
       "      <td>729322.000000</td>\n",
       "      <td>729322.000000</td>\n",
       "      <td>729322.000000</td>\n",
       "      <td>729322.000000</td>\n",
       "      <td>729322.000000</td>\n",
       "      <td>729322.000000</td>\n",
       "      <td>729322.000000</td>\n",
       "      <td>729322.000000</td>\n",
       "      <td>729322.000000</td>\n",
       "      <td>729322.000000</td>\n",
       "      <td>...</td>\n",
       "      <td>729322.000000</td>\n",
       "      <td>729322.000000</td>\n",
       "      <td>729322.000000</td>\n",
       "      <td>729322.000000</td>\n",
       "      <td>729322.000000</td>\n",
       "      <td>729322.000000</td>\n",
       "      <td>729322.000000</td>\n",
       "      <td>729322.000000</td>\n",
       "      <td>729322.000000</td>\n",
       "      <td>729322.000000</td>\n",
       "    </tr>\n",
       "    <tr>\n",
       "      <th>mean</th>\n",
       "      <td>1.536770</td>\n",
       "      <td>0.255617</td>\n",
       "      <td>0.368492</td>\n",
       "      <td>0.444643</td>\n",
       "      <td>0.461673</td>\n",
       "      <td>0.491576</td>\n",
       "      <td>0.491725</td>\n",
       "      <td>0.496613</td>\n",
       "      <td>0.497568</td>\n",
       "      <td>0.499475</td>\n",
       "      <td>...</td>\n",
       "      <td>0.500015</td>\n",
       "      <td>0.499808</td>\n",
       "      <td>0.500004</td>\n",
       "      <td>0.499957</td>\n",
       "      <td>0.500145</td>\n",
       "      <td>1.662055</td>\n",
       "      <td>-73.973513</td>\n",
       "      <td>40.751548</td>\n",
       "      <td>-73.973422</td>\n",
       "      <td>40.751775</td>\n",
       "    </tr>\n",
       "    <tr>\n",
       "      <th>std</th>\n",
       "      <td>0.498646</td>\n",
       "      <td>0.436208</td>\n",
       "      <td>0.482396</td>\n",
       "      <td>0.496927</td>\n",
       "      <td>0.498529</td>\n",
       "      <td>0.499929</td>\n",
       "      <td>0.499932</td>\n",
       "      <td>0.499989</td>\n",
       "      <td>0.499994</td>\n",
       "      <td>0.500000</td>\n",
       "      <td>...</td>\n",
       "      <td>0.500000</td>\n",
       "      <td>0.500000</td>\n",
       "      <td>0.500000</td>\n",
       "      <td>0.500000</td>\n",
       "      <td>0.500000</td>\n",
       "      <td>1.312446</td>\n",
       "      <td>0.069754</td>\n",
       "      <td>0.035824</td>\n",
       "      <td>0.069588</td>\n",
       "      <td>0.036037</td>\n",
       "    </tr>\n",
       "    <tr>\n",
       "      <th>min</th>\n",
       "      <td>1.000000</td>\n",
       "      <td>0.000000</td>\n",
       "      <td>0.000000</td>\n",
       "      <td>0.000000</td>\n",
       "      <td>0.000000</td>\n",
       "      <td>0.000000</td>\n",
       "      <td>0.000000</td>\n",
       "      <td>0.000000</td>\n",
       "      <td>0.000000</td>\n",
       "      <td>0.000000</td>\n",
       "      <td>...</td>\n",
       "      <td>0.000000</td>\n",
       "      <td>0.000000</td>\n",
       "      <td>0.000000</td>\n",
       "      <td>0.000000</td>\n",
       "      <td>0.000000</td>\n",
       "      <td>0.000000</td>\n",
       "      <td>-121.933342</td>\n",
       "      <td>34.712234</td>\n",
       "      <td>-121.933304</td>\n",
       "      <td>32.181141</td>\n",
       "    </tr>\n",
       "    <tr>\n",
       "      <th>25%</th>\n",
       "      <td>1.000000</td>\n",
       "      <td>0.000000</td>\n",
       "      <td>0.000000</td>\n",
       "      <td>0.000000</td>\n",
       "      <td>0.000000</td>\n",
       "      <td>0.000000</td>\n",
       "      <td>0.000000</td>\n",
       "      <td>0.000000</td>\n",
       "      <td>0.000000</td>\n",
       "      <td>0.000000</td>\n",
       "      <td>...</td>\n",
       "      <td>0.000000</td>\n",
       "      <td>0.000000</td>\n",
       "      <td>0.000000</td>\n",
       "      <td>0.000000</td>\n",
       "      <td>0.000000</td>\n",
       "      <td>1.000000</td>\n",
       "      <td>-73.991859</td>\n",
       "      <td>40.737400</td>\n",
       "      <td>-73.991318</td>\n",
       "      <td>40.735931</td>\n",
       "    </tr>\n",
       "    <tr>\n",
       "      <th>50%</th>\n",
       "      <td>2.000000</td>\n",
       "      <td>0.000000</td>\n",
       "      <td>0.000000</td>\n",
       "      <td>0.000000</td>\n",
       "      <td>0.000000</td>\n",
       "      <td>0.000000</td>\n",
       "      <td>0.000000</td>\n",
       "      <td>0.000000</td>\n",
       "      <td>0.000000</td>\n",
       "      <td>0.000000</td>\n",
       "      <td>...</td>\n",
       "      <td>1.000000</td>\n",
       "      <td>0.000000</td>\n",
       "      <td>1.000000</td>\n",
       "      <td>0.000000</td>\n",
       "      <td>1.000000</td>\n",
       "      <td>1.000000</td>\n",
       "      <td>-73.981758</td>\n",
       "      <td>40.754173</td>\n",
       "      <td>-73.979759</td>\n",
       "      <td>40.754509</td>\n",
       "    </tr>\n",
       "    <tr>\n",
       "      <th>75%</th>\n",
       "      <td>2.000000</td>\n",
       "      <td>1.000000</td>\n",
       "      <td>1.000000</td>\n",
       "      <td>1.000000</td>\n",
       "      <td>1.000000</td>\n",
       "      <td>1.000000</td>\n",
       "      <td>1.000000</td>\n",
       "      <td>1.000000</td>\n",
       "      <td>1.000000</td>\n",
       "      <td>1.000000</td>\n",
       "      <td>...</td>\n",
       "      <td>1.000000</td>\n",
       "      <td>1.000000</td>\n",
       "      <td>1.000000</td>\n",
       "      <td>1.000000</td>\n",
       "      <td>1.000000</td>\n",
       "      <td>2.000000</td>\n",
       "      <td>-73.967361</td>\n",
       "      <td>40.768433</td>\n",
       "      <td>-73.963036</td>\n",
       "      <td>40.769741</td>\n",
       "    </tr>\n",
       "    <tr>\n",
       "      <th>max</th>\n",
       "      <td>2.000000</td>\n",
       "      <td>1.000000</td>\n",
       "      <td>1.000000</td>\n",
       "      <td>1.000000</td>\n",
       "      <td>1.000000</td>\n",
       "      <td>1.000000</td>\n",
       "      <td>1.000000</td>\n",
       "      <td>1.000000</td>\n",
       "      <td>1.000000</td>\n",
       "      <td>1.000000</td>\n",
       "      <td>...</td>\n",
       "      <td>1.000000</td>\n",
       "      <td>1.000000</td>\n",
       "      <td>1.000000</td>\n",
       "      <td>1.000000</td>\n",
       "      <td>1.000000</td>\n",
       "      <td>9.000000</td>\n",
       "      <td>-65.897385</td>\n",
       "      <td>51.881084</td>\n",
       "      <td>-65.897385</td>\n",
       "      <td>43.921028</td>\n",
       "    </tr>\n",
       "  </tbody>\n",
       "</table>\n",
       "<p>8 rows × 46 columns</p>\n",
       "</div>"
      ],
      "text/plain": [
       "           vendor_id  pickup_datetime_0  pickup_datetime_1  pickup_datetime_2   \n",
       "count  729322.000000      729322.000000      729322.000000      729322.000000  \\\n",
       "mean        1.536770           0.255617           0.368492           0.444643   \n",
       "std         0.498646           0.436208           0.482396           0.496927   \n",
       "min         1.000000           0.000000           0.000000           0.000000   \n",
       "25%         1.000000           0.000000           0.000000           0.000000   \n",
       "50%         2.000000           0.000000           0.000000           0.000000   \n",
       "75%         2.000000           1.000000           1.000000           1.000000   \n",
       "max         2.000000           1.000000           1.000000           1.000000   \n",
       "\n",
       "       pickup_datetime_3  pickup_datetime_4  pickup_datetime_5   \n",
       "count      729322.000000      729322.000000      729322.000000  \\\n",
       "mean            0.461673           0.491576           0.491725   \n",
       "std             0.498529           0.499929           0.499932   \n",
       "min             0.000000           0.000000           0.000000   \n",
       "25%             0.000000           0.000000           0.000000   \n",
       "50%             0.000000           0.000000           0.000000   \n",
       "75%             1.000000           1.000000           1.000000   \n",
       "max             1.000000           1.000000           1.000000   \n",
       "\n",
       "       pickup_datetime_6  pickup_datetime_7  pickup_datetime_8  ...   \n",
       "count      729322.000000      729322.000000      729322.000000  ...  \\\n",
       "mean            0.496613           0.497568           0.499475  ...   \n",
       "std             0.499989           0.499994           0.500000  ...   \n",
       "min             0.000000           0.000000           0.000000  ...   \n",
       "25%             0.000000           0.000000           0.000000  ...   \n",
       "50%             0.000000           0.000000           0.000000  ...   \n",
       "75%             1.000000           1.000000           1.000000  ...   \n",
       "max             1.000000           1.000000           1.000000  ...   \n",
       "\n",
       "       dropoff_datetime_15  dropoff_datetime_16  dropoff_datetime_17   \n",
       "count        729322.000000        729322.000000        729322.000000  \\\n",
       "mean              0.500015             0.499808             0.500004   \n",
       "std               0.500000             0.500000             0.500000   \n",
       "min               0.000000             0.000000             0.000000   \n",
       "25%               0.000000             0.000000             0.000000   \n",
       "50%               1.000000             0.000000             1.000000   \n",
       "75%               1.000000             1.000000             1.000000   \n",
       "max               1.000000             1.000000             1.000000   \n",
       "\n",
       "       dropoff_datetime_18  dropoff_datetime_19  passenger_count   \n",
       "count        729322.000000        729322.000000    729322.000000  \\\n",
       "mean              0.499957             0.500145         1.662055   \n",
       "std               0.500000             0.500000         1.312446   \n",
       "min               0.000000             0.000000         0.000000   \n",
       "25%               0.000000             0.000000         1.000000   \n",
       "50%               0.000000             1.000000         1.000000   \n",
       "75%               1.000000             1.000000         2.000000   \n",
       "max               1.000000             1.000000         9.000000   \n",
       "\n",
       "       pickup_longitude  pickup_latitude  dropoff_longitude  dropoff_latitude  \n",
       "count     729322.000000    729322.000000      729322.000000     729322.000000  \n",
       "mean         -73.973513        40.751548         -73.973422         40.751775  \n",
       "std            0.069754         0.035824           0.069588          0.036037  \n",
       "min         -121.933342        34.712234        -121.933304         32.181141  \n",
       "25%          -73.991859        40.737400         -73.991318         40.735931  \n",
       "50%          -73.981758        40.754173         -73.979759         40.754509  \n",
       "75%          -73.967361        40.768433         -73.963036         40.769741  \n",
       "max          -65.897385        51.881084         -65.897385         43.921028  \n",
       "\n",
       "[8 rows x 46 columns]"
      ]
     },
     "execution_count": 20,
     "metadata": {},
     "output_type": "execute_result"
    }
   ],
   "source": [
    "X_regress.describe()"
   ]
  },
  {
   "cell_type": "code",
   "execution_count": 21,
   "metadata": {},
   "outputs": [
    {
     "name": "stdout",
     "output_type": "stream",
     "text": [
      "(729322, 1)\n",
      "mse = 10171792.325209366\n",
      "mae = 621.6039632050263\n",
      "r2 = 0.00029274389633415776\n"
     ]
    }
   ],
   "source": [
    "vt = VarianceThreshold(0.3)\n",
    "X_regress_vt = vt.fit_transform(X_regress)\n",
    "print(X_regress_vt.shape)\n",
    "test_regression(X_regress_vt, y_regress)"
   ]
  },
  {
   "cell_type": "markdown",
   "metadata": {},
   "source": [
    "### 1.2 SelectKBest"
   ]
  },
  {
   "cell_type": "markdown",
   "metadata": {},
   "source": [
    "### Classification"
   ]
  },
  {
   "cell_type": "code",
   "execution_count": 22,
   "metadata": {},
   "outputs": [],
   "source": [
    "from sklearn.feature_selection import SelectKBest"
   ]
  },
  {
   "cell_type": "code",
   "execution_count": 23,
   "metadata": {},
   "outputs": [
    {
     "name": "stdout",
     "output_type": "stream",
     "text": [
      "              precision    recall  f1-score   support\n",
      "\n",
      "           0       0.98      0.99      0.99     20576\n",
      "           1       0.90      0.88      0.89      2782\n",
      "\n",
      "    accuracy                           0.97     23358\n",
      "   macro avg       0.94      0.93      0.94     23358\n",
      "weighted avg       0.97      0.97      0.97     23358\n",
      "\n"
     ]
    }
   ],
   "source": [
    "skb = SelectKBest(k=6)\n",
    "X_class_skb = skb.fit_transform(X_class, y_class)\n",
    "test_classification(X_class_skb, y_class)"
   ]
  },
  {
   "cell_type": "code",
   "execution_count": 24,
   "metadata": {},
   "outputs": [
    {
     "data": {
      "text/html": [
       "<div>\n",
       "<style scoped>\n",
       "    .dataframe tbody tr th:only-of-type {\n",
       "        vertical-align: middle;\n",
       "    }\n",
       "\n",
       "    .dataframe tbody tr th {\n",
       "        vertical-align: top;\n",
       "    }\n",
       "\n",
       "    .dataframe thead th {\n",
       "        text-align: right;\n",
       "    }\n",
       "</style>\n",
       "<table border=\"1\" class=\"dataframe\">\n",
       "  <thead>\n",
       "    <tr style=\"text-align: right;\">\n",
       "      <th></th>\n",
       "      <th>time_left</th>\n",
       "      <th>ct_health</th>\n",
       "      <th>t_health</th>\n",
       "      <th>ct_money</th>\n",
       "      <th>ct_players_alive</th>\n",
       "      <th>t_players_alive</th>\n",
       "    </tr>\n",
       "  </thead>\n",
       "  <tbody>\n",
       "    <tr>\n",
       "      <th>0</th>\n",
       "      <td>175.00</td>\n",
       "      <td>500.0</td>\n",
       "      <td>500.0</td>\n",
       "      <td>4000.0</td>\n",
       "      <td>5.0</td>\n",
       "      <td>5.0</td>\n",
       "    </tr>\n",
       "    <tr>\n",
       "      <th>1</th>\n",
       "      <td>156.03</td>\n",
       "      <td>500.0</td>\n",
       "      <td>500.0</td>\n",
       "      <td>600.0</td>\n",
       "      <td>5.0</td>\n",
       "      <td>5.0</td>\n",
       "    </tr>\n",
       "    <tr>\n",
       "      <th>2</th>\n",
       "      <td>96.03</td>\n",
       "      <td>391.0</td>\n",
       "      <td>400.0</td>\n",
       "      <td>750.0</td>\n",
       "      <td>4.0</td>\n",
       "      <td>4.0</td>\n",
       "    </tr>\n",
       "    <tr>\n",
       "      <th>3</th>\n",
       "      <td>76.03</td>\n",
       "      <td>391.0</td>\n",
       "      <td>400.0</td>\n",
       "      <td>750.0</td>\n",
       "      <td>4.0</td>\n",
       "      <td>4.0</td>\n",
       "    </tr>\n",
       "    <tr>\n",
       "      <th>4</th>\n",
       "      <td>174.97</td>\n",
       "      <td>500.0</td>\n",
       "      <td>500.0</td>\n",
       "      <td>18350.0</td>\n",
       "      <td>5.0</td>\n",
       "      <td>5.0</td>\n",
       "    </tr>\n",
       "    <tr>\n",
       "      <th>...</th>\n",
       "      <td>...</td>\n",
       "      <td>...</td>\n",
       "      <td>...</td>\n",
       "      <td>...</td>\n",
       "      <td>...</td>\n",
       "      <td>...</td>\n",
       "    </tr>\n",
       "    <tr>\n",
       "      <th>116784</th>\n",
       "      <td>15.41</td>\n",
       "      <td>200.0</td>\n",
       "      <td>242.0</td>\n",
       "      <td>100.0</td>\n",
       "      <td>2.0</td>\n",
       "      <td>4.0</td>\n",
       "    </tr>\n",
       "    <tr>\n",
       "      <th>116785</th>\n",
       "      <td>174.93</td>\n",
       "      <td>500.0</td>\n",
       "      <td>500.0</td>\n",
       "      <td>11500.0</td>\n",
       "      <td>5.0</td>\n",
       "      <td>5.0</td>\n",
       "    </tr>\n",
       "    <tr>\n",
       "      <th>116786</th>\n",
       "      <td>114.93</td>\n",
       "      <td>500.0</td>\n",
       "      <td>500.0</td>\n",
       "      <td>1200.0</td>\n",
       "      <td>5.0</td>\n",
       "      <td>5.0</td>\n",
       "    </tr>\n",
       "    <tr>\n",
       "      <th>116787</th>\n",
       "      <td>94.93</td>\n",
       "      <td>500.0</td>\n",
       "      <td>500.0</td>\n",
       "      <td>1200.0</td>\n",
       "      <td>5.0</td>\n",
       "      <td>5.0</td>\n",
       "    </tr>\n",
       "    <tr>\n",
       "      <th>116788</th>\n",
       "      <td>74.93</td>\n",
       "      <td>375.0</td>\n",
       "      <td>479.0</td>\n",
       "      <td>1100.0</td>\n",
       "      <td>4.0</td>\n",
       "      <td>5.0</td>\n",
       "    </tr>\n",
       "  </tbody>\n",
       "</table>\n",
       "<p>116789 rows × 6 columns</p>\n",
       "</div>"
      ],
      "text/plain": [
       "        time_left  ct_health  t_health  ct_money  ct_players_alive   \n",
       "0          175.00      500.0     500.0    4000.0               5.0  \\\n",
       "1          156.03      500.0     500.0     600.0               5.0   \n",
       "2           96.03      391.0     400.0     750.0               4.0   \n",
       "3           76.03      391.0     400.0     750.0               4.0   \n",
       "4          174.97      500.0     500.0   18350.0               5.0   \n",
       "...           ...        ...       ...       ...               ...   \n",
       "116784      15.41      200.0     242.0     100.0               2.0   \n",
       "116785     174.93      500.0     500.0   11500.0               5.0   \n",
       "116786     114.93      500.0     500.0    1200.0               5.0   \n",
       "116787      94.93      500.0     500.0    1200.0               5.0   \n",
       "116788      74.93      375.0     479.0    1100.0               4.0   \n",
       "\n",
       "        t_players_alive  \n",
       "0                   5.0  \n",
       "1                   5.0  \n",
       "2                   4.0  \n",
       "3                   4.0  \n",
       "4                   5.0  \n",
       "...                 ...  \n",
       "116784              4.0  \n",
       "116785              5.0  \n",
       "116786              5.0  \n",
       "116787              5.0  \n",
       "116788              5.0  \n",
       "\n",
       "[116789 rows x 6 columns]"
      ]
     },
     "execution_count": 24,
     "metadata": {},
     "output_type": "execute_result"
    }
   ],
   "source": [
    "X_class_skb = pd.DataFrame(X_class_skb, columns=skb.get_feature_names_out())\n",
    "X_class_skb"
   ]
  },
  {
   "cell_type": "markdown",
   "metadata": {},
   "source": [
    "### Regression"
   ]
  },
  {
   "cell_type": "code",
   "execution_count": 35,
   "metadata": {},
   "outputs": [
    {
     "name": "stdout",
     "output_type": "stream",
     "text": [
      "mse = 10661545.621233119\n",
      "mae = 628.2905821188891\n",
      "r2 = -0.04784134182641542\n"
     ]
    }
   ],
   "source": [
    "skb = SelectKBest(k=1)\n",
    "X_regress_skb = skb.fit_transform(X_regress, y_regress)\n",
    "test_regression(X_regress_skb, y_regress)"
   ]
  },
  {
   "cell_type": "code",
   "execution_count": 36,
   "metadata": {},
   "outputs": [
    {
     "data": {
      "text/html": [
       "<div>\n",
       "<style scoped>\n",
       "    .dataframe tbody tr th:only-of-type {\n",
       "        vertical-align: middle;\n",
       "    }\n",
       "\n",
       "    .dataframe tbody tr th {\n",
       "        vertical-align: top;\n",
       "    }\n",
       "\n",
       "    .dataframe thead th {\n",
       "        text-align: right;\n",
       "    }\n",
       "</style>\n",
       "<table border=\"1\" class=\"dataframe\">\n",
       "  <thead>\n",
       "    <tr style=\"text-align: right;\">\n",
       "      <th></th>\n",
       "      <th>pickup_longitude</th>\n",
       "    </tr>\n",
       "  </thead>\n",
       "  <tbody>\n",
       "    <tr>\n",
       "      <th>0</th>\n",
       "      <td>-73.953918</td>\n",
       "    </tr>\n",
       "    <tr>\n",
       "      <th>1</th>\n",
       "      <td>-73.988312</td>\n",
       "    </tr>\n",
       "    <tr>\n",
       "      <th>2</th>\n",
       "      <td>-73.997314</td>\n",
       "    </tr>\n",
       "    <tr>\n",
       "      <th>3</th>\n",
       "      <td>-73.961670</td>\n",
       "    </tr>\n",
       "    <tr>\n",
       "      <th>4</th>\n",
       "      <td>-74.017120</td>\n",
       "    </tr>\n",
       "    <tr>\n",
       "      <th>...</th>\n",
       "      <td>...</td>\n",
       "    </tr>\n",
       "    <tr>\n",
       "      <th>729317</th>\n",
       "      <td>-73.965919</td>\n",
       "    </tr>\n",
       "    <tr>\n",
       "      <th>729318</th>\n",
       "      <td>-73.996666</td>\n",
       "    </tr>\n",
       "    <tr>\n",
       "      <th>729319</th>\n",
       "      <td>-73.997849</td>\n",
       "    </tr>\n",
       "    <tr>\n",
       "      <th>729320</th>\n",
       "      <td>-74.006706</td>\n",
       "    </tr>\n",
       "    <tr>\n",
       "      <th>729321</th>\n",
       "      <td>-74.003342</td>\n",
       "    </tr>\n",
       "  </tbody>\n",
       "</table>\n",
       "<p>729322 rows × 1 columns</p>\n",
       "</div>"
      ],
      "text/plain": [
       "        pickup_longitude\n",
       "0             -73.953918\n",
       "1             -73.988312\n",
       "2             -73.997314\n",
       "3             -73.961670\n",
       "4             -74.017120\n",
       "...                  ...\n",
       "729317        -73.965919\n",
       "729318        -73.996666\n",
       "729319        -73.997849\n",
       "729320        -74.006706\n",
       "729321        -74.003342\n",
       "\n",
       "[729322 rows x 1 columns]"
      ]
     },
     "execution_count": 36,
     "metadata": {},
     "output_type": "execute_result"
    }
   ],
   "source": [
    "X_regress_skb = pd.DataFrame(X_regress_skb, columns=skb.get_feature_names_out())\n",
    "X_regress_skb"
   ]
  },
  {
   "cell_type": "markdown",
   "metadata": {},
   "source": [
    "### 1.3 RFE"
   ]
  },
  {
   "cell_type": "markdown",
   "metadata": {},
   "source": [
    "### Classification"
   ]
  },
  {
   "cell_type": "code",
   "execution_count": 27,
   "metadata": {},
   "outputs": [],
   "source": [
    "from sklearn.feature_selection import RFE"
   ]
  },
  {
   "cell_type": "code",
   "execution_count": 28,
   "metadata": {},
   "outputs": [
    {
     "data": {
      "text/html": [
       "<div>\n",
       "<style scoped>\n",
       "    .dataframe tbody tr th:only-of-type {\n",
       "        vertical-align: middle;\n",
       "    }\n",
       "\n",
       "    .dataframe tbody tr th {\n",
       "        vertical-align: top;\n",
       "    }\n",
       "\n",
       "    .dataframe thead th {\n",
       "        text-align: right;\n",
       "    }\n",
       "</style>\n",
       "<table border=\"1\" class=\"dataframe\">\n",
       "  <thead>\n",
       "    <tr style=\"text-align: right;\">\n",
       "      <th></th>\n",
       "      <th>time_left</th>\n",
       "      <th>t_health</th>\n",
       "      <th>t_money</th>\n",
       "      <th>ct_players_alive</th>\n",
       "    </tr>\n",
       "  </thead>\n",
       "  <tbody>\n",
       "    <tr>\n",
       "      <th>0</th>\n",
       "      <td>175.00</td>\n",
       "      <td>500.0</td>\n",
       "      <td>4000.0</td>\n",
       "      <td>5.0</td>\n",
       "    </tr>\n",
       "    <tr>\n",
       "      <th>1</th>\n",
       "      <td>156.03</td>\n",
       "      <td>500.0</td>\n",
       "      <td>650.0</td>\n",
       "      <td>5.0</td>\n",
       "    </tr>\n",
       "    <tr>\n",
       "      <th>2</th>\n",
       "      <td>96.03</td>\n",
       "      <td>400.0</td>\n",
       "      <td>500.0</td>\n",
       "      <td>4.0</td>\n",
       "    </tr>\n",
       "    <tr>\n",
       "      <th>3</th>\n",
       "      <td>76.03</td>\n",
       "      <td>400.0</td>\n",
       "      <td>500.0</td>\n",
       "      <td>4.0</td>\n",
       "    </tr>\n",
       "    <tr>\n",
       "      <th>4</th>\n",
       "      <td>174.97</td>\n",
       "      <td>500.0</td>\n",
       "      <td>10750.0</td>\n",
       "      <td>5.0</td>\n",
       "    </tr>\n",
       "    <tr>\n",
       "      <th>...</th>\n",
       "      <td>...</td>\n",
       "      <td>...</td>\n",
       "      <td>...</td>\n",
       "      <td>...</td>\n",
       "    </tr>\n",
       "    <tr>\n",
       "      <th>116784</th>\n",
       "      <td>15.41</td>\n",
       "      <td>242.0</td>\n",
       "      <td>5950.0</td>\n",
       "      <td>2.0</td>\n",
       "    </tr>\n",
       "    <tr>\n",
       "      <th>116785</th>\n",
       "      <td>174.93</td>\n",
       "      <td>500.0</td>\n",
       "      <td>23900.0</td>\n",
       "      <td>5.0</td>\n",
       "    </tr>\n",
       "    <tr>\n",
       "      <th>116786</th>\n",
       "      <td>114.93</td>\n",
       "      <td>500.0</td>\n",
       "      <td>6700.0</td>\n",
       "      <td>5.0</td>\n",
       "    </tr>\n",
       "    <tr>\n",
       "      <th>116787</th>\n",
       "      <td>94.93</td>\n",
       "      <td>500.0</td>\n",
       "      <td>6700.0</td>\n",
       "      <td>5.0</td>\n",
       "    </tr>\n",
       "    <tr>\n",
       "      <th>116788</th>\n",
       "      <td>74.93</td>\n",
       "      <td>479.0</td>\n",
       "      <td>7000.0</td>\n",
       "      <td>4.0</td>\n",
       "    </tr>\n",
       "  </tbody>\n",
       "</table>\n",
       "<p>116789 rows × 4 columns</p>\n",
       "</div>"
      ],
      "text/plain": [
       "        time_left  t_health  t_money  ct_players_alive\n",
       "0          175.00     500.0   4000.0               5.0\n",
       "1          156.03     500.0    650.0               5.0\n",
       "2           96.03     400.0    500.0               4.0\n",
       "3           76.03     400.0    500.0               4.0\n",
       "4          174.97     500.0  10750.0               5.0\n",
       "...           ...       ...      ...               ...\n",
       "116784      15.41     242.0   5950.0               2.0\n",
       "116785     174.93     500.0  23900.0               5.0\n",
       "116786     114.93     500.0   6700.0               5.0\n",
       "116787      94.93     500.0   6700.0               5.0\n",
       "116788      74.93     479.0   7000.0               4.0\n",
       "\n",
       "[116789 rows x 4 columns]"
      ]
     },
     "execution_count": 28,
     "metadata": {},
     "output_type": "execute_result"
    }
   ],
   "source": [
    "rfe = RFE(estimator=DecisionTreeClassifier().fit(X_class, y_class), n_features_to_select=4, step=1).fit(X_class, y_class)\n",
    "X_class_rfe = pd.DataFrame(rfe.transform(X_class), columns=rfe.get_feature_names_out())\n",
    "X_class_rfe"
   ]
  },
  {
   "cell_type": "code",
   "execution_count": 29,
   "metadata": {},
   "outputs": [
    {
     "name": "stdout",
     "output_type": "stream",
     "text": [
      "              precision    recall  f1-score   support\n",
      "\n",
      "           0       0.98      0.99      0.98     20576\n",
      "           1       0.89      0.87      0.88      2782\n",
      "\n",
      "    accuracy                           0.97     23358\n",
      "   macro avg       0.94      0.93      0.93     23358\n",
      "weighted avg       0.97      0.97      0.97     23358\n",
      "\n"
     ]
    }
   ],
   "source": [
    "test_classification(X_class_rfe, y_class)"
   ]
  },
  {
   "cell_type": "markdown",
   "metadata": {},
   "source": [
    "### Regression"
   ]
  },
  {
   "cell_type": "code",
   "execution_count": 71,
   "metadata": {},
   "outputs": [
    {
     "data": {
      "text/html": [
       "<div>\n",
       "<style scoped>\n",
       "    .dataframe tbody tr th:only-of-type {\n",
       "        vertical-align: middle;\n",
       "    }\n",
       "\n",
       "    .dataframe tbody tr th {\n",
       "        vertical-align: top;\n",
       "    }\n",
       "\n",
       "    .dataframe thead th {\n",
       "        text-align: right;\n",
       "    }\n",
       "</style>\n",
       "<table border=\"1\" class=\"dataframe\">\n",
       "  <thead>\n",
       "    <tr style=\"text-align: right;\">\n",
       "      <th></th>\n",
       "      <th>dropoff_longitude</th>\n",
       "    </tr>\n",
       "  </thead>\n",
       "  <tbody>\n",
       "    <tr>\n",
       "      <th>0</th>\n",
       "      <td>-73.963875</td>\n",
       "    </tr>\n",
       "    <tr>\n",
       "      <th>1</th>\n",
       "      <td>-73.994751</td>\n",
       "    </tr>\n",
       "    <tr>\n",
       "      <th>2</th>\n",
       "      <td>-73.948029</td>\n",
       "    </tr>\n",
       "    <tr>\n",
       "      <th>3</th>\n",
       "      <td>-73.956779</td>\n",
       "    </tr>\n",
       "    <tr>\n",
       "      <th>4</th>\n",
       "      <td>-73.988182</td>\n",
       "    </tr>\n",
       "    <tr>\n",
       "      <th>...</th>\n",
       "      <td>...</td>\n",
       "    </tr>\n",
       "    <tr>\n",
       "      <th>729317</th>\n",
       "      <td>-73.952637</td>\n",
       "    </tr>\n",
       "    <tr>\n",
       "      <th>729318</th>\n",
       "      <td>-74.001320</td>\n",
       "    </tr>\n",
       "    <tr>\n",
       "      <th>729319</th>\n",
       "      <td>-74.001488</td>\n",
       "    </tr>\n",
       "    <tr>\n",
       "      <th>729320</th>\n",
       "      <td>-74.013550</td>\n",
       "    </tr>\n",
       "    <tr>\n",
       "      <th>729321</th>\n",
       "      <td>-73.945847</td>\n",
       "    </tr>\n",
       "  </tbody>\n",
       "</table>\n",
       "<p>729322 rows × 1 columns</p>\n",
       "</div>"
      ],
      "text/plain": [
       "        dropoff_longitude\n",
       "0              -73.963875\n",
       "1              -73.994751\n",
       "2              -73.948029\n",
       "3              -73.956779\n",
       "4              -73.988182\n",
       "...                   ...\n",
       "729317         -73.952637\n",
       "729318         -74.001320\n",
       "729319         -74.001488\n",
       "729320         -74.013550\n",
       "729321         -73.945847\n",
       "\n",
       "[729322 rows x 1 columns]"
      ]
     },
     "execution_count": 71,
     "metadata": {},
     "output_type": "execute_result"
    }
   ],
   "source": [
    "tree_regress = DecisionTreeRegressor().fit(X_regress, y_regress)\n",
    "rfe = RFE(estimator=tree_regress, n_features_to_select=1, step=1).fit(X_regress, y_regress)\n",
    "X_regress_rfe = pd.DataFrame(rfe.transform(X_regress), columns=rfe.get_feature_names_out())\n",
    "X_regress_rfe"
   ]
  },
  {
   "cell_type": "code",
   "execution_count": 72,
   "metadata": {},
   "outputs": [
    {
     "name": "stdout",
     "output_type": "stream",
     "text": [
      "mse = 11114479.49199821\n",
      "mae = 655.1361776496307\n",
      "r2 = -0.09235672934733219\n"
     ]
    }
   ],
   "source": [
    "test_regression(X_regress_rfe, y_regress)"
   ]
  },
  {
   "cell_type": "markdown",
   "metadata": {},
   "source": [
    "### 2. Feature extraction"
   ]
  },
  {
   "cell_type": "markdown",
   "metadata": {},
   "source": [
    "### 2.1 PCA"
   ]
  },
  {
   "cell_type": "markdown",
   "metadata": {},
   "source": [
    "### Classification"
   ]
  },
  {
   "cell_type": "code",
   "execution_count": 73,
   "metadata": {},
   "outputs": [],
   "source": [
    "from sklearn.decomposition import PCA"
   ]
  },
  {
   "cell_type": "code",
   "execution_count": 74,
   "metadata": {},
   "outputs": [
    {
     "data": {
      "text/plain": [
       "(116789, 5)"
      ]
     },
     "execution_count": 74,
     "metadata": {},
     "output_type": "execute_result"
    }
   ],
   "source": [
    "pca = PCA(n_components=5)\n",
    "X_class_pca = pca.fit_transform(X_class, y_class)\n",
    "X_class_pca.shape"
   ]
  },
  {
   "cell_type": "code",
   "execution_count": 75,
   "metadata": {},
   "outputs": [
    {
     "data": {
      "text/plain": [
       "<matplotlib.collections.PathCollection at 0x2d6354a5760>"
      ]
     },
     "execution_count": 75,
     "metadata": {},
     "output_type": "execute_result"
    },
    {
     "data": {
      "image/png": "[encoded data removed]",
      "text/plain": [
       "<Figure size 640x480 with 1 Axes>"
      ]
     },
     "metadata": {},
     "output_type": "display_data"
    }
   ],
   "source": [
    "plt.scatter(X_class_pca[:,0], X_class_pca[:,1], c=y_class)"
   ]
  },
  {
   "cell_type": "code",
   "execution_count": 76,
   "metadata": {},
   "outputs": [
    {
     "data": {
      "text/plain": [
       "0.9999998410472564"
      ]
     },
     "execution_count": 76,
     "metadata": {},
     "output_type": "execute_result"
    }
   ],
   "source": [
    "sum(pca.explained_variance_ratio_)"
   ]
  },
  {
   "cell_type": "code",
   "execution_count": 77,
   "metadata": {},
   "outputs": [
    {
     "name": "stdout",
     "output_type": "stream",
     "text": [
      "              precision    recall  f1-score   support\n",
      "\n",
      "           0       0.96      0.96      0.96     20576\n",
      "           1       0.69      0.67      0.68      2782\n",
      "\n",
      "    accuracy                           0.93     23358\n",
      "   macro avg       0.82      0.81      0.82     23358\n",
      "weighted avg       0.92      0.93      0.92     23358\n",
      "\n"
     ]
    }
   ],
   "source": [
    "test_classification(X_class_pca, y_class)"
   ]
  },
  {
   "cell_type": "code",
   "execution_count": 78,
   "metadata": {},
   "outputs": [],
   "source": [
    "pca_2 = PCA(n_components=8)\n",
    "X_class_pca_2 = pca_2.fit_transform(X_class, y_class)"
   ]
  },
  {
   "cell_type": "code",
   "execution_count": 52,
   "metadata": {},
   "outputs": [
    {
     "name": "stdout",
     "output_type": "stream",
     "text": [
      "              precision    recall  f1-score   support\n",
      "\n",
      "           0       0.96      0.96      0.96     20576\n",
      "           1       0.69      0.67      0.68      2782\n",
      "\n",
      "    accuracy                           0.92     23358\n",
      "   macro avg       0.82      0.81      0.82     23358\n",
      "weighted avg       0.92      0.92      0.92     23358\n",
      "\n"
     ]
    }
   ],
   "source": [
    "test_classification(X_class_pca_2, y_class)"
   ]
  },
  {
   "cell_type": "code",
   "execution_count": 79,
   "metadata": {},
   "outputs": [
    {
     "data": {
      "text/plain": [
       "<mpl_toolkits.mplot3d.art3d.Path3DCollection at 0x2d64ea84df0>"
      ]
     },
     "execution_count": 79,
     "metadata": {},
     "output_type": "execute_result"
    },
    {
     "data": {
      "image/png": "[encoded data removed]",
      "text/plain": [
       "<Figure size 640x480 with 1 Axes>"
      ]
     },
     "metadata": {},
     "output_type": "display_data"
    }
   ],
   "source": [
    "fig = plt.figure()\n",
    "ax = fig.add_subplot(projection='3d')\n",
    "ax.scatter(X_class_pca_2[:,0], X_class_pca_2[:,1], X_class_pca_2[:,2], c=y_class)"
   ]
  },
  {
   "cell_type": "markdown",
   "metadata": {},
   "source": [
    "### Regression"
   ]
  },
  {
   "cell_type": "code",
   "execution_count": 80,
   "metadata": {},
   "outputs": [
    {
     "data": {
      "text/plain": [
       "(729322, 2)"
      ]
     },
     "execution_count": 80,
     "metadata": {},
     "output_type": "execute_result"
    }
   ],
   "source": [
    "pca = PCA(n_components=2)\n",
    "X_regress_pca = pca.fit_transform(X_regress, y_regress)\n",
    "X_regress_pca.shape"
   ]
  },
  {
   "cell_type": "code",
   "execution_count": 81,
   "metadata": {},
   "outputs": [
    {
     "name": "stdout",
     "output_type": "stream",
     "text": [
      "mse = 15659475.698001577\n",
      "mae = 850.3216604394474\n",
      "r2 = -0.5390494596780879\n"
     ]
    }
   ],
   "source": [
    "test_regression(X_regress_pca, y_regress)"
   ]
  },
  {
   "cell_type": "code",
   "execution_count": 82,
   "metadata": {},
   "outputs": [],
   "source": [
    "pca_2 = PCA(n_components=3)\n",
    "X_regress_pca_2 = pca_2.fit_transform(X_regress, y_regress)"
   ]
  },
  {
   "cell_type": "code",
   "execution_count": 83,
   "metadata": {},
   "outputs": [
    {
     "name": "stdout",
     "output_type": "stream",
     "text": [
      "mse = 60041119.08444795\n",
      "mae = 1229.2788194563466\n",
      "r2 = -4.900979934927196\n"
     ]
    }
   ],
   "source": [
    "test_regression(X_regress_pca_2, y_regress)"
   ]
  },
  {
   "cell_type": "markdown",
   "metadata": {},
   "source": [
    "### 2.2 t-SNE"
   ]
  },
  {
   "cell_type": "markdown",
   "metadata": {},
   "source": [
    "### Classification"
   ]
  },
  {
   "cell_type": "code",
   "execution_count": 84,
   "metadata": {},
   "outputs": [],
   "source": [
    "from sklearn.manifold import TSNE\n",
    "import matplotlib.pyplot as plt"
   ]
  },
  {
   "cell_type": "code",
   "execution_count": 85,
   "metadata": {},
   "outputs": [],
   "source": [
    "tsne = TSNE(n_components=2)\n",
    "X_class_tsne = tsne.fit_transform(X_class)"
   ]
  },
  {
   "cell_type": "code",
   "execution_count": 86,
   "metadata": {},
   "outputs": [
    {
     "data": {
      "text/plain": [
       "<matplotlib.collections.PathCollection at 0x2d64ea56af0>"
      ]
     },
     "execution_count": 86,
     "metadata": {},
     "output_type": "execute_result"
    },
    {
     "data": {
      "image/png": "[encoded data removed]",
      "text/plain": [
       "<Figure size 640x480 with 1 Axes>"
      ]
     },
     "metadata": {},
     "output_type": "display_data"
    }
   ],
   "source": [
    "plt.scatter(X_class_tsne[:,0], X_class_tsne[:,1], c=y_class)"
   ]
  },
  {
   "cell_type": "code",
   "execution_count": 87,
   "metadata": {},
   "outputs": [
    {
     "name": "stdout",
     "output_type": "stream",
     "text": [
      "              precision    recall  f1-score   support\n",
      "\n",
      "           0       0.92      0.93      0.92     20576\n",
      "           1       0.44      0.41      0.42      2782\n",
      "\n",
      "    accuracy                           0.87     23358\n",
      "   macro avg       0.68      0.67      0.67     23358\n",
      "weighted avg       0.86      0.87      0.87     23358\n",
      "\n"
     ]
    }
   ],
   "source": [
    "test_classification(X_class_tsne, y_class)"
   ]
  },
  {
   "cell_type": "markdown",
   "metadata": {},
   "source": [
    "### Regression"
   ]
  },
  {
   "cell_type": "code",
   "execution_count": 89,
   "metadata": {},
   "outputs": [],
   "source": [
    "tsne = TSNE(n_components=2)\n",
    "X_regress_tsne = tsne.fit_transform(X_regress)"
   ]
  },
  {
   "cell_type": "code",
   "execution_count": 90,
   "metadata": {},
   "outputs": [
    {
     "name": "stdout",
     "output_type": "stream",
     "text": [
      "mse = 39029274.8250917\n",
      "mae = 856.825982929421\n",
      "r2 = -2.835887324046915\n"
     ]
    }
   ],
   "source": [
    "test_regression(X_regress_tsne, y_regress)"
   ]
  },
  {
   "cell_type": "markdown",
   "metadata": {},
   "source": [
    "### 2.3 Isomap"
   ]
  },
  {
   "cell_type": "code",
   "execution_count": 13,
   "metadata": {},
   "outputs": [],
   "source": [
    "from sklearn.manifold import Isomap"
   ]
  },
  {
   "cell_type": "markdown",
   "metadata": {},
   "source": [
    "### Classification"
   ]
  },
  {
   "cell_type": "code",
   "execution_count": 18,
   "metadata": {},
   "outputs": [
    {
     "name": "stderr",
     "output_type": "stream",
     "text": [
      "c:\\University\\ML\\venv\\lib\\site-packages\\sklearn\\manifold\\_isomap.py:373: UserWarning: The number of connected components of the neighbors graph is 11 > 1. Completing the graph to fit Isomap might be slow. Increase the number of neighbors to avoid this issue.\n",
      "  self._fit_transform(X)\n",
      "c:\\University\\ML\\venv\\lib\\site-packages\\scipy\\sparse\\_index.py:103: SparseEfficiencyWarning: Changing the sparsity structure of a csr_matrix is expensive. lil_matrix is more efficient.\n",
      "  self._set_intXint(row, col, x.flat[0])\n",
      "c:\\University\\ML\\venv\\lib\\site-packages\\scipy\\sparse\\_index.py:103: SparseEfficiencyWarning: Changing the sparsity structure of a csr_matrix is expensive. lil_matrix is more efficient.\n",
      "  self._set_intXint(row, col, x.flat[0])\n",
      "c:\\University\\ML\\venv\\lib\\site-packages\\scipy\\sparse\\_index.py:103: SparseEfficiencyWarning: Changing the sparsity structure of a csr_matrix is expensive. lil_matrix is more efficient.\n",
      "  self._set_intXint(row, col, x.flat[0])\n",
      "c:\\University\\ML\\venv\\lib\\site-packages\\scipy\\sparse\\_index.py:103: SparseEfficiencyWarning: Changing the sparsity structure of a csr_matrix is expensive. lil_matrix is more efficient.\n",
      "  self._set_intXint(row, col, x.flat[0])\n",
      "c:\\University\\ML\\venv\\lib\\site-packages\\scipy\\sparse\\_index.py:103: SparseEfficiencyWarning: Changing the sparsity structure of a csr_matrix is expensive. lil_matrix is more efficient.\n",
      "  self._set_intXint(row, col, x.flat[0])\n",
      "c:\\University\\ML\\venv\\lib\\site-packages\\scipy\\sparse\\_index.py:103: SparseEfficiencyWarning: Changing the sparsity structure of a csr_matrix is expensive. lil_matrix is more efficient.\n",
      "  self._set_intXint(row, col, x.flat[0])\n",
      "c:\\University\\ML\\venv\\lib\\site-packages\\scipy\\sparse\\_index.py:103: SparseEfficiencyWarning: Changing the sparsity structure of a csr_matrix is expensive. lil_matrix is more efficient.\n",
      "  self._set_intXint(row, col, x.flat[0])\n",
      "c:\\University\\ML\\venv\\lib\\site-packages\\scipy\\sparse\\_index.py:103: SparseEfficiencyWarning: Changing the sparsity structure of a csr_matrix is expensive. lil_matrix is more efficient.\n",
      "  self._set_intXint(row, col, x.flat[0])\n",
      "c:\\University\\ML\\venv\\lib\\site-packages\\scipy\\sparse\\_index.py:103: SparseEfficiencyWarning: Changing the sparsity structure of a csr_matrix is expensive. lil_matrix is more efficient.\n",
      "  self._set_intXint(row, col, x.flat[0])\n",
      "c:\\University\\ML\\venv\\lib\\site-packages\\scipy\\sparse\\_index.py:103: SparseEfficiencyWarning: Changing the sparsity structure of a csr_matrix is expensive. lil_matrix is more efficient.\n",
      "  self._set_intXint(row, col, x.flat[0])\n",
      "c:\\University\\ML\\venv\\lib\\site-packages\\scipy\\sparse\\_index.py:103: SparseEfficiencyWarning: Changing the sparsity structure of a csr_matrix is expensive. lil_matrix is more efficient.\n",
      "  self._set_intXint(row, col, x.flat[0])\n",
      "c:\\University\\ML\\venv\\lib\\site-packages\\scipy\\sparse\\_index.py:103: SparseEfficiencyWarning: Changing the sparsity structure of a csr_matrix is expensive. lil_matrix is more efficient.\n",
      "  self._set_intXint(row, col, x.flat[0])\n",
      "c:\\University\\ML\\venv\\lib\\site-packages\\scipy\\sparse\\_index.py:103: SparseEfficiencyWarning: Changing the sparsity structure of a csr_matrix is expensive. lil_matrix is more efficient.\n",
      "  self._set_intXint(row, col, x.flat[0])\n",
      "c:\\University\\ML\\venv\\lib\\site-packages\\scipy\\sparse\\_index.py:103: SparseEfficiencyWarning: Changing the sparsity structure of a csr_matrix is expensive. lil_matrix is more efficient.\n",
      "  self._set_intXint(row, col, x.flat[0])\n",
      "c:\\University\\ML\\venv\\lib\\site-packages\\scipy\\sparse\\_index.py:103: SparseEfficiencyWarning: Changing the sparsity structure of a csr_matrix is expensive. lil_matrix is more efficient.\n",
      "  self._set_intXint(row, col, x.flat[0])\n",
      "c:\\University\\ML\\venv\\lib\\site-packages\\scipy\\sparse\\_index.py:103: SparseEfficiencyWarning: Changing the sparsity structure of a csr_matrix is expensive. lil_matrix is more efficient.\n",
      "  self._set_intXint(row, col, x.flat[0])\n",
      "c:\\University\\ML\\venv\\lib\\site-packages\\scipy\\sparse\\_index.py:103: SparseEfficiencyWarning: Changing the sparsity structure of a csr_matrix is expensive. lil_matrix is more efficient.\n",
      "  self._set_intXint(row, col, x.flat[0])\n",
      "c:\\University\\ML\\venv\\lib\\site-packages\\scipy\\sparse\\_index.py:103: SparseEfficiencyWarning: Changing the sparsity structure of a csr_matrix is expensive. lil_matrix is more efficient.\n",
      "  self._set_intXint(row, col, x.flat[0])\n",
      "c:\\University\\ML\\venv\\lib\\site-packages\\scipy\\sparse\\_index.py:103: SparseEfficiencyWarning: Changing the sparsity structure of a csr_matrix is expensive. lil_matrix is more efficient.\n",
      "  self._set_intXint(row, col, x.flat[0])\n",
      "c:\\University\\ML\\venv\\lib\\site-packages\\scipy\\sparse\\_index.py:103: SparseEfficiencyWarning: Changing the sparsity structure of a csr_matrix is expensive. lil_matrix is more efficient.\n",
      "  self._set_intXint(row, col, x.flat[0])\n",
      "c:\\University\\ML\\venv\\lib\\site-packages\\scipy\\sparse\\_index.py:103: SparseEfficiencyWarning: Changing the sparsity structure of a csr_matrix is expensive. lil_matrix is more efficient.\n",
      "  self._set_intXint(row, col, x.flat[0])\n",
      "c:\\University\\ML\\venv\\lib\\site-packages\\scipy\\sparse\\_index.py:103: SparseEfficiencyWarning: Changing the sparsity structure of a csr_matrix is expensive. lil_matrix is more efficient.\n",
      "  self._set_intXint(row, col, x.flat[0])\n",
      "c:\\University\\ML\\venv\\lib\\site-packages\\scipy\\sparse\\_index.py:103: SparseEfficiencyWarning: Changing the sparsity structure of a csr_matrix is expensive. lil_matrix is more efficient.\n",
      "  self._set_intXint(row, col, x.flat[0])\n",
      "c:\\University\\ML\\venv\\lib\\site-packages\\scipy\\sparse\\_index.py:103: SparseEfficiencyWarning: Changing the sparsity structure of a csr_matrix is expensive. lil_matrix is more efficient.\n",
      "  self._set_intXint(row, col, x.flat[0])\n",
      "c:\\University\\ML\\venv\\lib\\site-packages\\scipy\\sparse\\_index.py:103: SparseEfficiencyWarning: Changing the sparsity structure of a csr_matrix is expensive. lil_matrix is more efficient.\n",
      "  self._set_intXint(row, col, x.flat[0])\n",
      "c:\\University\\ML\\venv\\lib\\site-packages\\scipy\\sparse\\_index.py:103: SparseEfficiencyWarning: Changing the sparsity structure of a csr_matrix is expensive. lil_matrix is more efficient.\n",
      "  self._set_intXint(row, col, x.flat[0])\n",
      "c:\\University\\ML\\venv\\lib\\site-packages\\scipy\\sparse\\_index.py:103: SparseEfficiencyWarning: Changing the sparsity structure of a csr_matrix is expensive. lil_matrix is more efficient.\n",
      "  self._set_intXint(row, col, x.flat[0])\n",
      "c:\\University\\ML\\venv\\lib\\site-packages\\scipy\\sparse\\_index.py:103: SparseEfficiencyWarning: Changing the sparsity structure of a csr_matrix is expensive. lil_matrix is more efficient.\n",
      "  self._set_intXint(row, col, x.flat[0])\n",
      "c:\\University\\ML\\venv\\lib\\site-packages\\scipy\\sparse\\_index.py:103: SparseEfficiencyWarning: Changing the sparsity structure of a csr_matrix is expensive. lil_matrix is more efficient.\n",
      "  self._set_intXint(row, col, x.flat[0])\n",
      "c:\\University\\ML\\venv\\lib\\site-packages\\scipy\\sparse\\_index.py:103: SparseEfficiencyWarning: Changing the sparsity structure of a csr_matrix is expensive. lil_matrix is more efficient.\n",
      "  self._set_intXint(row, col, x.flat[0])\n",
      "c:\\University\\ML\\venv\\lib\\site-packages\\scipy\\sparse\\_index.py:103: SparseEfficiencyWarning: Changing the sparsity structure of a csr_matrix is expensive. lil_matrix is more efficient.\n",
      "  self._set_intXint(row, col, x.flat[0])\n",
      "c:\\University\\ML\\venv\\lib\\site-packages\\scipy\\sparse\\_index.py:103: SparseEfficiencyWarning: Changing the sparsity structure of a csr_matrix is expensive. lil_matrix is more efficient.\n",
      "  self._set_intXint(row, col, x.flat[0])\n",
      "c:\\University\\ML\\venv\\lib\\site-packages\\scipy\\sparse\\_index.py:103: SparseEfficiencyWarning: Changing the sparsity structure of a csr_matrix is expensive. lil_matrix is more efficient.\n",
      "  self._set_intXint(row, col, x.flat[0])\n",
      "c:\\University\\ML\\venv\\lib\\site-packages\\scipy\\sparse\\_index.py:103: SparseEfficiencyWarning: Changing the sparsity structure of a csr_matrix is expensive. lil_matrix is more efficient.\n",
      "  self._set_intXint(row, col, x.flat[0])\n",
      "c:\\University\\ML\\venv\\lib\\site-packages\\scipy\\sparse\\_index.py:103: SparseEfficiencyWarning: Changing the sparsity structure of a csr_matrix is expensive. lil_matrix is more efficient.\n",
      "  self._set_intXint(row, col, x.flat[0])\n",
      "c:\\University\\ML\\venv\\lib\\site-packages\\scipy\\sparse\\_index.py:103: SparseEfficiencyWarning: Changing the sparsity structure of a csr_matrix is expensive. lil_matrix is more efficient.\n",
      "  self._set_intXint(row, col, x.flat[0])\n",
      "c:\\University\\ML\\venv\\lib\\site-packages\\scipy\\sparse\\_index.py:103: SparseEfficiencyWarning: Changing the sparsity structure of a csr_matrix is expensive. lil_matrix is more efficient.\n",
      "  self._set_intXint(row, col, x.flat[0])\n",
      "c:\\University\\ML\\venv\\lib\\site-packages\\scipy\\sparse\\_index.py:103: SparseEfficiencyWarning: Changing the sparsity structure of a csr_matrix is expensive. lil_matrix is more efficient.\n",
      "  self._set_intXint(row, col, x.flat[0])\n",
      "c:\\University\\ML\\venv\\lib\\site-packages\\scipy\\sparse\\_index.py:103: SparseEfficiencyWarning: Changing the sparsity structure of a csr_matrix is expensive. lil_matrix is more efficient.\n",
      "  self._set_intXint(row, col, x.flat[0])\n",
      "c:\\University\\ML\\venv\\lib\\site-packages\\scipy\\sparse\\_index.py:103: SparseEfficiencyWarning: Changing the sparsity structure of a csr_matrix is expensive. lil_matrix is more efficient.\n",
      "  self._set_intXint(row, col, x.flat[0])\n",
      "c:\\University\\ML\\venv\\lib\\site-packages\\scipy\\sparse\\_index.py:103: SparseEfficiencyWarning: Changing the sparsity structure of a csr_matrix is expensive. lil_matrix is more efficient.\n",
      "  self._set_intXint(row, col, x.flat[0])\n",
      "c:\\University\\ML\\venv\\lib\\site-packages\\scipy\\sparse\\_index.py:103: SparseEfficiencyWarning: Changing the sparsity structure of a csr_matrix is expensive. lil_matrix is more efficient.\n",
      "  self._set_intXint(row, col, x.flat[0])\n",
      "c:\\University\\ML\\venv\\lib\\site-packages\\scipy\\sparse\\_index.py:103: SparseEfficiencyWarning: Changing the sparsity structure of a csr_matrix is expensive. lil_matrix is more efficient.\n",
      "  self._set_intXint(row, col, x.flat[0])\n",
      "c:\\University\\ML\\venv\\lib\\site-packages\\scipy\\sparse\\_index.py:103: SparseEfficiencyWarning: Changing the sparsity structure of a csr_matrix is expensive. lil_matrix is more efficient.\n",
      "  self._set_intXint(row, col, x.flat[0])\n",
      "c:\\University\\ML\\venv\\lib\\site-packages\\scipy\\sparse\\_index.py:103: SparseEfficiencyWarning: Changing the sparsity structure of a csr_matrix is expensive. lil_matrix is more efficient.\n",
      "  self._set_intXint(row, col, x.flat[0])\n",
      "c:\\University\\ML\\venv\\lib\\site-packages\\scipy\\sparse\\_index.py:103: SparseEfficiencyWarning: Changing the sparsity structure of a csr_matrix is expensive. lil_matrix is more efficient.\n",
      "  self._set_intXint(row, col, x.flat[0])\n",
      "c:\\University\\ML\\venv\\lib\\site-packages\\scipy\\sparse\\_index.py:103: SparseEfficiencyWarning: Changing the sparsity structure of a csr_matrix is expensive. lil_matrix is more efficient.\n",
      "  self._set_intXint(row, col, x.flat[0])\n",
      "c:\\University\\ML\\venv\\lib\\site-packages\\scipy\\sparse\\_index.py:103: SparseEfficiencyWarning: Changing the sparsity structure of a csr_matrix is expensive. lil_matrix is more efficient.\n",
      "  self._set_intXint(row, col, x.flat[0])\n",
      "c:\\University\\ML\\venv\\lib\\site-packages\\scipy\\sparse\\_index.py:103: SparseEfficiencyWarning: Changing the sparsity structure of a csr_matrix is expensive. lil_matrix is more efficient.\n",
      "  self._set_intXint(row, col, x.flat[0])\n",
      "c:\\University\\ML\\venv\\lib\\site-packages\\scipy\\sparse\\_index.py:103: SparseEfficiencyWarning: Changing the sparsity structure of a csr_matrix is expensive. lil_matrix is more efficient.\n",
      "  self._set_intXint(row, col, x.flat[0])\n",
      "c:\\University\\ML\\venv\\lib\\site-packages\\scipy\\sparse\\_index.py:103: SparseEfficiencyWarning: Changing the sparsity structure of a csr_matrix is expensive. lil_matrix is more efficient.\n",
      "  self._set_intXint(row, col, x.flat[0])\n",
      "c:\\University\\ML\\venv\\lib\\site-packages\\scipy\\sparse\\_index.py:103: SparseEfficiencyWarning: Changing the sparsity structure of a csr_matrix is expensive. lil_matrix is more efficient.\n",
      "  self._set_intXint(row, col, x.flat[0])\n",
      "c:\\University\\ML\\venv\\lib\\site-packages\\scipy\\sparse\\_index.py:103: SparseEfficiencyWarning: Changing the sparsity structure of a csr_matrix is expensive. lil_matrix is more efficient.\n",
      "  self._set_intXint(row, col, x.flat[0])\n",
      "c:\\University\\ML\\venv\\lib\\site-packages\\scipy\\sparse\\_index.py:103: SparseEfficiencyWarning: Changing the sparsity structure of a csr_matrix is expensive. lil_matrix is more efficient.\n",
      "  self._set_intXint(row, col, x.flat[0])\n",
      "c:\\University\\ML\\venv\\lib\\site-packages\\scipy\\sparse\\_index.py:103: SparseEfficiencyWarning: Changing the sparsity structure of a csr_matrix is expensive. lil_matrix is more efficient.\n",
      "  self._set_intXint(row, col, x.flat[0])\n"
     ]
    }
   ],
   "source": [
    "isomap = Isomap(n_components=4)\n",
    "X_class_isomap = isomap.fit_transform(X_class[:10000])"
   ]
  },
  {
   "cell_type": "code",
   "execution_count": 20,
   "metadata": {},
   "outputs": [
    {
     "data": {
      "text/plain": [
       "<matplotlib.collections.PathCollection at 0x2bb0084aa60>"
      ]
     },
     "execution_count": 20,
     "metadata": {},
     "output_type": "execute_result"
    },
    {
     "data": {
      "image/png": "[encoded data removed]",
      "text/plain": [
       "<Figure size 640x480 with 1 Axes>"
      ]
     },
     "metadata": {},
     "output_type": "display_data"
    }
   ],
   "source": [
    "plt.scatter(X_class_isomap[:,0], X_class_isomap[:,1], c=y_class[:10000])"
   ]
  },
  {
   "cell_type": "code",
   "execution_count": 19,
   "metadata": {},
   "outputs": [
    {
     "name": "stdout",
     "output_type": "stream",
     "text": [
      "              precision    recall  f1-score   support\n",
      "\n",
      "           0       0.91      0.88      0.89      1776\n",
      "           1       0.24      0.30      0.27       224\n",
      "\n",
      "    accuracy                           0.81      2000\n",
      "   macro avg       0.57      0.59      0.58      2000\n",
      "weighted avg       0.83      0.81      0.82      2000\n",
      "\n"
     ]
    }
   ],
   "source": [
    "test_classification(X_class_isomap, y_class[:10000])"
   ]
  },
  {
   "cell_type": "markdown",
   "metadata": {},
   "source": [
    "### Regression"
   ]
  },
  {
   "cell_type": "code",
   "execution_count": 14,
   "metadata": {},
   "outputs": [],
   "source": [
    "isomap = Isomap(n_components=1)\n",
    "X_regress_isomap = isomap.fit_transform(X_regress[:15000])"
   ]
  },
  {
   "cell_type": "code",
   "execution_count": 23,
   "metadata": {},
   "outputs": [
    {
     "name": "stdout",
     "output_type": "stream",
     "text": [
      "mse = 14073665.662\n",
      "mae = 830.3266666666667\n",
      "r2 = -1.6889771442779473\n"
     ]
    }
   ],
   "source": [
    "test_regression(X_regress_isomap, y_regress[:15000])"
   ]
  },
  {
   "cell_type": "markdown",
   "metadata": {},
   "source": [
    "### Implementation PCA"
   ]
  },
  {
   "cell_type": "code",
   "execution_count": 24,
   "metadata": {},
   "outputs": [],
   "source": [
    "import numpy as np\n",
    "\n",
    "class PCA:\n",
    "\n",
    "    def __init__(self, n_components):\n",
    "        self.n_components = n_components\n",
    "        self.components = None\n",
    "        self.mean = None\n",
    "\n",
    "    def fit(self, X):\n",
    "        \n",
    "        self.mean = np.mean(X, axis=0)\n",
    "        X = X - self.mean\n",
    "\n",
    "        cov = np.cov(X.T)\n",
    "\n",
    "        eigenvectors, eigenvalues = np.linalg.eig(cov)\n",
    "        eigenvectors = eigenvectors.T\n",
    "\n",
    "        idxs = np.argsort(eigenvalues)[::-1]\n",
    "        eigenvalues = eigenvalues[idxs]\n",
    "        eigenvectors = eigenvectors[idxs]\n",
    "\n",
    "        self.components = eigenvectors[:self.n_components]\n",
    "\n",
    "    def transform(self, X):\n",
    "        \n",
    "        X = X - self.mean\n",
    "        return np.dot(X, self.components.T)"
   ]
  },
  {
   "cell_type": "code",
   "execution_count": 28,
   "metadata": {},
   "outputs": [
    {
     "data": {
      "text/plain": [
       "<matplotlib.collections.PathCollection at 0x2bb038ff3d0>"
      ]
     },
     "execution_count": 28,
     "metadata": {},
     "output_type": "execute_result"
    },
    {
     "data": {
      "image/png": "[encoded data removed]",
      "text/plain": [
       "<Figure size 640x480 with 1 Axes>"
      ]
     },
     "metadata": {},
     "output_type": "display_data"
    }
   ],
   "source": [
    "pca = PCA(4)\n",
    "pca.fit(X_class)\n",
    "X_new_class = pca.transform(X_class)\n",
    "plt.scatter(X_new_class[:,0], X_new_class[:,1], c=y_class)"
   ]
  },
  {
   "cell_type": "code",
   "execution_count": 29,
   "metadata": {},
   "outputs": [
    {
     "name": "stdout",
     "output_type": "stream",
     "text": [
      "              precision    recall  f1-score   support\n",
      "\n",
      "           0       0.94      0.94      0.94     20576\n",
      "           1       0.54      0.53      0.54      2782\n",
      "\n",
      "    accuracy                           0.89     23358\n",
      "   macro avg       0.74      0.74      0.74     23358\n",
      "weighted avg       0.89      0.89      0.89     23358\n",
      "\n"
     ]
    }
   ],
   "source": [
    "test_classification(X_new_class, y_class)"
   ]
  },
  {
   "cell_type": "markdown",
   "metadata": {},
   "source": [
    "### KMeans"
   ]
  },
  {
   "cell_type": "code",
   "execution_count": 26,
   "metadata": {},
   "outputs": [],
   "source": [
    "import numpy as np\n",
    "import matplotlib.pyplot as plt\n",
    "\n",
    "def euclidean_distance(sample_1, sample_2):\n",
    "    return np.sqrt(np.sum((sample_1-sample_2)**2))\n",
    "\n",
    "class KMeans:\n",
    "\n",
    "    def __init__(self, K=3, max_iters=100):\n",
    "        \n",
    "        self.K = K\n",
    "        self.max_iters = max_iters\n",
    "        self.clusters = [[] for i in range(self.K)]   # список индексов объектов каждого кластера\n",
    "        self.centroids = []   #центры кластеров\n",
    "\n",
    "    def predict(self, X):\n",
    "        \n",
    "        self.X = X\n",
    "        centroids_idxs = np.random.choice(self.X.shape[0], self.K, replace=False) #выбор K различных центров кластеров\n",
    "        self.centroids = [self.X[i] for i in centroids_idxs]\n",
    "\n",
    "        for iter in range(self.max_iters):\n",
    "            \n",
    "            self.clusters = self.create_clusters(self.centroids)  #назначение объекта к ближайшему центроиду\n",
    "            centroids_old = self.centroids\n",
    "            self.centroids = self.new_centroids(self.clusters)  #вычисление новых центроидов\n",
    "            \n",
    "            distances = [euclidean_distance(centroids_old[i], self.centroids[i]) for i in range(self.K)]\n",
    "            if sum(distances) == 0:\n",
    "                break\n",
    "\n",
    "        return self.get_predictions(self.clusters)   # получение меток\n",
    " \n",
    "    def get_predictions(self, clusters):\n",
    "        \n",
    "        # назначение кластеров объектам\n",
    "        \n",
    "        predictions = np.empty(self.X.shape[0])\n",
    "        for cluster_idx, cluster in enumerate(clusters):\n",
    "            for idx in cluster:\n",
    "                predictions[idx] = cluster_idx\n",
    "\n",
    "        return predictions\n",
    "\n",
    "    def create_clusters(self, centroids):\n",
    "\n",
    "        clusters = [[] for i in range(self.K)]\n",
    "        for idx, sample in enumerate(self.X):\n",
    "            centroid_idx = self.closest_centroid(sample, centroids)  ## расчет расстояния от объекта до центроидов, выбор min\n",
    "            clusters[centroid_idx].append(idx)\n",
    "        return clusters\n",
    "\n",
    "    def closest_centroid(self, sample, centroids):\n",
    "        \n",
    "        #определение расстояние от объекта до каждого центроида\n",
    "        distances = [euclidean_distance(sample, point) for point in centroids]\n",
    "        closest_idx = np.argmin(distances)\n",
    "        return closest_idx\n",
    "\n",
    "    def new_centroids(self, clusters):\n",
    "        \n",
    "        # расчет среднего значения\n",
    "        centroids = np.zeros((self.K, self.X.shape[1]))\n",
    "        for cluster_idx, cluster in enumerate(clusters):\n",
    "            mean_value_cluster = np.mean(self.X[cluster], axis=0)\n",
    "            centroids[cluster_idx] = mean_value_cluster\n",
    "        return centroids"
   ]
  },
  {
   "cell_type": "code",
   "execution_count": 30,
   "metadata": {},
   "outputs": [
    {
     "data": {
      "text/plain": [
       "<matplotlib.collections.PathCollection at 0x2bb02909910>"
      ]
     },
     "execution_count": 30,
     "metadata": {},
     "output_type": "execute_result"
    },
    {
     "data": {
      "image/png": "[encoded data removed]",
      "text/plain": [
       "<Figure size 640x480 with 1 Axes>"
      ]
     },
     "metadata": {},
     "output_type": "display_data"
    }
   ],
   "source": [
    "k = KMeans(K=2, max_iters=100)\n",
    "y_pred = k.predict(X_new_class)\n",
    "plt.scatter(X_new_class[:,0], X_new_class[:,1], c=y_pred)"
   ]
  },
  {
   "cell_type": "code",
   "execution_count": 34,
   "metadata": {},
   "outputs": [
    {
     "name": "stdout",
     "output_type": "stream",
     "text": [
      "              precision    recall  f1-score   support\n",
      "\n",
      "           0       0.94      0.94      0.94     20576\n",
      "           1       0.54      0.52      0.53      2782\n",
      "\n",
      "    accuracy                           0.89     23358\n",
      "   macro avg       0.74      0.73      0.74     23358\n",
      "weighted avg       0.89      0.89      0.89     23358\n",
      "\n"
     ]
    }
   ],
   "source": [
    "test_classification(X_new_class, y_class)"
   ]
  },
  {
   "cell_type": "markdown",
   "metadata": {},
   "source": [
    "### Ridge"
   ]
  },
  {
   "cell_type": "code",
   "execution_count": 54,
   "metadata": {},
   "outputs": [],
   "source": [
    "class MyRidge:\n",
    "    def __init__( self, learning_rate, iterations, alpha ) :\n",
    "        self.learning_rate = learning_rate        \n",
    "        self.iterations = iterations        \n",
    "        self.alpha = alpha\n",
    "\n",
    "    def transform_(self, x):\n",
    "        return np.concatenate((np.ones((len(x), 1)), x), axis = 1)\n",
    "\n",
    "    def loss_func(self, x, y, w):\n",
    "        return sum(y - np.dot(x, w)) ** 2  + self.alpha * (np.matmul(w, w))/x.shape[0]\n",
    "\n",
    "    def fit(self, x, y):\n",
    "        dist = np.inf\n",
    "        eps = 1e-20\n",
    "        X = self.transform_(x)\n",
    "\n",
    "        w = np.zeros(X.shape[1])\n",
    "        iter = 0\n",
    "\n",
    "        while iter <= self.iterations:\n",
    "            loss = self.loss_func(X, y, w)\n",
    "            w = w - ((self.learning_rate * 2 * np.dot(X.T, np.dot(X, w) - y)) + ( 2 * self.alpha * w ))/X.shape[0]\n",
    "            dist = np.abs(loss - self.loss_func(X, y, w))\n",
    "            iter += 1\n",
    "            \n",
    "            if(dist <= eps):\n",
    "                break\n",
    "        print(iter)\n",
    "        self.w = w\n",
    "        return self\n",
    "        \n",
    "\n",
    "    def predict(self, x):\n",
    "        return np.dot(self.transform_(x), self.w)"
   ]
  },
  {
   "cell_type": "code",
   "execution_count": 62,
   "metadata": {},
   "outputs": [
    {
     "name": "stdout",
     "output_type": "stream",
     "text": [
      "<class 'pandas.core.frame.DataFrame'>\n",
      "Index: 150000 entries, 0 to 149999\n",
      "Data columns (total 5 columns):\n",
      " #   Column             Non-Null Count   Dtype  \n",
      "---  ------             --------------   -----  \n",
      " 0   pickup_longitude   150000 non-null  float64\n",
      " 1   pickup_latitude    150000 non-null  float64\n",
      " 2   dropoff_longitude  150000 non-null  float64\n",
      " 3   dropoff_latitude   150000 non-null  float64\n",
      " 4   trip_duration      150000 non-null  int64  \n",
      "dtypes: float64(4), int64(1)\n",
      "memory usage: 6.9 MB\n"
     ]
    }
   ],
   "source": [
    "df = pd.read_csv(\"../data/regression/trip_duration_update.csv\", index_col=0)\n",
    "df = df.head(150000)\n",
    "df.info()"
   ]
  },
  {
   "cell_type": "code",
   "execution_count": 59,
   "metadata": {},
   "outputs": [],
   "source": [
    "y = df['trip_duration']\n",
    "X = df.drop(['trip_duration'], axis=1)"
   ]
  },
  {
   "cell_type": "code",
   "execution_count": 60,
   "metadata": {},
   "outputs": [],
   "source": [
    "X_train, X_test, y_train, y_test = train_test_split(X, y, test_size=0.2)"
   ]
  },
  {
   "cell_type": "code",
   "execution_count": 63,
   "metadata": {},
   "outputs": [
    {
     "data": {
      "text/html": [
       "<div>\n",
       "<style scoped>\n",
       "    .dataframe tbody tr th:only-of-type {\n",
       "        vertical-align: middle;\n",
       "    }\n",
       "\n",
       "    .dataframe tbody tr th {\n",
       "        vertical-align: top;\n",
       "    }\n",
       "\n",
       "    .dataframe thead th {\n",
       "        text-align: right;\n",
       "    }\n",
       "</style>\n",
       "<table border=\"1\" class=\"dataframe\">\n",
       "  <thead>\n",
       "    <tr style=\"text-align: right;\">\n",
       "      <th></th>\n",
       "      <th>pickup_longitude</th>\n",
       "      <th>pickup_latitude</th>\n",
       "      <th>dropoff_longitude</th>\n",
       "      <th>dropoff_latitude</th>\n",
       "    </tr>\n",
       "  </thead>\n",
       "  <tbody>\n",
       "    <tr>\n",
       "      <th>count</th>\n",
       "      <td>1.200000e+05</td>\n",
       "      <td>1.200000e+05</td>\n",
       "      <td>1.200000e+05</td>\n",
       "      <td>1.200000e+05</td>\n",
       "    </tr>\n",
       "    <tr>\n",
       "      <th>mean</th>\n",
       "      <td>-3.357320e-14</td>\n",
       "      <td>-2.287450e-14</td>\n",
       "      <td>-8.293259e-14</td>\n",
       "      <td>9.618203e-15</td>\n",
       "    </tr>\n",
       "    <tr>\n",
       "      <th>std</th>\n",
       "      <td>1.000004e+00</td>\n",
       "      <td>1.000004e+00</td>\n",
       "      <td>1.000004e+00</td>\n",
       "      <td>1.000004e+00</td>\n",
       "    </tr>\n",
       "    <tr>\n",
       "      <th>min</th>\n",
       "      <td>-9.794362e+00</td>\n",
       "      <td>-1.458058e+01</td>\n",
       "      <td>-1.664604e+01</td>\n",
       "      <td>-1.393583e+01</td>\n",
       "    </tr>\n",
       "    <tr>\n",
       "      <th>25%</th>\n",
       "      <td>-4.798483e-01</td>\n",
       "      <td>-4.569624e-01</td>\n",
       "      <td>-4.907190e-01</td>\n",
       "      <td>-4.928275e-01</td>\n",
       "    </tr>\n",
       "    <tr>\n",
       "      <th>50%</th>\n",
       "      <td>-2.179594e-01</td>\n",
       "      <td>8.499089e-02</td>\n",
       "      <td>-1.766621e-01</td>\n",
       "      <td>7.862836e-02</td>\n",
       "    </tr>\n",
       "    <tr>\n",
       "      <th>75%</th>\n",
       "      <td>1.544386e-01</td>\n",
       "      <td>5.437486e-01</td>\n",
       "      <td>2.785323e-01</td>\n",
       "      <td>5.537266e-01</td>\n",
       "    </tr>\n",
       "    <tr>\n",
       "      <th>max</th>\n",
       "      <td>1.447559e+01</td>\n",
       "      <td>1.823550e+01</td>\n",
       "      <td>3.458789e+01</td>\n",
       "      <td>1.741713e+01</td>\n",
       "    </tr>\n",
       "  </tbody>\n",
       "</table>\n",
       "</div>"
      ],
      "text/plain": [
       "       pickup_longitude  pickup_latitude  dropoff_longitude  dropoff_latitude\n",
       "count      1.200000e+05     1.200000e+05       1.200000e+05      1.200000e+05\n",
       "mean      -3.357320e-14    -2.287450e-14      -8.293259e-14      9.618203e-15\n",
       "std        1.000004e+00     1.000004e+00       1.000004e+00      1.000004e+00\n",
       "min       -9.794362e+00    -1.458058e+01      -1.664604e+01     -1.393583e+01\n",
       "25%       -4.798483e-01    -4.569624e-01      -4.907190e-01     -4.928275e-01\n",
       "50%       -2.179594e-01     8.499089e-02      -1.766621e-01      7.862836e-02\n",
       "75%        1.544386e-01     5.437486e-01       2.785323e-01      5.537266e-01\n",
       "max        1.447559e+01     1.823550e+01       3.458789e+01      1.741713e+01"
      ]
     },
     "execution_count": 63,
     "metadata": {},
     "output_type": "execute_result"
    }
   ],
   "source": [
    "from sklearn.preprocessing import StandardScaler\n",
    "\n",
    "standardScaler = StandardScaler()\n",
    "standardScaler.fit(X_train)\n",
    "X_train_std = pd.DataFrame(standardScaler.transform(X_train), columns=X.columns)\n",
    "X_test_std = pd.DataFrame(standardScaler.transform(X_test), columns=X.columns)\n",
    "X_train_std.describe()"
   ]
  },
  {
   "cell_type": "code",
   "execution_count": 65,
   "metadata": {},
   "outputs": [
    {
     "name": "stdout",
     "output_type": "stream",
     "text": [
      "2139\n",
      "MAE: 562.2822749154136\n",
      "MSE: 8823363.78282421\n",
      "R^2: 0.010770296716819394\n"
     ]
    }
   ],
   "source": [
    "ridge = MyRidge(0.01, 5000, 0.9)\n",
    "model = ridge.fit(X_train_std, y_train)\n",
    "y_pred = ridge.predict(X_test_std)\n",
    "print(f'MAE: {mean_absolute_error(y_test, y_pred)}')\n",
    "print(f'MSE: {mean_squared_error(y_test, y_pred)}')\n",
    "print(f'R^2: {r2_score(y_test, y_pred)}')"
   ]
  },
  {
   "cell_type": "code",
   "execution_count": 66,
   "metadata": {},
   "outputs": [
    {
     "name": "stdout",
     "output_type": "stream",
     "text": [
      "[ 962.29146473  268.83681846 -140.11709553  108.72746609  -88.35699295]\n"
     ]
    }
   ],
   "source": [
    "print(ridge.w)"
   ]
  }
 ],
 "metadata": {
  "kernelspec": {
   "display_name": "Python 3 (ipykernel)",
   "language": "python",
   "name": "python3"
  },
  "language_info": {
   "codemirror_mode": {
    "name": "ipython",
    "version": 3
   },
   "file_extension": ".py",
   "mimetype": "text/x-python",
   "name": "python",
   "nbconvert_exporter": "python",
   "pygments_lexer": "ipython3",
   "version": "3.10.7"
  }
 },
 "nbformat": 4,
 "nbformat_minor": 2
}
