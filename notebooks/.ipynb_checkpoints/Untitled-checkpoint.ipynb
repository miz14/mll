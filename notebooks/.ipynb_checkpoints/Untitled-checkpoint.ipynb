{
 "cells": [
  {
   "cell_type": "code",
   "execution_count": 18,
   "id": "2ed72ee5",
   "metadata": {},
   "outputs": [],
   "source": [
    "import folium\n",
    "\n",
    "dfl = df.head(300)\n",
    "m = folium.Map(location=[40.753093719482415, -73.97315979003906], zoom_start=12)\n",
    "result = [folium.Marker([x1, y1]).add_to(m) and folium.Marker([x2, y2]).add_to(m) for x1, y1, x2, y2 in zip(dfl['pickup_latitude'], dfl['pickup_longitude'], dfl['dropoff_latitude'], dfl['dropoff_longitude'])]\n",
    "m.save(\"name1.html\")\n",
    "#40.691510, -74.020491\n",
    "#40.820779, -73.919535\n"
   ]
  },
  {
   "cell_type": "code",
   "execution_count": 95,
   "id": "eaeae8b8",
   "metadata": {
    "scrolled": true
   },
   "outputs": [
    {
     "data": {
      "text/html": [
       "<div>\n",
       "<style scoped>\n",
       "    .dataframe tbody tr th:only-of-type {\n",
       "        vertical-align: middle;\n",
       "    }\n",
       "\n",
       "    .dataframe tbody tr th {\n",
       "        vertical-align: top;\n",
       "    }\n",
       "\n",
       "    .dataframe thead th {\n",
       "        text-align: right;\n",
       "    }\n",
       "</style>\n",
       "<table border=\"1\" class=\"dataframe\">\n",
       "  <thead>\n",
       "    <tr style=\"text-align: right;\">\n",
       "      <th></th>\n",
       "      <th>id</th>\n",
       "      <th>vendor_id</th>\n",
       "      <th>pickup_datetime</th>\n",
       "      <th>dropoff_datetime</th>\n",
       "      <th>passenger_count</th>\n",
       "      <th>pickup_longitude</th>\n",
       "      <th>pickup_latitude</th>\n",
       "      <th>dropoff_longitude</th>\n",
       "      <th>dropoff_latitude</th>\n",
       "      <th>trip_duration</th>\n",
       "    </tr>\n",
       "  </thead>\n",
       "  <tbody>\n",
       "    <tr>\n",
       "      <th>0</th>\n",
       "      <td>id1080784</td>\n",
       "      <td>2.0</td>\n",
       "      <td>2016-02-29 16:40:21</td>\n",
       "      <td>2016-02-29 16:47:01</td>\n",
       "      <td>1</td>\n",
       "      <td>-73.953918</td>\n",
       "      <td>40.778873</td>\n",
       "      <td>-73.963875</td>\n",
       "      <td>40.771164</td>\n",
       "      <td>400</td>\n",
       "    </tr>\n",
       "    <tr>\n",
       "      <th>1</th>\n",
       "      <td>id0889885</td>\n",
       "      <td>1.0</td>\n",
       "      <td>2016-03-11 23:35:37</td>\n",
       "      <td>2016-03-11 23:53:57</td>\n",
       "      <td>2</td>\n",
       "      <td>-73.988312</td>\n",
       "      <td>40.731743</td>\n",
       "      <td>-73.994751</td>\n",
       "      <td>40.694931</td>\n",
       "      <td>1100</td>\n",
       "    </tr>\n",
       "    <tr>\n",
       "      <th>2</th>\n",
       "      <td>id0857912</td>\n",
       "      <td>2.0</td>\n",
       "      <td>2016-02-21 17:59:33</td>\n",
       "      <td>2016-02-21 18:26:48</td>\n",
       "      <td>2</td>\n",
       "      <td>-73.997314</td>\n",
       "      <td>40.721458</td>\n",
       "      <td>-73.948029</td>\n",
       "      <td>40.774918</td>\n",
       "      <td>1635</td>\n",
       "    </tr>\n",
       "    <tr>\n",
       "      <th>3</th>\n",
       "      <td>id3744273</td>\n",
       "      <td>2.0</td>\n",
       "      <td>2016-01-05 09:44:31</td>\n",
       "      <td>2016-01-05 10:03:32</td>\n",
       "      <td>6</td>\n",
       "      <td>-73.961670</td>\n",
       "      <td>40.759720</td>\n",
       "      <td>-73.956779</td>\n",
       "      <td>40.780628</td>\n",
       "      <td>1141</td>\n",
       "    </tr>\n",
       "    <tr>\n",
       "      <th>4</th>\n",
       "      <td>id0232939</td>\n",
       "      <td>1.0</td>\n",
       "      <td>2016-02-17 06:42:23</td>\n",
       "      <td>2016-02-17 06:56:31</td>\n",
       "      <td>1</td>\n",
       "      <td>-74.017120</td>\n",
       "      <td>40.708469</td>\n",
       "      <td>-73.988182</td>\n",
       "      <td>40.740631</td>\n",
       "      <td>848</td>\n",
       "    </tr>\n",
       "    <tr>\n",
       "      <th>...</th>\n",
       "      <td>...</td>\n",
       "      <td>...</td>\n",
       "      <td>...</td>\n",
       "      <td>...</td>\n",
       "      <td>...</td>\n",
       "      <td>...</td>\n",
       "      <td>...</td>\n",
       "      <td>...</td>\n",
       "      <td>...</td>\n",
       "      <td>...</td>\n",
       "    </tr>\n",
       "    <tr>\n",
       "      <th>729317</th>\n",
       "      <td>id3905982</td>\n",
       "      <td>2.0</td>\n",
       "      <td>2016-05-21 13:29:38</td>\n",
       "      <td>2016-05-21 13:34:34</td>\n",
       "      <td>2</td>\n",
       "      <td>-73.965919</td>\n",
       "      <td>40.789780</td>\n",
       "      <td>-73.952637</td>\n",
       "      <td>40.789181</td>\n",
       "      <td>296</td>\n",
       "    </tr>\n",
       "    <tr>\n",
       "      <th>729318</th>\n",
       "      <td>id0102861</td>\n",
       "      <td>1.0</td>\n",
       "      <td>2016-02-22 00:43:11</td>\n",
       "      <td>2016-02-22 00:48:26</td>\n",
       "      <td>1</td>\n",
       "      <td>-73.996666</td>\n",
       "      <td>40.737434</td>\n",
       "      <td>-74.001320</td>\n",
       "      <td>40.731911</td>\n",
       "      <td>315</td>\n",
       "    </tr>\n",
       "    <tr>\n",
       "      <th>729319</th>\n",
       "      <td>id0439699</td>\n",
       "      <td>1.0</td>\n",
       "      <td>2016-04-15 18:56:48</td>\n",
       "      <td>2016-04-15 19:08:01</td>\n",
       "      <td>1</td>\n",
       "      <td>-73.997849</td>\n",
       "      <td>40.761696</td>\n",
       "      <td>-74.001488</td>\n",
       "      <td>40.741207</td>\n",
       "      <td>673</td>\n",
       "    </tr>\n",
       "    <tr>\n",
       "      <th>729320</th>\n",
       "      <td>id2078912</td>\n",
       "      <td>1.0</td>\n",
       "      <td>2016-06-19 09:50:47</td>\n",
       "      <td>2016-06-19 09:58:14</td>\n",
       "      <td>1</td>\n",
       "      <td>-74.006706</td>\n",
       "      <td>40.708244</td>\n",
       "      <td>-74.013550</td>\n",
       "      <td>40.713814</td>\n",
       "      <td>447</td>\n",
       "    </tr>\n",
       "    <tr>\n",
       "      <th>729321</th>\n",
       "      <td>id1053441</td>\n",
       "      <td>2.0</td>\n",
       "      <td>2016-01-01 17:24:16</td>\n",
       "      <td>2016-01-01 17:44:40</td>\n",
       "      <td>4</td>\n",
       "      <td>-74.003342</td>\n",
       "      <td>40.743839</td>\n",
       "      <td>-73.945847</td>\n",
       "      <td>40.712841</td>\n",
       "      <td>1224</td>\n",
       "    </tr>\n",
       "  </tbody>\n",
       "</table>\n",
       "<p>629577 rows × 10 columns</p>\n",
       "</div>"
      ],
      "text/plain": [
       "               id  vendor_id      pickup_datetime     dropoff_datetime  \\\n",
       "0       id1080784        2.0  2016-02-29 16:40:21  2016-02-29 16:47:01   \n",
       "1       id0889885        1.0  2016-03-11 23:35:37  2016-03-11 23:53:57   \n",
       "2       id0857912        2.0  2016-02-21 17:59:33  2016-02-21 18:26:48   \n",
       "3       id3744273        2.0  2016-01-05 09:44:31  2016-01-05 10:03:32   \n",
       "4       id0232939        1.0  2016-02-17 06:42:23  2016-02-17 06:56:31   \n",
       "...           ...        ...                  ...                  ...   \n",
       "729317  id3905982        2.0  2016-05-21 13:29:38  2016-05-21 13:34:34   \n",
       "729318  id0102861        1.0  2016-02-22 00:43:11  2016-02-22 00:48:26   \n",
       "729319  id0439699        1.0  2016-04-15 18:56:48  2016-04-15 19:08:01   \n",
       "729320  id2078912        1.0  2016-06-19 09:50:47  2016-06-19 09:58:14   \n",
       "729321  id1053441        2.0  2016-01-01 17:24:16  2016-01-01 17:44:40   \n",
       "\n",
       "        passenger_count  pickup_longitude  pickup_latitude  dropoff_longitude  \\\n",
       "0                     1        -73.953918        40.778873         -73.963875   \n",
       "1                     2        -73.988312        40.731743         -73.994751   \n",
       "2                     2        -73.997314        40.721458         -73.948029   \n",
       "3                     6        -73.961670        40.759720         -73.956779   \n",
       "4                     1        -74.017120        40.708469         -73.988182   \n",
       "...                 ...               ...              ...                ...   \n",
       "729317                2        -73.965919        40.789780         -73.952637   \n",
       "729318                1        -73.996666        40.737434         -74.001320   \n",
       "729319                1        -73.997849        40.761696         -74.001488   \n",
       "729320                1        -74.006706        40.708244         -74.013550   \n",
       "729321                4        -74.003342        40.743839         -73.945847   \n",
       "\n",
       "        dropoff_latitude  trip_duration  \n",
       "0              40.771164            400  \n",
       "1              40.694931           1100  \n",
       "2              40.774918           1635  \n",
       "3              40.780628           1141  \n",
       "4              40.740631            848  \n",
       "...                  ...            ...  \n",
       "729317         40.789181            296  \n",
       "729318         40.731911            315  \n",
       "729319         40.741207            673  \n",
       "729320         40.713814            447  \n",
       "729321         40.712841           1224  \n",
       "\n",
       "[629577 rows x 10 columns]"
      ]
     },
     "execution_count": 95,
     "metadata": {},
     "output_type": "execute_result"
    }
   ],
   "source": [
    "df2 = df[(40.691510 < df.pickup_latitude) & (40.691510 < df.dropoff_latitude) & (df.pickup_latitude < 40.820779) & (df.dropoff_latitude < 40.820779)]\n",
    "df2 = df2[(-74.020491 < df2.pickup_longitude) & (-74.020491 < df2.dropoff_longitude) & (df2.pickup_longitude < -73.919535) & (df2.dropoff_longitude < -73.919535)]\n",
    "dfl = df2.head(300)\n",
    "m = folium.Map(location=[40.753093719482415, -73.97315979003906], zoom_start=12)\n",
    "result = [folium.Marker([x1, y1]).add_to(m) and folium.Marker([x2, y2]).add_to(m) for x1, y1, x2, y2 in zip(dfl['pickup_latitude'], dfl['pickup_longitude'], dfl['dropoff_latitude'], dfl['dropoff_longitude'])]\n",
    "m.save(\"name2.html\")\n",
    "df2"
   ]
  },
  {
   "cell_type": "code",
   "execution_count": 96,
   "id": "8a42acaa",
   "metadata": {},
   "outputs": [
    {
     "name": "stdout",
     "output_type": "stream",
     "text": [
      "id                             id0000001\n",
      "vendor_id                            1.0\n",
      "pickup_datetime      2016-01-01 00:01:14\n",
      "dropoff_datetime     2016-01-01 00:05:54\n",
      "passenger_count                        0\n",
      "pickup_longitude              -74.020241\n",
      "pickup_latitude                40.691513\n",
      "dropoff_longitude             -74.020447\n",
      "dropoff_latitude               40.691517\n",
      "trip_duration                          1\n",
      "dtype: object\n",
      "id                             id4000000\n",
      "vendor_id                            2.0\n",
      "pickup_datetime      2016-06-30 23:59:37\n",
      "dropoff_datetime     2016-07-01 23:02:03\n",
      "passenger_count                        6\n",
      "pickup_longitude               -73.91954\n",
      "pickup_latitude                 40.82077\n",
      "dropoff_longitude              -73.91954\n",
      "dropoff_latitude               40.820774\n",
      "trip_duration                      86387\n",
      "dtype: object\n",
      "[[(2016, 1, 1), (2016, 1, 2), (2016, 1, 3), (2016, 1, 4), (2016, 1, 5), (2016, 1, 6), (2016, 1, 7), (2016, 1, 8), (2016, 1, 9), (2016, 1, 10), (2016, 1, 11), (2016, 1, 12), (2016, 1, 13), (2016, 1, 14), (2016, 1, 15), (2016, 1, 16), (2016, 1, 17), (2016, 1, 18), (2016, 1, 19), (2016, 1, 20), (2016, 1, 21), (2016, 1, 22), (2016, 1, 23), (2016, 1, 24), (2016, 1, 25), (2016, 1, 26), (2016, 1, 27), (2016, 1, 28), (2016, 1, 29), (2016, 1, 30)], [(2016, 2, 1), (2016, 2, 2), (2016, 2, 3), (2016, 2, 4), (2016, 2, 5), (2016, 2, 6), (2016, 2, 7), (2016, 2, 8), (2016, 2, 9), (2016, 2, 10), (2016, 2, 11), (2016, 2, 12), (2016, 2, 13), (2016, 2, 14), (2016, 2, 15), (2016, 2, 16), (2016, 2, 17), (2016, 2, 18), (2016, 2, 19), (2016, 2, 20), (2016, 2, 21), (2016, 2, 22), (2016, 2, 23), (2016, 2, 24), (2016, 2, 25), (2016, 2, 26), (2016, 2, 27), (2016, 2, 28), (2016, 2, 29), (2016, 2, 30)], [(2016, 3, 1), (2016, 3, 2), (2016, 3, 3), (2016, 3, 4), (2016, 3, 5), (2016, 3, 6), (2016, 3, 7), (2016, 3, 8), (2016, 3, 9), (2016, 3, 10), (2016, 3, 11), (2016, 3, 12), (2016, 3, 13), (2016, 3, 14), (2016, 3, 15), (2016, 3, 16), (2016, 3, 17), (2016, 3, 18), (2016, 3, 19), (2016, 3, 20), (2016, 3, 21), (2016, 3, 22), (2016, 3, 23), (2016, 3, 24), (2016, 3, 25), (2016, 3, 26), (2016, 3, 27), (2016, 3, 28), (2016, 3, 29), (2016, 3, 30)], [(2016, 4, 1), (2016, 4, 2), (2016, 4, 3), (2016, 4, 4), (2016, 4, 5), (2016, 4, 6), (2016, 4, 7), (2016, 4, 8), (2016, 4, 9), (2016, 4, 10), (2016, 4, 11), (2016, 4, 12), (2016, 4, 13), (2016, 4, 14), (2016, 4, 15), (2016, 4, 16), (2016, 4, 17), (2016, 4, 18), (2016, 4, 19), (2016, 4, 20), (2016, 4, 21), (2016, 4, 22), (2016, 4, 23), (2016, 4, 24), (2016, 4, 25), (2016, 4, 26), (2016, 4, 27), (2016, 4, 28), (2016, 4, 29), (2016, 4, 30)], [(2016, 5, 1), (2016, 5, 2), (2016, 5, 3), (2016, 5, 4), (2016, 5, 5), (2016, 5, 6), (2016, 5, 7), (2016, 5, 8), (2016, 5, 9), (2016, 5, 10), (2016, 5, 11), (2016, 5, 12), (2016, 5, 13), (2016, 5, 14), (2016, 5, 15), (2016, 5, 16), (2016, 5, 17), (2016, 5, 18), (2016, 5, 19), (2016, 5, 20), (2016, 5, 21), (2016, 5, 22), (2016, 5, 23), (2016, 5, 24), (2016, 5, 25), (2016, 5, 26), (2016, 5, 27), (2016, 5, 28), (2016, 5, 29), (2016, 5, 30)], [(2016, 6, 1), (2016, 6, 2), (2016, 6, 3), (2016, 6, 4), (2016, 6, 5), (2016, 6, 6), (2016, 6, 7), (2016, 6, 8), (2016, 6, 9), (2016, 6, 10), (2016, 6, 11), (2016, 6, 12), (2016, 6, 13), (2016, 6, 14), (2016, 6, 15), (2016, 6, 16), (2016, 6, 17), (2016, 6, 18), (2016, 6, 19), (2016, 6, 20), (2016, 6, 21), (2016, 6, 22), (2016, 6, 23), (2016, 6, 24), (2016, 6, 25), (2016, 6, 26), (2016, 6, 27), (2016, 6, 28), (2016, 6, 29), (2016, 6, 30)]]\n"
     ]
    }
   ],
   "source": [
    "print(df2.min())\n",
    "print(df2.max())\n",
    "\n",
    "dates = [[(2016, i, j) for j in range(1, 31)] for i in range(1, 7)]\n",
    "print(dates)"
   ]
  },
  {
   "cell_type": "code",
   "execution_count": 97,
   "id": "f1f53faa",
   "metadata": {},
   "outputs": [
    {
     "name": "stdout",
     "output_type": "stream",
     "text": [
      "725295\n",
      "<class 'pandas.core.frame.DataFrame'>\n",
      "Int64Index: 629577 entries, 0 to 729321\n",
      "Data columns (total 28 columns):\n",
      " #   Column             Non-Null Count   Dtype  \n",
      "---  ------             --------------   -----  \n",
      " 0   id                 629577 non-null  object \n",
      " 1   pickup_datetime    629577 non-null  object \n",
      " 2   dropoff_datetime   629577 non-null  object \n",
      " 3   pickup_longitude   629577 non-null  float64\n",
      " 4   pickup_latitude    629577 non-null  float64\n",
      " 5   dropoff_longitude  629577 non-null  float64\n",
      " 6   dropoff_latitude   629577 non-null  float64\n",
      " 7   trip_duration      629577 non-null  int64  \n",
      " 8   hour               629577 non-null  int64  \n",
      " 9   hour_4_9           629577 non-null  uint8  \n",
      " 10  hour_10_15         629577 non-null  uint8  \n",
      " 11  hour_16_15         629577 non-null  uint8  \n",
      " 12  hour_night         629577 non-null  uint8  \n",
      " 13  mounth_1           629577 non-null  uint8  \n",
      " 14  mounth_2           629577 non-null  uint8  \n",
      " 15  mounth_3           629577 non-null  uint8  \n",
      " 16  mounth_4           629577 non-null  uint8  \n",
      " 17  mounth_5           629577 non-null  uint8  \n",
      " 18  mounth_6           629577 non-null  uint8  \n",
      " 19  vendor_id_1.0      629577 non-null  uint8  \n",
      " 20  vendor_id_2.0      629577 non-null  uint8  \n",
      " 21  passenger_count_0  629577 non-null  uint8  \n",
      " 22  passenger_count_1  629577 non-null  uint8  \n",
      " 23  passenger_count_2  629577 non-null  uint8  \n",
      " 24  passenger_count_3  629577 non-null  uint8  \n",
      " 25  passenger_count_4  629577 non-null  uint8  \n",
      " 26  passenger_count_5  629577 non-null  uint8  \n",
      " 27  passenger_count_6  629577 non-null  uint8  \n",
      "dtypes: float64(4), int64(2), object(3), uint8(19)\n",
      "memory usage: 59.4+ MB\n"
     ]
    }
   ],
   "source": [
    "print(len(df[\"id\"].unique()))\n",
    "\n",
    "#df[\"latitude\"] = df[\"pickup_latitude\"] - df[\"pickup_latitude\"]\n",
    "df2[\"hour\"] = df2[\"pickup_datetime\"].apply(lambda date: int(date[11:13]))\n",
    "df2[\"mounth\"] = df2[\"pickup_datetime\"].apply(lambda date: int(date[5:7]))\n",
    "#df2[\"day\"] = df2[\"pickup_datetime\"].apply(lambda date: int(date[8:10]))\n",
    "df_save_hour = df2[\"hour\"]\n",
    "df_hours = pd.get_dummies(df_save_hour, prefix=\"hour\")\n",
    "df_test = df2\n",
    "df_test[\"hour_4_9\"] = df_hours.hour_4 + df_hours.hour_5 + df_hours.hour_6 + df_hours.hour_7 + df_hours.hour_8 + df_hours.hour_9\n",
    "df_test[\"hour_10_15\"] = df_hours.hour_10 + df_hours.hour_11 + df_hours.hour_12 + df_hours.hour_13 + df_hours.hour_14 + df_hours.hour_15\n",
    "df_test[\"hour_16_15\"] = df_hours.hour_16 + df_hours.hour_17 + df_hours.hour_18 + df_hours.hour_19 + df_hours.hour_20 + df_hours.hour_21\n",
    "df_test[\"hour_night\"] = df_hours.hour_22 + df_hours.hour_23 + df_hours.hour_0 + df_hours.hour_1 + df_hours.hour_2 + df_hours.hour_3\n",
    "df_test = pd.get_dummies(df_test, prefix=[\"mounth\"], columns=[\"mounth\"])\n",
    "df_test = pd.get_dummies(df_test, prefix=[\"vendor_id\"], columns=[\"vendor_id\"])\n",
    "df_test = pd.get_dummies(df_test, prefix=[\"passenger_count\"], columns=[\"passenger_count\"])\n",
    "df_test.info()\n",
    "#df_test = pd.get_dummies(df, prefix=[\"day\"], columns=[\"day\"])\n",
    "\n",
    "#print(df['pickup_datetime'][0])\n",
    "#print(dt.strptime(df['pickup_datetime'][0], '%Y-%m-%d %H:%M:%S').date().toordinal())\n",
    "#print(dt.strptime(df['pickup_datetime'][0], '%Y-%m-%d %H:%M:%S').time().toordinal())"
   ]
  },
  {
   "cell_type": "markdown",
   "id": "942511e6",
   "metadata": {},
   "source": [
    "# Задача 1\n",
    "\n",
    "**Загрузите датасет для регрессии, выполните предварительную обработку (удалите пропуски, приведите все признаки к числам), выделите целевой признак и предикторы, разбейте данные на обучающую и тестовую выборку.**"
   ]
  },
  {
   "cell_type": "code",
   "execution_count": 85,
   "id": "4f5fec89",
   "metadata": {},
   "outputs": [],
   "source": [
    "import pandas as pd\n",
    "import numpy as np\n",
    "from matplotlib import pyplot as plt\n",
    "import matplotlib.dates as mdates\n",
    "from sklearn.linear_model import LinearRegression, Lasso, Ridge\n",
    "from sklearn.metrics import mean_squared_error, mean_absolute_error, mean_absolute_percentage_error\n",
    "from math import sqrt, pow\n",
    "from sklearn.model_selection import GridSearchCV, RandomizedSearchCV\n",
    "from sklearn.model_selection import train_test_split\n",
    "from sklearn.preprocessing import PolynomialFeatures\n",
    "from datetime import datetime as dt"
   ]
  },
  {
   "cell_type": "markdown",
   "id": "d02e6211",
   "metadata": {},
   "source": [
    "- **Загрузка датасета**"
   ]
  },
  {
   "cell_type": "code",
   "execution_count": 86,
   "id": "69613c7f",
   "metadata": {},
   "outputs": [
    {
     "data": {
      "text/html": [
       "<div>\n",
       "<style scoped>\n",
       "    .dataframe tbody tr th:only-of-type {\n",
       "        vertical-align: middle;\n",
       "    }\n",
       "\n",
       "    .dataframe tbody tr th {\n",
       "        vertical-align: top;\n",
       "    }\n",
       "\n",
       "    .dataframe thead th {\n",
       "        text-align: right;\n",
       "    }\n",
       "</style>\n",
       "<table border=\"1\" class=\"dataframe\">\n",
       "  <thead>\n",
       "    <tr style=\"text-align: right;\">\n",
       "      <th></th>\n",
       "      <th>id</th>\n",
       "      <th>vendor_id</th>\n",
       "      <th>pickup_datetime</th>\n",
       "      <th>dropoff_datetime</th>\n",
       "      <th>passenger_count</th>\n",
       "      <th>pickup_longitude</th>\n",
       "      <th>pickup_latitude</th>\n",
       "      <th>dropoff_longitude</th>\n",
       "      <th>dropoff_latitude</th>\n",
       "      <th>trip_duration</th>\n",
       "    </tr>\n",
       "  </thead>\n",
       "  <tbody>\n",
       "    <tr>\n",
       "      <th>0</th>\n",
       "      <td>id1080784</td>\n",
       "      <td>2.0</td>\n",
       "      <td>2016-02-29 16:40:21</td>\n",
       "      <td>2016-02-29 16:47:01</td>\n",
       "      <td>1</td>\n",
       "      <td>-73.953918</td>\n",
       "      <td>40.778873</td>\n",
       "      <td>-73.963875</td>\n",
       "      <td>40.771164</td>\n",
       "      <td>400</td>\n",
       "    </tr>\n",
       "    <tr>\n",
       "      <th>1</th>\n",
       "      <td>id0889885</td>\n",
       "      <td>1.0</td>\n",
       "      <td>2016-03-11 23:35:37</td>\n",
       "      <td>2016-03-11 23:53:57</td>\n",
       "      <td>2</td>\n",
       "      <td>-73.988312</td>\n",
       "      <td>40.731743</td>\n",
       "      <td>-73.994751</td>\n",
       "      <td>40.694931</td>\n",
       "      <td>1100</td>\n",
       "    </tr>\n",
       "    <tr>\n",
       "      <th>2</th>\n",
       "      <td>id0857912</td>\n",
       "      <td>2.0</td>\n",
       "      <td>2016-02-21 17:59:33</td>\n",
       "      <td>2016-02-21 18:26:48</td>\n",
       "      <td>2</td>\n",
       "      <td>-73.997314</td>\n",
       "      <td>40.721458</td>\n",
       "      <td>-73.948029</td>\n",
       "      <td>40.774918</td>\n",
       "      <td>1635</td>\n",
       "    </tr>\n",
       "    <tr>\n",
       "      <th>3</th>\n",
       "      <td>id3744273</td>\n",
       "      <td>2.0</td>\n",
       "      <td>2016-01-05 09:44:31</td>\n",
       "      <td>2016-01-05 10:03:32</td>\n",
       "      <td>6</td>\n",
       "      <td>-73.961670</td>\n",
       "      <td>40.759720</td>\n",
       "      <td>-73.956779</td>\n",
       "      <td>40.780628</td>\n",
       "      <td>1141</td>\n",
       "    </tr>\n",
       "    <tr>\n",
       "      <th>4</th>\n",
       "      <td>id0232939</td>\n",
       "      <td>1.0</td>\n",
       "      <td>2016-02-17 06:42:23</td>\n",
       "      <td>2016-02-17 06:56:31</td>\n",
       "      <td>1</td>\n",
       "      <td>-74.017120</td>\n",
       "      <td>40.708469</td>\n",
       "      <td>-73.988182</td>\n",
       "      <td>40.740631</td>\n",
       "      <td>848</td>\n",
       "    </tr>\n",
       "    <tr>\n",
       "      <th>...</th>\n",
       "      <td>...</td>\n",
       "      <td>...</td>\n",
       "      <td>...</td>\n",
       "      <td>...</td>\n",
       "      <td>...</td>\n",
       "      <td>...</td>\n",
       "      <td>...</td>\n",
       "      <td>...</td>\n",
       "      <td>...</td>\n",
       "      <td>...</td>\n",
       "    </tr>\n",
       "    <tr>\n",
       "      <th>729317</th>\n",
       "      <td>id3905982</td>\n",
       "      <td>2.0</td>\n",
       "      <td>2016-05-21 13:29:38</td>\n",
       "      <td>2016-05-21 13:34:34</td>\n",
       "      <td>2</td>\n",
       "      <td>-73.965919</td>\n",
       "      <td>40.789780</td>\n",
       "      <td>-73.952637</td>\n",
       "      <td>40.789181</td>\n",
       "      <td>296</td>\n",
       "    </tr>\n",
       "    <tr>\n",
       "      <th>729318</th>\n",
       "      <td>id0102861</td>\n",
       "      <td>1.0</td>\n",
       "      <td>2016-02-22 00:43:11</td>\n",
       "      <td>2016-02-22 00:48:26</td>\n",
       "      <td>1</td>\n",
       "      <td>-73.996666</td>\n",
       "      <td>40.737434</td>\n",
       "      <td>-74.001320</td>\n",
       "      <td>40.731911</td>\n",
       "      <td>315</td>\n",
       "    </tr>\n",
       "    <tr>\n",
       "      <th>729319</th>\n",
       "      <td>id0439699</td>\n",
       "      <td>1.0</td>\n",
       "      <td>2016-04-15 18:56:48</td>\n",
       "      <td>2016-04-15 19:08:01</td>\n",
       "      <td>1</td>\n",
       "      <td>-73.997849</td>\n",
       "      <td>40.761696</td>\n",
       "      <td>-74.001488</td>\n",
       "      <td>40.741207</td>\n",
       "      <td>673</td>\n",
       "    </tr>\n",
       "    <tr>\n",
       "      <th>729320</th>\n",
       "      <td>id2078912</td>\n",
       "      <td>1.0</td>\n",
       "      <td>2016-06-19 09:50:47</td>\n",
       "      <td>2016-06-19 09:58:14</td>\n",
       "      <td>1</td>\n",
       "      <td>-74.006706</td>\n",
       "      <td>40.708244</td>\n",
       "      <td>-74.013550</td>\n",
       "      <td>40.713814</td>\n",
       "      <td>447</td>\n",
       "    </tr>\n",
       "    <tr>\n",
       "      <th>729321</th>\n",
       "      <td>id1053441</td>\n",
       "      <td>2.0</td>\n",
       "      <td>2016-01-01 17:24:16</td>\n",
       "      <td>2016-01-01 17:44:40</td>\n",
       "      <td>4</td>\n",
       "      <td>-74.003342</td>\n",
       "      <td>40.743839</td>\n",
       "      <td>-73.945847</td>\n",
       "      <td>40.712841</td>\n",
       "      <td>1224</td>\n",
       "    </tr>\n",
       "  </tbody>\n",
       "</table>\n",
       "<p>729322 rows × 10 columns</p>\n",
       "</div>"
      ],
      "text/plain": [
       "               id  vendor_id      pickup_datetime     dropoff_datetime  \\\n",
       "0       id1080784        2.0  2016-02-29 16:40:21  2016-02-29 16:47:01   \n",
       "1       id0889885        1.0  2016-03-11 23:35:37  2016-03-11 23:53:57   \n",
       "2       id0857912        2.0  2016-02-21 17:59:33  2016-02-21 18:26:48   \n",
       "3       id3744273        2.0  2016-01-05 09:44:31  2016-01-05 10:03:32   \n",
       "4       id0232939        1.0  2016-02-17 06:42:23  2016-02-17 06:56:31   \n",
       "...           ...        ...                  ...                  ...   \n",
       "729317  id3905982        2.0  2016-05-21 13:29:38  2016-05-21 13:34:34   \n",
       "729318  id0102861        1.0  2016-02-22 00:43:11  2016-02-22 00:48:26   \n",
       "729319  id0439699        1.0  2016-04-15 18:56:48  2016-04-15 19:08:01   \n",
       "729320  id2078912        1.0  2016-06-19 09:50:47  2016-06-19 09:58:14   \n",
       "729321  id1053441        2.0  2016-01-01 17:24:16  2016-01-01 17:44:40   \n",
       "\n",
       "        passenger_count  pickup_longitude  pickup_latitude  dropoff_longitude  \\\n",
       "0                     1        -73.953918        40.778873         -73.963875   \n",
       "1                     2        -73.988312        40.731743         -73.994751   \n",
       "2                     2        -73.997314        40.721458         -73.948029   \n",
       "3                     6        -73.961670        40.759720         -73.956779   \n",
       "4                     1        -74.017120        40.708469         -73.988182   \n",
       "...                 ...               ...              ...                ...   \n",
       "729317                2        -73.965919        40.789780         -73.952637   \n",
       "729318                1        -73.996666        40.737434         -74.001320   \n",
       "729319                1        -73.997849        40.761696         -74.001488   \n",
       "729320                1        -74.006706        40.708244         -74.013550   \n",
       "729321                4        -74.003342        40.743839         -73.945847   \n",
       "\n",
       "        dropoff_latitude  trip_duration  \n",
       "0              40.771164            400  \n",
       "1              40.694931           1100  \n",
       "2              40.774918           1635  \n",
       "3              40.780628           1141  \n",
       "4              40.740631            848  \n",
       "...                  ...            ...  \n",
       "729317         40.789181            296  \n",
       "729318         40.731911            315  \n",
       "729319         40.741207            673  \n",
       "729320         40.713814            447  \n",
       "729321         40.712841           1224  \n",
       "\n",
       "[729322 rows x 10 columns]"
      ]
     },
     "execution_count": 86,
     "metadata": {},
     "output_type": "execute_result"
    }
   ],
   "source": [
    "df = pd.read_csv('../data/trip_duration_task.csv')\n",
    "\n",
    "df"
   ]
  },
  {
   "cell_type": "markdown",
   "id": "70506d1c",
   "metadata": {},
   "source": [
    "## Предобработка датасета\n",
    "\n",
    "- **Удаление столбцов id, dropoff_datetime(т.к. является искомым)**"
   ]
  },
  {
   "cell_type": "code",
   "execution_count": 87,
   "id": "8b1f1b9f",
   "metadata": {},
   "outputs": [
    {
     "name": "stdout",
     "output_type": "stream",
     "text": [
      "<class 'pandas.core.frame.DataFrame'>\n",
      "RangeIndex: 729322 entries, 0 to 729321\n",
      "Data columns (total 8 columns):\n",
      " #   Column             Non-Null Count   Dtype  \n",
      "---  ------             --------------   -----  \n",
      " 0   vendor_id          727135 non-null  float64\n",
      " 1   pickup_datetime    729322 non-null  object \n",
      " 2   passenger_count    729322 non-null  int64  \n",
      " 3   pickup_longitude   729322 non-null  float64\n",
      " 4   pickup_latitude    727475 non-null  float64\n",
      " 5   dropoff_longitude  729322 non-null  float64\n",
      " 6   dropoff_latitude   729322 non-null  float64\n",
      " 7   trip_duration      729322 non-null  int64  \n",
      "dtypes: float64(5), int64(2), object(1)\n",
      "memory usage: 44.5+ MB\n"
     ]
    }
   ],
   "source": [
    "df1 = df.drop([\"id\", \"dropoff_datetime\"], axis=1)\n",
    "df1.info()"
   ]
  },
  {
   "cell_type": "markdown",
   "id": "0c7a345c",
   "metadata": {},
   "source": [
    "- **Исключение пустых строк**"
   ]
  },
  {
   "cell_type": "code",
   "execution_count": 88,
   "id": "38abd4a6",
   "metadata": {},
   "outputs": [],
   "source": [
    "df2 = df1.dropna()"
   ]
  },
  {
   "cell_type": "markdown",
   "id": "3d20bd12",
   "metadata": {},
   "source": [
    "- **Отбор основных путей перездок для улучшения результата прогноза**"
   ]
  },
  {
   "cell_type": "code",
   "execution_count": 89,
   "id": "c6eb2538",
   "metadata": {},
   "outputs": [],
   "source": [
    "import folium\n",
    "\n",
    "dfl = df.head(500)\n",
    "m = folium.Map(location=[40.753093719482415, -73.97315979003906], zoom_start=12)\n",
    "result = [folium.Marker([x1, y1]).add_to(m) and folium.Marker([x2, y2]).add_to(m) for x1, y1, x2, y2 in zip(dfl['pickup_latitude'], dfl['pickup_longitude'], dfl['dropoff_latitude'], dfl['dropoff_longitude'])]\n",
    "m.save(\"name1.html\")\n",
    "#40.691510, -74.020491\n",
    "#40.820779, -73.919535\n",
    "\n",
    "df3 = df2[(40.691510 < df2.pickup_latitude) & (40.691510 < df2.dropoff_latitude) & (df2.pickup_latitude < 40.820779) & (df2.dropoff_latitude < 40.820779)]\n",
    "df3 = df3[(-74.020491 < df3.pickup_longitude) & (-74.020491 < df3.dropoff_longitude) & (df3.pickup_longitude < -73.919535) & (df3.dropoff_longitude < -73.919535)]"
   ]
  },
  {
   "cell_type": "markdown",
   "id": "423d3cb1",
   "metadata": {},
   "source": [
    "![plot](./loc.png)"
   ]
  },
  {
   "cell_type": "markdown",
   "id": "4716ea4a",
   "metadata": {},
   "source": [
    "- **Выделение прзнака из даты отправки - часовой период, из кол-ва пассажиров - 2 типа вместительности; удаление столбца vendor_idt**"
   ]
  },
  {
   "cell_type": "code",
   "execution_count": 90,
   "id": "b177fa05",
   "metadata": {
    "scrolled": true
   },
   "outputs": [
    {
     "name": "stdout",
     "output_type": "stream",
     "text": [
      "[1 2 6 3 4 5 0]\n",
      "<class 'pandas.core.frame.DataFrame'>\n",
      "Int64Index: 629577 entries, 0 to 729321\n",
      "Data columns (total 11 columns):\n",
      " #   Column             Non-Null Count   Dtype  \n",
      "---  ------             --------------   -----  \n",
      " 0   pickup_longitude   629577 non-null  float64\n",
      " 1   pickup_latitude    629577 non-null  float64\n",
      " 2   dropoff_longitude  629577 non-null  float64\n",
      " 3   dropoff_latitude   629577 non-null  float64\n",
      " 4   trip_duration      629577 non-null  int64  \n",
      " 5   hour_4_9           629577 non-null  uint8  \n",
      " 6   hour_10_15         629577 non-null  uint8  \n",
      " 7   hour_16_15         629577 non-null  uint8  \n",
      " 8   hour_night         629577 non-null  uint8  \n",
      " 9   pas0-3             629577 non-null  int64  \n",
      " 10  pas4-6             629577 non-null  int64  \n",
      "dtypes: float64(4), int64(3), uint8(4)\n",
      "memory usage: 40.8 MB\n"
     ]
    }
   ],
   "source": [
    "df4 = df3\n",
    "df_hours = pd.get_dummies(df4[\"pickup_datetime\"].apply(lambda date: int(date[11:13])), prefix=\"hour\")\n",
    "df4[\"hour_4_9\"] = df_hours.hour_4 + df_hours.hour_5 + df_hours.hour_6 + df_hours.hour_7 + df_hours.hour_8 + df_hours.hour_9\n",
    "df4[\"hour_10_15\"] = df_hours.hour_10 + df_hours.hour_11 + df_hours.hour_12 + df_hours.hour_13 + df_hours.hour_14 + df_hours.hour_15\n",
    "df4[\"hour_16_15\"] = df_hours.hour_16 + df_hours.hour_17 + df_hours.hour_18 + df_hours.hour_19 + df_hours.hour_20 + df_hours.hour_21\n",
    "df4[\"hour_night\"] = df_hours.hour_22 + df_hours.hour_23 + df_hours.hour_0 + df_hours.hour_1 + df_hours.hour_2 + df_hours.hour_3\n",
    "\n",
    "print(df4[\"passenger_count\"].unique())\n",
    "df4[\"pas0-3\"] = df4[\"passenger_count\"].apply(lambda count: 1 if count < 4 else 0)\n",
    "df4[\"pas4-6\"] = df4[\"passenger_count\"].apply(lambda count: 1 if count > 3 else 0)\n",
    "\n",
    "df4 = df4.drop([\"pickup_datetime\", \"vendor_id\", \"passenger_count\"], axis=1)\n",
    "df4.info()"
   ]
  },
  {
   "cell_type": "markdown",
   "id": "0763ba59",
   "metadata": {},
   "source": [
    "- **Избавляемся от слишком завышенных параметров времени поездки**"
   ]
  },
  {
   "cell_type": "code",
   "execution_count": 91,
   "id": "33ffc629",
   "metadata": {
    "scrolled": true
   },
   "outputs": [
    {
     "name": "stdout",
     "output_type": "stream",
     "text": [
      "838\n",
      "<class 'pandas.core.frame.DataFrame'>\n",
      "Int64Index: 628739 entries, 0 to 729321\n",
      "Data columns (total 11 columns):\n",
      " #   Column             Non-Null Count   Dtype  \n",
      "---  ------             --------------   -----  \n",
      " 0   pickup_longitude   628739 non-null  float64\n",
      " 1   pickup_latitude    628739 non-null  float64\n",
      " 2   dropoff_longitude  628739 non-null  float64\n",
      " 3   dropoff_latitude   628739 non-null  float64\n",
      " 4   trip_duration      628739 non-null  int64  \n",
      " 5   hour_4_9           628739 non-null  uint8  \n",
      " 6   hour_10_15         628739 non-null  uint8  \n",
      " 7   hour_16_15         628739 non-null  uint8  \n",
      " 8   hour_night         628739 non-null  uint8  \n",
      " 9   pas0-3             628739 non-null  int64  \n",
      " 10  pas4-6             628739 non-null  int64  \n",
      "dtypes: float64(4), int64(3), uint8(4)\n",
      "memory usage: 40.8 MB\n"
     ]
    }
   ],
   "source": [
    "df5 = df4\n",
    "print(df5[df5[\"trip_duration\"]>8000].shape[0])\n",
    "df5 = df5[df5[\"trip_duration\"]<8000]\n",
    "df5.info()"
   ]
  },
  {
   "cell_type": "markdown",
   "id": "6a9aba1e",
   "metadata": {},
   "source": [
    "- **Выделение целевого признака и предикатов.**"
   ]
  },
  {
   "cell_type": "code",
   "execution_count": 92,
   "id": "d6df9171",
   "metadata": {},
   "outputs": [],
   "source": [
    "y = df5['trip_duration']\n",
    "X = df5.drop(['trip_duration'], axis = 1)"
   ]
  },
  {
   "cell_type": "code",
   "execution_count": 93,
   "id": "ce20d00b",
   "metadata": {},
   "outputs": [],
   "source": [
    "X_train, X_test, y_train, y_test = train_test_split(X, y, test_size=0.7)"
   ]
  },
  {
   "cell_type": "code",
   "execution_count": 94,
   "id": "eaffb26d",
   "metadata": {},
   "outputs": [
    {
     "data": {
      "text/plain": [
       "((188621, 10), (188621,), (440118, 10), (440118,))"
      ]
     },
     "execution_count": 94,
     "metadata": {},
     "output_type": "execute_result"
    }
   ],
   "source": [
    "X_train.shape, y_train.shape, X_test.shape, y_test.shape"
   ]
  },
  {
   "cell_type": "markdown",
   "id": "851ab728",
   "metadata": {},
   "source": [
    "# Задача 2\n",
    "\n",
    "**Решите задачу регрессии на ваших данных с использованием моделей sklearn (линейная регрессия + L1, L2), для моделей с регуляризациями подберите гиперпараметр.**"
   ]
  },
  {
   "cell_type": "markdown",
   "id": "8eded0a9",
   "metadata": {},
   "source": [
    "- **!Подготовка нескольких гиперпараметров**"
   ]
  },
  {
   "cell_type": "code",
   "execution_count": 31,
   "id": "41bb0f1d",
   "metadata": {},
   "outputs": [],
   "source": [
    "parameters = {'alpha': np.arange(0.1, 1, 0.05)}"
   ]
  },
  {
   "cell_type": "markdown",
   "id": "d48c365f",
   "metadata": {},
   "source": [
    "- **Линейная регрессия.**"
   ]
  },
  {
   "cell_type": "code",
   "execution_count": 32,
   "id": "ff0cb715",
   "metadata": {},
   "outputs": [],
   "source": [
    "lr = LinearRegression().fit(X_train, y_train)\n",
    "y_pred = lr.predict(X_test)\n"
   ]
  },
  {
   "cell_type": "code",
   "execution_count": 33,
   "id": "1eb6ae5d",
   "metadata": {},
   "outputs": [
    {
     "name": "stdout",
     "output_type": "stream",
     "text": [
      "MAE: 341.1234890415752\n",
      "MSE: 202965.0035545865\n",
      "RMSE: 450.5163743468005\n",
      "MAPE: 1.018035107416991\n",
      "R^2: 0.029860059133300698\n"
     ]
    }
   ],
   "source": [
    "print(f'MAE: {mean_absolute_error(y_test, y_pred)}')\n",
    "print(f'MSE: {mean_squared_error(y_test, y_pred)}')\n",
    "print(f'RMSE: {sqrt(mean_squared_error(y_test, y_pred))}')\n",
    "print(f'MAPE: {sqrt(mean_absolute_percentage_error(y_test, y_pred))}')\n",
    "score_lr = lr.score(X_test, y_test)\n",
    "print(f'R^2: {score_lr}')"
   ]
  },
  {
   "cell_type": "code",
   "execution_count": 34,
   "id": "7937db11",
   "metadata": {},
   "outputs": [
    {
     "data": {
      "text/plain": [
       "array([-2.08367339e+03, -1.76556090e+02,  2.67961262e+03, -2.65387101e+03,\n",
       "       -1.16687884e+15, -1.16687884e+15, -1.16687884e+15, -1.16687884e+15,\n",
       "       -2.18366488e+14, -2.18366488e+14])"
      ]
     },
     "execution_count": 34,
     "metadata": {},
     "output_type": "execute_result"
    }
   ],
   "source": [
    "lr.coef_"
   ]
  },
  {
   "cell_type": "markdown",
   "id": "94b1ca20",
   "metadata": {},
   "source": [
    "- **Линейная регрессия. Регуляризация L1 / Ridge.**"
   ]
  },
  {
   "cell_type": "code",
   "execution_count": 35,
   "id": "01eefa8e",
   "metadata": {},
   "outputs": [],
   "source": [
    "# L1(RandomizedSearchCV)\n",
    "ridge_optimal = RandomizedSearchCV(Ridge(), parameters).fit(X_train, y_train)\n",
    "ridge = Ridge(alpha=ridge_optimal.best_params_['alpha']).fit(X_train, y_train)\n",
    "y_pred = ridge.predict(X_test)\n"
   ]
  },
  {
   "cell_type": "code",
   "execution_count": 36,
   "id": "023370c0",
   "metadata": {},
   "outputs": [
    {
     "name": "stdout",
     "output_type": "stream",
     "text": [
      "MAE: 341.07176164072\n",
      "MSE: 202956.425591183\n",
      "RMSE: 450.5068541001158\n",
      "MAPE: 1.0178538186152335\n",
      "R^2: 0.029901060413143332\n"
     ]
    }
   ],
   "source": [
    "print(f'MAE: {mean_absolute_error(y_test, y_pred)}')\n",
    "print(f'MSE: {mean_squared_error(y_test, y_pred)}')\n",
    "print(f'RMSE: {sqrt(mean_squared_error(y_test, y_pred))}')\n",
    "print(f'MAPE: {sqrt(mean_absolute_percentage_error(y_test, y_pred))}')\n",
    "score_lr_L1_RandomSearchCV = ridge.score(X_test, y_test)\n",
    "print(f'R^2: {score_lr_L1_RandomSearchCV}')"
   ]
  },
  {
   "cell_type": "code",
   "execution_count": 37,
   "id": "be8d0400",
   "metadata": {},
   "outputs": [
    {
     "data": {
      "text/plain": [
       "array([-2070.39546541,  -186.04690864,  2664.94295195, -2643.72546617,\n",
       "         -33.89187604,    78.18026526,    17.72964261,   -62.01803165,\n",
       "          -5.63969708,     5.63969708])"
      ]
     },
     "execution_count": 37,
     "metadata": {},
     "output_type": "execute_result"
    }
   ],
   "source": [
    "ridge.coef_"
   ]
  },
  {
   "cell_type": "code",
   "execution_count": 38,
   "id": "c89f7327",
   "metadata": {},
   "outputs": [],
   "source": [
    "# L1(GridSearchCV)\n",
    "ridge_optimal = GridSearchCV(Ridge(), parameters).fit(X_train, y_train)\n",
    "ridge = Ridge(alpha=ridge_optimal.best_params_['alpha']).fit(X_train, y_train)\n",
    "y_pred = ridge.predict(X_test)"
   ]
  },
  {
   "cell_type": "code",
   "execution_count": 39,
   "id": "c2d9417e",
   "metadata": {},
   "outputs": [
    {
     "name": "stdout",
     "output_type": "stream",
     "text": [
      "MAE: 341.07176164072\n",
      "MSE: 202956.425591183\n",
      "RMSE: 450.5068541001158\n",
      "MAPE: 1.0178538186152335\n",
      "R^2: 0.029901060413143332\n"
     ]
    }
   ],
   "source": [
    "print(f'MAE: {mean_absolute_error(y_test, y_pred)}')\n",
    "print(f'MSE: {mean_squared_error(y_test, y_pred)}')\n",
    "print(f'RMSE: {sqrt(mean_squared_error(y_test, y_pred))}')\n",
    "print(f'MAPE: {sqrt(mean_absolute_percentage_error(y_test, y_pred))}')\n",
    "score_lr_L1_GridSearchCV = ridge.score(X_test, y_test)\n",
    "print(f'R^2: {score_lr_L1_GridSearchCV}')"
   ]
  },
  {
   "cell_type": "code",
   "execution_count": 40,
   "id": "cdc393b1",
   "metadata": {},
   "outputs": [
    {
     "data": {
      "text/plain": [
       "array([-2070.39546541,  -186.04690864,  2664.94295195, -2643.72546617,\n",
       "         -33.89187604,    78.18026526,    17.72964261,   -62.01803165,\n",
       "          -5.63969708,     5.63969708])"
      ]
     },
     "execution_count": 40,
     "metadata": {},
     "output_type": "execute_result"
    }
   ],
   "source": [
    "ridge.coef_"
   ]
  },
  {
   "cell_type": "markdown",
   "id": "12f9716a",
   "metadata": {},
   "source": [
    "- **Линейная регрессия. Регуляризация L2 / Lasso.**"
   ]
  },
  {
   "cell_type": "code",
   "execution_count": 41,
   "id": "49a17511",
   "metadata": {},
   "outputs": [],
   "source": [
    "# L2(RandomizedSearchCV)\n",
    "lasso_optimal = RandomizedSearchCV(Lasso(), parameters).fit(X_train, y_train)\n",
    "lasso = Lasso(alpha=lasso_optimal.best_params_['alpha']).fit(X_train, y_train)\n",
    "y_pred = lasso.predict(X_test)"
   ]
  },
  {
   "cell_type": "code",
   "execution_count": 42,
   "id": "401160bb",
   "metadata": {},
   "outputs": [
    {
     "name": "stdout",
     "output_type": "stream",
     "text": [
      "MAE: 341.3076826303044\n",
      "MSE: 203218.64542529138\n",
      "RMSE: 450.7977877333599\n",
      "MAPE: 1.018541363543115\n",
      "R^2: 0.029901060413143332\n"
     ]
    }
   ],
   "source": [
    "print(f'MAE: {mean_absolute_error(y_test, y_pred)}')\n",
    "print(f'MSE: {mean_squared_error(y_test, y_pred)}')\n",
    "print(f'RMSE: {sqrt(mean_squared_error(y_test, y_pred))}')\n",
    "print(f'MAPE: {sqrt(mean_absolute_percentage_error(y_test, y_pred))}')\n",
    "score_lr_L2_RandomSearchCV = ridge.score(X_test, y_test)\n",
    "print(f'R^2: {score_lr_L2_RandomSearchCV}')"
   ]
  },
  {
   "cell_type": "code",
   "execution_count": 43,
   "id": "74829bca",
   "metadata": {},
   "outputs": [
    {
     "data": {
      "text/plain": [
       "array([-1356.13144476,  -378.82277645,  1688.40673517, -2079.0634717 ,\n",
       "         -29.46958571,    81.57971529,    22.64159605,   -51.8534399 ,\n",
       "         -10.20161103,     0.        ])"
      ]
     },
     "execution_count": 43,
     "metadata": {},
     "output_type": "execute_result"
    }
   ],
   "source": [
    "lasso.coef_"
   ]
  },
  {
   "cell_type": "code",
   "execution_count": 44,
   "id": "394c5f23",
   "metadata": {},
   "outputs": [],
   "source": [
    "# L2(GridSearchCV)\n",
    "lasso_optimal = GridSearchCV(Lasso(), parameters).fit(X_train, y_train)\n",
    "lasso = Lasso(alpha=lasso_optimal.best_params_['alpha']).fit(X_train, y_train)\n",
    "y_pred = lasso.predict(X_test)"
   ]
  },
  {
   "cell_type": "code",
   "execution_count": 45,
   "id": "149da510",
   "metadata": {},
   "outputs": [
    {
     "name": "stdout",
     "output_type": "stream",
     "text": [
      "MAE: 341.3076826303044\n",
      "MSE: 203218.64542529138\n",
      "RMSE: 450.7977877333599\n",
      "MAPE: 1.018541363543115\n",
      "R^2: 0.029901060413143332\n"
     ]
    }
   ],
   "source": [
    "print(f'MAE: {mean_absolute_error(y_test, y_pred)}')\n",
    "print(f'MSE: {mean_squared_error(y_test, y_pred)}')\n",
    "print(f'RMSE: {sqrt(mean_squared_error(y_test, y_pred))}')\n",
    "print(f'MAPE: {sqrt(mean_absolute_percentage_error(y_test, y_pred))}')\n",
    "score_lr_L2_GridSearchCV = ridge.score(X_test, y_test)\n",
    "print(f'R^2: {score_lr_L2_GridSearchCV}')"
   ]
  },
  {
   "cell_type": "code",
   "execution_count": 46,
   "id": "a44df321",
   "metadata": {},
   "outputs": [
    {
     "data": {
      "text/plain": [
       "array([-1356.13144476,  -378.82277645,  1688.40673517, -2079.0634717 ,\n",
       "         -29.46958571,    81.57971529,    22.64159605,   -51.8534399 ,\n",
       "         -10.20161103,     0.        ])"
      ]
     },
     "execution_count": 46,
     "metadata": {},
     "output_type": "execute_result"
    }
   ],
   "source": [
    "lasso.coef_"
   ]
  },
  {
   "cell_type": "markdown",
   "id": "5c337ed7",
   "metadata": {},
   "source": [
    "# Задача 3\n",
    "\n",
    "**Решите задачу регрессии на ваших данных с использованием моделей sklearn (полиномиальная регрессия + L1, L2), для моделей с регуляризациями подберите гиперпараметр.**"
   ]
  },
  {
   "cell_type": "markdown",
   "id": "9867ef36",
   "metadata": {},
   "source": [
    "- **Добавление предиката, степень полинома 2.**"
   ]
  },
  {
   "cell_type": "code",
   "execution_count": 28,
   "id": "81e38143",
   "metadata": {},
   "outputs": [],
   "source": [
    "pf = PolynomialFeatures(4)\n",
    "X_train_p = pf.fit_transform(X_train)\n",
    "X_test_p = pf.fit_transform(X_test)\n"
   ]
  },
  {
   "cell_type": "markdown",
   "id": "140e0b53",
   "metadata": {},
   "source": [
    "- **Полиномиальная регрессия.**"
   ]
  },
  {
   "cell_type": "code",
   "execution_count": 29,
   "id": "8ee213ed",
   "metadata": {},
   "outputs": [],
   "source": [
    "pr = LinearRegression().fit(X_train_p, y_train)\n",
    "y_pred = pr.predict(X_test_p)\n"
   ]
  },
  {
   "cell_type": "code",
   "execution_count": 30,
   "id": "5d8bd7e8",
   "metadata": {},
   "outputs": [
    {
     "name": "stdout",
     "output_type": "stream",
     "text": [
      "MAE: 217.48549442080554\n",
      "MSE: 97957.1769399047\n",
      "RMSE: 312.98111275267826\n",
      "MAPE: 0.7522446057322492\n",
      "R^2: 0.5317805129967172\n"
     ]
    }
   ],
   "source": [
    "print(f'MAE: {mean_absolute_error(y_test, y_pred)}')\n",
    "print(f'MSE: {mean_squared_error(y_test, y_pred)}')\n",
    "print(f'RMSE: {sqrt(mean_squared_error(y_test, y_pred))}')\n",
    "print(f'MAPE: {sqrt(mean_absolute_percentage_error(y_test, y_pred))}')\n",
    "score_pr = pr.score(X_test_p, y_test)\n",
    "print(f'R^2: {score_pr}')"
   ]
  },
  {
   "cell_type": "code",
   "execution_count": 92,
   "id": "a2a3625d",
   "metadata": {},
   "outputs": [
    {
     "data": {
      "text/plain": [
       "array([ 6.44611408e+03, -2.53173819e+07,  2.18492040e+07,  4.05086038e+06,\n",
       "       -1.45894629e+07,  3.11985488e+07, -1.11774964e+07,  4.71609546e+07,\n",
       "        7.81146703e+07, -3.04133791e+08, -6.47387664e+07,  1.78799370e+09,\n",
       "       -1.01658118e+09, -1.72429881e+09,  1.16536505e+09,  4.33811960e+07,\n",
       "        1.71615797e+06, -4.46217371e+07, -2.32802787e+07,  4.04501298e+08,\n",
       "        2.35762740e+08, -8.45165311e+08,  3.47199249e+08, -1.50222559e+09,\n",
       "       -1.48657010e+09,  9.37526444e+08,  2.06835128e+09,  1.79693171e+08,\n",
       "        1.79836656e+08, -1.39095916e+08, -2.11152523e+09, -2.54348957e+09,\n",
       "        1.65144182e+09,  3.00260828e+09,  1.37717170e+08,  2.15087226e+08,\n",
       "       -1.03359499e+09, -1.38147931e+09,  1.04358866e+09,  1.38624773e+09,\n",
       "        1.80764250e+08, -2.51027736e+09, -2.68436298e+09,  1.92603728e+09,\n",
       "        3.26373139e+09,  1.06350559e+07, -1.82748084e+03, -1.42915363e+03,\n",
       "       -1.52906647e+03,  4.95852839e+06,  1.10597768e+04, -1.35490252e+03,\n",
       "        2.27975449e+06,  1.22976427e+03, -1.78483390e+07,  1.26115503e+05,\n",
       "        2.88496835e+06,  7.21116697e+04, -3.97499232e+05, -3.21982267e+05,\n",
       "        2.83765572e+07,  2.84421633e+07,  2.84211178e+07,  2.84241601e+07,\n",
       "        2.32954258e+08, -6.16394390e+07, -6.08569171e+07,  4.13375495e+07,\n",
       "        4.59868988e+08,  4.58797756e+08,  4.58968335e+08,  4.58569678e+08,\n",
       "        3.10046646e+07,  3.11463981e+07, -2.04712635e+07, -2.43924963e+08,\n",
       "       -2.43836699e+08, -2.43924933e+08, -2.43686246e+08,  1.03257424e+08,\n",
       "        2.21829423e+07, -4.24879219e+08, -4.24822041e+08, -4.26676257e+08,\n",
       "       -4.25364171e+08,  3.17986445e+07,  2.90170804e+08,  2.91363330e+08,\n",
       "        2.91841740e+08,  2.91533378e+08,  4.20481623e+07, -1.42768808e+01,\n",
       "       -1.32084536e+01,  2.36516953e+00, -5.25477455e+05,  5.05348053e+01,\n",
       "       -2.04006609e+01, -4.75702495e+07, -1.93884471e+00, -2.36977776e+07,\n",
       "       -2.94104230e+09,  1.34649596e+09,  7.28390621e+08, -2.03547698e+09,\n",
       "       -8.28206459e+07, -1.82026058e+08, -4.91763443e+07,  8.89533189e+07,\n",
       "        4.85700261e+09,  9.92076389e+09,  1.06695977e+09,  1.18343984e+08,\n",
       "        6.53917157e+07,  1.14379663e+08,  4.69766720e+07,  2.64460174e+09,\n",
       "       -4.87626083e+08, -1.79686024e+08, -2.62687059e+07, -1.43197022e+08,\n",
       "       -3.91809300e+08, -3.99934509e+09,  8.61526222e+07,  5.61862944e+07,\n",
       "        9.87838985e+07,  1.33136527e+08, -1.50199743e+09, -2.02219402e-01,\n",
       "        6.05491970e-01,  2.40694089e-01, -1.48650671e+09,  9.38809172e-02,\n",
       "        7.26599228e-02,  9.35700210e+08, -4.73649137e-01,  2.06833756e+09,\n",
       "        1.37250182e+09, -4.00120381e+09, -1.39543947e+08,  8.11378876e+07,\n",
       "       -1.82874961e+07,  7.84287791e+06,  1.69447537e+07, -8.17869169e+09,\n",
       "       -4.92786295e+09, -5.30013624e+07,  1.80269493e+07,  7.99044972e+07,\n",
       "        1.69752856e+08, -2.22892690e+09, -1.36183829e+08,  1.26656347e+08,\n",
       "       -3.32172947e+07, -1.10174738e+08, -2.11146515e+09, -9.66640674e-02,\n",
       "       -9.50584672e-02, -9.48620588e-03, -2.54357757e+09, -4.48562615e-02,\n",
       "        6.48446530e-02,  1.65143551e+09, -6.87804073e-03,  3.00259512e+09,\n",
       "       -7.20359290e+09,  4.03435275e+08, -1.57966700e+08, -2.03429105e+08,\n",
       "       -6.22560105e+07,  8.34604924e+07,  3.35338932e+09, -1.81815400e+07,\n",
       "        5.02539714e+07,  1.10400600e+08,  7.29778218e+07, -1.03359273e+09,\n",
       "       -3.83093953e-03, -5.78338653e-03, -5.30764461e-04, -1.38148633e+09,\n",
       "        3.84845585e-03, -3.25810164e-03,  1.04358239e+09, -6.12672418e-03,\n",
       "        1.38624325e+09,  7.10159828e+08,  7.97866286e+07, -1.03663474e+07,\n",
       "       -6.92692882e+06, -2.04745614e+07, -2.51026814e+09,  1.40597764e-03,\n",
       "        1.19844126e-03,  2.03366391e-03, -2.68436471e+09, -1.84762478e-03,\n",
       "       -2.92805023e-03,  1.92603316e+09,  2.94791395e-03,  3.26373269e+09,\n",
       "        1.06312960e+07, -1.34686567e-03, -2.37891637e-03, -2.79967114e-03,\n",
       "       -4.39447165e-03, -4.64940071e-03, -6.58988953e-04,  4.67032194e-04,\n",
       "        3.65372002e-03, -2.04941630e-03,  4.95555993e+06,  1.32311136e-04,\n",
       "       -1.64747238e-04, -1.94970705e-03,  2.00675218e-04, -7.89992511e-04,\n",
       "        2.28361062e+06, -5.19454479e-05,  7.58692622e-05, -1.78484494e+07,\n",
       "        5.94794281e-01,  4.83888924e+01, -2.54941582e+01, -2.88381993e+01,\n",
       "       -2.21417764e+01, -1.22735407e+05, -1.22735192e+05, -1.22734301e+05,\n",
       "       -1.22735774e+05,  2.59313629e+03,  5.95166098e+02, -1.50870084e+03,\n",
       "       -1.21516532e+03, -2.58862654e+06, -2.58778548e+06, -2.58818844e+06,\n",
       "       -2.58799175e+06,  1.87504041e+03, -2.53743302e+02, -4.37911691e+03,\n",
       "       -2.05866572e+04, -2.11413418e+04, -2.09689064e+04, -2.10739198e+04,\n",
       "       -1.66986681e+03,  2.09007514e+03, -3.60540493e+04, -3.55605214e+04,\n",
       "       -3.55963816e+04, -3.57370619e+04,  1.90283309e+03,  4.10436132e+05,\n",
       "        4.10120764e+05,  4.10298321e+05,  4.10289357e+05,  2.83765418e+07,\n",
       "       -4.75645065e-05, -9.41753387e-06,  1.71184540e-04,  2.84451260e+07,\n",
       "       -7.24792480e-05,  9.53674316e-06,  2.84194334e+07, -1.85966492e-05,\n",
       "        2.84251929e+07,  2.99222302e+04, -3.86198713e+05,  1.87498689e+05,\n",
       "        1.34652870e+05, -2.02181860e+08, -2.02221632e+08, -2.02221069e+08,\n",
       "       -2.02198167e+08,  1.25340093e+05, -2.20664279e+05, -1.95341452e+05,\n",
       "       -1.40905624e+07, -1.41261571e+07, -1.40741304e+07, -1.40831885e+07,\n",
       "       -3.06418964e+05,  1.15756935e+05,  4.75087066e+07,  4.75698607e+07,\n",
       "        4.75802461e+07,  4.75375832e+07,  7.45873948e+04, -1.09894881e+07,\n",
       "       -1.09348264e+07, -1.09742563e+07, -1.09399636e+07,  4.59869170e+08,\n",
       "        0.00000000e+00,  0.00000000e+00,  0.00000000e+00,  4.58797834e+08,\n",
       "        0.00000000e+00,  0.00000000e+00,  4.58967978e+08,  0.00000000e+00,\n",
       "        4.58569643e+08, -4.73787193e+04, -1.69079200e+05, -8.66115666e+04,\n",
       "       -2.49389624e+07, -2.48974428e+07, -2.49316458e+07, -2.49369034e+07,\n",
       "        2.13024405e+05, -3.84336582e+04, -5.97052874e+05, -5.62979007e+05,\n",
       "       -6.21419605e+05, -6.16742109e+05,  1.24680721e+05,  1.34070977e+05,\n",
       "        4.40136225e+04,  1.05082967e+05,  9.59437230e+04, -2.43924952e+08,\n",
       "        0.00000000e+00,  0.00000000e+00,  0.00000000e+00, -2.43836802e+08,\n",
       "        0.00000000e+00,  0.00000000e+00, -2.43924860e+08,  0.00000000e+00,\n",
       "       -2.43686312e+08,  9.49965541e+04,  8.61865707e+04, -1.16996519e+08,\n",
       "       -1.17025978e+08, -1.17056284e+08, -1.17025358e+08,  1.35359405e+04,\n",
       "       -4.19116538e+05, -4.52005885e+05, -3.93730838e+05, -4.27960877e+05,\n",
       "       -4.24879119e+08,  0.00000000e+00,  0.00000000e+00,  0.00000000e+00,\n",
       "       -4.24822102e+08,  0.00000000e+00,  0.00000000e+00, -4.26676258e+08,\n",
       "        0.00000000e+00, -4.25364099e+08, -1.07800407e+05, -1.72047088e+07,\n",
       "       -1.71686673e+07, -1.71939253e+07, -1.71825077e+07,  2.90170888e+08,\n",
       "        0.00000000e+00,  0.00000000e+00,  0.00000000e+00,  2.91323794e+08,\n",
       "        0.00000000e+00,  0.00000000e+00,  2.91807824e+08,  0.00000000e+00,\n",
       "        2.91563327e+08,  4.20482891e+07,  0.00000000e+00,  0.00000000e+00,\n",
       "        0.00000000e+00,  0.00000000e+00,  0.00000000e+00,  0.00000000e+00,\n",
       "        0.00000000e+00,  0.00000000e+00,  0.00000000e+00, -5.25489817e+05,\n",
       "        0.00000000e+00,  0.00000000e+00,  0.00000000e+00,  0.00000000e+00,\n",
       "        0.00000000e+00, -4.75702500e+07,  0.00000000e+00,  0.00000000e+00,\n",
       "       -2.36978095e+07, -5.20947723e+07,  2.99081366e+07,  1.72648139e+08,\n",
       "       -7.22000229e+07,  2.01875046e+09,  2.01837561e+09,  2.01985663e+09,\n",
       "        2.02023751e+09, -7.06594222e+07, -7.91975842e+07,  1.72871501e+08,\n",
       "       -1.85156256e+09, -1.85185026e+09, -1.85185394e+09, -1.85375858e+09,\n",
       "       -2.45967699e+08,  1.15823532e+08, -2.90906101e+08, -2.91451482e+08,\n",
       "       -2.92929760e+08, -2.91619944e+08, -1.32055267e+08, -1.70297600e+09,\n",
       "       -1.70084760e+09, -1.70198562e+09, -1.70241132e+09, -8.28206595e+07,\n",
       "        0.00000000e+00,  0.00000000e+00,  0.00000000e+00, -1.82026053e+08,\n",
       "        0.00000000e+00,  0.00000000e+00, -4.91763395e+07,  0.00000000e+00,\n",
       "        8.89533165e+07,  2.90077739e+04,  2.00696235e+08, -4.05367581e+07,\n",
       "        1.18258180e+09,  1.18433478e+09,  1.18333208e+09,  1.18278577e+09,\n",
       "        1.54621980e+08, -3.32509022e+08, -1.57329467e+09, -1.57171920e+09,\n",
       "       -1.57151922e+09, -1.56937706e+09,  3.76314786e+07,  1.50242311e+08,\n",
       "        1.51150237e+08,  1.51101839e+08,  1.52477711e+08,  1.18343988e+08,\n",
       "        0.00000000e+00,  0.00000000e+00,  0.00000000e+00,  6.53917161e+07,\n",
       "        0.00000000e+00,  0.00000000e+00,  1.14379662e+08,  0.00000000e+00,\n",
       "        4.69766723e+07,  1.85983130e+08, -8.97797393e+07, -3.98771683e+08,\n",
       "       -3.97151994e+08, -3.96269044e+08, -3.99911724e+08,  1.95019713e+08,\n",
       "        1.99073346e+09,  1.98551983e+09,  1.98890131e+09,  1.99049857e+09,\n",
       "       -1.79686024e+08,  0.00000000e+00,  0.00000000e+00,  0.00000000e+00,\n",
       "       -2.62687025e+07,  0.00000000e+00,  0.00000000e+00, -1.43197021e+08,\n",
       "        0.00000000e+00, -3.91809300e+08, -4.82845196e+06, -2.05384864e+09,\n",
       "       -2.05443548e+09, -2.05445350e+09, -2.05530946e+09,  8.61526229e+07,\n",
       "        0.00000000e+00,  0.00000000e+00,  0.00000000e+00,  5.61862941e+07,\n",
       "        0.00000000e+00,  0.00000000e+00,  9.87839894e+07,  0.00000000e+00,\n",
       "        1.33136533e+08, -1.50199743e+09,  0.00000000e+00,  0.00000000e+00,\n",
       "        0.00000000e+00,  0.00000000e+00,  0.00000000e+00,  0.00000000e+00,\n",
       "        0.00000000e+00,  0.00000000e+00,  0.00000000e+00, -1.48650671e+09,\n",
       "        0.00000000e+00,  0.00000000e+00,  0.00000000e+00,  0.00000000e+00,\n",
       "        0.00000000e+00,  9.35700210e+08,  0.00000000e+00,  0.00000000e+00,\n",
       "        2.06833756e+09, -5.13809968e+07, -2.26900921e+07,  1.48276173e+08,\n",
       "       -7.15397894e+08, -7.14890951e+08, -7.15586670e+08, -7.16009710e+08,\n",
       "       -1.33295910e+08,  8.29932020e+07, -1.47800057e+09, -1.48144715e+09,\n",
       "       -1.48075233e+09, -1.48023803e+09, -1.72034411e+08, -8.27255848e+08,\n",
       "       -8.26972123e+08, -8.26725809e+08, -8.25962723e+08,  8.11378872e+07,\n",
       "        0.00000000e+00,  0.00000000e+00,  0.00000000e+00, -1.82874962e+07,\n",
       "        0.00000000e+00,  0.00000000e+00,  7.84287737e+06,  0.00000000e+00,\n",
       "        1.69447519e+07, -1.10138541e+08,  1.58869490e+08, -4.37602559e+08,\n",
       "       -4.37997023e+08, -4.37609124e+08, -4.37837864e+08, -3.26307201e+07,\n",
       "       -2.68739411e+08, -2.63882816e+08, -2.66538979e+08, -2.68920562e+08,\n",
       "       -5.21992135e+07,  0.00000000e+00,  0.00000000e+00,  0.00000000e+00,\n",
       "        1.80268190e+07,  0.00000000e+00,  0.00000000e+00,  7.99041677e+07,\n",
       "        0.00000000e+00,  1.69752858e+08,  1.39214184e+08, -4.01044747e+08,\n",
       "       -4.02546443e+08, -4.01324045e+08, -4.01109520e+08, -1.36183829e+08,\n",
       "        0.00000000e+00,  0.00000000e+00,  0.00000000e+00,  1.26656346e+08,\n",
       "        0.00000000e+00,  0.00000000e+00, -3.32172950e+07,  0.00000000e+00,\n",
       "       -1.10174737e+08, -2.11146515e+09,  0.00000000e+00,  0.00000000e+00,\n",
       "        0.00000000e+00,  0.00000000e+00,  0.00000000e+00,  0.00000000e+00,\n",
       "        0.00000000e+00,  0.00000000e+00,  0.00000000e+00, -2.54357757e+09,\n",
       "        0.00000000e+00,  0.00000000e+00,  0.00000000e+00,  0.00000000e+00,\n",
       "        0.00000000e+00,  1.65143551e+09,  0.00000000e+00,  0.00000000e+00,\n",
       "        3.00259512e+09, -6.28931701e+07,  4.40847717e+07,  5.04213049e+09,\n",
       "        5.04180299e+09,  5.04262276e+09,  5.04486685e+09, -5.23594716e+07,\n",
       "        5.31572212e+08,  5.35358910e+08,  5.34110637e+08,  5.32792105e+08,\n",
       "       -1.57966699e+08,  0.00000000e+00,  0.00000000e+00,  0.00000000e+00,\n",
       "       -2.03429104e+08,  0.00000000e+00,  0.00000000e+00, -6.22560116e+07,\n",
       "        0.00000000e+00,  8.34604914e+07,  1.93136726e+07,  2.29560106e+09,\n",
       "        2.29363371e+09,  2.29428857e+09,  2.29545574e+09, -1.81815400e+07,\n",
       "        0.00000000e+00,  0.00000000e+00,  0.00000000e+00,  5.02539707e+07,\n",
       "        0.00000000e+00,  0.00000000e+00,  1.10400587e+08,  0.00000000e+00,\n",
       "        7.29778213e+07, -1.03359273e+09,  0.00000000e+00,  0.00000000e+00,\n",
       "        0.00000000e+00,  0.00000000e+00,  0.00000000e+00,  0.00000000e+00,\n",
       "        0.00000000e+00,  0.00000000e+00,  0.00000000e+00, -1.38148577e+09,\n",
       "        0.00000000e+00,  0.00000000e+00,  0.00000000e+00,  0.00000000e+00,\n",
       "        0.00000000e+00,  1.04358239e+09,  0.00000000e+00,  0.00000000e+00,\n",
       "        1.38624325e+09, -3.20787781e+07, -8.24862175e+07, -8.20560094e+07,\n",
       "       -8.21343341e+07, -8.17965339e+07,  7.97866285e+07,  0.00000000e+00,\n",
       "        0.00000000e+00,  0.00000000e+00, -1.03725883e+07,  0.00000000e+00,\n",
       "        0.00000000e+00, -6.92077069e+06,  0.00000000e+00, -2.04760428e+07,\n",
       "       -2.51026810e+09,  0.00000000e+00,  0.00000000e+00,  0.00000000e+00,\n",
       "        0.00000000e+00,  0.00000000e+00,  0.00000000e+00,  0.00000000e+00,\n",
       "        0.00000000e+00,  0.00000000e+00, -2.68436469e+09,  0.00000000e+00,\n",
       "        0.00000000e+00,  0.00000000e+00,  0.00000000e+00,  0.00000000e+00,\n",
       "        1.92603318e+09,  0.00000000e+00,  0.00000000e+00,  3.26373269e+09,\n",
       "        1.06311746e+07,  0.00000000e+00,  0.00000000e+00,  0.00000000e+00,\n",
       "        0.00000000e+00,  0.00000000e+00,  0.00000000e+00,  0.00000000e+00,\n",
       "        0.00000000e+00,  0.00000000e+00,  0.00000000e+00,  0.00000000e+00,\n",
       "        0.00000000e+00,  0.00000000e+00,  0.00000000e+00,  0.00000000e+00,\n",
       "        0.00000000e+00,  0.00000000e+00,  0.00000000e+00,  0.00000000e+00,\n",
       "        4.95555993e+06,  0.00000000e+00,  0.00000000e+00,  0.00000000e+00,\n",
       "        0.00000000e+00,  0.00000000e+00,  0.00000000e+00,  0.00000000e+00,\n",
       "        0.00000000e+00,  0.00000000e+00,  2.28361051e+06,  0.00000000e+00,\n",
       "        0.00000000e+00,  0.00000000e+00, -1.78492806e+07])"
      ]
     },
     "execution_count": 92,
     "metadata": {},
     "output_type": "execute_result"
    }
   ],
   "source": [
    "pr.coef_"
   ]
  },
  {
   "cell_type": "markdown",
   "id": "b8d37747",
   "metadata": {},
   "source": [
    "- **Полиномиальная регрессия. Регуляризация L1 / Ridge.**"
   ]
  },
  {
   "cell_type": "code",
   "execution_count": 47,
   "id": "c32d88f5",
   "metadata": {},
   "outputs": [],
   "source": [
    "ridge = Ridge().fit(X_train_p, y_train)\n",
    "y_pred = ridge.predict(X_test_p)"
   ]
  },
  {
   "cell_type": "code",
   "execution_count": 51,
   "id": "cd5afbba",
   "metadata": {},
   "outputs": [
    {
     "name": "stdout",
     "output_type": "stream",
     "text": [
      "MAE: 340.891800969314\n",
      "MSE: 202762.44124731986\n",
      "RMSE: 450.29150696778623\n",
      "MAPE: 1.0175963844848963\n",
      "R^2: 0.4435932524285898\n"
     ]
    }
   ],
   "source": [
    "print(f'MAE: {mean_absolute_error(y_test, y_pred)}')\n",
    "print(f'MSE: {mean_squared_error(y_test, y_pred)}')\n",
    "print(f'RMSE: {sqrt(mean_squared_error(y_test, y_pred))}')\n",
    "print(f'MAPE: {sqrt(mean_absolute_percentage_error(y_test, y_pred))}')\n",
    "score_pr_L1 = ridge.score(X_test_p, y_test)\n",
    "print(f'R^2: {score_pr_L1}')"
   ]
  },
  {
   "cell_type": "markdown",
   "id": "c0fb8f5c",
   "metadata": {},
   "source": [
    "# Задача 4\n",
    "\n",
    "**Вычислите значения метрик $R^2$, MAE, MSE, RMSE, MAPE для всех обученных моделей; выберите лучшую модель.**"
   ]
  },
  {
   "cell_type": "markdown",
   "id": "0d8905ce",
   "metadata": {},
   "source": [
    "- **Сравнение всех моделей по наибольшему коэффициенту детерминации.**"
   ]
  },
  {
   "cell_type": "code",
   "execution_count": 60,
   "id": "276e861b",
   "metadata": {},
   "outputs": [
    {
     "name": "stdout",
     "output_type": "stream",
     "text": [
      "0.029860059133300698\n",
      "0.029901060413143332\n",
      "0.029901060413143332\n",
      "0.029901060413143332\n",
      "0.029901060413143332\n",
      "----\n",
      "0.5317805129967172\n",
      "0.4435932524285898\n"
     ]
    }
   ],
   "source": [
    "print(score_lr)\n",
    "print(score_lr_L1_RandomSearchCV)\n",
    "print(score_lr_L1_GridSearchCV)\n",
    "print(score_lr_L2_RandomSearchCV)\n",
    "print(score_lr_L2_GridSearchCV)\n",
    "print(\"----\")\n",
    "print(score_pr)\n",
    "print(score_pr_L1)"
   ]
  },
  {
   "cell_type": "markdown",
   "id": "7e70f64e",
   "metadata": {},
   "source": [
    "**Наилучшей моделью оказалась: Полиномиальная регрессия 4 степени**"
   ]
  },
  {
   "cell_type": "markdown",
   "id": "2c2e8ba9",
   "metadata": {},
   "source": [
    "# Задача 5\n",
    "- **Самостоятельно реализуйте (желательно в виде класса) модель линейной регрессии с регуляризацией (можете выбрать L1 или L2).**\n",
    "- **Самостоятельно реализуйте вычисление всех используемых метрик (в виде функций, принимающих два аргумента).**\n",
    "- **Обучите вашу модель линейной регрессии на ваших данных; оцените качество с помощью реализованных вами метрик.**"
   ]
  },
  {
   "cell_type": "code",
   "execution_count": 283,
   "id": "b8e459eb",
   "metadata": {},
   "outputs": [
    {
     "name": "stdout",
     "output_type": "stream",
     "text": [
      "[[1 3]\n",
      " [2 4]\n",
      " [3 5]]\n"
     ]
    }
   ],
   "source": [
    "class MyLinearRegression:\n",
    "    def __init__(self, alpha, step, iterations):\n",
    "        self.alpha = alpha\n",
    "        self.step = step\n",
    "        self.iterations = iterations\n",
    "    def fit(X, y):\n",
    "        n = len(X[0]) #кол-во предикатов \n",
    "        W = [np.random.rand() for i in range(n + 1)] #массив весов\n",
    "        \n",
    "        for i in range(len(X)):\n",
    "            pred = W[i] +  \n",
    "        L = 1/n*pow((y[i]-sum([])), 2)\n",
    "        \n",
    "lol = [[1, 2, 3], [3, 4, 5]]\n",
    "lol = np.array(lol).transpose()\n",
    "print(lol)"
   ]
  },
  {
   "cell_type": "code",
   "execution_count": 61,
   "id": "2f56ec12",
   "metadata": {},
   "outputs": [],
   "source": [
    "class Metrics:\n",
    "    @staticmethod\n",
    "    def  mean_absolute_error(y_test, y_pred):\n",
    "        y_true, predictions = np.array(y_test), np.array(y_pred)\n",
    "        return float(np.mean(np.abs(y_true-predictions)))\n",
    "    @staticmethod\n",
    "    def mean_squared_error(y_test, y_pred):\n",
    "        y_true, predictions = np.array(y_test), np.array(y_pred)\n",
    "        return float(np.mean((y_true-predictions)**2))\n",
    "    @staticmethod\n",
    "    def root_mean_squared_error(y_test, y_pred):\n",
    "        return float(np.sqrt(Metrics.mean_squared_error(y_test, y_pred)))\n",
    "    @staticmethod\n",
    "    def mean_absolute_percentage_error(y_test, y_pred):\n",
    "        y_true, predictions = np.array(y_test), np.array(y_pred)\n",
    "        return float(np.mean(np.abs((y_true-predictions)/y_true)))\n",
    "    @staticmethod\n",
    "    def r_2_score( y_test, y_pred):\n",
    "        y_true, predictions = np.array(y_test), np.array(y_pred)\n",
    "        mean_value = np.mean(y_test)\n",
    "        return float(1 - np.sum((y_true - predictions)**2)/ np.sum((y_true - mean_value)**2))"
   ]
  },
  {
   "cell_type": "code",
   "execution_count": 69,
   "id": "d5acf442",
   "metadata": {},
   "outputs": [
    {
     "data": {
      "image/png": "[encoded data removed]",
      "text/plain": [
       "<Figure size 640x480 with 1 Axes>"
      ]
     },
     "metadata": {},
     "output_type": "display_data"
    }
   ],
   "source": [
    "np.random.seed(42)\n",
    "x1 = np.array([[x] for x in np.arange(0.0, 6.0, 0.5)])\n",
    "y1 = np.array([[2* el[0] + 10 + np.random.rand()*3] for el in x])\n",
    "plt.scatter(x, y)\n",
    "plt.show()"
   ]
  },
  {
   "cell_type": "code",
   "execution_count": 78,
   "id": "10cd81d7",
   "metadata": {},
   "outputs": [
    {
     "name": "stdout",
     "output_type": "stream",
     "text": [
      "10\n"
     ]
    }
   ],
   "source": [
    "print(X_train.shape[1])"
   ]
  },
  {
   "cell_type": "code",
   "execution_count": null,
   "id": "2558322c",
   "metadata": {},
   "outputs": [],
   "source": [
    "class MyLinReg:\n",
    "    def __init__(self, lr = 0.0001, iter = 1000):\n",
    "        self.lr = lr\n",
    "        self.iter = iter\n",
    "    \n",
    "    def fit(self, X, y):\n",
    "        w = np.zeros(X.shape[1])\n",
    "        "
   ]
  },
  {
   "cell_type": "code",
   "execution_count": 72,
   "id": "6812da40",
   "metadata": {},
   "outputs": [
    {
     "ename": "TypeError",
     "evalue": "Cannot interpret '        pickup_longitude  pickup_latitude  dropoff_longitude  \\\n51781         -73.981850        40.732269         -73.963249   \n212560        -73.966789        40.753113         -73.975121   \n128763        -74.010490        40.711773         -73.973480   \n713111        -73.977921        40.725441         -73.977196   \n425648        -73.978218        40.751965         -74.013763   \n...                  ...              ...                ...   \n275443        -73.942947        40.811440         -73.975410   \n164623        -73.966118        40.773830         -73.973190   \n696232        -73.981377        40.773563         -73.964844   \n195904        -73.969414        40.763401         -74.007729   \n189377        -74.000938        40.741901         -73.982635   \n\n        dropoff_latitude  hour_4_9  hour_10_15  hour_16_15  hour_night  \\\n51781          40.757740         0           0           0           1   \n212560         40.758358         0           1           0           0   \n128763         40.784737         0           1           0           0   \n713111         40.753681         1           0           0           0   \n425648         40.714672         1           0           0           0   \n...                  ...       ...         ...         ...         ...   \n275443         40.724609         0           0           0           1   \n164623         40.762032         0           1           0           0   \n696232         40.801838         1           0           0           0   \n195904         40.742123         1           0           0           0   \n189377         40.762352         0           1           0           0   \n\n        pas0-3  pas4-6  \n51781        0       1  \n212560       1       0  \n128763       1       0  \n713111       0       1  \n425648       1       0  \n...        ...     ...  \n275443       0       1  \n164623       1       0  \n696232       0       1  \n195904       1       0  \n189377       1       0  \n\n[188621 rows x 10 columns]' as a data type",
     "output_type": "error",
     "traceback": [
      "\u001b[1;31m---------------------------------------------------------------------------\u001b[0m",
      "\u001b[1;31mTypeError\u001b[0m                                 Traceback (most recent call last)",
      "Cell \u001b[1;32mIn[72], line 26\u001b[0m\n\u001b[0;32m     23\u001b[0m     \u001b[38;5;28;01mdef\u001b[39;00m \u001b[38;5;21mpredict\u001b[39m(\u001b[38;5;28mself\u001b[39m, x):\n\u001b[0;32m     24\u001b[0m         \u001b[38;5;28;01mreturn\u001b[39;00m np\u001b[38;5;241m.\u001b[39mdot(\u001b[38;5;28mself\u001b[39m\u001b[38;5;241m.\u001b[39mtransform_(x), \u001b[38;5;28mself\u001b[39m\u001b[38;5;241m.\u001b[39mw)\n\u001b[1;32m---> 26\u001b[0m lr \u001b[38;5;241m=\u001b[39m \u001b[43mlinReg\u001b[49m\u001b[43m(\u001b[49m\u001b[43m)\u001b[49m\u001b[38;5;241;43m.\u001b[39;49m\u001b[43mfit\u001b[49m\u001b[43m(\u001b[49m\u001b[43mX_train\u001b[49m\u001b[43m,\u001b[49m\u001b[43m \u001b[49m\u001b[43my_train\u001b[49m\u001b[43m)\u001b[49m\n\u001b[0;32m     27\u001b[0m lr\u001b[38;5;241m.\u001b[39mpredict()\n",
      "Cell \u001b[1;32mIn[72], line 12\u001b[0m, in \u001b[0;36mlinReg.fit\u001b[1;34m(self, x, y)\u001b[0m\n\u001b[0;32m     10\u001b[0m dist \u001b[38;5;241m=\u001b[39m np\u001b[38;5;241m.\u001b[39minf\n\u001b[0;32m     11\u001b[0m eps \u001b[38;5;241m=\u001b[39m \u001b[38;5;241m1e-4\u001b[39m\n\u001b[1;32m---> 12\u001b[0m X \u001b[38;5;241m=\u001b[39m \u001b[38;5;28;43mself\u001b[39;49m\u001b[38;5;241;43m.\u001b[39;49m\u001b[43mtransform_\u001b[49m\u001b[43m(\u001b[49m\u001b[43mx\u001b[49m\u001b[43m)\u001b[49m\n\u001b[0;32m     14\u001b[0m w \u001b[38;5;241m=\u001b[39m np\u001b[38;5;241m.\u001b[39mzeros(X\u001b[38;5;241m.\u001b[39mshape[\u001b[38;5;241m1\u001b[39m])\n\u001b[0;32m     15\u001b[0m \u001b[38;5;28miter\u001b[39m \u001b[38;5;241m=\u001b[39m \u001b[38;5;241m0\u001b[39m\n",
      "Cell \u001b[1;32mIn[72], line 6\u001b[0m, in \u001b[0;36mlinReg.transform_\u001b[1;34m(self, x)\u001b[0m\n\u001b[0;32m      5\u001b[0m \u001b[38;5;28;01mdef\u001b[39;00m \u001b[38;5;21mtransform_\u001b[39m(\u001b[38;5;28mself\u001b[39m, x):\n\u001b[1;32m----> 6\u001b[0m     \u001b[38;5;28;01mreturn\u001b[39;00m np\u001b[38;5;241m.\u001b[39mconcatenate((\u001b[43mnp\u001b[49m\u001b[38;5;241;43m.\u001b[39;49m\u001b[43mones\u001b[49m\u001b[43m(\u001b[49m\u001b[43m(\u001b[49m\u001b[38;5;28;43mlen\u001b[39;49m\u001b[43m(\u001b[49m\u001b[43mx\u001b[49m\u001b[43m)\u001b[49m\u001b[43m,\u001b[49m\u001b[43m \u001b[49m\u001b[38;5;241;43m1\u001b[39;49m\u001b[43m)\u001b[49m\u001b[43m,\u001b[49m\u001b[43m \u001b[49m\u001b[43mx\u001b[49m\u001b[43m)\u001b[49m), axis\u001b[38;5;241m=\u001b[39m\u001b[38;5;241m1\u001b[39m)\n",
      "File \u001b[1;32mF:\\venv1\\venv\\lib\\site-packages\\numpy\\core\\numeric.py:205\u001b[0m, in \u001b[0;36mones\u001b[1;34m(shape, dtype, order, like)\u001b[0m\n\u001b[0;32m    202\u001b[0m \u001b[38;5;28;01mif\u001b[39;00m like \u001b[38;5;129;01mis\u001b[39;00m \u001b[38;5;129;01mnot\u001b[39;00m \u001b[38;5;28;01mNone\u001b[39;00m:\n\u001b[0;32m    203\u001b[0m     \u001b[38;5;28;01mreturn\u001b[39;00m _ones_with_like(shape, dtype\u001b[38;5;241m=\u001b[39mdtype, order\u001b[38;5;241m=\u001b[39morder, like\u001b[38;5;241m=\u001b[39mlike)\n\u001b[1;32m--> 205\u001b[0m a \u001b[38;5;241m=\u001b[39m \u001b[43mempty\u001b[49m\u001b[43m(\u001b[49m\u001b[43mshape\u001b[49m\u001b[43m,\u001b[49m\u001b[43m \u001b[49m\u001b[43mdtype\u001b[49m\u001b[43m,\u001b[49m\u001b[43m \u001b[49m\u001b[43morder\u001b[49m\u001b[43m)\u001b[49m\n\u001b[0;32m    206\u001b[0m multiarray\u001b[38;5;241m.\u001b[39mcopyto(a, \u001b[38;5;241m1\u001b[39m, casting\u001b[38;5;241m=\u001b[39m\u001b[38;5;124m'\u001b[39m\u001b[38;5;124munsafe\u001b[39m\u001b[38;5;124m'\u001b[39m)\n\u001b[0;32m    207\u001b[0m \u001b[38;5;28;01mreturn\u001b[39;00m a\n",
      "\u001b[1;31mTypeError\u001b[0m: Cannot interpret '        pickup_longitude  pickup_latitude  dropoff_longitude  \\\n51781         -73.981850        40.732269         -73.963249   \n212560        -73.966789        40.753113         -73.975121   \n128763        -74.010490        40.711773         -73.973480   \n713111        -73.977921        40.725441         -73.977196   \n425648        -73.978218        40.751965         -74.013763   \n...                  ...              ...                ...   \n275443        -73.942947        40.811440         -73.975410   \n164623        -73.966118        40.773830         -73.973190   \n696232        -73.981377        40.773563         -73.964844   \n195904        -73.969414        40.763401         -74.007729   \n189377        -74.000938        40.741901         -73.982635   \n\n        dropoff_latitude  hour_4_9  hour_10_15  hour_16_15  hour_night  \\\n51781          40.757740         0           0           0           1   \n212560         40.758358         0           1           0           0   \n128763         40.784737         0           1           0           0   \n713111         40.753681         1           0           0           0   \n425648         40.714672         1           0           0           0   \n...                  ...       ...         ...         ...         ...   \n275443         40.724609         0           0           0           1   \n164623         40.762032         0           1           0           0   \n696232         40.801838         1           0           0           0   \n195904         40.742123         1           0           0           0   \n189377         40.762352         0           1           0           0   \n\n        pas0-3  pas4-6  \n51781        0       1  \n212560       1       0  \n128763       1       0  \n713111       0       1  \n425648       1       0  \n...        ...     ...  \n275443       0       1  \n164623       1       0  \n696232       0       1  \n195904       1       0  \n189377       1       0  \n\n[188621 rows x 10 columns]' as a data type"
     ]
    }
   ],
   "source": [
    "class linReg:\n",
    "    def __init__(self, lr = 0.0001, iter=1000):\n",
    "        self.lr = lr\n",
    "        self.iter = iter\n",
    "    def transform_(self, x):\n",
    "        return np.concatenate((np.ones((len(x), 1), x)), axis=1)\n",
    "    def fun_error_(self, x, y, w):\n",
    "        return sum((y-np.dot(x, w)) ** 2 / x.shape[0])\n",
    "    def fit(self, x, y):\n",
    "        dist = np.inf\n",
    "        eps = 1e-4\n",
    "        X = self.transform_(x)\n",
    "        \n",
    "        w = np.zeros(X.shape[1])\n",
    "        iter = 0\n",
    "        \n",
    "        while dist > eps and iter <=self.iter:\n",
    "            loss = self.fun_error_(X, y, w)\n",
    "            w = w- self.lr *2 * np.dot(X.T, np.dot(X, w) - y)/ X.shape[0]\n",
    "            dist = np.abs(loss - self.fun_error_(X, y, w))\n",
    "            iter +=1\n",
    "        self.w = w\n",
    "    def predict(self, x):\n",
    "        return np.dot(self.transform_(x), self.w)\n",
    "    \n",
    "lr = linReg().fit(X_train, y_train)\n",
    "lr.predict()"
   ]
  },
  {
   "cell_type": "code",
   "execution_count": 74,
   "id": "2d89331b",
   "metadata": {},
   "outputs": [
    {
     "name": "stderr",
     "output_type": "stream",
     "text": [
      "C:\\Users\\vpash\\AppData\\Local\\Temp\\ipykernel_2756\\3809855451.py:46: UserWarning: Matplotlib is currently using module://matplotlib_inline.backend_inline, which is a non-GUI backend, so cannot show the figure.\n",
      "  f.show()\n"
     ]
    },
    {
     "name": "stdout",
     "output_type": "stream",
     "text": [
      "100 epochs elapsed\n",
      "Current accuracy is : 0.9836456109008862\n",
      "Do you want to stop (y/*)??y\n"
     ]
    },
    {
     "name": "stderr",
     "output_type": "stream",
     "text": [
      "C:\\Users\\vpash\\AppData\\Local\\Temp\\ipykernel_2756\\3809855451.py:87: UserWarning: Matplotlib is currently using module://matplotlib_inline.backend_inline, which is a non-GUI backend, so cannot show the figure.\n",
      "  h.show()\n"
     ]
    },
    {
     "data": {
      "image/png": "[encoded data removed]",
      "text/plain": [
       "<Figure size 640x480 with 1 Axes>"
      ]
     },
     "metadata": {},
     "output_type": "display_data"
    },
    {
     "data": {
      "image/png": "[encoded data removed]",
      "text/plain": [
       "<Figure size 640x480 with 1 Axes>"
      ]
     },
     "metadata": {},
     "output_type": "display_data"
    },
    {
     "data": {
      "image/png": "[encoded data removed]",
      "text/plain": [
       "<Figure size 640x480 with 1 Axes>"
      ]
     },
     "metadata": {},
     "output_type": "display_data"
    }
   ],
   "source": [
    "class Linear_Regression:\n",
    "    def __init__(self, X, Y):\n",
    "        self.X = X\n",
    "        self.Y = Y\n",
    "        self.b = [0, 0]\n",
    "     \n",
    "    def update_coeffs(self, learning_rate):\n",
    "        Y_pred = self.predict()\n",
    "        Y = self.Y\n",
    "        m = len(Y)\n",
    "        self.b[0] = self.b[0] - (learning_rate * ((1/m) *\n",
    "                                np.sum(Y_pred - Y)))\n",
    " \n",
    "        self.b[1] = self.b[1] - (learning_rate * ((1/m) *\n",
    "                                np.sum((Y_pred - Y) * self.X)))\n",
    " \n",
    "    def predict(self, X=[]):\n",
    "        Y_pred = np.array([])\n",
    "        if not X: X = self.X\n",
    "        b = self.b\n",
    "        for x in X:\n",
    "            Y_pred = np.append(Y_pred, b[0] + (b[1] * x))\n",
    " \n",
    "        return Y_pred\n",
    "     \n",
    "    def get_current_accuracy(self, Y_pred):\n",
    "        p, e = Y_pred, self.Y\n",
    "        n = len(Y_pred)\n",
    "        return 1-sum(\n",
    "            [\n",
    "                abs(p[i]-e[i])/e[i]\n",
    "                for i in range(n)\n",
    "                if e[i] != 0]\n",
    "        )/n\n",
    "    #def predict(self, b, yi):\n",
    " \n",
    "    def compute_cost(self, Y_pred):\n",
    "        m = len(self.Y)\n",
    "        J = (1 / 2*m) * (np.sum(Y_pred - self.Y)**2)\n",
    "        return J\n",
    " \n",
    "    def plot_best_fit(self, Y_pred, fig):\n",
    "                f = plt.figure(fig)\n",
    "                plt.scatter(self.X, self.Y, color='b')\n",
    "                plt.plot(self.X, Y_pred, color='g')\n",
    "                f.show()\n",
    " \n",
    " \n",
    "def main():\n",
    "    X = np.array([i for i in range(11)])\n",
    "    Y = np.array([2*i for i in range(11)])\n",
    " \n",
    "    regressor = Linear_Regression(X, Y)\n",
    " \n",
    "    iterations = 0\n",
    "    steps = 100\n",
    "    learning_rate = 0.01\n",
    "    costs = []\n",
    "     \n",
    "    #original best-fit line\n",
    "    Y_pred = regressor.predict()\n",
    "    regressor.plot_best_fit(Y_pred, 'Initial Best Fit Line')\n",
    "     \n",
    " \n",
    "    while 1:\n",
    "        Y_pred = regressor.predict()\n",
    "        cost = regressor.compute_cost(Y_pred)\n",
    "        costs.append(cost)\n",
    "        regressor.update_coeffs(learning_rate)\n",
    "         \n",
    "        iterations += 1\n",
    "        if iterations % steps == 0:\n",
    "            print(iterations, \"epochs elapsed\")\n",
    "            print(\"Current accuracy is :\",\n",
    "                regressor.get_current_accuracy(Y_pred))\n",
    " \n",
    "            stop = input(\"Do you want to stop (y/*)??\")\n",
    "            if stop == \"y\":\n",
    "                break\n",
    " \n",
    "    #final best-fit line\n",
    "    regressor.plot_best_fit(Y_pred, 'Final Best Fit Line')\n",
    " \n",
    "    #plot to verify cost function decreases\n",
    "    h = plt.figure('Verification')\n",
    "    plt.plot(range(iterations), costs, color='b')\n",
    "    h.show()\n",
    " \n",
    "    # if user wants to predict using the regressor:\n",
    "    regressor.predict([i for i in range(10)])\n",
    " \n",
    "if __name__ == '__main__':\n",
    "    main()"
   ]
  },
  {
   "cell_type": "code",
   "execution_count": 134,
   "id": "b96ac673",
   "metadata": {},
   "outputs": [
    {
     "ename": "MemoryError",
     "evalue": "Unable to allocate 265. GiB for an array with shape (188621, 188621) and data type float64",
     "output_type": "error",
     "traceback": [
      "\u001b[1;31m---------------------------------------------------------------------------\u001b[0m",
      "\u001b[1;31mMemoryError\u001b[0m                               Traceback (most recent call last)",
      "Cell \u001b[1;32mIn[134], line 34\u001b[0m\n\u001b[0;32m     31\u001b[0m y1 \u001b[38;5;241m=\u001b[39m np\u001b[38;5;241m.\u001b[39marray([[\u001b[38;5;241m2\u001b[39m\u001b[38;5;241m*\u001b[39m el[\u001b[38;5;241m0\u001b[39m] \u001b[38;5;241m+\u001b[39m \u001b[38;5;241m10\u001b[39m \u001b[38;5;241m+\u001b[39m np\u001b[38;5;241m.\u001b[39mrandom\u001b[38;5;241m.\u001b[39mrand()\u001b[38;5;241m*\u001b[39m\u001b[38;5;241m3\u001b[39m] \u001b[38;5;28;01mfor\u001b[39;00m el \u001b[38;5;129;01min\u001b[39;00m x])\n\u001b[0;32m     33\u001b[0m a \u001b[38;5;241m=\u001b[39m LinearRegression1(n_epochs\u001b[38;5;241m=\u001b[39m\u001b[38;5;241m1000\u001b[39m)\n\u001b[1;32m---> 34\u001b[0m \u001b[43ma\u001b[49m\u001b[38;5;241;43m.\u001b[39;49m\u001b[43mfit\u001b[49m\u001b[43m(\u001b[49m\u001b[43mX_train\u001b[49m\u001b[43m,\u001b[49m\u001b[43m \u001b[49m\u001b[43my_train\u001b[49m\u001b[43m)\u001b[49m\n\u001b[0;32m     35\u001b[0m \u001b[38;5;28mprint\u001b[39m(a\u001b[38;5;241m.\u001b[39mw)\n\u001b[0;32m     37\u001b[0m plt\u001b[38;5;241m.\u001b[39mscatter(x1, y1)\n",
      "Cell \u001b[1;32mIn[134], line 19\u001b[0m, in \u001b[0;36mLinearRegression1.fit\u001b[1;34m(self, X, y)\u001b[0m\n\u001b[0;32m     17\u001b[0m \u001b[38;5;28mself\u001b[39m\u001b[38;5;241m.\u001b[39mb \u001b[38;5;241m=\u001b[39m \u001b[38;5;241m0\u001b[39m\n\u001b[0;32m     18\u001b[0m \u001b[38;5;28;01mfor\u001b[39;00m i \u001b[38;5;129;01min\u001b[39;00m \u001b[38;5;28mrange\u001b[39m(\u001b[38;5;28mself\u001b[39m\u001b[38;5;241m.\u001b[39mn_epochs):\n\u001b[1;32m---> 19\u001b[0m     \u001b[38;5;28mself\u001b[39m\u001b[38;5;241m.\u001b[39mw \u001b[38;5;241m=\u001b[39m \u001b[38;5;28mself\u001b[39m\u001b[38;5;241m.\u001b[39mw \u001b[38;5;241m-\u001b[39m \u001b[38;5;28mself\u001b[39m\u001b[38;5;241m.\u001b[39mlr \u001b[38;5;241m*\u001b[39m \u001b[38;5;28;43mself\u001b[39;49m\u001b[38;5;241;43m.\u001b[39;49m\u001b[43mloss_gradient_w\u001b[49m\u001b[43m(\u001b[49m\u001b[38;5;28;43mself\u001b[39;49m\u001b[38;5;241;43m.\u001b[39;49m\u001b[43mpredict\u001b[49m\u001b[43m(\u001b[49m\u001b[43mX\u001b[49m\u001b[43m)\u001b[49m\u001b[43m,\u001b[49m\u001b[43m \u001b[49m\u001b[43my\u001b[49m\u001b[43m,\u001b[49m\u001b[43m \u001b[49m\u001b[43mX\u001b[49m\u001b[43m)\u001b[49m\n\u001b[0;32m     20\u001b[0m     \u001b[38;5;66;03m#self.b = self.b - self.lr * self.loss_gradient_b(self.predict(X), y, X)\u001b[39;00m\n\u001b[0;32m     21\u001b[0m     \u001b[38;5;28mprint\u001b[39m(\u001b[38;5;124mf\u001b[39m\u001b[38;5;124m\"\u001b[39m\u001b[38;5;124mMSE: \u001b[39m\u001b[38;5;132;01m{\u001b[39;00m\u001b[38;5;28mself\u001b[39m\u001b[38;5;241m.\u001b[39mmse(y,\u001b[38;5;250m \u001b[39m\u001b[38;5;28mself\u001b[39m\u001b[38;5;241m.\u001b[39mpredict(X))\u001b[38;5;132;01m}\u001b[39;00m\u001b[38;5;124m\"\u001b[39m)\n",
      "Cell \u001b[1;32mIn[134], line 10\u001b[0m, in \u001b[0;36mLinearRegression1.loss_gradient_w\u001b[1;34m(self, y_pred, y, x)\u001b[0m\n\u001b[0;32m      9\u001b[0m \u001b[38;5;28;01mdef\u001b[39;00m \u001b[38;5;21mloss_gradient_w\u001b[39m(\u001b[38;5;28mself\u001b[39m, y_pred, y, x):\n\u001b[1;32m---> 10\u001b[0m     \u001b[38;5;28;01mreturn\u001b[39;00m \u001b[38;5;241m2\u001b[39m \u001b[38;5;241m*\u001b[39m np\u001b[38;5;241m.\u001b[39msum((\u001b[43my_pred\u001b[49m\u001b[43m \u001b[49m\u001b[38;5;241;43m-\u001b[39;49m\u001b[43m \u001b[49m\u001b[43my\u001b[49m) \u001b[38;5;241m*\u001b[39m x) \u001b[38;5;241m/\u001b[39m y\u001b[38;5;241m.\u001b[39mshape[\u001b[38;5;241m0\u001b[39m]\n",
      "File \u001b[1;32mF:\\venv1\\venv\\lib\\site-packages\\pandas\\core\\ops\\common.py:72\u001b[0m, in \u001b[0;36m_unpack_zerodim_and_defer.<locals>.new_method\u001b[1;34m(self, other)\u001b[0m\n\u001b[0;32m     68\u001b[0m             \u001b[38;5;28;01mreturn\u001b[39;00m \u001b[38;5;28mNotImplemented\u001b[39m\n\u001b[0;32m     70\u001b[0m other \u001b[38;5;241m=\u001b[39m item_from_zerodim(other)\n\u001b[1;32m---> 72\u001b[0m \u001b[38;5;28;01mreturn\u001b[39;00m \u001b[43mmethod\u001b[49m\u001b[43m(\u001b[49m\u001b[38;5;28;43mself\u001b[39;49m\u001b[43m,\u001b[49m\u001b[43m \u001b[49m\u001b[43mother\u001b[49m\u001b[43m)\u001b[49m\n",
      "File \u001b[1;32mF:\\venv1\\venv\\lib\\site-packages\\pandas\\core\\arraylike.py:110\u001b[0m, in \u001b[0;36mOpsMixin.__sub__\u001b[1;34m(self, other)\u001b[0m\n\u001b[0;32m    108\u001b[0m \u001b[38;5;129m@unpack_zerodim_and_defer\u001b[39m(\u001b[38;5;124m\"\u001b[39m\u001b[38;5;124m__sub__\u001b[39m\u001b[38;5;124m\"\u001b[39m)\n\u001b[0;32m    109\u001b[0m \u001b[38;5;28;01mdef\u001b[39;00m \u001b[38;5;21m__sub__\u001b[39m(\u001b[38;5;28mself\u001b[39m, other):\n\u001b[1;32m--> 110\u001b[0m     \u001b[38;5;28;01mreturn\u001b[39;00m \u001b[38;5;28;43mself\u001b[39;49m\u001b[38;5;241;43m.\u001b[39;49m\u001b[43m_arith_method\u001b[49m\u001b[43m(\u001b[49m\u001b[43mother\u001b[49m\u001b[43m,\u001b[49m\u001b[43m \u001b[49m\u001b[43moperator\u001b[49m\u001b[38;5;241;43m.\u001b[39;49m\u001b[43msub\u001b[49m\u001b[43m)\u001b[49m\n",
      "File \u001b[1;32mF:\\venv1\\venv\\lib\\site-packages\\pandas\\core\\frame.py:7592\u001b[0m, in \u001b[0;36mDataFrame._arith_method\u001b[1;34m(self, other, op)\u001b[0m\n\u001b[0;32m   7589\u001b[0m axis \u001b[38;5;241m=\u001b[39m \u001b[38;5;241m1\u001b[39m  \u001b[38;5;66;03m# only relevant for Series other case\u001b[39;00m\n\u001b[0;32m   7590\u001b[0m other \u001b[38;5;241m=\u001b[39m ops\u001b[38;5;241m.\u001b[39mmaybe_prepare_scalar_for_op(other, (\u001b[38;5;28mself\u001b[39m\u001b[38;5;241m.\u001b[39mshape[axis],))\n\u001b[1;32m-> 7592\u001b[0m \u001b[38;5;28mself\u001b[39m, other \u001b[38;5;241m=\u001b[39m \u001b[43mops\u001b[49m\u001b[38;5;241;43m.\u001b[39;49m\u001b[43malign_method_FRAME\u001b[49m\u001b[43m(\u001b[49m\u001b[38;5;28;43mself\u001b[39;49m\u001b[43m,\u001b[49m\u001b[43m \u001b[49m\u001b[43mother\u001b[49m\u001b[43m,\u001b[49m\u001b[43m \u001b[49m\u001b[43maxis\u001b[49m\u001b[43m,\u001b[49m\u001b[43m \u001b[49m\u001b[43mflex\u001b[49m\u001b[38;5;241;43m=\u001b[39;49m\u001b[38;5;28;43;01mTrue\u001b[39;49;00m\u001b[43m,\u001b[49m\u001b[43m \u001b[49m\u001b[43mlevel\u001b[49m\u001b[38;5;241;43m=\u001b[39;49m\u001b[38;5;28;43;01mNone\u001b[39;49;00m\u001b[43m)\u001b[49m\n\u001b[0;32m   7594\u001b[0m new_data \u001b[38;5;241m=\u001b[39m \u001b[38;5;28mself\u001b[39m\u001b[38;5;241m.\u001b[39m_dispatch_frame_op(other, op, axis\u001b[38;5;241m=\u001b[39maxis)\n\u001b[0;32m   7595\u001b[0m \u001b[38;5;28;01mreturn\u001b[39;00m \u001b[38;5;28mself\u001b[39m\u001b[38;5;241m.\u001b[39m_construct_result(new_data)\n",
      "File \u001b[1;32mF:\\venv1\\venv\\lib\\site-packages\\pandas\\core\\ops\\__init__.py:307\u001b[0m, in \u001b[0;36malign_method_FRAME\u001b[1;34m(left, right, axis, flex, level)\u001b[0m\n\u001b[0;32m    297\u001b[0m         \u001b[38;5;28;01mif\u001b[39;00m \u001b[38;5;129;01mnot\u001b[39;00m left\u001b[38;5;241m.\u001b[39maxes[axis]\u001b[38;5;241m.\u001b[39mequals(right\u001b[38;5;241m.\u001b[39mindex):\n\u001b[0;32m    298\u001b[0m             warnings\u001b[38;5;241m.\u001b[39mwarn(\n\u001b[0;32m    299\u001b[0m                 \u001b[38;5;124m\"\u001b[39m\u001b[38;5;124mAutomatic reindexing on DataFrame vs Series comparisons \u001b[39m\u001b[38;5;124m\"\u001b[39m\n\u001b[0;32m    300\u001b[0m                 \u001b[38;5;124m\"\u001b[39m\u001b[38;5;124mis deprecated and will raise ValueError in a future version. \u001b[39m\u001b[38;5;124m\"\u001b[39m\n\u001b[1;32m   (...)\u001b[0m\n\u001b[0;32m    304\u001b[0m                 stacklevel\u001b[38;5;241m=\u001b[39mfind_stack_level(),\n\u001b[0;32m    305\u001b[0m             )\n\u001b[1;32m--> 307\u001b[0m     left, right \u001b[38;5;241m=\u001b[39m \u001b[43mleft\u001b[49m\u001b[38;5;241;43m.\u001b[39;49m\u001b[43malign\u001b[49m\u001b[43m(\u001b[49m\n\u001b[0;32m    308\u001b[0m \u001b[43m        \u001b[49m\u001b[43mright\u001b[49m\u001b[43m,\u001b[49m\u001b[43m \u001b[49m\u001b[43mjoin\u001b[49m\u001b[38;5;241;43m=\u001b[39;49m\u001b[38;5;124;43m\"\u001b[39;49m\u001b[38;5;124;43mouter\u001b[39;49m\u001b[38;5;124;43m\"\u001b[39;49m\u001b[43m,\u001b[49m\u001b[43m \u001b[49m\u001b[43maxis\u001b[49m\u001b[38;5;241;43m=\u001b[39;49m\u001b[43maxis\u001b[49m\u001b[43m,\u001b[49m\u001b[43m \u001b[49m\u001b[43mlevel\u001b[49m\u001b[38;5;241;43m=\u001b[39;49m\u001b[43mlevel\u001b[49m\u001b[43m,\u001b[49m\u001b[43m \u001b[49m\u001b[43mcopy\u001b[49m\u001b[38;5;241;43m=\u001b[39;49m\u001b[38;5;28;43;01mFalse\u001b[39;49;00m\n\u001b[0;32m    309\u001b[0m \u001b[43m    \u001b[49m\u001b[43m)\u001b[49m\n\u001b[0;32m    310\u001b[0m     right \u001b[38;5;241m=\u001b[39m _maybe_align_series_as_frame(left, right, axis)\n\u001b[0;32m    312\u001b[0m \u001b[38;5;28;01mreturn\u001b[39;00m left, right\n",
      "File \u001b[1;32mF:\\venv1\\venv\\lib\\site-packages\\pandas\\core\\frame.py:5090\u001b[0m, in \u001b[0;36mDataFrame.align\u001b[1;34m(self, other, join, axis, level, copy, fill_value, method, limit, fill_axis, broadcast_axis)\u001b[0m\n\u001b[0;32m   5076\u001b[0m \u001b[38;5;129m@doc\u001b[39m(NDFrame\u001b[38;5;241m.\u001b[39malign, \u001b[38;5;241m*\u001b[39m\u001b[38;5;241m*\u001b[39m_shared_doc_kwargs)\n\u001b[0;32m   5077\u001b[0m \u001b[38;5;28;01mdef\u001b[39;00m \u001b[38;5;21malign\u001b[39m(\n\u001b[0;32m   5078\u001b[0m     \u001b[38;5;28mself\u001b[39m,\n\u001b[1;32m   (...)\u001b[0m\n\u001b[0;32m   5088\u001b[0m     broadcast_axis: Axis \u001b[38;5;241m|\u001b[39m \u001b[38;5;28;01mNone\u001b[39;00m \u001b[38;5;241m=\u001b[39m \u001b[38;5;28;01mNone\u001b[39;00m,\n\u001b[0;32m   5089\u001b[0m ) \u001b[38;5;241m-\u001b[39m\u001b[38;5;241m>\u001b[39m DataFrame:\n\u001b[1;32m-> 5090\u001b[0m     \u001b[38;5;28;01mreturn\u001b[39;00m \u001b[38;5;28;43msuper\u001b[39;49m\u001b[43m(\u001b[49m\u001b[43m)\u001b[49m\u001b[38;5;241;43m.\u001b[39;49m\u001b[43malign\u001b[49m\u001b[43m(\u001b[49m\n\u001b[0;32m   5091\u001b[0m \u001b[43m        \u001b[49m\u001b[43mother\u001b[49m\u001b[43m,\u001b[49m\n\u001b[0;32m   5092\u001b[0m \u001b[43m        \u001b[49m\u001b[43mjoin\u001b[49m\u001b[38;5;241;43m=\u001b[39;49m\u001b[43mjoin\u001b[49m\u001b[43m,\u001b[49m\n\u001b[0;32m   5093\u001b[0m \u001b[43m        \u001b[49m\u001b[43maxis\u001b[49m\u001b[38;5;241;43m=\u001b[39;49m\u001b[43maxis\u001b[49m\u001b[43m,\u001b[49m\n\u001b[0;32m   5094\u001b[0m \u001b[43m        \u001b[49m\u001b[43mlevel\u001b[49m\u001b[38;5;241;43m=\u001b[39;49m\u001b[43mlevel\u001b[49m\u001b[43m,\u001b[49m\n\u001b[0;32m   5095\u001b[0m \u001b[43m        \u001b[49m\u001b[43mcopy\u001b[49m\u001b[38;5;241;43m=\u001b[39;49m\u001b[43mcopy\u001b[49m\u001b[43m,\u001b[49m\n\u001b[0;32m   5096\u001b[0m \u001b[43m        \u001b[49m\u001b[43mfill_value\u001b[49m\u001b[38;5;241;43m=\u001b[39;49m\u001b[43mfill_value\u001b[49m\u001b[43m,\u001b[49m\n\u001b[0;32m   5097\u001b[0m \u001b[43m        \u001b[49m\u001b[43mmethod\u001b[49m\u001b[38;5;241;43m=\u001b[39;49m\u001b[43mmethod\u001b[49m\u001b[43m,\u001b[49m\n\u001b[0;32m   5098\u001b[0m \u001b[43m        \u001b[49m\u001b[43mlimit\u001b[49m\u001b[38;5;241;43m=\u001b[39;49m\u001b[43mlimit\u001b[49m\u001b[43m,\u001b[49m\n\u001b[0;32m   5099\u001b[0m \u001b[43m        \u001b[49m\u001b[43mfill_axis\u001b[49m\u001b[38;5;241;43m=\u001b[39;49m\u001b[43mfill_axis\u001b[49m\u001b[43m,\u001b[49m\n\u001b[0;32m   5100\u001b[0m \u001b[43m        \u001b[49m\u001b[43mbroadcast_axis\u001b[49m\u001b[38;5;241;43m=\u001b[39;49m\u001b[43mbroadcast_axis\u001b[49m\u001b[43m,\u001b[49m\n\u001b[0;32m   5101\u001b[0m \u001b[43m    \u001b[49m\u001b[43m)\u001b[49m\n",
      "File \u001b[1;32mF:\\venv1\\venv\\lib\\site-packages\\pandas\\core\\generic.py:9452\u001b[0m, in \u001b[0;36mNDFrame.align\u001b[1;34m(self, other, join, axis, level, copy, fill_value, method, limit, fill_axis, broadcast_axis)\u001b[0m\n\u001b[0;32m   9440\u001b[0m     \u001b[38;5;28;01mreturn\u001b[39;00m \u001b[38;5;28mself\u001b[39m\u001b[38;5;241m.\u001b[39m_align_frame(\n\u001b[0;32m   9441\u001b[0m         other,\n\u001b[0;32m   9442\u001b[0m         join\u001b[38;5;241m=\u001b[39mjoin,\n\u001b[1;32m   (...)\u001b[0m\n\u001b[0;32m   9449\u001b[0m         fill_axis\u001b[38;5;241m=\u001b[39mfill_axis,\n\u001b[0;32m   9450\u001b[0m     )\n\u001b[0;32m   9451\u001b[0m \u001b[38;5;28;01melif\u001b[39;00m \u001b[38;5;28misinstance\u001b[39m(other, ABCSeries):\n\u001b[1;32m-> 9452\u001b[0m     \u001b[38;5;28;01mreturn\u001b[39;00m \u001b[38;5;28;43mself\u001b[39;49m\u001b[38;5;241;43m.\u001b[39;49m\u001b[43m_align_series\u001b[49m\u001b[43m(\u001b[49m\n\u001b[0;32m   9453\u001b[0m \u001b[43m        \u001b[49m\u001b[43mother\u001b[49m\u001b[43m,\u001b[49m\n\u001b[0;32m   9454\u001b[0m \u001b[43m        \u001b[49m\u001b[43mjoin\u001b[49m\u001b[38;5;241;43m=\u001b[39;49m\u001b[43mjoin\u001b[49m\u001b[43m,\u001b[49m\n\u001b[0;32m   9455\u001b[0m \u001b[43m        \u001b[49m\u001b[43maxis\u001b[49m\u001b[38;5;241;43m=\u001b[39;49m\u001b[43maxis\u001b[49m\u001b[43m,\u001b[49m\n\u001b[0;32m   9456\u001b[0m \u001b[43m        \u001b[49m\u001b[43mlevel\u001b[49m\u001b[38;5;241;43m=\u001b[39;49m\u001b[43mlevel\u001b[49m\u001b[43m,\u001b[49m\n\u001b[0;32m   9457\u001b[0m \u001b[43m        \u001b[49m\u001b[43mcopy\u001b[49m\u001b[38;5;241;43m=\u001b[39;49m\u001b[43mcopy\u001b[49m\u001b[43m,\u001b[49m\n\u001b[0;32m   9458\u001b[0m \u001b[43m        \u001b[49m\u001b[43mfill_value\u001b[49m\u001b[38;5;241;43m=\u001b[39;49m\u001b[43mfill_value\u001b[49m\u001b[43m,\u001b[49m\n\u001b[0;32m   9459\u001b[0m \u001b[43m        \u001b[49m\u001b[43mmethod\u001b[49m\u001b[38;5;241;43m=\u001b[39;49m\u001b[43mmethod\u001b[49m\u001b[43m,\u001b[49m\n\u001b[0;32m   9460\u001b[0m \u001b[43m        \u001b[49m\u001b[43mlimit\u001b[49m\u001b[38;5;241;43m=\u001b[39;49m\u001b[43mlimit\u001b[49m\u001b[43m,\u001b[49m\n\u001b[0;32m   9461\u001b[0m \u001b[43m        \u001b[49m\u001b[43mfill_axis\u001b[49m\u001b[38;5;241;43m=\u001b[39;49m\u001b[43mfill_axis\u001b[49m\u001b[43m,\u001b[49m\n\u001b[0;32m   9462\u001b[0m \u001b[43m    \u001b[49m\u001b[43m)\u001b[49m\n\u001b[0;32m   9463\u001b[0m \u001b[38;5;28;01melse\u001b[39;00m:  \u001b[38;5;66;03m# pragma: no cover\u001b[39;00m\n\u001b[0;32m   9464\u001b[0m     \u001b[38;5;28;01mraise\u001b[39;00m \u001b[38;5;167;01mTypeError\u001b[39;00m(\u001b[38;5;124mf\u001b[39m\u001b[38;5;124m\"\u001b[39m\u001b[38;5;124munsupported type: \u001b[39m\u001b[38;5;132;01m{\u001b[39;00m\u001b[38;5;28mtype\u001b[39m(other)\u001b[38;5;132;01m}\u001b[39;00m\u001b[38;5;124m\"\u001b[39m)\n",
      "File \u001b[1;32mF:\\venv1\\venv\\lib\\site-packages\\pandas\\core\\generic.py:9587\u001b[0m, in \u001b[0;36mNDFrame._align_series\u001b[1;34m(self, other, join, axis, level, copy, fill_value, method, limit, fill_axis)\u001b[0m\n\u001b[0;32m   9585\u001b[0m \u001b[38;5;28;01mif\u001b[39;00m lidx \u001b[38;5;129;01mis\u001b[39;00m \u001b[38;5;129;01mnot\u001b[39;00m \u001b[38;5;28;01mNone\u001b[39;00m:\n\u001b[0;32m   9586\u001b[0m     bm_axis \u001b[38;5;241m=\u001b[39m \u001b[38;5;28mself\u001b[39m\u001b[38;5;241m.\u001b[39m_get_block_manager_axis(\u001b[38;5;241m1\u001b[39m)\n\u001b[1;32m-> 9587\u001b[0m     fdata \u001b[38;5;241m=\u001b[39m \u001b[43mfdata\u001b[49m\u001b[38;5;241;43m.\u001b[39;49m\u001b[43mreindex_indexer\u001b[49m\u001b[43m(\u001b[49m\u001b[43mjoin_index\u001b[49m\u001b[43m,\u001b[49m\u001b[43m \u001b[49m\u001b[43mlidx\u001b[49m\u001b[43m,\u001b[49m\u001b[43m \u001b[49m\u001b[43maxis\u001b[49m\u001b[38;5;241;43m=\u001b[39;49m\u001b[43mbm_axis\u001b[49m\u001b[43m)\u001b[49m\n\u001b[0;32m   9589\u001b[0m \u001b[38;5;28;01mif\u001b[39;00m copy \u001b[38;5;129;01mand\u001b[39;00m fdata \u001b[38;5;129;01mis\u001b[39;00m \u001b[38;5;28mself\u001b[39m\u001b[38;5;241m.\u001b[39m_mgr:\n\u001b[0;32m   9590\u001b[0m     fdata \u001b[38;5;241m=\u001b[39m fdata\u001b[38;5;241m.\u001b[39mcopy()\n",
      "File \u001b[1;32mF:\\venv1\\venv\\lib\\site-packages\\pandas\\core\\internals\\managers.py:743\u001b[0m, in \u001b[0;36mBaseBlockManager.reindex_indexer\u001b[1;34m(self, new_axis, indexer, axis, fill_value, allow_dups, copy, only_slice, use_na_proxy)\u001b[0m\n\u001b[0;32m    740\u001b[0m     \u001b[38;5;28;01mraise\u001b[39;00m \u001b[38;5;167;01mIndexError\u001b[39;00m(\u001b[38;5;124m\"\u001b[39m\u001b[38;5;124mRequested axis not found in manager\u001b[39m\u001b[38;5;124m\"\u001b[39m)\n\u001b[0;32m    742\u001b[0m \u001b[38;5;28;01mif\u001b[39;00m axis \u001b[38;5;241m==\u001b[39m \u001b[38;5;241m0\u001b[39m:\n\u001b[1;32m--> 743\u001b[0m     new_blocks, new_refs \u001b[38;5;241m=\u001b[39m \u001b[38;5;28;43mself\u001b[39;49m\u001b[38;5;241;43m.\u001b[39;49m\u001b[43m_slice_take_blocks_ax0\u001b[49m\u001b[43m(\u001b[49m\n\u001b[0;32m    744\u001b[0m \u001b[43m        \u001b[49m\u001b[43mindexer\u001b[49m\u001b[43m,\u001b[49m\n\u001b[0;32m    745\u001b[0m \u001b[43m        \u001b[49m\u001b[43mfill_value\u001b[49m\u001b[38;5;241;43m=\u001b[39;49m\u001b[43mfill_value\u001b[49m\u001b[43m,\u001b[49m\n\u001b[0;32m    746\u001b[0m \u001b[43m        \u001b[49m\u001b[43monly_slice\u001b[49m\u001b[38;5;241;43m=\u001b[39;49m\u001b[43monly_slice\u001b[49m\u001b[43m,\u001b[49m\n\u001b[0;32m    747\u001b[0m \u001b[43m        \u001b[49m\u001b[43muse_na_proxy\u001b[49m\u001b[38;5;241;43m=\u001b[39;49m\u001b[43muse_na_proxy\u001b[49m\u001b[43m,\u001b[49m\n\u001b[0;32m    748\u001b[0m \u001b[43m    \u001b[49m\u001b[43m)\u001b[49m\n\u001b[0;32m    749\u001b[0m     parent \u001b[38;5;241m=\u001b[39m \u001b[38;5;28;01mNone\u001b[39;00m \u001b[38;5;28;01mif\u001b[39;00m com\u001b[38;5;241m.\u001b[39mall_none(\u001b[38;5;241m*\u001b[39mnew_refs) \u001b[38;5;28;01melse\u001b[39;00m \u001b[38;5;28mself\u001b[39m\n\u001b[0;32m    750\u001b[0m \u001b[38;5;28;01melse\u001b[39;00m:\n",
      "File \u001b[1;32mF:\\venv1\\venv\\lib\\site-packages\\pandas\\core\\internals\\managers.py:867\u001b[0m, in \u001b[0;36mBaseBlockManager._slice_take_blocks_ax0\u001b[1;34m(self, slice_or_indexer, fill_value, only_slice, use_na_proxy)\u001b[0m\n\u001b[0;32m    862\u001b[0m \u001b[38;5;28;01mfor\u001b[39;00m blkno, mgr_locs \u001b[38;5;129;01min\u001b[39;00m libinternals\u001b[38;5;241m.\u001b[39mget_blkno_placements(blknos, group\u001b[38;5;241m=\u001b[39mgroup):\n\u001b[0;32m    863\u001b[0m     \u001b[38;5;28;01mif\u001b[39;00m blkno \u001b[38;5;241m==\u001b[39m \u001b[38;5;241m-\u001b[39m\u001b[38;5;241m1\u001b[39m:\n\u001b[0;32m    864\u001b[0m         \u001b[38;5;66;03m# If we've got here, fill_value was not lib.no_default\u001b[39;00m\n\u001b[0;32m    866\u001b[0m         blocks\u001b[38;5;241m.\u001b[39mappend(\n\u001b[1;32m--> 867\u001b[0m             \u001b[38;5;28;43mself\u001b[39;49m\u001b[38;5;241;43m.\u001b[39;49m\u001b[43m_make_na_block\u001b[49m\u001b[43m(\u001b[49m\n\u001b[0;32m    868\u001b[0m \u001b[43m                \u001b[49m\u001b[43mplacement\u001b[49m\u001b[38;5;241;43m=\u001b[39;49m\u001b[43mmgr_locs\u001b[49m\u001b[43m,\u001b[49m\n\u001b[0;32m    869\u001b[0m \u001b[43m                \u001b[49m\u001b[43mfill_value\u001b[49m\u001b[38;5;241;43m=\u001b[39;49m\u001b[43mfill_value\u001b[49m\u001b[43m,\u001b[49m\n\u001b[0;32m    870\u001b[0m \u001b[43m                \u001b[49m\u001b[43muse_na_proxy\u001b[49m\u001b[38;5;241;43m=\u001b[39;49m\u001b[43muse_na_proxy\u001b[49m\u001b[43m,\u001b[49m\n\u001b[0;32m    871\u001b[0m \u001b[43m            \u001b[49m\u001b[43m)\u001b[49m\n\u001b[0;32m    872\u001b[0m         )\n\u001b[0;32m    873\u001b[0m         refs\u001b[38;5;241m.\u001b[39mappend(\u001b[38;5;28;01mNone\u001b[39;00m)\n\u001b[0;32m    874\u001b[0m     \u001b[38;5;28;01melse\u001b[39;00m:\n",
      "File \u001b[1;32mF:\\venv1\\venv\\lib\\site-packages\\pandas\\core\\internals\\managers.py:940\u001b[0m, in \u001b[0;36mBaseBlockManager._make_na_block\u001b[1;34m(self, placement, fill_value, use_na_proxy)\u001b[0m\n\u001b[0;32m    935\u001b[0m dtype, fill_value \u001b[38;5;241m=\u001b[39m infer_dtype_from_scalar(fill_value)\n\u001b[0;32m    936\u001b[0m \u001b[38;5;66;03m# error: Argument \"dtype\" to \"empty\" has incompatible type \"Union[dtype,\u001b[39;00m\n\u001b[0;32m    937\u001b[0m \u001b[38;5;66;03m# ExtensionDtype]\"; expected \"Union[dtype, None, type, _SupportsDtype, str,\u001b[39;00m\n\u001b[0;32m    938\u001b[0m \u001b[38;5;66;03m# Tuple[Any, int], Tuple[Any, Union[int, Sequence[int]]], List[Any], _DtypeDict,\u001b[39;00m\n\u001b[0;32m    939\u001b[0m \u001b[38;5;66;03m# Tuple[Any, Any]]\"\u001b[39;00m\n\u001b[1;32m--> 940\u001b[0m block_values \u001b[38;5;241m=\u001b[39m \u001b[43mnp\u001b[49m\u001b[38;5;241;43m.\u001b[39;49m\u001b[43mempty\u001b[49m\u001b[43m(\u001b[49m\u001b[43mblock_shape\u001b[49m\u001b[43m,\u001b[49m\u001b[43m \u001b[49m\u001b[43mdtype\u001b[49m\u001b[38;5;241;43m=\u001b[39;49m\u001b[43mdtype\u001b[49m\u001b[43m)\u001b[49m  \u001b[38;5;66;03m# type: ignore[arg-type]\u001b[39;00m\n\u001b[0;32m    941\u001b[0m block_values\u001b[38;5;241m.\u001b[39mfill(fill_value)\n\u001b[0;32m    942\u001b[0m \u001b[38;5;28;01mreturn\u001b[39;00m new_block_2d(block_values, placement\u001b[38;5;241m=\u001b[39mplacement)\n",
      "\u001b[1;31mMemoryError\u001b[0m: Unable to allocate 265. GiB for an array with shape (188621, 188621) and data type float64"
     ]
    }
   ],
   "source": [
    "class LinearRegression1:\n",
    "    def __init__(self, lr=0.0001, n_epochs=1000):\n",
    "        self.lr = lr\n",
    "        self.n_epochs = n_epochs\n",
    "\n",
    "    def mse(self, y, y_pred):\n",
    "        return np.sum(np.square(y - y_pred)) / y.shape[0]\n",
    "\n",
    "    def loss_gradient_w(self, y_pred, y, x):\n",
    "        return 2 * np.sum((y_pred - y) * x) / y.shape[0]\n",
    "\n",
    "    def loss_gradient_b(self, y_pred, y, x):\n",
    "        return 2 * np.sum(y_pred - y) / y.shape[0]\n",
    "\n",
    "    def fit(self, X, y):\n",
    "        self.w = 0\n",
    "        self.b = 0\n",
    "        for i in range(self.n_epochs):\n",
    "            self.w = self.w - self.lr * self.loss_gradient_w(self.predict(X), y, X)\n",
    "            #self.b = self.b - self.lr * self.loss_gradient_b(self.predict(X), y, X)\n",
    "            print(f\"MSE: {self.mse(y, self.predict(X))}\")\n",
    "\n",
    "    def predict(self, X):\n",
    "        return self.w * X #+ self.b\n",
    "    def w(self):\n",
    "        return self.w\n",
    "    \n",
    "np.random.seed(42)\n",
    "x1 = [np.array([[x] for x in np.arange(0.0, 6.0, 0.5)]),\n",
    "      np.array([[x] for x in np.arange(0.0, 6.0, 0.5)])]\n",
    "y1 = np.array([[2* el[0] + 10 + np.random.rand()*3] for el in x])\n",
    "\n",
    "a = LinearRegression1(n_epochs=1000)\n",
    "a.fit(X_train, y_train)\n",
    "print(a.w)\n",
    "\n",
    "plt.scatter(x1, y1)\n",
    "plt.scatter(x1, a.predict(x1))\n",
    "plt.show()"
   ]
  },
  {
   "cell_type": "code",
   "execution_count": 135,
   "id": "2ad16a74",
   "metadata": {},
   "outputs": [
    {
     "ename": "ValueError",
     "evalue": "all the input arrays must have same number of dimensions, but the array at index 0 has 2 dimension(s) and the array at index 1 has 3 dimension(s)",
     "output_type": "error",
     "traceback": [
      "\u001b[1;31m---------------------------------------------------------------------------\u001b[0m",
      "\u001b[1;31mValueError\u001b[0m                                Traceback (most recent call last)",
      "Cell \u001b[1;32mIn[135], line 37\u001b[0m\n\u001b[0;32m     35\u001b[0m     \u001b[38;5;28;01mdef\u001b[39;00m \u001b[38;5;21mpredict\u001b[39m(\u001b[38;5;28mself\u001b[39m, x):\n\u001b[0;32m     36\u001b[0m         \u001b[38;5;28;01mreturn\u001b[39;00m np\u001b[38;5;241m.\u001b[39mdot(\u001b[38;5;28mself\u001b[39m\u001b[38;5;241m.\u001b[39mtransform_(x), \u001b[38;5;28mself\u001b[39m\u001b[38;5;241m.\u001b[39mw)\n\u001b[1;32m---> 37\u001b[0m \u001b[43mMyLinearRegression\u001b[49m\u001b[43m(\u001b[49m\u001b[43m)\u001b[49m\u001b[38;5;241;43m.\u001b[39;49m\u001b[43mfit\u001b[49m\u001b[43m(\u001b[49m\u001b[43mx1\u001b[49m\u001b[43m,\u001b[49m\u001b[43m \u001b[49m\u001b[43my1\u001b[49m\u001b[43m)\u001b[49m\n",
      "Cell \u001b[1;32mIn[135], line 16\u001b[0m, in \u001b[0;36mMyLinearRegression.fit\u001b[1;34m(self, x, y)\u001b[0m\n\u001b[0;32m     14\u001b[0m dist \u001b[38;5;241m=\u001b[39m np\u001b[38;5;241m.\u001b[39minf\n\u001b[0;32m     15\u001b[0m eps \u001b[38;5;241m=\u001b[39m \u001b[38;5;241m1e-20\u001b[39m\n\u001b[1;32m---> 16\u001b[0m X \u001b[38;5;241m=\u001b[39m \u001b[38;5;28;43mself\u001b[39;49m\u001b[38;5;241;43m.\u001b[39;49m\u001b[43mtransform_\u001b[49m\u001b[43m(\u001b[49m\u001b[43mx\u001b[49m\u001b[43m)\u001b[49m\n\u001b[0;32m     18\u001b[0m w \u001b[38;5;241m=\u001b[39m np\u001b[38;5;241m.\u001b[39mzeros(X\u001b[38;5;241m.\u001b[39mshape[\u001b[38;5;241m1\u001b[39m])\n\u001b[0;32m     19\u001b[0m \u001b[38;5;28miter\u001b[39m \u001b[38;5;241m=\u001b[39m \u001b[38;5;241m0\u001b[39m\n",
      "Cell \u001b[1;32mIn[135], line 8\u001b[0m, in \u001b[0;36mMyLinearRegression.transform_\u001b[1;34m(self, x)\u001b[0m\n\u001b[0;32m      7\u001b[0m \u001b[38;5;28;01mdef\u001b[39;00m \u001b[38;5;21mtransform_\u001b[39m(\u001b[38;5;28mself\u001b[39m, x):\n\u001b[1;32m----> 8\u001b[0m     \u001b[38;5;28;01mreturn\u001b[39;00m \u001b[43mnp\u001b[49m\u001b[38;5;241;43m.\u001b[39;49m\u001b[43mconcatenate\u001b[49m\u001b[43m(\u001b[49m\u001b[43m(\u001b[49m\u001b[43mnp\u001b[49m\u001b[38;5;241;43m.\u001b[39;49m\u001b[43mones\u001b[49m\u001b[43m(\u001b[49m\u001b[43m(\u001b[49m\u001b[38;5;28;43mlen\u001b[39;49m\u001b[43m(\u001b[49m\u001b[43mx\u001b[49m\u001b[43m)\u001b[49m\u001b[43m,\u001b[49m\u001b[43m \u001b[49m\u001b[38;5;241;43m1\u001b[39;49m\u001b[43m)\u001b[49m\u001b[43m)\u001b[49m\u001b[43m,\u001b[49m\u001b[43m \u001b[49m\u001b[43mx\u001b[49m\u001b[43m)\u001b[49m\u001b[43m,\u001b[49m\u001b[43m \u001b[49m\u001b[43maxis\u001b[49m\u001b[43m \u001b[49m\u001b[38;5;241;43m=\u001b[39;49m\u001b[43m \u001b[49m\u001b[38;5;241;43m1\u001b[39;49m\u001b[43m)\u001b[49m\n",
      "File \u001b[1;32m<__array_function__ internals>:200\u001b[0m, in \u001b[0;36mconcatenate\u001b[1;34m(*args, **kwargs)\u001b[0m\n",
      "\u001b[1;31mValueError\u001b[0m: all the input arrays must have same number of dimensions, but the array at index 0 has 2 dimension(s) and the array at index 1 has 3 dimension(s)"
     ]
    }
   ],
   "source": [
    "import numpy as np\n",
    "class MyLinearRegression:\n",
    "    def __init__( self, learning_rate = 0.0001, iterations =1000 ) :\n",
    "        self.learning_rate = learning_rate        \n",
    "        self.iterations = iterations        \n",
    "\n",
    "    def transform_(self, x):\n",
    "        return np.concatenate((np.ones((len(x), 1)), x), axis = 1)\n",
    "\n",
    "    def loss_func(self, x, y, w):\n",
    "        return sum((y - np.dot(x, w)) ** 2  )/x.shape[0]\n",
    "\n",
    "    def fit(self, x, y):\n",
    "        dist = np.inf\n",
    "        eps = 1e-20\n",
    "        X = self.transform_(x)\n",
    "\n",
    "        w = np.zeros(X.shape[1])\n",
    "        iter = 0\n",
    "\n",
    "        while iter <= self.iterations:\n",
    "            loss = self.loss_func(X, y,w)\n",
    "            w = w - self.learning_rate * 2 * np.dot(X.T, np.dot(X, w) - y) /X.shape[0]\n",
    "            dist = np.abs(loss - self.loss_func(X, y,w))\n",
    "            iter += 1\n",
    "            \n",
    "            if(dist <= eps):\n",
    "                break\n",
    "        print(iter)\n",
    "\n",
    "        self.w = w\n",
    "        return self\n",
    "        \n",
    "\n",
    "    def predict(self, x):\n",
    "        return np.dot(self.transform_(x), self.w)\n",
    "MyLinearRegression().fit(x1, y1)"
   ]
  },
  {
   "cell_type": "code",
   "execution_count": null,
   "id": "49d68291",
   "metadata": {},
   "outputs": [],
   "source": []
  }
 ],
 "metadata": {
  "kernelspec": {
   "display_name": "Python 3 (ipykernel)",
   "language": "python",
   "name": "python3"
  },
  "language_info": {
   "codemirror_mode": {
    "name": "ipython",
    "version": 3
   },
   "file_extension": ".py",
   "mimetype": "text/x-python",
   "name": "python",
   "nbconvert_exporter": "python",
   "pygments_lexer": "ipython3",
   "version": "3.10.7"
  }
 },
 "nbformat": 4,
 "nbformat_minor": 5
}
