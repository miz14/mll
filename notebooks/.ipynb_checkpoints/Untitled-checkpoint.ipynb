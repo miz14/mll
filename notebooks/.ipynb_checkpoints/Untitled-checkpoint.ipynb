{
 "cells": [
  {
   "cell_type": "code",
   "execution_count": 1,
   "id": "d466b4cc",
   "metadata": {},
   "outputs": [],
   "source": [
    "import pandas as pd"
   ]
  },
  {
   "cell_type": "code",
   "execution_count": 2,
   "id": "4a9d7155",
   "metadata": {},
   "outputs": [],
   "source": [
    "data = [\n",
    "        ('солнечно', True),\n",
    "        ('снег', False),\n",
    "        ('облачно', False),\n",
    "        ('дождь', False),\n",
    "        ('солнечно', True),\n",
    "        ('снег', False),\n",
    "        ('облачно', True),\n",
    "        ('снег', False),\n",
    "        ('солнечно', False),\n",
    "        ('облачно', True),\n",
    "        ('снег', True),\n",
    "        ('солнечно', True),\n",
    "        ('дождь', False),\n",
    "        ('дождь', True),\n",
    "        ('облачно', True),\n",
    "]"
   ]
  },
  {
   "cell_type": "code",
   "execution_count": 154,
   "id": "84f1002d",
   "metadata": {},
   "outputs": [
    {
     "data": {
      "text/html": [
       "<div>\n",
       "<style scoped>\n",
       "    .dataframe tbody tr th:only-of-type {\n",
       "        vertical-align: middle;\n",
       "    }\n",
       "\n",
       "    .dataframe tbody tr th {\n",
       "        vertical-align: top;\n",
       "    }\n",
       "\n",
       "    .dataframe thead th {\n",
       "        text-align: right;\n",
       "    }\n",
       "</style>\n",
       "<table border=\"1\" class=\"dataframe\">\n",
       "  <thead>\n",
       "    <tr style=\"text-align: right;\">\n",
       "      <th></th>\n",
       "      <th>weather</th>\n",
       "      <th>stroll</th>\n",
       "    </tr>\n",
       "  </thead>\n",
       "  <tbody>\n",
       "    <tr>\n",
       "      <th>0</th>\n",
       "      <td>солнечно</td>\n",
       "      <td>True</td>\n",
       "    </tr>\n",
       "    <tr>\n",
       "      <th>1</th>\n",
       "      <td>снег</td>\n",
       "      <td>False</td>\n",
       "    </tr>\n",
       "    <tr>\n",
       "      <th>2</th>\n",
       "      <td>облачно</td>\n",
       "      <td>False</td>\n",
       "    </tr>\n",
       "    <tr>\n",
       "      <th>3</th>\n",
       "      <td>дождь</td>\n",
       "      <td>False</td>\n",
       "    </tr>\n",
       "    <tr>\n",
       "      <th>4</th>\n",
       "      <td>солнечно</td>\n",
       "      <td>True</td>\n",
       "    </tr>\n",
       "    <tr>\n",
       "      <th>5</th>\n",
       "      <td>снег</td>\n",
       "      <td>False</td>\n",
       "    </tr>\n",
       "    <tr>\n",
       "      <th>6</th>\n",
       "      <td>облачно</td>\n",
       "      <td>True</td>\n",
       "    </tr>\n",
       "    <tr>\n",
       "      <th>7</th>\n",
       "      <td>снег</td>\n",
       "      <td>False</td>\n",
       "    </tr>\n",
       "    <tr>\n",
       "      <th>8</th>\n",
       "      <td>солнечно</td>\n",
       "      <td>False</td>\n",
       "    </tr>\n",
       "    <tr>\n",
       "      <th>9</th>\n",
       "      <td>облачно</td>\n",
       "      <td>True</td>\n",
       "    </tr>\n",
       "    <tr>\n",
       "      <th>10</th>\n",
       "      <td>снег</td>\n",
       "      <td>True</td>\n",
       "    </tr>\n",
       "    <tr>\n",
       "      <th>11</th>\n",
       "      <td>солнечно</td>\n",
       "      <td>True</td>\n",
       "    </tr>\n",
       "    <tr>\n",
       "      <th>12</th>\n",
       "      <td>дождь</td>\n",
       "      <td>False</td>\n",
       "    </tr>\n",
       "    <tr>\n",
       "      <th>13</th>\n",
       "      <td>дождь</td>\n",
       "      <td>True</td>\n",
       "    </tr>\n",
       "    <tr>\n",
       "      <th>14</th>\n",
       "      <td>облачно</td>\n",
       "      <td>True</td>\n",
       "    </tr>\n",
       "  </tbody>\n",
       "</table>\n",
       "</div>"
      ],
      "text/plain": [
       "     weather  stroll\n",
       "0   солнечно    True\n",
       "1       снег   False\n",
       "2    облачно   False\n",
       "3      дождь   False\n",
       "4   солнечно    True\n",
       "5       снег   False\n",
       "6    облачно    True\n",
       "7       снег   False\n",
       "8   солнечно   False\n",
       "9    облачно    True\n",
       "10      снег    True\n",
       "11  солнечно    True\n",
       "12     дождь   False\n",
       "13     дождь    True\n",
       "14   облачно    True"
      ]
     },
     "execution_count": 154,
     "metadata": {},
     "output_type": "execute_result"
    }
   ],
   "source": [
    "df = pd.DataFrame(data, columns=['weather', 'stroll'])\n",
    "df"
   ]
  },
  {
   "cell_type": "code",
   "execution_count": 4,
   "id": "2752b3fd",
   "metadata": {},
   "outputs": [
    {
     "name": "stdout",
     "output_type": "stream",
     "text": [
      "0.26666666666666666 0.2 0.26666666666666666 0.26666666666666666\n"
     ]
    }
   ],
   "source": [
    "p_sunny = len(df.loc[df['weather'] == 'солнечно']) / len(df)\n",
    "p_rain =  len(df.loc[df['weather'] == 'дождь']) / len(df)\n",
    "p_snow = len(df.loc[df['weather'] == 'снег']) / len(df)\n",
    "p_cloudly = len(df.loc[df['weather'] == 'облачно']) / len(df)\n",
    "print(p_sunny, p_rain, p_snow, p_cloudly)"
   ]
  },
  {
   "cell_type": "code",
   "execution_count": 5,
   "id": "fb329e9f",
   "metadata": {},
   "outputs": [
    {
     "name": "stdout",
     "output_type": "stream",
     "text": [
      "0.5333333333333333 0.4666666666666667\n"
     ]
    }
   ],
   "source": [
    "p_stroll = len(df.loc[df['stroll'] == True]) / len(df)\n",
    "p_not_stroll = len(df.loc[df['stroll'] == False]) / len(df)\n",
    "print(p_stroll, p_not_stroll)"
   ]
  },
  {
   "cell_type": "code",
   "execution_count": 6,
   "id": "8e6e15f1",
   "metadata": {},
   "outputs": [
    {
     "name": "stdout",
     "output_type": "stream",
     "text": [
      "0.125\n"
     ]
    }
   ],
   "source": [
    "p_rain_if_stroll = len(df.loc[(df['weather'] == 'дождь') & (df['stroll'] == True)]) / len(df.loc[df['stroll'] == True])\n",
    "print(p_rain_if_stroll)"
   ]
  },
  {
   "cell_type": "code",
   "execution_count": 7,
   "id": "708d42e1",
   "metadata": {},
   "outputs": [
    {
     "name": "stdout",
     "output_type": "stream",
     "text": [
      "0.3333333333333333\n"
     ]
    }
   ],
   "source": [
    "p_stroll_if_rain = p_stroll * p_rain_if_stroll / p_rain\n",
    "print(p_stroll_if_rain)"
   ]
  },
  {
   "cell_type": "markdown",
   "id": "6a7ae773",
   "metadata": {},
   "source": [
    "## Задание 2"
   ]
  },
  {
   "cell_type": "code",
   "execution_count": 196,
   "id": "082db42b",
   "metadata": {},
   "outputs": [
    {
     "data": {
      "text/html": [
       "<div>\n",
       "<style scoped>\n",
       "    .dataframe tbody tr th:only-of-type {\n",
       "        vertical-align: middle;\n",
       "    }\n",
       "\n",
       "    .dataframe tbody tr th {\n",
       "        vertical-align: top;\n",
       "    }\n",
       "\n",
       "    .dataframe thead th {\n",
       "        text-align: right;\n",
       "    }\n",
       "</style>\n",
       "<table border=\"1\" class=\"dataframe\">\n",
       "  <thead>\n",
       "    <tr style=\"text-align: right;\">\n",
       "      <th></th>\n",
       "      <th>time_left</th>\n",
       "      <th>ct_score</th>\n",
       "      <th>t_score</th>\n",
       "      <th>map</th>\n",
       "      <th>bomb_planted</th>\n",
       "      <th>ct_health</th>\n",
       "      <th>t_health</th>\n",
       "      <th>ct_armor</th>\n",
       "      <th>t_armor</th>\n",
       "      <th>ct_money</th>\n",
       "      <th>t_money</th>\n",
       "      <th>ct_helmets</th>\n",
       "      <th>t_helmets</th>\n",
       "      <th>ct_defuse_kits</th>\n",
       "      <th>ct_players_alive</th>\n",
       "      <th>t_players_alive</th>\n",
       "    </tr>\n",
       "  </thead>\n",
       "  <tbody>\n",
       "    <tr>\n",
       "      <th>0</th>\n",
       "      <td>175.00</td>\n",
       "      <td>0.0</td>\n",
       "      <td>0.0</td>\n",
       "      <td>de_dust2</td>\n",
       "      <td>False</td>\n",
       "      <td>500.0</td>\n",
       "      <td>500.0</td>\n",
       "      <td>0.0</td>\n",
       "      <td>0.0</td>\n",
       "      <td>4000.0</td>\n",
       "      <td>4000.0</td>\n",
       "      <td>0.0</td>\n",
       "      <td>0.0</td>\n",
       "      <td>0.0</td>\n",
       "      <td>5.0</td>\n",
       "      <td>5.0</td>\n",
       "    </tr>\n",
       "    <tr>\n",
       "      <th>1</th>\n",
       "      <td>156.03</td>\n",
       "      <td>0.0</td>\n",
       "      <td>0.0</td>\n",
       "      <td>de_dust2</td>\n",
       "      <td>False</td>\n",
       "      <td>500.0</td>\n",
       "      <td>500.0</td>\n",
       "      <td>400.0</td>\n",
       "      <td>300.0</td>\n",
       "      <td>600.0</td>\n",
       "      <td>650.0</td>\n",
       "      <td>0.0</td>\n",
       "      <td>0.0</td>\n",
       "      <td>1.0</td>\n",
       "      <td>5.0</td>\n",
       "      <td>5.0</td>\n",
       "    </tr>\n",
       "    <tr>\n",
       "      <th>2</th>\n",
       "      <td>96.03</td>\n",
       "      <td>0.0</td>\n",
       "      <td>0.0</td>\n",
       "      <td>de_dust2</td>\n",
       "      <td>False</td>\n",
       "      <td>391.0</td>\n",
       "      <td>400.0</td>\n",
       "      <td>294.0</td>\n",
       "      <td>200.0</td>\n",
       "      <td>750.0</td>\n",
       "      <td>500.0</td>\n",
       "      <td>0.0</td>\n",
       "      <td>0.0</td>\n",
       "      <td>1.0</td>\n",
       "      <td>4.0</td>\n",
       "      <td>4.0</td>\n",
       "    </tr>\n",
       "    <tr>\n",
       "      <th>3</th>\n",
       "      <td>76.03</td>\n",
       "      <td>0.0</td>\n",
       "      <td>0.0</td>\n",
       "      <td>de_dust2</td>\n",
       "      <td>False</td>\n",
       "      <td>391.0</td>\n",
       "      <td>400.0</td>\n",
       "      <td>294.0</td>\n",
       "      <td>200.0</td>\n",
       "      <td>750.0</td>\n",
       "      <td>500.0</td>\n",
       "      <td>0.0</td>\n",
       "      <td>0.0</td>\n",
       "      <td>1.0</td>\n",
       "      <td>4.0</td>\n",
       "      <td>4.0</td>\n",
       "    </tr>\n",
       "    <tr>\n",
       "      <th>4</th>\n",
       "      <td>174.97</td>\n",
       "      <td>1.0</td>\n",
       "      <td>0.0</td>\n",
       "      <td>de_dust2</td>\n",
       "      <td>False</td>\n",
       "      <td>500.0</td>\n",
       "      <td>500.0</td>\n",
       "      <td>192.0</td>\n",
       "      <td>0.0</td>\n",
       "      <td>18350.0</td>\n",
       "      <td>10750.0</td>\n",
       "      <td>0.0</td>\n",
       "      <td>0.0</td>\n",
       "      <td>1.0</td>\n",
       "      <td>5.0</td>\n",
       "      <td>5.0</td>\n",
       "    </tr>\n",
       "    <tr>\n",
       "      <th>...</th>\n",
       "      <td>...</td>\n",
       "      <td>...</td>\n",
       "      <td>...</td>\n",
       "      <td>...</td>\n",
       "      <td>...</td>\n",
       "      <td>...</td>\n",
       "      <td>...</td>\n",
       "      <td>...</td>\n",
       "      <td>...</td>\n",
       "      <td>...</td>\n",
       "      <td>...</td>\n",
       "      <td>...</td>\n",
       "      <td>...</td>\n",
       "      <td>...</td>\n",
       "      <td>...</td>\n",
       "      <td>...</td>\n",
       "    </tr>\n",
       "    <tr>\n",
       "      <th>122405</th>\n",
       "      <td>15.41</td>\n",
       "      <td>11.0</td>\n",
       "      <td>14.0</td>\n",
       "      <td>de_train</td>\n",
       "      <td>True</td>\n",
       "      <td>200.0</td>\n",
       "      <td>242.0</td>\n",
       "      <td>195.0</td>\n",
       "      <td>359.0</td>\n",
       "      <td>100.0</td>\n",
       "      <td>5950.0</td>\n",
       "      <td>2.0</td>\n",
       "      <td>4.0</td>\n",
       "      <td>1.0</td>\n",
       "      <td>2.0</td>\n",
       "      <td>4.0</td>\n",
       "    </tr>\n",
       "    <tr>\n",
       "      <th>122406</th>\n",
       "      <td>174.93</td>\n",
       "      <td>11.0</td>\n",
       "      <td>15.0</td>\n",
       "      <td>de_train</td>\n",
       "      <td>False</td>\n",
       "      <td>500.0</td>\n",
       "      <td>500.0</td>\n",
       "      <td>95.0</td>\n",
       "      <td>175.0</td>\n",
       "      <td>11500.0</td>\n",
       "      <td>23900.0</td>\n",
       "      <td>1.0</td>\n",
       "      <td>2.0</td>\n",
       "      <td>1.0</td>\n",
       "      <td>5.0</td>\n",
       "      <td>5.0</td>\n",
       "    </tr>\n",
       "    <tr>\n",
       "      <th>122407</th>\n",
       "      <td>114.93</td>\n",
       "      <td>11.0</td>\n",
       "      <td>15.0</td>\n",
       "      <td>de_train</td>\n",
       "      <td>False</td>\n",
       "      <td>500.0</td>\n",
       "      <td>500.0</td>\n",
       "      <td>495.0</td>\n",
       "      <td>475.0</td>\n",
       "      <td>1200.0</td>\n",
       "      <td>6700.0</td>\n",
       "      <td>3.0</td>\n",
       "      <td>5.0</td>\n",
       "      <td>1.0</td>\n",
       "      <td>5.0</td>\n",
       "      <td>5.0</td>\n",
       "    </tr>\n",
       "    <tr>\n",
       "      <th>122408</th>\n",
       "      <td>94.93</td>\n",
       "      <td>11.0</td>\n",
       "      <td>15.0</td>\n",
       "      <td>de_train</td>\n",
       "      <td>False</td>\n",
       "      <td>500.0</td>\n",
       "      <td>500.0</td>\n",
       "      <td>495.0</td>\n",
       "      <td>475.0</td>\n",
       "      <td>1200.0</td>\n",
       "      <td>6700.0</td>\n",
       "      <td>3.0</td>\n",
       "      <td>5.0</td>\n",
       "      <td>1.0</td>\n",
       "      <td>5.0</td>\n",
       "      <td>5.0</td>\n",
       "    </tr>\n",
       "    <tr>\n",
       "      <th>122409</th>\n",
       "      <td>74.93</td>\n",
       "      <td>11.0</td>\n",
       "      <td>15.0</td>\n",
       "      <td>de_train</td>\n",
       "      <td>False</td>\n",
       "      <td>375.0</td>\n",
       "      <td>479.0</td>\n",
       "      <td>395.0</td>\n",
       "      <td>466.0</td>\n",
       "      <td>1100.0</td>\n",
       "      <td>7000.0</td>\n",
       "      <td>2.0</td>\n",
       "      <td>5.0</td>\n",
       "      <td>1.0</td>\n",
       "      <td>4.0</td>\n",
       "      <td>5.0</td>\n",
       "    </tr>\n",
       "  </tbody>\n",
       "</table>\n",
       "<p>122410 rows × 16 columns</p>\n",
       "</div>"
      ],
      "text/plain": [
       "        time_left  ct_score  t_score       map  bomb_planted  ct_health  \\\n",
       "0          175.00       0.0      0.0  de_dust2         False      500.0   \n",
       "1          156.03       0.0      0.0  de_dust2         False      500.0   \n",
       "2           96.03       0.0      0.0  de_dust2         False      391.0   \n",
       "3           76.03       0.0      0.0  de_dust2         False      391.0   \n",
       "4          174.97       1.0      0.0  de_dust2         False      500.0   \n",
       "...           ...       ...      ...       ...           ...        ...   \n",
       "122405      15.41      11.0     14.0  de_train          True      200.0   \n",
       "122406     174.93      11.0     15.0  de_train         False      500.0   \n",
       "122407     114.93      11.0     15.0  de_train         False      500.0   \n",
       "122408      94.93      11.0     15.0  de_train         False      500.0   \n",
       "122409      74.93      11.0     15.0  de_train         False      375.0   \n",
       "\n",
       "        t_health  ct_armor  t_armor  ct_money  t_money  ct_helmets  t_helmets  \\\n",
       "0          500.0       0.0      0.0    4000.0   4000.0         0.0        0.0   \n",
       "1          500.0     400.0    300.0     600.0    650.0         0.0        0.0   \n",
       "2          400.0     294.0    200.0     750.0    500.0         0.0        0.0   \n",
       "3          400.0     294.0    200.0     750.0    500.0         0.0        0.0   \n",
       "4          500.0     192.0      0.0   18350.0  10750.0         0.0        0.0   \n",
       "...          ...       ...      ...       ...      ...         ...        ...   \n",
       "122405     242.0     195.0    359.0     100.0   5950.0         2.0        4.0   \n",
       "122406     500.0      95.0    175.0   11500.0  23900.0         1.0        2.0   \n",
       "122407     500.0     495.0    475.0    1200.0   6700.0         3.0        5.0   \n",
       "122408     500.0     495.0    475.0    1200.0   6700.0         3.0        5.0   \n",
       "122409     479.0     395.0    466.0    1100.0   7000.0         2.0        5.0   \n",
       "\n",
       "        ct_defuse_kits  ct_players_alive  t_players_alive  \n",
       "0                  0.0               5.0              5.0  \n",
       "1                  1.0               5.0              5.0  \n",
       "2                  1.0               4.0              4.0  \n",
       "3                  1.0               4.0              4.0  \n",
       "4                  1.0               5.0              5.0  \n",
       "...                ...               ...              ...  \n",
       "122405             1.0               2.0              4.0  \n",
       "122406             1.0               5.0              5.0  \n",
       "122407             1.0               5.0              5.0  \n",
       "122408             1.0               5.0              5.0  \n",
       "122409             1.0               4.0              5.0  \n",
       "\n",
       "[122410 rows x 16 columns]"
      ]
     },
     "execution_count": 196,
     "metadata": {},
     "output_type": "execute_result"
    }
   ],
   "source": [
    "df = pd.read_csv('../data/csgo_task.csv')\n",
    "\n",
    "df"
   ]
  },
  {
   "cell_type": "code",
   "execution_count": 263,
   "id": "0fd169a9",
   "metadata": {},
   "outputs": [
    {
     "name": "stdout",
     "output_type": "stream",
     "text": [
      "<class 'pandas.core.frame.DataFrame'>\n",
      "Int64Index: 118089 entries, 0 to 122409\n",
      "Data columns (total 16 columns):\n",
      " #   Column            Non-Null Count   Dtype  \n",
      "---  ------            --------------   -----  \n",
      " 0   time_left         118089 non-null  float64\n",
      " 1   ct_score          118089 non-null  float64\n",
      " 2   t_score           118089 non-null  float64\n",
      " 3   map               118089 non-null  object \n",
      " 4   bomb_planted      118089 non-null  bool   \n",
      " 5   ct_health         118089 non-null  float64\n",
      " 6   t_health          118089 non-null  float64\n",
      " 7   ct_armor          118089 non-null  float64\n",
      " 8   t_armor           118089 non-null  float64\n",
      " 9   ct_money          118089 non-null  float64\n",
      " 10  t_money           118089 non-null  float64\n",
      " 11  ct_helmets        118089 non-null  float64\n",
      " 12  t_helmets         118089 non-null  float64\n",
      " 13  ct_defuse_kits    118089 non-null  float64\n",
      " 14  ct_players_alive  118089 non-null  float64\n",
      " 15  t_players_alive   118089 non-null  float64\n",
      "dtypes: bool(1), float64(14), object(1)\n",
      "memory usage: 14.5+ MB\n"
     ]
    }
   ],
   "source": [
    "df1 = df.dropna()\n",
    "df1.info()"
   ]
  },
  {
   "cell_type": "code",
   "execution_count": 198,
   "id": "9740fa30",
   "metadata": {},
   "outputs": [],
   "source": [
    "X = df1.drop([\"map\", \"bomb_planted\"], axis=1)\n",
    "y = df1[\"bomb_planted\"].apply(lambda x: 1 if x == True else 0)"
   ]
  },
  {
   "cell_type": "code",
   "execution_count": 177,
   "id": "ecddc965",
   "metadata": {},
   "outputs": [
    {
     "data": {
      "text/plain": [
       "26414"
      ]
     },
     "execution_count": 177,
     "metadata": {},
     "output_type": "execute_result"
    }
   ],
   "source": [
    "#пропуск\n",
    "import random\n",
    "df2 = df1.copy()\n",
    "countdrop = df2.shape[0] - df2[df2[\"bomb_planted\"] == True].shape[0]\n",
    "#while True:\n",
    "#    countdrop -= 10\n",
    "#    if (countdrop <= 0):\n",
    "#        break\n",
    "#    drop_indices = random.sample(list(df2[df2[\"bomb_planted\"] == 1].index), 100000)\n",
    "#    df2 = df2.drop(drop_indices)\n",
    "#    print(df2.shape[0])\n",
    "drop_indices = random.sample(list(df2[df2[\"bomb_planted\"] == 0].index), df2.shape[0] - df2[df2[\"bomb_planted\"] == False].shape[0])\n",
    "df2 = pd.concat([df2.loc[drop_indices], df2[df2[\"bomb_planted\"] == 1]])\n",
    "df2.shape[0]"
   ]
  },
  {
   "cell_type": "code",
   "execution_count": 188,
   "id": "b73cf5fb",
   "metadata": {},
   "outputs": [],
   "source": [
    "df2 = df1.copy()\n",
    "X = df2.drop([\"map\", \"bomb_planted\"], axis=1)\n",
    "y = df2[\"bomb_planted\"].apply(lambda x: 1 if x == True else 0)"
   ]
  },
  {
   "cell_type": "code",
   "execution_count": 199,
   "id": "ef625d70",
   "metadata": {},
   "outputs": [
    {
     "data": {
      "text/plain": [
       "0    104882\n",
       "1     13207\n",
       "Name: bomb_planted, dtype: int64"
      ]
     },
     "execution_count": 199,
     "metadata": {},
     "output_type": "execute_result"
    }
   ],
   "source": [
    "y.value_counts()"
   ]
  },
  {
   "cell_type": "code",
   "execution_count": 200,
   "id": "8235c274",
   "metadata": {},
   "outputs": [
    {
     "name": "stdout",
     "output_type": "stream",
     "text": [
      "0    104882\n",
      "1    104882\n",
      "Name: bomb_planted, dtype: int64\n"
     ]
    }
   ],
   "source": [
    "from imblearn.over_sampling import RandomOverSampler\n",
    "from imblearn.over_sampling import SMOTE\n",
    "smote = SMOTE(random_state=42)\n",
    "X1, y1 = smote.fit_resample(X, y)\n",
    "print(y1.value_counts())"
   ]
  },
  {
   "cell_type": "code",
   "execution_count": 209,
   "id": "3507a6d9",
   "metadata": {},
   "outputs": [],
   "source": [
    "from sklearn.preprocessing import StandardScaler\n",
    "from sklearn.utils import shuffle\n",
    "scaler = StandardScaler()\n",
    "X1 = shuffle(scaler.fit_transform(X1))\n",
    "X = scaler.fit_transform(X)"
   ]
  },
  {
   "cell_type": "code",
   "execution_count": 192,
   "id": "d1ca4f6f",
   "metadata": {},
   "outputs": [],
   "source": [
    "#A = np.array(X1)\n",
    "#plt.scatter(A[:, 5], A[:, 6], marker=\"o\", c=y1, s=10, edgecolor=\"k\")\n",
    "#plt.show()"
   ]
  },
  {
   "cell_type": "code",
   "execution_count": 210,
   "id": "b6acfd84",
   "metadata": {},
   "outputs": [],
   "source": [
    "from sklearn.model_selection import train_test_split\n",
    "from sklearn.neighbors import KNeighborsClassifier\n",
    "from sklearn.model_selection import GridSearchCV\n",
    "from sklearn.metrics import confusion_matrix\n",
    "\n",
    "X_train, X_test, y_train, y_test = train_test_split(X, y, test_size=0.33, random_state=42)\n",
    "\n"
   ]
  },
  {
   "cell_type": "code",
   "execution_count": 217,
   "id": "1380e550",
   "metadata": {},
   "outputs": [
    {
     "data": {
      "text/html": [
       "<style>#sk-container-id-7 {color: black;background-color: white;}#sk-container-id-7 pre{padding: 0;}#sk-container-id-7 div.sk-toggleable {background-color: white;}#sk-container-id-7 label.sk-toggleable__label {cursor: pointer;display: block;width: 100%;margin-bottom: 0;padding: 0.3em;box-sizing: border-box;text-align: center;}#sk-container-id-7 label.sk-toggleable__label-arrow:before {content: \"▸\";float: left;margin-right: 0.25em;color: #696969;}#sk-container-id-7 label.sk-toggleable__label-arrow:hover:before {color: black;}#sk-container-id-7 div.sk-estimator:hover label.sk-toggleable__label-arrow:before {color: black;}#sk-container-id-7 div.sk-toggleable__content {max-height: 0;max-width: 0;overflow: hidden;text-align: left;background-color: #f0f8ff;}#sk-container-id-7 div.sk-toggleable__content pre {margin: 0.2em;color: black;border-radius: 0.25em;background-color: #f0f8ff;}#sk-container-id-7 input.sk-toggleable__control:checked~div.sk-toggleable__content {max-height: 200px;max-width: 100%;overflow: auto;}#sk-container-id-7 input.sk-toggleable__control:checked~label.sk-toggleable__label-arrow:before {content: \"▾\";}#sk-container-id-7 div.sk-estimator input.sk-toggleable__control:checked~label.sk-toggleable__label {background-color: #d4ebff;}#sk-container-id-7 div.sk-label input.sk-toggleable__control:checked~label.sk-toggleable__label {background-color: #d4ebff;}#sk-container-id-7 input.sk-hidden--visually {border: 0;clip: rect(1px 1px 1px 1px);clip: rect(1px, 1px, 1px, 1px);height: 1px;margin: -1px;overflow: hidden;padding: 0;position: absolute;width: 1px;}#sk-container-id-7 div.sk-estimator {font-family: monospace;background-color: #f0f8ff;border: 1px dotted black;border-radius: 0.25em;box-sizing: border-box;margin-bottom: 0.5em;}#sk-container-id-7 div.sk-estimator:hover {background-color: #d4ebff;}#sk-container-id-7 div.sk-parallel-item::after {content: \"\";width: 100%;border-bottom: 1px solid gray;flex-grow: 1;}#sk-container-id-7 div.sk-label:hover label.sk-toggleable__label {background-color: #d4ebff;}#sk-container-id-7 div.sk-serial::before {content: \"\";position: absolute;border-left: 1px solid gray;box-sizing: border-box;top: 0;bottom: 0;left: 50%;z-index: 0;}#sk-container-id-7 div.sk-serial {display: flex;flex-direction: column;align-items: center;background-color: white;padding-right: 0.2em;padding-left: 0.2em;position: relative;}#sk-container-id-7 div.sk-item {position: relative;z-index: 1;}#sk-container-id-7 div.sk-parallel {display: flex;align-items: stretch;justify-content: center;background-color: white;position: relative;}#sk-container-id-7 div.sk-item::before, #sk-container-id-7 div.sk-parallel-item::before {content: \"\";position: absolute;border-left: 1px solid gray;box-sizing: border-box;top: 0;bottom: 0;left: 50%;z-index: -1;}#sk-container-id-7 div.sk-parallel-item {display: flex;flex-direction: column;z-index: 1;position: relative;background-color: white;}#sk-container-id-7 div.sk-parallel-item:first-child::after {align-self: flex-end;width: 50%;}#sk-container-id-7 div.sk-parallel-item:last-child::after {align-self: flex-start;width: 50%;}#sk-container-id-7 div.sk-parallel-item:only-child::after {width: 0;}#sk-container-id-7 div.sk-dashed-wrapped {border: 1px dashed gray;margin: 0 0.4em 0.5em 0.4em;box-sizing: border-box;padding-bottom: 0.4em;background-color: white;}#sk-container-id-7 div.sk-label label {font-family: monospace;font-weight: bold;display: inline-block;line-height: 1.2em;}#sk-container-id-7 div.sk-label-container {text-align: center;}#sk-container-id-7 div.sk-container {/* jupyter's `normalize.less` sets `[hidden] { display: none; }` but bootstrap.min.css set `[hidden] { display: none !important; }` so we also need the `!important` here to be able to override the default hidden behavior on the sphinx rendered scikit-learn.org. See: https://github.com/scikit-learn/scikit-learn/issues/21755 */display: inline-block !important;position: relative;}#sk-container-id-7 div.sk-text-repr-fallback {display: none;}</style><div id=\"sk-container-id-7\" class=\"sk-top-container\"><div class=\"sk-text-repr-fallback\"><pre>GridSearchCV(cv=3, estimator=KNeighborsClassifier(),\n",
       "             param_grid={&#x27;n_neighbors&#x27;: range(1, 10, 2),\n",
       "                         &#x27;weights&#x27;: [&#x27;uniform&#x27;, &#x27;distance&#x27;]},\n",
       "             scoring=&#x27;accuracy&#x27;)</pre><b>In a Jupyter environment, please rerun this cell to show the HTML representation or trust the notebook. <br />On GitHub, the HTML representation is unable to render, please try loading this page with nbviewer.org.</b></div><div class=\"sk-container\" hidden><div class=\"sk-item sk-dashed-wrapped\"><div class=\"sk-label-container\"><div class=\"sk-label sk-toggleable\"><input class=\"sk-toggleable__control sk-hidden--visually\" id=\"sk-estimator-id-19\" type=\"checkbox\" ><label for=\"sk-estimator-id-19\" class=\"sk-toggleable__label sk-toggleable__label-arrow\">GridSearchCV</label><div class=\"sk-toggleable__content\"><pre>GridSearchCV(cv=3, estimator=KNeighborsClassifier(),\n",
       "             param_grid={&#x27;n_neighbors&#x27;: range(1, 10, 2),\n",
       "                         &#x27;weights&#x27;: [&#x27;uniform&#x27;, &#x27;distance&#x27;]},\n",
       "             scoring=&#x27;accuracy&#x27;)</pre></div></div></div><div class=\"sk-parallel\"><div class=\"sk-parallel-item\"><div class=\"sk-item\"><div class=\"sk-label-container\"><div class=\"sk-label sk-toggleable\"><input class=\"sk-toggleable__control sk-hidden--visually\" id=\"sk-estimator-id-20\" type=\"checkbox\" ><label for=\"sk-estimator-id-20\" class=\"sk-toggleable__label sk-toggleable__label-arrow\">estimator: KNeighborsClassifier</label><div class=\"sk-toggleable__content\"><pre>KNeighborsClassifier()</pre></div></div></div><div class=\"sk-serial\"><div class=\"sk-item\"><div class=\"sk-estimator sk-toggleable\"><input class=\"sk-toggleable__control sk-hidden--visually\" id=\"sk-estimator-id-21\" type=\"checkbox\" ><label for=\"sk-estimator-id-21\" class=\"sk-toggleable__label sk-toggleable__label-arrow\">KNeighborsClassifier</label><div class=\"sk-toggleable__content\"><pre>KNeighborsClassifier()</pre></div></div></div></div></div></div></div></div></div></div>"
      ],
      "text/plain": [
       "GridSearchCV(cv=3, estimator=KNeighborsClassifier(),\n",
       "             param_grid={'n_neighbors': range(1, 10, 2),\n",
       "                         'weights': ['uniform', 'distance']},\n",
       "             scoring='accuracy')"
      ]
     },
     "execution_count": 217,
     "metadata": {},
     "output_type": "execute_result"
    }
   ],
   "source": [
    "knn = KNeighborsClassifier(metric='minkowski', p=2) #minkowski sum(|x - y|^p)^(1/p)\n",
    "\n",
    "grid_knn = {\"n_neighbors\": range(1, 10, 2), \"weights\": ['uniform', 'distance']}\n",
    "\n",
    "gs_knn = GridSearchCV(estimator=knn, param_grid=grid_knn, scoring=\"accuracy\", cv=3)\n",
    "gs_knn.fit(X_train, y_train)"
   ]
  },
  {
   "cell_type": "code",
   "execution_count": 218,
   "id": "ee555afe",
   "metadata": {},
   "outputs": [
    {
     "name": "stdout",
     "output_type": "stream",
     "text": [
      "Accuracy: 0.9384398255068\n",
      "Precision: 0.7318504033243706\n",
      "Recall_score: 0.696927374301676\n",
      "F1: 0.7139620841778943\n",
      "ROC_AUC: 0.8326449180443029\n"
     ]
    }
   ],
   "source": [
    "from sklearn.metrics import accuracy_score, precision_score, recall_score, f1_score, roc_auc_score\n",
    "y_pred = gs_knn.predict(X_test)\n",
    "print(f'Accuracy: {accuracy_score(y_test, y_pred)}')\n",
    "print(f'Precision: {precision_score(y_test, y_pred)}')\n",
    "print(f'Recall_score: {recall_score(y_test, y_pred)}')\n",
    "print(f'F1: {f1_score(y_test, y_pred)}')\n",
    "print(f'ROC_AUC: {roc_auc_score(y_test, y_pred)}')"
   ]
  },
  {
   "cell_type": "code",
   "execution_count": 219,
   "id": "c59f4754",
   "metadata": {},
   "outputs": [
    {
     "data": {
      "text/plain": [
       "<sklearn.metrics._plot.roc_curve.RocCurveDisplay at 0x1bd8431c1c0>"
      ]
     },
     "execution_count": 219,
     "metadata": {},
     "output_type": "execute_result"
    },
    {
     "data": {
      "image/png": "[encoded data removed]",
      "text/plain": [
       "<Figure size 640x480 with 1 Axes>"
      ]
     },
     "metadata": {},
     "output_type": "display_data"
    }
   ],
   "source": [
    "import matplotlib.pyplot as plt\n",
    "from sklearn.metrics import RocCurveDisplay\n",
    "\n",
    "RocCurveDisplay.from_estimator(gs_knn, X_test, y_test)"
   ]
  },
  {
   "cell_type": "code",
   "execution_count": 220,
   "id": "322c9e85",
   "metadata": {},
   "outputs": [
    {
     "data": {
      "text/html": [
       "<style>#sk-container-id-8 {color: black;background-color: white;}#sk-container-id-8 pre{padding: 0;}#sk-container-id-8 div.sk-toggleable {background-color: white;}#sk-container-id-8 label.sk-toggleable__label {cursor: pointer;display: block;width: 100%;margin-bottom: 0;padding: 0.3em;box-sizing: border-box;text-align: center;}#sk-container-id-8 label.sk-toggleable__label-arrow:before {content: \"▸\";float: left;margin-right: 0.25em;color: #696969;}#sk-container-id-8 label.sk-toggleable__label-arrow:hover:before {color: black;}#sk-container-id-8 div.sk-estimator:hover label.sk-toggleable__label-arrow:before {color: black;}#sk-container-id-8 div.sk-toggleable__content {max-height: 0;max-width: 0;overflow: hidden;text-align: left;background-color: #f0f8ff;}#sk-container-id-8 div.sk-toggleable__content pre {margin: 0.2em;color: black;border-radius: 0.25em;background-color: #f0f8ff;}#sk-container-id-8 input.sk-toggleable__control:checked~div.sk-toggleable__content {max-height: 200px;max-width: 100%;overflow: auto;}#sk-container-id-8 input.sk-toggleable__control:checked~label.sk-toggleable__label-arrow:before {content: \"▾\";}#sk-container-id-8 div.sk-estimator input.sk-toggleable__control:checked~label.sk-toggleable__label {background-color: #d4ebff;}#sk-container-id-8 div.sk-label input.sk-toggleable__control:checked~label.sk-toggleable__label {background-color: #d4ebff;}#sk-container-id-8 input.sk-hidden--visually {border: 0;clip: rect(1px 1px 1px 1px);clip: rect(1px, 1px, 1px, 1px);height: 1px;margin: -1px;overflow: hidden;padding: 0;position: absolute;width: 1px;}#sk-container-id-8 div.sk-estimator {font-family: monospace;background-color: #f0f8ff;border: 1px dotted black;border-radius: 0.25em;box-sizing: border-box;margin-bottom: 0.5em;}#sk-container-id-8 div.sk-estimator:hover {background-color: #d4ebff;}#sk-container-id-8 div.sk-parallel-item::after {content: \"\";width: 100%;border-bottom: 1px solid gray;flex-grow: 1;}#sk-container-id-8 div.sk-label:hover label.sk-toggleable__label {background-color: #d4ebff;}#sk-container-id-8 div.sk-serial::before {content: \"\";position: absolute;border-left: 1px solid gray;box-sizing: border-box;top: 0;bottom: 0;left: 50%;z-index: 0;}#sk-container-id-8 div.sk-serial {display: flex;flex-direction: column;align-items: center;background-color: white;padding-right: 0.2em;padding-left: 0.2em;position: relative;}#sk-container-id-8 div.sk-item {position: relative;z-index: 1;}#sk-container-id-8 div.sk-parallel {display: flex;align-items: stretch;justify-content: center;background-color: white;position: relative;}#sk-container-id-8 div.sk-item::before, #sk-container-id-8 div.sk-parallel-item::before {content: \"\";position: absolute;border-left: 1px solid gray;box-sizing: border-box;top: 0;bottom: 0;left: 50%;z-index: -1;}#sk-container-id-8 div.sk-parallel-item {display: flex;flex-direction: column;z-index: 1;position: relative;background-color: white;}#sk-container-id-8 div.sk-parallel-item:first-child::after {align-self: flex-end;width: 50%;}#sk-container-id-8 div.sk-parallel-item:last-child::after {align-self: flex-start;width: 50%;}#sk-container-id-8 div.sk-parallel-item:only-child::after {width: 0;}#sk-container-id-8 div.sk-dashed-wrapped {border: 1px dashed gray;margin: 0 0.4em 0.5em 0.4em;box-sizing: border-box;padding-bottom: 0.4em;background-color: white;}#sk-container-id-8 div.sk-label label {font-family: monospace;font-weight: bold;display: inline-block;line-height: 1.2em;}#sk-container-id-8 div.sk-label-container {text-align: center;}#sk-container-id-8 div.sk-container {/* jupyter's `normalize.less` sets `[hidden] { display: none; }` but bootstrap.min.css set `[hidden] { display: none !important; }` so we also need the `!important` here to be able to override the default hidden behavior on the sphinx rendered scikit-learn.org. See: https://github.com/scikit-learn/scikit-learn/issues/21755 */display: inline-block !important;position: relative;}#sk-container-id-8 div.sk-text-repr-fallback {display: none;}</style><div id=\"sk-container-id-8\" class=\"sk-top-container\"><div class=\"sk-text-repr-fallback\"><pre>GridSearchCV(cv=3, estimator=GaussianNB(),\n",
       "             param_grid={&#x27;var_smoothing&#x27;: array([1.00000000e+00, 6.55128557e-01, 4.29193426e-01, 2.81176870e-01,\n",
       "       1.84206997e-01, 1.20679264e-01, 7.90604321e-02, 5.17947468e-02,\n",
       "       3.39322177e-02, 2.22299648e-02, 1.45634848e-02, 9.54095476e-03,\n",
       "       6.25055193e-03, 4.09491506e-03, 2.68269580e-03, 1.75751062e-03,\n",
       "       1.15139540e-03, 7.54312006e-04, 4.94...\n",
       "       7.19685673e-06, 4.71486636e-06, 3.08884360e-06, 2.02358965e-06,\n",
       "       1.32571137e-06, 8.68511374e-07, 5.68986603e-07, 3.72759372e-07,\n",
       "       2.44205309e-07, 1.59985872e-07, 1.04811313e-07, 6.86648845e-08,\n",
       "       4.49843267e-08, 2.94705170e-08, 1.93069773e-08, 1.26485522e-08,\n",
       "       8.28642773e-09, 5.42867544e-09, 3.55648031e-09, 2.32995181e-09,\n",
       "       1.52641797e-09, 1.00000000e-09])},\n",
       "             scoring=&#x27;accuracy&#x27;)</pre><b>In a Jupyter environment, please rerun this cell to show the HTML representation or trust the notebook. <br />On GitHub, the HTML representation is unable to render, please try loading this page with nbviewer.org.</b></div><div class=\"sk-container\" hidden><div class=\"sk-item sk-dashed-wrapped\"><div class=\"sk-label-container\"><div class=\"sk-label sk-toggleable\"><input class=\"sk-toggleable__control sk-hidden--visually\" id=\"sk-estimator-id-22\" type=\"checkbox\" ><label for=\"sk-estimator-id-22\" class=\"sk-toggleable__label sk-toggleable__label-arrow\">GridSearchCV</label><div class=\"sk-toggleable__content\"><pre>GridSearchCV(cv=3, estimator=GaussianNB(),\n",
       "             param_grid={&#x27;var_smoothing&#x27;: array([1.00000000e+00, 6.55128557e-01, 4.29193426e-01, 2.81176870e-01,\n",
       "       1.84206997e-01, 1.20679264e-01, 7.90604321e-02, 5.17947468e-02,\n",
       "       3.39322177e-02, 2.22299648e-02, 1.45634848e-02, 9.54095476e-03,\n",
       "       6.25055193e-03, 4.09491506e-03, 2.68269580e-03, 1.75751062e-03,\n",
       "       1.15139540e-03, 7.54312006e-04, 4.94...\n",
       "       7.19685673e-06, 4.71486636e-06, 3.08884360e-06, 2.02358965e-06,\n",
       "       1.32571137e-06, 8.68511374e-07, 5.68986603e-07, 3.72759372e-07,\n",
       "       2.44205309e-07, 1.59985872e-07, 1.04811313e-07, 6.86648845e-08,\n",
       "       4.49843267e-08, 2.94705170e-08, 1.93069773e-08, 1.26485522e-08,\n",
       "       8.28642773e-09, 5.42867544e-09, 3.55648031e-09, 2.32995181e-09,\n",
       "       1.52641797e-09, 1.00000000e-09])},\n",
       "             scoring=&#x27;accuracy&#x27;)</pre></div></div></div><div class=\"sk-parallel\"><div class=\"sk-parallel-item\"><div class=\"sk-item\"><div class=\"sk-label-container\"><div class=\"sk-label sk-toggleable\"><input class=\"sk-toggleable__control sk-hidden--visually\" id=\"sk-estimator-id-23\" type=\"checkbox\" ><label for=\"sk-estimator-id-23\" class=\"sk-toggleable__label sk-toggleable__label-arrow\">estimator: GaussianNB</label><div class=\"sk-toggleable__content\"><pre>GaussianNB()</pre></div></div></div><div class=\"sk-serial\"><div class=\"sk-item\"><div class=\"sk-estimator sk-toggleable\"><input class=\"sk-toggleable__control sk-hidden--visually\" id=\"sk-estimator-id-24\" type=\"checkbox\" ><label for=\"sk-estimator-id-24\" class=\"sk-toggleable__label sk-toggleable__label-arrow\">GaussianNB</label><div class=\"sk-toggleable__content\"><pre>GaussianNB()</pre></div></div></div></div></div></div></div></div></div></div>"
      ],
      "text/plain": [
       "GridSearchCV(cv=3, estimator=GaussianNB(),\n",
       "             param_grid={'var_smoothing': array([1.00000000e+00, 6.55128557e-01, 4.29193426e-01, 2.81176870e-01,\n",
       "       1.84206997e-01, 1.20679264e-01, 7.90604321e-02, 5.17947468e-02,\n",
       "       3.39322177e-02, 2.22299648e-02, 1.45634848e-02, 9.54095476e-03,\n",
       "       6.25055193e-03, 4.09491506e-03, 2.68269580e-03, 1.75751062e-03,\n",
       "       1.15139540e-03, 7.54312006e-04, 4.94...\n",
       "       7.19685673e-06, 4.71486636e-06, 3.08884360e-06, 2.02358965e-06,\n",
       "       1.32571137e-06, 8.68511374e-07, 5.68986603e-07, 3.72759372e-07,\n",
       "       2.44205309e-07, 1.59985872e-07, 1.04811313e-07, 6.86648845e-08,\n",
       "       4.49843267e-08, 2.94705170e-08, 1.93069773e-08, 1.26485522e-08,\n",
       "       8.28642773e-09, 5.42867544e-09, 3.55648031e-09, 2.32995181e-09,\n",
       "       1.52641797e-09, 1.00000000e-09])},\n",
       "             scoring='accuracy')"
      ]
     },
     "execution_count": 220,
     "metadata": {},
     "output_type": "execute_result"
    }
   ],
   "source": [
    "from sklearn.naive_bayes import GaussianNB\n",
    "import numpy as np\n",
    "\n",
    "gnb = GaussianNB()\n",
    "grid_NB = {\"var_smoothing\": np.logspace(0,-9, num=50)}\n",
    "gs_NB = GridSearchCV(estimator=gnb, param_grid=grid_NB, scoring=\"accuracy\", cv=3)\n",
    "\n",
    "gs_NB.fit(X_train, y_train)"
   ]
  },
  {
   "cell_type": "code",
   "execution_count": 221,
   "id": "1e398012",
   "metadata": {},
   "outputs": [
    {
     "name": "stdout",
     "output_type": "stream",
     "text": [
      "Accuracy: 0.9046189376443418\n",
      "Precision: 0.5411396902088959\n",
      "Recall_score: 0.8864059590316573\n",
      "F1: 0.6720197652872143\n",
      "ROC_AUC: 0.8966407138412599\n"
     ]
    }
   ],
   "source": [
    "y_pred = gs_NB.predict(X_test)\n",
    "print(f'Accuracy: {accuracy_score(y_test, y_pred)}')\n",
    "print(f'Precision: {precision_score(y_test, y_pred)}')\n",
    "print(f'Recall_score: {recall_score(y_test, y_pred)}')\n",
    "print(f'F1: {f1_score(y_test, y_pred)}')\n",
    "print(f'ROC_AUC: {roc_auc_score(y_test, y_pred)}')"
   ]
  },
  {
   "cell_type": "code",
   "execution_count": 222,
   "id": "add9e493",
   "metadata": {},
   "outputs": [
    {
     "data": {
      "text/plain": [
       "<sklearn.metrics._plot.roc_curve.RocCurveDisplay at 0x1bdde5b09a0>"
      ]
     },
     "execution_count": 222,
     "metadata": {},
     "output_type": "execute_result"
    },
    {
     "data": {
      "image/png": "[encoded data removed]",
      "text/plain": [
       "<Figure size 640x480 with 1 Axes>"
      ]
     },
     "metadata": {},
     "output_type": "display_data"
    }
   ],
   "source": [
    "RocCurveDisplay.from_estimator(gs_NB, X_test, y_test)"
   ]
  },
  {
   "cell_type": "code",
   "execution_count": 223,
   "id": "6bcef7ea",
   "metadata": {},
   "outputs": [
    {
     "data": {
      "text/html": [
       "<style>#sk-container-id-9 {color: black;background-color: white;}#sk-container-id-9 pre{padding: 0;}#sk-container-id-9 div.sk-toggleable {background-color: white;}#sk-container-id-9 label.sk-toggleable__label {cursor: pointer;display: block;width: 100%;margin-bottom: 0;padding: 0.3em;box-sizing: border-box;text-align: center;}#sk-container-id-9 label.sk-toggleable__label-arrow:before {content: \"▸\";float: left;margin-right: 0.25em;color: #696969;}#sk-container-id-9 label.sk-toggleable__label-arrow:hover:before {color: black;}#sk-container-id-9 div.sk-estimator:hover label.sk-toggleable__label-arrow:before {color: black;}#sk-container-id-9 div.sk-toggleable__content {max-height: 0;max-width: 0;overflow: hidden;text-align: left;background-color: #f0f8ff;}#sk-container-id-9 div.sk-toggleable__content pre {margin: 0.2em;color: black;border-radius: 0.25em;background-color: #f0f8ff;}#sk-container-id-9 input.sk-toggleable__control:checked~div.sk-toggleable__content {max-height: 200px;max-width: 100%;overflow: auto;}#sk-container-id-9 input.sk-toggleable__control:checked~label.sk-toggleable__label-arrow:before {content: \"▾\";}#sk-container-id-9 div.sk-estimator input.sk-toggleable__control:checked~label.sk-toggleable__label {background-color: #d4ebff;}#sk-container-id-9 div.sk-label input.sk-toggleable__control:checked~label.sk-toggleable__label {background-color: #d4ebff;}#sk-container-id-9 input.sk-hidden--visually {border: 0;clip: rect(1px 1px 1px 1px);clip: rect(1px, 1px, 1px, 1px);height: 1px;margin: -1px;overflow: hidden;padding: 0;position: absolute;width: 1px;}#sk-container-id-9 div.sk-estimator {font-family: monospace;background-color: #f0f8ff;border: 1px dotted black;border-radius: 0.25em;box-sizing: border-box;margin-bottom: 0.5em;}#sk-container-id-9 div.sk-estimator:hover {background-color: #d4ebff;}#sk-container-id-9 div.sk-parallel-item::after {content: \"\";width: 100%;border-bottom: 1px solid gray;flex-grow: 1;}#sk-container-id-9 div.sk-label:hover label.sk-toggleable__label {background-color: #d4ebff;}#sk-container-id-9 div.sk-serial::before {content: \"\";position: absolute;border-left: 1px solid gray;box-sizing: border-box;top: 0;bottom: 0;left: 50%;z-index: 0;}#sk-container-id-9 div.sk-serial {display: flex;flex-direction: column;align-items: center;background-color: white;padding-right: 0.2em;padding-left: 0.2em;position: relative;}#sk-container-id-9 div.sk-item {position: relative;z-index: 1;}#sk-container-id-9 div.sk-parallel {display: flex;align-items: stretch;justify-content: center;background-color: white;position: relative;}#sk-container-id-9 div.sk-item::before, #sk-container-id-9 div.sk-parallel-item::before {content: \"\";position: absolute;border-left: 1px solid gray;box-sizing: border-box;top: 0;bottom: 0;left: 50%;z-index: -1;}#sk-container-id-9 div.sk-parallel-item {display: flex;flex-direction: column;z-index: 1;position: relative;background-color: white;}#sk-container-id-9 div.sk-parallel-item:first-child::after {align-self: flex-end;width: 50%;}#sk-container-id-9 div.sk-parallel-item:last-child::after {align-self: flex-start;width: 50%;}#sk-container-id-9 div.sk-parallel-item:only-child::after {width: 0;}#sk-container-id-9 div.sk-dashed-wrapped {border: 1px dashed gray;margin: 0 0.4em 0.5em 0.4em;box-sizing: border-box;padding-bottom: 0.4em;background-color: white;}#sk-container-id-9 div.sk-label label {font-family: monospace;font-weight: bold;display: inline-block;line-height: 1.2em;}#sk-container-id-9 div.sk-label-container {text-align: center;}#sk-container-id-9 div.sk-container {/* jupyter's `normalize.less` sets `[hidden] { display: none; }` but bootstrap.min.css set `[hidden] { display: none !important; }` so we also need the `!important` here to be able to override the default hidden behavior on the sphinx rendered scikit-learn.org. See: https://github.com/scikit-learn/scikit-learn/issues/21755 */display: inline-block !important;position: relative;}#sk-container-id-9 div.sk-text-repr-fallback {display: none;}</style><div id=\"sk-container-id-9\" class=\"sk-top-container\"><div class=\"sk-text-repr-fallback\"><pre>LogisticRegression(max_iter=7000)</pre><b>In a Jupyter environment, please rerun this cell to show the HTML representation or trust the notebook. <br />On GitHub, the HTML representation is unable to render, please try loading this page with nbviewer.org.</b></div><div class=\"sk-container\" hidden><div class=\"sk-item\"><div class=\"sk-estimator sk-toggleable\"><input class=\"sk-toggleable__control sk-hidden--visually\" id=\"sk-estimator-id-25\" type=\"checkbox\" checked><label for=\"sk-estimator-id-25\" class=\"sk-toggleable__label sk-toggleable__label-arrow\">LogisticRegression</label><div class=\"sk-toggleable__content\"><pre>LogisticRegression(max_iter=7000)</pre></div></div></div></div></div>"
      ],
      "text/plain": [
       "LogisticRegression(max_iter=7000)"
      ]
     },
     "execution_count": 223,
     "metadata": {},
     "output_type": "execute_result"
    }
   ],
   "source": [
    "from sklearn.linear_model import LogisticRegression, Ridge\n",
    "\n",
    "lr = LogisticRegression(max_iter=7000, penalty=\"l2\")\n",
    "grid_lr={ \"solver\" : [\"lbfgs\", \"liblinear\", \"newton-cg\", \"newton-cholesky\", \"sag\", \"saga\"], \"penalty\" : \"l2\" }\n",
    "\n",
    "gs_lr = GridSearchCV(estimator=lr, param_grid=grid_lr, scoring=\"accuracy\")\n",
    "\n",
    "lr.fit(X_train, y_train)"
   ]
  },
  {
   "cell_type": "code",
   "execution_count": 224,
   "id": "bd2133dc",
   "metadata": {},
   "outputs": [
    {
     "name": "stdout",
     "output_type": "stream",
     "text": [
      "Accuracy: 0.9400307929176289\n",
      "Precision: 0.7401323853885756\n",
      "Recall_score: 0.7027467411545624\n",
      "F1: 0.7209552238805971\n",
      "ROC_AUC: 0.8360881424524614\n"
     ]
    }
   ],
   "source": [
    "y_pred = lr.predict(X_test)\n",
    "print(f'Accuracy: {accuracy_score(y_test, y_pred)}')\n",
    "print(f'Precision: {precision_score(y_test, y_pred)}')\n",
    "print(f'Recall_score: {recall_score(y_test, y_pred)}')\n",
    "print(f'F1: {f1_score(y_test, y_pred)}')\n",
    "print(f'ROC_AUC: {roc_auc_score(y_test, y_pred)}')\n",
    "#Accuracy: 0.9392866307415961\n",
    "#Precision: 0.735595703125\n",
    "#Recall_score: 0.7013500931098696\n",
    "#F1: 0.7180648236415634\n",
    "#ROC_AUC: 0.8350581578198596"
   ]
  },
  {
   "cell_type": "code",
   "execution_count": 225,
   "id": "59b04512",
   "metadata": {},
   "outputs": [
    {
     "data": {
      "text/plain": [
       "array([[33614,  1060],\n",
       "       [ 1277,  3019]], dtype=int64)"
      ]
     },
     "execution_count": 225,
     "metadata": {},
     "output_type": "execute_result"
    }
   ],
   "source": [
    "confusion_matrix(y_test, y_pred)"
   ]
  },
  {
   "cell_type": "code",
   "execution_count": 226,
   "id": "b75e8179",
   "metadata": {},
   "outputs": [
    {
     "data": {
      "text/plain": [
       "<sklearn.metrics._plot.roc_curve.RocCurveDisplay at 0x1bdde49edd0>"
      ]
     },
     "execution_count": 226,
     "metadata": {},
     "output_type": "execute_result"
    },
    {
     "data": {
      "image/png": "[encoded data removed]",
      "text/plain": [
       "<Figure size 640x480 with 1 Axes>"
      ]
     },
     "metadata": {},
     "output_type": "display_data"
    }
   ],
   "source": [
    "RocCurveDisplay.from_estimator(lr, X_test, y_test)"
   ]
  },
  {
   "cell_type": "code",
   "execution_count": 227,
   "id": "d04fcb52",
   "metadata": {},
   "outputs": [
    {
     "data": {
      "text/html": [
       "<style>#sk-container-id-10 {color: black;background-color: white;}#sk-container-id-10 pre{padding: 0;}#sk-container-id-10 div.sk-toggleable {background-color: white;}#sk-container-id-10 label.sk-toggleable__label {cursor: pointer;display: block;width: 100%;margin-bottom: 0;padding: 0.3em;box-sizing: border-box;text-align: center;}#sk-container-id-10 label.sk-toggleable__label-arrow:before {content: \"▸\";float: left;margin-right: 0.25em;color: #696969;}#sk-container-id-10 label.sk-toggleable__label-arrow:hover:before {color: black;}#sk-container-id-10 div.sk-estimator:hover label.sk-toggleable__label-arrow:before {color: black;}#sk-container-id-10 div.sk-toggleable__content {max-height: 0;max-width: 0;overflow: hidden;text-align: left;background-color: #f0f8ff;}#sk-container-id-10 div.sk-toggleable__content pre {margin: 0.2em;color: black;border-radius: 0.25em;background-color: #f0f8ff;}#sk-container-id-10 input.sk-toggleable__control:checked~div.sk-toggleable__content {max-height: 200px;max-width: 100%;overflow: auto;}#sk-container-id-10 input.sk-toggleable__control:checked~label.sk-toggleable__label-arrow:before {content: \"▾\";}#sk-container-id-10 div.sk-estimator input.sk-toggleable__control:checked~label.sk-toggleable__label {background-color: #d4ebff;}#sk-container-id-10 div.sk-label input.sk-toggleable__control:checked~label.sk-toggleable__label {background-color: #d4ebff;}#sk-container-id-10 input.sk-hidden--visually {border: 0;clip: rect(1px 1px 1px 1px);clip: rect(1px, 1px, 1px, 1px);height: 1px;margin: -1px;overflow: hidden;padding: 0;position: absolute;width: 1px;}#sk-container-id-10 div.sk-estimator {font-family: monospace;background-color: #f0f8ff;border: 1px dotted black;border-radius: 0.25em;box-sizing: border-box;margin-bottom: 0.5em;}#sk-container-id-10 div.sk-estimator:hover {background-color: #d4ebff;}#sk-container-id-10 div.sk-parallel-item::after {content: \"\";width: 100%;border-bottom: 1px solid gray;flex-grow: 1;}#sk-container-id-10 div.sk-label:hover label.sk-toggleable__label {background-color: #d4ebff;}#sk-container-id-10 div.sk-serial::before {content: \"\";position: absolute;border-left: 1px solid gray;box-sizing: border-box;top: 0;bottom: 0;left: 50%;z-index: 0;}#sk-container-id-10 div.sk-serial {display: flex;flex-direction: column;align-items: center;background-color: white;padding-right: 0.2em;padding-left: 0.2em;position: relative;}#sk-container-id-10 div.sk-item {position: relative;z-index: 1;}#sk-container-id-10 div.sk-parallel {display: flex;align-items: stretch;justify-content: center;background-color: white;position: relative;}#sk-container-id-10 div.sk-item::before, #sk-container-id-10 div.sk-parallel-item::before {content: \"\";position: absolute;border-left: 1px solid gray;box-sizing: border-box;top: 0;bottom: 0;left: 50%;z-index: -1;}#sk-container-id-10 div.sk-parallel-item {display: flex;flex-direction: column;z-index: 1;position: relative;background-color: white;}#sk-container-id-10 div.sk-parallel-item:first-child::after {align-self: flex-end;width: 50%;}#sk-container-id-10 div.sk-parallel-item:last-child::after {align-self: flex-start;width: 50%;}#sk-container-id-10 div.sk-parallel-item:only-child::after {width: 0;}#sk-container-id-10 div.sk-dashed-wrapped {border: 1px dashed gray;margin: 0 0.4em 0.5em 0.4em;box-sizing: border-box;padding-bottom: 0.4em;background-color: white;}#sk-container-id-10 div.sk-label label {font-family: monospace;font-weight: bold;display: inline-block;line-height: 1.2em;}#sk-container-id-10 div.sk-label-container {text-align: center;}#sk-container-id-10 div.sk-container {/* jupyter's `normalize.less` sets `[hidden] { display: none; }` but bootstrap.min.css set `[hidden] { display: none !important; }` so we also need the `!important` here to be able to override the default hidden behavior on the sphinx rendered scikit-learn.org. See: https://github.com/scikit-learn/scikit-learn/issues/21755 */display: inline-block !important;position: relative;}#sk-container-id-10 div.sk-text-repr-fallback {display: none;}</style><div id=\"sk-container-id-10\" class=\"sk-top-container\"><div class=\"sk-text-repr-fallback\"><pre>SVC()</pre><b>In a Jupyter environment, please rerun this cell to show the HTML representation or trust the notebook. <br />On GitHub, the HTML representation is unable to render, please try loading this page with nbviewer.org.</b></div><div class=\"sk-container\" hidden><div class=\"sk-item\"><div class=\"sk-estimator sk-toggleable\"><input class=\"sk-toggleable__control sk-hidden--visually\" id=\"sk-estimator-id-26\" type=\"checkbox\" checked><label for=\"sk-estimator-id-26\" class=\"sk-toggleable__label sk-toggleable__label-arrow\">SVC</label><div class=\"sk-toggleable__content\"><pre>SVC()</pre></div></div></div></div></div>"
      ],
      "text/plain": [
       "SVC()"
      ]
     },
     "execution_count": 227,
     "metadata": {},
     "output_type": "execute_result"
    }
   ],
   "source": [
    "from sklearn import svm\n",
    "\n",
    "svm1 = svm.SVC()\n",
    "svm1.fit(X_train, y_train)"
   ]
  },
  {
   "cell_type": "code",
   "execution_count": 228,
   "id": "c037c4aa",
   "metadata": {},
   "outputs": [
    {
     "name": "stdout",
     "output_type": "stream",
     "text": [
      "Accuracy: 0.9400307929176289\n",
      "Precision: 0.7401323853885756\n",
      "Recall_score: 0.7027467411545624\n",
      "F1: 0.7209552238805971\n",
      "ROC_AUC: 0.8360881424524614\n"
     ]
    }
   ],
   "source": [
    "y_perd = svm1.predict(X_test)\n",
    "print(f'Accuracy: {accuracy_score(y_test, y_pred)}')\n",
    "print(f'Precision: {precision_score(y_test, y_pred)}')\n",
    "print(f'Recall_score: {recall_score(y_test, y_pred)}')\n",
    "print(f'F1: {f1_score(y_test, y_pred)}')\n",
    "print(f'ROC_AUC: {roc_auc_score(y_test, y_pred)}')"
   ]
  },
  {
   "cell_type": "code",
   "execution_count": 229,
   "id": "1478a0d4",
   "metadata": {},
   "outputs": [
    {
     "data": {
      "text/plain": [
       "<sklearn.metrics._plot.roc_curve.RocCurveDisplay at 0x1bd83b3b670>"
      ]
     },
     "execution_count": 229,
     "metadata": {},
     "output_type": "execute_result"
    },
    {
     "data": {
      "image/png": "[encoded data removed]",
      "text/plain": [
       "<Figure size 640x480 with 1 Axes>"
      ]
     },
     "metadata": {},
     "output_type": "display_data"
    }
   ],
   "source": [
    "RocCurveDisplay.from_estimator(svm1, X_test, y_test)"
   ]
  },
  {
   "cell_type": "markdown",
   "id": "a9b3f142",
   "metadata": {},
   "source": [
    "## Задание 3"
   ]
  },
  {
   "cell_type": "code",
   "execution_count": 230,
   "id": "4b4877e7",
   "metadata": {},
   "outputs": [],
   "source": [
    "#Accuracy, Precision, Recall, F1\n",
    "class Metrics:\n",
    "    @staticmethod\n",
    "    def accuracy(y_test, y_pred): \n",
    "        return list(np.array(y_test)-np.array(y_pred)).count(0)/len(y_test)\n",
    "    @staticmethod\n",
    "    def precision(y_test, y_pred):\n",
    "        true, pred = list(y_test), list(y_pred) \n",
    "        if(len(true) - true.count(0) - true.count(1) or len(pred) - pred.count(0) - pred.count(1) != 0):\n",
    "            raise Exception(\"conf_matrix works only for binary data\")\n",
    "        TP = 0\n",
    "        TP_and_FP = 0\n",
    "        for i in range(len(true)):\n",
    "            if (true[i] == pred[i] == 1):\n",
    "                TP += 1\n",
    "                TP_and_FP += 1\n",
    "            elif (pred[i] == 1):\n",
    "                TP_and_FP += 1\n",
    "        return TP / TP_and_FP\n",
    "    @staticmethod\n",
    "    def recall(y_test, y_pred):\n",
    "        true, pred = list(y_test), list(y_pred) \n",
    "        if(len(true) - true.count(0) - true.count(1) or len(pred) - pred.count(0) - pred.count(1) != 0):\n",
    "            raise Exception(\"conf_matrix works only for binary data\")\n",
    "        TP = 0\n",
    "        TP_and_FN = 0\n",
    "        for i in range(len(true)):\n",
    "            if (true[i] == 1):\n",
    "                if (pred[i] == 1):\n",
    "                    TP += 1\n",
    "                    TP_and_FN += 1\n",
    "                elif (pred[i] == 0):\n",
    "                    TP_and_FN += 1\n",
    "        return TP / TP_and_FN\n",
    "    @staticmethod\n",
    "    def f1(y_test, y_pred):\n",
    "        pr = Metrics.precision(y_test, y_pred)\n",
    "        re = Metrics.recall(y_test, y_pred)\n",
    "        return 2 * pr * re / (pr + re)"
   ]
  },
  {
   "cell_type": "code",
   "execution_count": 231,
   "id": "69db95fc",
   "metadata": {},
   "outputs": [
    {
     "name": "stdout",
     "output_type": "stream",
     "text": [
      "[[1 1]\n",
      " [2 3]]\n",
      "----\n",
      "0.5714285714285714 0.5714285714285714\n",
      "0.75 0.75\n",
      "0.6 0.6\n",
      "0.6666666666666665 0.6666666666666665\n"
     ]
    }
   ],
   "source": [
    "a_true = [0, 0, 1, 1, 1, 1, 1]\n",
    "a_pred = [1, 0, 1, 0, 0, 1, 1]\n",
    "print(confusion_matrix(a_true, a_pred))\n",
    "print(\"----\")\n",
    "print(accuracy_score(a_true, a_pred), Metrics.accuracy(a_true, a_pred))\n",
    "print(precision_score(a_true, a_pred), Metrics.precision(a_true, a_pred))\n",
    "print(recall_score(a_true, a_pred), Metrics.recall(a_true, a_pred))\n",
    "print(f1_score(a_true, a_pred), Metrics.f1(a_true, a_pred))"
   ]
  },
  {
   "cell_type": "markdown",
   "id": "003ba453",
   "metadata": {},
   "source": [
    "## Задание 4"
   ]
  },
  {
   "cell_type": "code",
   "execution_count": 18,
   "id": "68fc7607",
   "metadata": {},
   "outputs": [],
   "source": [
    "import numpy as np"
   ]
  },
  {
   "cell_type": "code",
   "execution_count": 65,
   "id": "a358a2fc",
   "metadata": {},
   "outputs": [],
   "source": [
    "class KN_Classifier():\n",
    "    def __init__(self, neighbors = 5, p = 2):\n",
    "        self.n = neighbors\n",
    "        self.p = p\n",
    "    def fit(self, X, y):\n",
    "        #Down sampling\n",
    "        self.X = np.array(X)\n",
    "        self.y = np.array(y)\n",
    "    def predict(self, Xt):\n",
    "        predicts = []\n",
    "        Xt = np.array(Xt)\n",
    "        lenX = len(self.X)\n",
    "        for i in Xt: #sum(|x - y|^p)^(1/p)\n",
    "            pred = []\n",
    "            for j in range(lenX):\n",
    "                pred.append((sum(abs(i - self.X[j]) ** self.p) ** (1/self.p), self.y[j]))\n",
    "            pred = sorted(pred)[0 : self.n]\n",
    "            max_set = {0 : 0, 1 : 0}\n",
    "            for k in pred:\n",
    "                max_set[k[1]] += 1\n",
    "            if max_set[0] > max_set[1]:\n",
    "                predicts.append(0)\n",
    "            else:\n",
    "                predicts.append(1)\n",
    "            print(i)\n",
    "            \n",
    "        "
   ]
  },
  {
   "cell_type": "code",
   "execution_count": 66,
   "id": "acef5558",
   "metadata": {},
   "outputs": [
    {
     "name": "stdout",
     "output_type": "stream",
     "text": [
      "[7.184e+01 7.000e+00 2.000e+00 5.000e+02 4.000e+02 5.000e+02 3.990e+02\n",
      " 4.100e+03 3.350e+03 5.000e+00 4.000e+00 4.000e+00 5.000e+00 4.000e+00]\n",
      "[ 74.95   0.     0.   386.   464.   482.   292.   750.   550.     0.\n",
      "   0.     0.     5.     5.  ]\n",
      "[6.735e+01 1.300e+01 6.000e+00 5.000e+02 5.000e+02 4.880e+02 5.000e+02\n",
      " 1.325e+04 3.500e+02 3.000e+00 5.000e+00 5.000e+00 5.000e+00 5.000e+00]\n",
      "[2.693e+01 6.000e+00 1.300e+01 4.680e+02 4.000e+02 4.770e+02 3.330e+02\n",
      " 5.500e+03 1.635e+04 4.000e+00 4.000e+00 0.000e+00 5.000e+00 4.000e+00]\n",
      "[4.493e+01 3.000e+00 5.000e+00 3.600e+02 4.000e+02 2.610e+02 3.990e+02\n",
      " 9.300e+03 1.620e+04 0.000e+00 4.000e+00 1.000e+00 4.000e+00 4.000e+00]\n",
      "[3.495e+01 2.000e+00 4.000e+00 4.000e+02 3.000e+02 0.000e+00 2.880e+02\n",
      " 9.750e+03 9.550e+03 0.000e+00 3.000e+00 0.000e+00 4.000e+00 3.000e+00]\n",
      "[1.60e+00 2.00e+00 5.00e+00 1.00e+02 3.14e+02 1.00e+02 3.79e+02 2.05e+03\n",
      " 4.70e+03 0.00e+00 4.00e+00 1.00e+00 1.00e+00 4.00e+00]\n",
      "[1.75e+02 1.20e+01 9.00e+00 5.00e+02 5.00e+02 4.96e+02 0.00e+00 3.04e+04\n",
      " 1.82e+04 5.00e+00 0.00e+00 5.00e+00 5.00e+00 5.00e+00]\n",
      "[1.0995e+02 0.0000e+00 3.0000e+00 5.0000e+02 5.0000e+02 5.0000e+02\n",
      " 4.2400e+02 1.7000e+03 1.9400e+04 3.0000e+00 5.0000e+00 2.0000e+00\n",
      " 5.0000e+00 5.0000e+00]\n",
      "[5.191e+01 1.500e+01 1.000e+01 2.640e+02 1.000e+02 2.970e+02 1.000e+02\n",
      " 2.000e+03 2.250e+03 0.000e+00 1.000e+00 0.000e+00 3.000e+00 1.000e+00]\n",
      "[  86.86   15.      3.    200.    198.    100.    200.    600.   1900.\n",
      "    0.      2.      0.      2.      2.  ]\n",
      "[7.495e+01 6.000e+00 3.000e+00 4.000e+02 4.440e+02 3.970e+02 9.700e+01\n",
      " 5.550e+03 9.050e+03 4.000e+00 1.000e+00 3.000e+00 4.000e+00 5.000e+00]\n",
      "[6.81e+00 8.00e+00 1.00e+01 1.20e+01 1.55e+02 0.00e+00 2.53e+02 2.00e+03\n",
      " 9.25e+03 0.00e+00 4.00e+00 0.00e+00 1.00e+00 4.00e+00]\n",
      "[ 114.92    4.      0.    500.    500.    492.    500.   2800.   1900.\n",
      "    4.      5.      3.      5.      5.  ]\n",
      "[3.878e+01 3.000e+00 4.000e+00 1.000e+02 1.980e+02 1.000e+02 3.560e+02\n",
      " 5.000e+02 1.360e+04 0.000e+00 4.000e+00 1.000e+00 1.000e+00 4.000e+00]\n",
      "[1.75e+02 0.00e+00 0.00e+00 5.00e+02 5.00e+02 3.00e+02 3.00e+02 1.35e+03\n",
      " 1.25e+03 0.00e+00 0.00e+00 1.00e+00 5.00e+00 5.00e+00]\n"
     ]
    },
    {
     "ename": "KeyboardInterrupt",
     "evalue": "",
     "output_type": "error",
     "traceback": [
      "\u001b[1;31m---------------------------------------------------------------------------\u001b[0m",
      "\u001b[1;31mKeyboardInterrupt\u001b[0m                         Traceback (most recent call last)",
      "Cell \u001b[1;32mIn[66], line 3\u001b[0m\n\u001b[0;32m      1\u001b[0m my_kn \u001b[38;5;241m=\u001b[39m KN_Classifier()\n\u001b[0;32m      2\u001b[0m my_kn\u001b[38;5;241m.\u001b[39mfit(X_train, y_train)\n\u001b[1;32m----> 3\u001b[0m \u001b[43mmy_kn\u001b[49m\u001b[38;5;241;43m.\u001b[39;49m\u001b[43mpredict\u001b[49m\u001b[43m(\u001b[49m\u001b[43mX_test\u001b[49m\u001b[43m)\u001b[49m\n\u001b[0;32m      4\u001b[0m \u001b[38;5;28mprint\u001b[39m(Metrics\u001b[38;5;241m.\u001b[39maccuracy(y_test, y_pred))\n",
      "Cell \u001b[1;32mIn[65], line 16\u001b[0m, in \u001b[0;36mKN_Classifier.predict\u001b[1;34m(self, Xt)\u001b[0m\n\u001b[0;32m     14\u001b[0m pred \u001b[38;5;241m=\u001b[39m []\n\u001b[0;32m     15\u001b[0m \u001b[38;5;28;01mfor\u001b[39;00m j \u001b[38;5;129;01min\u001b[39;00m \u001b[38;5;28mrange\u001b[39m(lenX):\n\u001b[1;32m---> 16\u001b[0m     pred\u001b[38;5;241m.\u001b[39mappend((\u001b[38;5;28msum\u001b[39m(\u001b[38;5;28mabs\u001b[39m(i \u001b[38;5;241m-\u001b[39m \u001b[38;5;28mself\u001b[39m\u001b[38;5;241m.\u001b[39mX[j]) \u001b[38;5;241m*\u001b[39m\u001b[38;5;241m*\u001b[39m \u001b[38;5;28mself\u001b[39m\u001b[38;5;241m.\u001b[39mp) \u001b[38;5;241m*\u001b[39m\u001b[38;5;241m*\u001b[39m (\u001b[38;5;241m1\u001b[39m\u001b[38;5;241m/\u001b[39m\u001b[38;5;28mself\u001b[39m\u001b[38;5;241m.\u001b[39mp), \u001b[38;5;28mself\u001b[39m\u001b[38;5;241m.\u001b[39my[j]))\n\u001b[0;32m     17\u001b[0m pred \u001b[38;5;241m=\u001b[39m \u001b[38;5;28msorted\u001b[39m(pred)[\u001b[38;5;241m0\u001b[39m : \u001b[38;5;28mself\u001b[39m\u001b[38;5;241m.\u001b[39mn]\n\u001b[0;32m     18\u001b[0m max_set \u001b[38;5;241m=\u001b[39m {\u001b[38;5;241m0\u001b[39m : \u001b[38;5;241m0\u001b[39m, \u001b[38;5;241m1\u001b[39m : \u001b[38;5;241m0\u001b[39m}\n",
      "\u001b[1;31mKeyboardInterrupt\u001b[0m: "
     ]
    }
   ],
   "source": [
    "my_kn = KN_Classifier()\n",
    "my_kn.fit(X_train, y_train)\n",
    "my_kn.predict(X_test)\n",
    "print(Metrics.accuracy(y_test, y_pred))"
   ]
  },
  {
   "cell_type": "code",
   "execution_count": 60,
   "id": "612e329e",
   "metadata": {},
   "outputs": [
    {
     "name": "stdout",
     "output_type": "stream",
     "text": [
      "0\n"
     ]
    },
    {
     "ename": "TypeError",
     "evalue": "mode() missing 1 required positional argument: 'data'",
     "output_type": "error",
     "traceback": [
      "\u001b[1;31m---------------------------------------------------------------------------\u001b[0m",
      "\u001b[1;31mTypeError\u001b[0m                                 Traceback (most recent call last)",
      "Cell \u001b[1;32mIn[60], line 5\u001b[0m\n\u001b[0;32m      2\u001b[0m lol \u001b[38;5;241m=\u001b[39m [(\u001b[38;5;241m0\u001b[39m, \u001b[38;5;241m1\u001b[39m), (\u001b[38;5;241m1\u001b[39m, \u001b[38;5;241m4\u001b[39m), (\u001b[38;5;241m1\u001b[39m, \u001b[38;5;241m2\u001b[39m), \u001b[38;5;241m1\u001b[39m, \u001b[38;5;241m0\u001b[39m]\n\u001b[0;32m      4\u001b[0m \u001b[38;5;28mprint\u001b[39m(mode(lol[\u001b[38;5;241m0\u001b[39m:\u001b[38;5;241m3\u001b[39m][\u001b[38;5;241m0\u001b[39m]))\n\u001b[1;32m----> 5\u001b[0m \u001b[43mmode\u001b[49m\u001b[43m(\u001b[49m\u001b[43m)\u001b[49m\n",
      "\u001b[1;31mTypeError\u001b[0m: mode() missing 1 required positional argument: 'data'"
     ]
    }
   ],
   "source": [
    "from statistics import mode\n",
    "lol = [(0, 1), (1, 4), (1, 2), 1, 0]\n",
    "max_set = {0 : 0, 1 : 1}\n",
    "print()\n",
    "mode()\n"
   ]
  },
  {
   "cell_type": "code",
   "execution_count": 237,
   "id": "72ad937e",
   "metadata": {},
   "outputs": [
    {
     "name": "stderr",
     "output_type": "stream",
     "text": [
      "F:\\venv1\\venv\\lib\\site-packages\\numpy\\core\\fromnumeric.py:3462: FutureWarning: In a future version, DataFrame.mean(axis=None) will return a scalar mean over the entire DataFrame. To retain the old behavior, use 'frame.mean(axis=0)' or just 'frame.mean()'\n",
      "  return mean(axis=axis, dtype=dtype, out=out, **kwargs)\n",
      "F:\\venv1\\venv\\lib\\site-packages\\numpy\\core\\fromnumeric.py:3462: FutureWarning: In a future version, DataFrame.mean(axis=None) will return a scalar mean over the entire DataFrame. To retain the old behavior, use 'frame.mean(axis=0)' or just 'frame.mean()'\n",
      "  return mean(axis=axis, dtype=dtype, out=out, **kwargs)\n"
     ]
    },
    {
     "name": "stdout",
     "output_type": "stream",
     "text": [
      "0.8892224788298692\n"
     ]
    }
   ],
   "source": [
    "from scipy.stats import norm\n",
    "means = pd.DataFrame(X_train).groupby(y_train).apply(np.mean)\n",
    "stds = pd.DataFrame(X_train).groupby(y_train).apply(np.std)\n",
    " \n",
    "### Вычисляем априорную вероятность класса\n",
    "probs = pd.DataFrame(X_train).groupby(y_train).apply(lambda x: len(x)) / X_train.shape[0]\n",
    " \n",
    "### Вычисляем вероятность для Теоремы Байеса для каждого элемента\n",
    "y_pred = []\n",
    "# каждый элемент в валидационной части данных\n",
    "for elem in range(X_test.shape[0]):\n",
    "    p = {}\n",
    " \n",
    "   # для каждого возможного класса\n",
    "    for cl in np.unique(y_train):\n",
    " \n",
    "       # априорная вероятность взятого ранее класса\n",
    "        p[cl] = probs.iloc[cl]\n",
    " \n",
    "       # для каждого столбца в датасете\n",
    "        for index, param in enumerate(pd.DataFrame(X_train).iloc[elem]):\n",
    " \n",
    "           # умножаем вероятность того, что данное значение столбца\n",
    "           # будет принадлежать распределению для выбранного класса\n",
    "            p[cl] *= norm.pdf(param, means.iloc[cl, index], stds.iloc[cl, index])\n",
    "  \n",
    "    y_pred.append(pd.Series(p).values.argmax())\n",
    "print(accuracy_score(y_test, y_pred))"
   ]
  },
  {
   "cell_type": "code",
   "execution_count": 248,
   "id": "19c45e71",
   "metadata": {},
   "outputs": [
    {
     "name": "stdout",
     "output_type": "stream",
     "text": [
      "-3.5466500241987706 6.2584562829424915\n",
      "-3.4700611115781035 6.2584562829424915\n",
      "0.8873721862005334\n"
     ]
    }
   ],
   "source": [
    "amin = []\n",
    "amax = []\n",
    "for column in X_train:\n",
    "    amin.append(min(column))\n",
    "    amax.append(max(column))\n",
    "print(min(amin), max(amax))\n",
    "amin = []\n",
    "amax = []\n",
    "p = len(y_train[y_train == 0])/len(y_train)\n",
    "print(p)"
   ]
  },
  {
   "cell_type": "code",
   "execution_count": 392,
   "id": "a44ece12",
   "metadata": {},
   "outputs": [
    {
     "name": "stdout",
     "output_type": "stream",
     "text": [
      "[[ 1.41630153 -1.40108422 -1.40663486 ... -0.38251658  0.60268258\n",
      "   0.59767943]\n",
      " [-0.66223     1.10442621 -0.7846042  ... -1.00536726  0.60268258\n",
      "   0.59767943]\n",
      " [ 1.41464899 -0.77470661 -1.19929131 ... -1.00536726  0.60268258\n",
      "   0.59767943]\n",
      " ...\n",
      " [ 0.3136883  -1.19229168 -0.7846042  ...  0.86318479  0.60268258\n",
      "   0.59767943]\n",
      " [ 1.41538345 -0.148329    0.04477001 ... -1.00536726  0.60268258\n",
      "   0.59767943]\n",
      " [-0.36091637 -0.56591407 -1.40663486 ...  1.48603547 -0.22718394\n",
      "  -1.8429649 ]]\n",
      "        index  bomb_planted\n",
      "0       81053             0\n",
      "1       39487             0\n",
      "2       91154             0\n",
      "3       17388             0\n",
      "4       90860             0\n",
      "...       ...           ...\n",
      "79114   79623             0\n",
      "79115  114302             0\n",
      "79116  107486             0\n",
      "79117     893             0\n",
      "79118   16329             0\n",
      "\n",
      "[79119 rows x 2 columns]\n"
     ]
    }
   ],
   "source": [
    "print(X_train)\n",
    "print(pd.DataFrame(y_train).reset_index())"
   ]
  },
  {
   "cell_type": "code",
   "execution_count": 468,
   "id": "c9630170",
   "metadata": {},
   "outputs": [
    {
     "name": "stdout",
     "output_type": "stream",
     "text": [
      "0                       (166.91, 175.0]\n",
      "1                       (94.91, 166.91]\n",
      "2                       (94.91, 166.91]\n",
      "3                        (54.92, 94.91]\n",
      "4                       (166.91, 175.0]\n",
      "                      ...              \n",
      "122405    (0.009000000000000001, 54.92]\n",
      "122406                  (166.91, 175.0]\n",
      "122407                  (94.91, 166.91]\n",
      "122408                  (94.91, 166.91]\n",
      "122409                   (54.92, 94.91]\n",
      "Name: time_left, Length: 118089, dtype: category\n",
      "Categories (4, interval[float64, right]): [(0.009000000000000001, 54.92] < (54.92, 94.91] < (94.91, 166.91] < (166.91, 175.0]]\n"
     ]
    }
   ],
   "source": [
    "class NB_Classifier():\n",
    "    def __init__(self, q=4):\n",
    "        self.q = q\n",
    "    def fit(self, X, y):\n",
    "        X = pd.DataFrame(X)\n",
    "        intervals = {}\n",
    "        for column in X:\n",
    "            X = pd.DataFrame(X)\n",
    "            X[column] = pd.qcut(X[column].rank(method='first'), q=self.q)\n",
    "            intervals[column] = X[column].unique()\n",
    "            X = pd.get_dummies(X, columns = [column])\n",
    "        self.X = X\n",
    "        print(X)\n",
    "        self.y = pd.DataFrame(y).reset_index(drop=True)\n",
    "        print(self.y)\n",
    "        self.intervals = intervals\n",
    "    def predict(self, Xt):\n",
    "        print(self.y.columns)\n",
    "        for y_class in self.y[self.y.columns[0]].unique():\n",
    "            P_class = len(self.y[self.y == y_class]) / len(self.y)\n",
    "            #print(P_class)\n",
    "            for stroke in np.array(Xt):\n",
    "                for num in range(len(stroke)):\n",
    "                    interval = 0\n",
    "                    for i in range(4):\n",
    "                        if stroke[num] in intervals[num]:\n",
    "                            interval = intervals[num][i]\n",
    "                    print(self.y.loc[self.X[self.X[num] == interval].index])\n",
    "                    P_class /= len(self.y[self.y == y_class])\n",
    "                    print(self.X[self.X[num] == interval].index)\n",
    "                    P_class *= len(self.y.loc[self.X[self.X[num] == interval].index][self.y == y_class])\n",
    "                    \n",
    "                #print(y_class, P_class)\n",
    "                    \n",
    "                \n",
    "                  \n",
    "\n",
    " "
   ]
  },
  {
   "cell_type": "code",
   "execution_count": 469,
   "id": "57cd66a3",
   "metadata": {},
   "outputs": [
    {
     "name": "stdout",
     "output_type": "stream",
     "text": [
      "       0_(0.999, 19780.5]  0_(19780.5, 39560.0]  0_(39560.0, 59339.5]  \\\n",
      "0                       0                     0                     0   \n",
      "1                       0                     1                     0   \n",
      "2                       0                     0                     0   \n",
      "3                       0                     0                     0   \n",
      "4                       0                     0                     1   \n",
      "...                   ...                   ...                   ...   \n",
      "79114                   0                     1                     0   \n",
      "79115                   0                     0                     0   \n",
      "79116                   0                     0                     1   \n",
      "79117                   0                     0                     0   \n",
      "79118                   0                     1                     0   \n",
      "\n",
      "       0_(59339.5, 79119.0]  1_(0.999, 19780.5]  1_(19780.5, 39560.0]  \\\n",
      "0                         1                   1                     0   \n",
      "1                         0                   0                     0   \n",
      "2                         1                   1                     0   \n",
      "3                         1                   0                     1   \n",
      "4                         0                   1                     0   \n",
      "...                     ...                 ...                   ...   \n",
      "79114                     0                   0                     1   \n",
      "79115                     1                   1                     0   \n",
      "79116                     0                   1                     0   \n",
      "79117                     1                   0                     0   \n",
      "79118                     0                   0                     1   \n",
      "\n",
      "       1_(39560.0, 59339.5]  1_(59339.5, 79119.0]  2_(0.999, 19780.5]  \\\n",
      "0                         0                     0                   1   \n",
      "1                         0                     1                   1   \n",
      "2                         0                     0                   1   \n",
      "3                         0                     0                   1   \n",
      "4                         0                     0                   0   \n",
      "...                     ...                   ...                 ...   \n",
      "79114                     0                     0                   1   \n",
      "79115                     0                     0                   1   \n",
      "79116                     0                     0                   0   \n",
      "79117                     1                     0                   0   \n",
      "79118                     0                     0                   1   \n",
      "\n",
      "       2_(19780.5, 39560.0]  ...  11_(39560.0, 59339.5]  \\\n",
      "0                         0  ...                      0   \n",
      "1                         0  ...                      0   \n",
      "2                         0  ...                      0   \n",
      "3                         0  ...                      0   \n",
      "4                         1  ...                      1   \n",
      "...                     ...  ...                    ...   \n",
      "79114                     0  ...                      0   \n",
      "79115                     0  ...                      1   \n",
      "79116                     1  ...                      0   \n",
      "79117                     0  ...                      0   \n",
      "79118                     0  ...                      0   \n",
      "\n",
      "       11_(59339.5, 79119.0]  12_(0.999, 19780.5]  12_(19780.5, 39560.0]  \\\n",
      "0                          0                    0                      1   \n",
      "1                          0                    0                      1   \n",
      "2                          0                    0                      1   \n",
      "3                          0                    0                      1   \n",
      "4                          0                    0                      1   \n",
      "...                      ...                  ...                    ...   \n",
      "79114                      0                    0                      0   \n",
      "79115                      0                    0                      0   \n",
      "79116                      1                    0                      0   \n",
      "79117                      0                    0                      0   \n",
      "79118                      1                    0                      1   \n",
      "\n",
      "       12_(39560.0, 59339.5]  12_(59339.5, 79119.0]  13_(0.999, 19780.5]  \\\n",
      "0                          0                      0                    0   \n",
      "1                          0                      0                    0   \n",
      "2                          0                      0                    0   \n",
      "3                          0                      0                    0   \n",
      "4                          0                      0                    0   \n",
      "...                      ...                    ...                  ...   \n",
      "79114                      0                      1                    0   \n",
      "79115                      0                      1                    0   \n",
      "79116                      0                      1                    0   \n",
      "79117                      0                      1                    0   \n",
      "79118                      0                      0                    1   \n",
      "\n",
      "       13_(19780.5, 39560.0]  13_(39560.0, 59339.5]  13_(59339.5, 79119.0]  \n",
      "0                          1                      0                      0  \n",
      "1                          1                      0                      0  \n",
      "2                          1                      0                      0  \n",
      "3                          1                      0                      0  \n",
      "4                          1                      0                      0  \n",
      "...                      ...                    ...                    ...  \n",
      "79114                      0                      0                      1  \n",
      "79115                      0                      0                      1  \n",
      "79116                      0                      0                      1  \n",
      "79117                      0                      0                      1  \n",
      "79118                      0                      0                      0  \n",
      "\n",
      "[79119 rows x 56 columns]\n",
      "       bomb_planted\n",
      "0                 0\n",
      "1                 0\n",
      "2                 0\n",
      "3                 0\n",
      "4                 0\n",
      "...             ...\n",
      "79114             0\n",
      "79115             0\n",
      "79116             0\n",
      "79117             0\n",
      "79118             0\n",
      "\n",
      "[79119 rows x 1 columns]\n",
      "Index(['bomb_planted'], dtype='object')\n"
     ]
    },
    {
     "ename": "KeyError",
     "evalue": "0",
     "output_type": "error",
     "traceback": [
      "\u001b[1;31m---------------------------------------------------------------------------\u001b[0m",
      "\u001b[1;31mKeyError\u001b[0m                                  Traceback (most recent call last)",
      "File \u001b[1;32mF:\\venv1\\venv\\lib\\site-packages\\pandas\\core\\indexes\\base.py:3802\u001b[0m, in \u001b[0;36mIndex.get_loc\u001b[1;34m(self, key, method, tolerance)\u001b[0m\n\u001b[0;32m   3801\u001b[0m \u001b[38;5;28;01mtry\u001b[39;00m:\n\u001b[1;32m-> 3802\u001b[0m     \u001b[38;5;28;01mreturn\u001b[39;00m \u001b[38;5;28;43mself\u001b[39;49m\u001b[38;5;241;43m.\u001b[39;49m\u001b[43m_engine\u001b[49m\u001b[38;5;241;43m.\u001b[39;49m\u001b[43mget_loc\u001b[49m\u001b[43m(\u001b[49m\u001b[43mcasted_key\u001b[49m\u001b[43m)\u001b[49m\n\u001b[0;32m   3803\u001b[0m \u001b[38;5;28;01mexcept\u001b[39;00m \u001b[38;5;167;01mKeyError\u001b[39;00m \u001b[38;5;28;01mas\u001b[39;00m err:\n",
      "File \u001b[1;32mF:\\venv1\\venv\\lib\\site-packages\\pandas\\_libs\\index.pyx:138\u001b[0m, in \u001b[0;36mpandas._libs.index.IndexEngine.get_loc\u001b[1;34m()\u001b[0m\n",
      "File \u001b[1;32mF:\\venv1\\venv\\lib\\site-packages\\pandas\\_libs\\index.pyx:165\u001b[0m, in \u001b[0;36mpandas._libs.index.IndexEngine.get_loc\u001b[1;34m()\u001b[0m\n",
      "File \u001b[1;32mpandas\\_libs\\hashtable_class_helper.pxi:5745\u001b[0m, in \u001b[0;36mpandas._libs.hashtable.PyObjectHashTable.get_item\u001b[1;34m()\u001b[0m\n",
      "File \u001b[1;32mpandas\\_libs\\hashtable_class_helper.pxi:5753\u001b[0m, in \u001b[0;36mpandas._libs.hashtable.PyObjectHashTable.get_item\u001b[1;34m()\u001b[0m\n",
      "\u001b[1;31mKeyError\u001b[0m: 0",
      "\nThe above exception was the direct cause of the following exception:\n",
      "\u001b[1;31mKeyError\u001b[0m                                  Traceback (most recent call last)",
      "Cell \u001b[1;32mIn[469], line 3\u001b[0m\n\u001b[0;32m      1\u001b[0m asd \u001b[38;5;241m=\u001b[39m NB_Classifier()\n\u001b[0;32m      2\u001b[0m asd\u001b[38;5;241m.\u001b[39mfit(X_train, y_train)\n\u001b[1;32m----> 3\u001b[0m y_pred \u001b[38;5;241m=\u001b[39m \u001b[43masd\u001b[49m\u001b[38;5;241;43m.\u001b[39;49m\u001b[43mpredict\u001b[49m\u001b[43m(\u001b[49m\u001b[43mX_test\u001b[49m\u001b[43m)\u001b[49m\n\u001b[0;32m      4\u001b[0m \u001b[38;5;28mprint\u001b[39m(accuracy_score(X_test, y_pred))\n",
      "Cell \u001b[1;32mIn[468], line 40\u001b[0m, in \u001b[0;36mNB_Classifier.predict\u001b[1;34m(self, Xt)\u001b[0m\n\u001b[0;32m     38\u001b[0m     \u001b[38;5;28;01mif\u001b[39;00m i\u001b[38;5;241m.\u001b[39mleft \u001b[38;5;241m<\u001b[39m stroke[num] \u001b[38;5;241m<\u001b[39m\u001b[38;5;241m=\u001b[39m i\u001b[38;5;241m.\u001b[39mright:\n\u001b[0;32m     39\u001b[0m         interval \u001b[38;5;241m=\u001b[39m i\n\u001b[1;32m---> 40\u001b[0m \u001b[38;5;28mprint\u001b[39m(\u001b[38;5;28mself\u001b[39m\u001b[38;5;241m.\u001b[39my\u001b[38;5;241m.\u001b[39mloc[\u001b[38;5;28mself\u001b[39m\u001b[38;5;241m.\u001b[39mX[\u001b[38;5;28;43mself\u001b[39;49m\u001b[38;5;241;43m.\u001b[39;49m\u001b[43mX\u001b[49m\u001b[43m[\u001b[49m\u001b[43mnum\u001b[49m\u001b[43m]\u001b[49m \u001b[38;5;241m==\u001b[39m interval]\u001b[38;5;241m.\u001b[39mindex])\n\u001b[0;32m     41\u001b[0m P_class \u001b[38;5;241m/\u001b[39m\u001b[38;5;241m=\u001b[39m \u001b[38;5;28mlen\u001b[39m(\u001b[38;5;28mself\u001b[39m\u001b[38;5;241m.\u001b[39my[\u001b[38;5;28mself\u001b[39m\u001b[38;5;241m.\u001b[39my \u001b[38;5;241m==\u001b[39m y_class])\n\u001b[0;32m     42\u001b[0m \u001b[38;5;66;03m#print(self.X[self.X[num] == interval].index)\u001b[39;00m\n",
      "File \u001b[1;32mF:\\venv1\\venv\\lib\\site-packages\\pandas\\core\\frame.py:3807\u001b[0m, in \u001b[0;36mDataFrame.__getitem__\u001b[1;34m(self, key)\u001b[0m\n\u001b[0;32m   3805\u001b[0m \u001b[38;5;28;01mif\u001b[39;00m \u001b[38;5;28mself\u001b[39m\u001b[38;5;241m.\u001b[39mcolumns\u001b[38;5;241m.\u001b[39mnlevels \u001b[38;5;241m>\u001b[39m \u001b[38;5;241m1\u001b[39m:\n\u001b[0;32m   3806\u001b[0m     \u001b[38;5;28;01mreturn\u001b[39;00m \u001b[38;5;28mself\u001b[39m\u001b[38;5;241m.\u001b[39m_getitem_multilevel(key)\n\u001b[1;32m-> 3807\u001b[0m indexer \u001b[38;5;241m=\u001b[39m \u001b[38;5;28;43mself\u001b[39;49m\u001b[38;5;241;43m.\u001b[39;49m\u001b[43mcolumns\u001b[49m\u001b[38;5;241;43m.\u001b[39;49m\u001b[43mget_loc\u001b[49m\u001b[43m(\u001b[49m\u001b[43mkey\u001b[49m\u001b[43m)\u001b[49m\n\u001b[0;32m   3808\u001b[0m \u001b[38;5;28;01mif\u001b[39;00m is_integer(indexer):\n\u001b[0;32m   3809\u001b[0m     indexer \u001b[38;5;241m=\u001b[39m [indexer]\n",
      "File \u001b[1;32mF:\\venv1\\venv\\lib\\site-packages\\pandas\\core\\indexes\\base.py:3804\u001b[0m, in \u001b[0;36mIndex.get_loc\u001b[1;34m(self, key, method, tolerance)\u001b[0m\n\u001b[0;32m   3802\u001b[0m     \u001b[38;5;28;01mreturn\u001b[39;00m \u001b[38;5;28mself\u001b[39m\u001b[38;5;241m.\u001b[39m_engine\u001b[38;5;241m.\u001b[39mget_loc(casted_key)\n\u001b[0;32m   3803\u001b[0m \u001b[38;5;28;01mexcept\u001b[39;00m \u001b[38;5;167;01mKeyError\u001b[39;00m \u001b[38;5;28;01mas\u001b[39;00m err:\n\u001b[1;32m-> 3804\u001b[0m     \u001b[38;5;28;01mraise\u001b[39;00m \u001b[38;5;167;01mKeyError\u001b[39;00m(key) \u001b[38;5;28;01mfrom\u001b[39;00m \u001b[38;5;21;01merr\u001b[39;00m\n\u001b[0;32m   3805\u001b[0m \u001b[38;5;28;01mexcept\u001b[39;00m \u001b[38;5;167;01mTypeError\u001b[39;00m:\n\u001b[0;32m   3806\u001b[0m     \u001b[38;5;66;03m# If we have a listlike key, _check_indexing_error will raise\u001b[39;00m\n\u001b[0;32m   3807\u001b[0m     \u001b[38;5;66;03m#  InvalidIndexError. Otherwise we fall through and re-raise\u001b[39;00m\n\u001b[0;32m   3808\u001b[0m     \u001b[38;5;66;03m#  the TypeError.\u001b[39;00m\n\u001b[0;32m   3809\u001b[0m     \u001b[38;5;28mself\u001b[39m\u001b[38;5;241m.\u001b[39m_check_indexing_error(key)\n",
      "\u001b[1;31mKeyError\u001b[0m: 0"
     ]
    }
   ],
   "source": [
    "asd = NB_Classifier()\n",
    "asd.fit(X_train, y_train)\n",
    "y_pred = asd.predict(X_test)\n",
    "print(accuracy_score(X_test, y_pred))"
   ]
  },
  {
   "cell_type": "code",
   "execution_count": null,
   "id": "61914b75",
   "metadata": {},
   "outputs": [],
   "source": []
  }
 ],
 "metadata": {
  "kernelspec": {
   "display_name": "Python 3 (ipykernel)",
   "language": "python",
   "name": "python3"
  },
  "language_info": {
   "codemirror_mode": {
    "name": "ipython",
    "version": 3
   },
   "file_extension": ".py",
   "mimetype": "text/x-python",
   "name": "python",
   "nbconvert_exporter": "python",
   "pygments_lexer": "ipython3",
   "version": "3.10.7"
  }
 },
 "nbformat": 4,
 "nbformat_minor": 5
}
