{
 "cells": [
  {
   "cell_type": "code",
   "execution_count": 1,
   "id": "5a9057f6",
   "metadata": {},
   "outputs": [],
   "source": [
    "import pandas as pd\n",
    "import numpy as np\n",
    "from math import sqrt\n",
    "from sklearn.model_selection import train_test_split\n",
    "from sklearn.metrics import r2_score\n",
    "from sklearn.datasets import make_regression\n",
    "class LinerReg:\n",
    "    def __init__(self, lr = 1e-4, iters = 20000):\n",
    "        self.lr = lr\n",
    "        self.iters = iters\n",
    "\n",
    "    def transform_(self, x):\n",
    "        return np.concatenate((np.ones((len(x), 1)), x), axis = 1)\n",
    "    \n",
    "    def loss_func(self, x, y, w):\n",
    "        return np.mean((y - np.dot(x, w)) ** 2)\n",
    "    \n",
    "    def fit(self, x, y):\n",
    "        dist = np.inf\n",
    "        eps = 1e-4\n",
    "        X = self.transform_(x)\n",
    "        \n",
    "        w = np.zeros(X.shape[1])\n",
    "        iter = 0\n",
    "        \n",
    "        while dist > eps and iter <= self.iters:\n",
    "            loss = self.loss_func(X, y, w)\n",
    "            w = w - self.lr * 2 * np.dot(X.T, np.dot(X, w) - y) / X.shape[0]\n",
    "            dist = np.abs(loss - self.loss_func(X, y, w))\n",
    "            iter += 1\n",
    "        print(iter)\n",
    "        self.w = w\n",
    "\n",
    "    def predict(self, x):\n",
    "        return np.dot(self.transform_(x), self.w)"
   ]
  },
  {
   "cell_type": "code",
   "execution_count": 7,
   "id": "0db40070",
   "metadata": {},
   "outputs": [],
   "source": [
    "# Регуляризатор Ridge(L2)\n",
    "class Ridge:\n",
    "    def __init__(self, lr = 1e-4, iters = 20000):\n",
    "        self.lr = lr\n",
    "        self.iters = iters\n",
    "\n",
    "    def transform_(self, x):\n",
    "        return np.concatenate((np.ones((len(x), 1)), x), axis = 1)\n",
    "    \n",
    "    def loss_func(self, x, y, w):\n",
    "        return (np.mean((y - np.dot(x, w)) ** 2) + (self.alpha*sum(w**2)))\n",
    "    \n",
    "    def fit(self, x, y, alpha):\n",
    "        self.alpha = alpha\n",
    "        dist = np.inf\n",
    "        eps = 1e-4\n",
    "        X = self.transform_(x)\n",
    "        \n",
    "        w = np.zeros(X.shape[1])\n",
    "        iter = 0\n",
    "        \n",
    "        while dist > eps and iter <= self.iters:\n",
    "            loss = self.loss_func(X, y, w)\n",
    "            w = w - self.lr * (2 * ((np.dot(X.T, np.dot(X, w) - y)) / X.shape[0]) + (self.alpha * sum(2 * w)))\n",
    "            dist = np.abs(loss - self.loss_func(X, y, w))\n",
    "            iter += 1\n",
    "        print(iter)\n",
    "        self.w = w\n",
    "\n",
    "    \n",
    "    def predict(self, x):\n",
    "        return np.dot(self.transform_(x), self.w)"
   ]
  },
  {
   "cell_type": "code",
   "execution_count": 8,
   "id": "5cc79e70",
   "metadata": {},
   "outputs": [],
   "source": [
    "# Метрики качества\n",
    "\n",
    "def R2(y_test, y_pred):\n",
    "    numerator = ((y_test - y_pred) ** 2).sum()\n",
    "    denominator = (\n",
    "        (y_test - np.average(y_test, axis=0)) ** 2\n",
    "        ).sum()\n",
    "    return 1 - (numerator / denominator)\n",
    "    \n",
    "def MAPE(y_test, y_pred):\n",
    "    return np.mean(np.abs((y_test - y_pred)/y_test))\n",
    "    \n",
    "def RMSE(y_test, y_pred):\n",
    "    return sqrt(MSE(y_test, y_pred))\n",
    "    \n",
    "def MSE(y_test, y_pred):\n",
    "    return np.mean((y_test - y_pred)**2)\n",
    "    \n",
    "def MAE(y_test, y_pred):\n",
    "    return np.mean(np.abs((y_test - y_pred)))"
   ]
  },
  {
   "cell_type": "code",
   "execution_count": 9,
   "id": "652f23b5",
   "metadata": {},
   "outputs": [
    {
     "data": {
      "text/plain": [
       "((161, 1), (161,), (69, 1), (69,))"
      ]
     },
     "execution_count": 9,
     "metadata": {},
     "output_type": "execute_result"
    }
   ],
   "source": [
    "#Тест класса\n",
    "# data2=pd.DataFrame({\n",
    "#    'Exp':[2,2.2, 2.8, 4, 7, 8, 11, 12, 21, 25, 28, 34, 40, 43, 50, 55.5, 60],\n",
    "#    'Salary': [7, 8, 11, 15, 22, 29, 37 ,45.7, 49, 52, 53, 60, 71, 73, 81, 89, 95]\n",
    "# })\n",
    "# y = data2['Salary']\n",
    "# X = data2['Exp'].values.reshape(-1,1)\n",
    "\n",
    "X, y = make_regression(n_samples=230, n_features=1, noise=30, random_state=42)\n",
    "\n",
    "# df = pd.read_csv('../data/regression/moldova_cars_task_preprocessed.csv', index_col=0)\n",
    "# y = df[\"Price(euro)\"]\n",
    "# X = df.drop([\"Price(euro)\"], axis=1)\n",
    "\n",
    "\n",
    "X_train, X_test, y_train, y_test = train_test_split(X, y, test_size=0.3)\n",
    "X_train.shape, y_train.shape, X_test.shape, y_test.shape"
   ]
  },
  {
   "cell_type": "code",
   "execution_count": 10,
   "id": "bbb5b67e",
   "metadata": {},
   "outputs": [
    {
     "name": "stdout",
     "output_type": "stream",
     "text": [
      "MAE: 57.713607247597324\n",
      "MSE: 4740.652508501606\n",
      "RMSE: 68.85239653419194\n",
      "MAPE: 0.9999999999957445\n",
      "R^2: -0.015044773679959267\n"
     ]
    }
   ],
   "source": [
    "ridge = Ridge()\n",
    "ridge.fit(X_train, y_train)\n",
    "y_pred = ridge.predict(X_test)\n",
    "print(f'MAE: {MAE(y_test, y_pred)}')\n",
    "print(f'MSE: {MSE(y_test, y_pred)}')\n",
    "print(f'RMSE: {RMSE(y_test, y_pred)}')\n",
    "print(f'MAPE: {MAPE(y_test, y_pred)}')\n",
    "print(f'R^2: {R2(y_test, y_pred)}')"
   ]
  },
  {
   "cell_type": "code",
   "execution_count": 29,
   "id": "a385468d",
   "metadata": {},
   "outputs": [
    {
     "name": "stdout",
     "output_type": "stream",
     "text": [
      "20001\n",
      "MAE: 26.803820241540713\n",
      "MSE: 1088.0436488494215\n",
      "RMSE: 32.98550664836636\n",
      "MAPE: 0.9185787309197286\n",
      "R^2: 0.7777495438434001\n"
     ]
    }
   ],
   "source": [
    "lr = LinerReg()\n",
    "lr.fit(X_train, y_train)\n",
    "y_pred = lr.predict(X_test)\n",
    "print(f'MAE: {MAE(y_test, y_pred)}')\n",
    "print(f'MSE: {MSE(y_test, y_pred)}')\n",
    "print(f'RMSE: {RMSE(y_test, y_pred)}')\n",
    "print(f'MAPE: {MAPE(y_test, y_pred)}')\n",
    "print(f'R^2: {R2(y_test, y_pred)}')"
   ]
  },
  {
   "cell_type": "code",
   "execution_count": 64,
   "id": "592e9f4b",
   "metadata": {},
   "outputs": [
    {
     "data": {
      "image/png": "[encoded data removed]",
      "text/plain": [
       "<Figure size 640x480 with 1 Axes>"
      ]
     },
     "metadata": {},
     "output_type": "display_data"
    }
   ],
   "source": [
    "import matplotlib.pyplot as plt\n",
    "plt.scatter(X_test, y_test, label='Истинные значения');\n",
    "plt.plot(X_test, lr.predict(X_test), label='Предсказанные значения (линейная регрессия)');\n",
    "plt.plot(X_test, ridge.predict(X_test), label='Предсказанные значения (Ridge)');\n",
    "plt.legend();"
   ]
  },
  {
   "cell_type": "code",
   "execution_count": null,
   "id": "5582902d",
   "metadata": {},
   "outputs": [],
   "source": []
  }
 ],
 "metadata": {
  "kernelspec": {
   "display_name": "Python 3 (ipykernel)",
   "language": "python",
   "name": "python3"
  },
  "language_info": {
   "codemirror_mode": {
    "name": "ipython",
    "version": 3
   },
   "file_extension": ".py",
   "mimetype": "text/x-python",
   "name": "python",
   "nbconvert_exporter": "python",
   "pygments_lexer": "ipython3",
   "version": "3.10.7"
  }
 },
 "nbformat": 4,
 "nbformat_minor": 5
}
