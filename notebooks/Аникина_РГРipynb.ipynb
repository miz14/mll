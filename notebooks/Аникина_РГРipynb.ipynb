{
  "nbformat": 4,
  "nbformat_minor": 0,
  "metadata": {
    "colab": {
      "provenance": []
    },
    "kernelspec": {
      "name": "python3",
      "display_name": "Python 3"
    },
    "language_info": {
      "name": "python"
    }
  },
  "cells": [
    {
      "cell_type": "markdown",
      "source": [
        "# Моделирование и разработка дашборда"
      ],
      "metadata": {
        "id": "f7wtFi_wwusO"
      }
    },
    {
      "cell_type": "markdown",
      "source": [
        "## Загрузка датасета"
      ],
      "metadata": {
        "id": "LuirNO-pwzwj"
      }
    },
    {
      "cell_type": "markdown",
      "source": [
        "Если датасет не очень большой, то я не рекомендую загружать его через гугл диск. Самый простой способ - открыть вкладку файлы и загрузить туда датасет. Давай так и сделаем."
      ],
      "metadata": {
        "id": "wMQTuk_ew2fh"
      }
    },
    {
      "cell_type": "markdown",
      "source": [
        "![](https://i.imgur.com/V19fvGv.png)"
      ],
      "metadata": {
        "id": "gzACFWBJxDw7"
      }
    },
    {
      "cell_type": "markdown",
      "source": [
        "Просто перетаскиваем в это окно наш csv файл. Если не перетаскивается - нажимай на кнопку Загрузить (первая из четырех иконок сверху). Гугл предупредит, что **файлы, которые загружены в это хранилище, будут удалены после перезагрузки Colab!**"
      ],
      "metadata": {
        "id": "pOZwbtFJxMVn"
      }
    },
    {
      "cell_type": "markdown",
      "source": [
        "![](https://i.imgur.com/YM1uRYZ.png)"
      ],
      "metadata": {
        "id": "H3KBrelJyV7x"
      }
    },
    {
      "cell_type": "markdown",
      "source": [
        "Теперь файл загружен. Давай посмотрим, как мы можем открыть его. Для начала посмотрим список файлов в хранилище."
      ],
      "metadata": {
        "id": "1OrOgZwAx35J"
      }
    },
    {
      "cell_type": "code",
      "execution_count": null,
      "metadata": {
        "id": "ox181RUJwU95",
        "colab": {
          "base_uri": "https://localhost:8080/"
        },
        "outputId": "7a8af8a6-8b41-4823-d312-bf03ff08f958"
      },
      "outputs": [
        {
          "output_type": "stream",
          "name": "stdout",
          "text": [
            "LABA2_0.csv  sample_data\n"
          ]
        }
      ],
      "source": [
        "! ls"
      ]
    },
    {
      "cell_type": "markdown",
      "source": [
        "Видишь, то есть наш ноутбук находится в той же папке, куда мы только что загрузили файлы. Это значит, что открыть файл мы можем просто по его имени."
      ],
      "metadata": {
        "id": "GqxkKp3byCR3"
      }
    },
    {
      "cell_type": "markdown",
      "source": [
        "Обрати внимание, что в эту же папку можно сохранять картикни, модели (!). И здесь же можно будет расположить наш файл с дашбордом. Давай наконец загрузим датасет."
      ],
      "metadata": {
        "id": "AL8WF4E8yKU6"
      }
    },
    {
      "cell_type": "code",
      "source": [
        "import pandas as pd"
      ],
      "metadata": {
        "id": "dmh2Sqsm78Ne"
      },
      "execution_count": null,
      "outputs": []
    },
    {
      "cell_type": "markdown",
      "source": [
        "При загрузке датасета на демоэкзамене рекомендуется обращать внимание на разделитель столбцов и указывать его в качестве параметра sep; в данном случае это запятая, но на демоэкзамене могут быть подлянки."
      ],
      "metadata": {
        "id": "hFiUHjdy8BrG"
      }
    },
    {
      "cell_type": "code",
      "source": [
        "data = pd.read_csv('LABA2_0.csv', sep=',')\n",
        "data"
      ],
      "metadata": {
        "colab": {
          "base_uri": "https://localhost:8080/",
          "height": 423
        },
        "id": "GHA1xpP37-20",
        "outputId": "0383b3af-fa00-4c7a-a4bc-ebb8ec7185bc"
      },
      "execution_count": null,
      "outputs": [
        {
          "output_type": "execute_result",
          "data": {
            "text/plain": [
              "       Unnamed: 0  est_diameter_min  est_diameter_max  relative_velocity  \\\n",
              "0               0          0.016016          0.035813       56014.078517   \n",
              "1               1          0.030518          0.068240        7864.348060   \n",
              "2               2          0.055533          0.124177       55257.544508   \n",
              "3               3          0.019256          0.043057       41531.404722   \n",
              "4               4          0.139494          0.311918       67639.394481   \n",
              "...           ...               ...               ...                ...   \n",
              "41078       41078          0.925881          2.070332       53401.167163   \n",
              "41079       41079          0.014607          0.032662       30675.903942   \n",
              "41080       41080          0.004023          0.008996       76430.346045   \n",
              "41081       41081          0.015295          0.034201       26931.983083   \n",
              "41082       41082          0.121494          0.271669          25.000000   \n",
              "\n",
              "       miss_distance  absolute_magnitude  hazardous  \n",
              "0       1.024333e+06               26.10        0.0  \n",
              "1       3.268186e+07               24.70        0.0  \n",
              "2       6.538636e+07               23.40        0.0  \n",
              "3       1.260796e+07               25.70        0.0  \n",
              "4       7.130590e+07               21.40        0.0  \n",
              "...              ...                 ...        ...  \n",
              "41078   5.279098e+07               17.29        0.0  \n",
              "41079   3.626284e+06               26.30        0.0  \n",
              "41080   4.145901e+07               29.10        0.0  \n",
              "41081   4.544752e+07               26.20        0.0  \n",
              "41082            NaN                 NaN        NaN  \n",
              "\n",
              "[41083 rows x 7 columns]"
            ],
            "text/html": [
              "\n",
              "  <div id=\"df-19c31e9c-979a-4537-a668-2387601eaead\">\n",
              "    <div class=\"colab-df-container\">\n",
              "      <div>\n",
              "<style scoped>\n",
              "    .dataframe tbody tr th:only-of-type {\n",
              "        vertical-align: middle;\n",
              "    }\n",
              "\n",
              "    .dataframe tbody tr th {\n",
              "        vertical-align: top;\n",
              "    }\n",
              "\n",
              "    .dataframe thead th {\n",
              "        text-align: right;\n",
              "    }\n",
              "</style>\n",
              "<table border=\"1\" class=\"dataframe\">\n",
              "  <thead>\n",
              "    <tr style=\"text-align: right;\">\n",
              "      <th></th>\n",
              "      <th>Unnamed: 0</th>\n",
              "      <th>est_diameter_min</th>\n",
              "      <th>est_diameter_max</th>\n",
              "      <th>relative_velocity</th>\n",
              "      <th>miss_distance</th>\n",
              "      <th>absolute_magnitude</th>\n",
              "      <th>hazardous</th>\n",
              "    </tr>\n",
              "  </thead>\n",
              "  <tbody>\n",
              "    <tr>\n",
              "      <th>0</th>\n",
              "      <td>0</td>\n",
              "      <td>0.016016</td>\n",
              "      <td>0.035813</td>\n",
              "      <td>56014.078517</td>\n",
              "      <td>1.024333e+06</td>\n",
              "      <td>26.10</td>\n",
              "      <td>0.0</td>\n",
              "    </tr>\n",
              "    <tr>\n",
              "      <th>1</th>\n",
              "      <td>1</td>\n",
              "      <td>0.030518</td>\n",
              "      <td>0.068240</td>\n",
              "      <td>7864.348060</td>\n",
              "      <td>3.268186e+07</td>\n",
              "      <td>24.70</td>\n",
              "      <td>0.0</td>\n",
              "    </tr>\n",
              "    <tr>\n",
              "      <th>2</th>\n",
              "      <td>2</td>\n",
              "      <td>0.055533</td>\n",
              "      <td>0.124177</td>\n",
              "      <td>55257.544508</td>\n",
              "      <td>6.538636e+07</td>\n",
              "      <td>23.40</td>\n",
              "      <td>0.0</td>\n",
              "    </tr>\n",
              "    <tr>\n",
              "      <th>3</th>\n",
              "      <td>3</td>\n",
              "      <td>0.019256</td>\n",
              "      <td>0.043057</td>\n",
              "      <td>41531.404722</td>\n",
              "      <td>1.260796e+07</td>\n",
              "      <td>25.70</td>\n",
              "      <td>0.0</td>\n",
              "    </tr>\n",
              "    <tr>\n",
              "      <th>4</th>\n",
              "      <td>4</td>\n",
              "      <td>0.139494</td>\n",
              "      <td>0.311918</td>\n",
              "      <td>67639.394481</td>\n",
              "      <td>7.130590e+07</td>\n",
              "      <td>21.40</td>\n",
              "      <td>0.0</td>\n",
              "    </tr>\n",
              "    <tr>\n",
              "      <th>...</th>\n",
              "      <td>...</td>\n",
              "      <td>...</td>\n",
              "      <td>...</td>\n",
              "      <td>...</td>\n",
              "      <td>...</td>\n",
              "      <td>...</td>\n",
              "      <td>...</td>\n",
              "    </tr>\n",
              "    <tr>\n",
              "      <th>41078</th>\n",
              "      <td>41078</td>\n",
              "      <td>0.925881</td>\n",
              "      <td>2.070332</td>\n",
              "      <td>53401.167163</td>\n",
              "      <td>5.279098e+07</td>\n",
              "      <td>17.29</td>\n",
              "      <td>0.0</td>\n",
              "    </tr>\n",
              "    <tr>\n",
              "      <th>41079</th>\n",
              "      <td>41079</td>\n",
              "      <td>0.014607</td>\n",
              "      <td>0.032662</td>\n",
              "      <td>30675.903942</td>\n",
              "      <td>3.626284e+06</td>\n",
              "      <td>26.30</td>\n",
              "      <td>0.0</td>\n",
              "    </tr>\n",
              "    <tr>\n",
              "      <th>41080</th>\n",
              "      <td>41080</td>\n",
              "      <td>0.004023</td>\n",
              "      <td>0.008996</td>\n",
              "      <td>76430.346045</td>\n",
              "      <td>4.145901e+07</td>\n",
              "      <td>29.10</td>\n",
              "      <td>0.0</td>\n",
              "    </tr>\n",
              "    <tr>\n",
              "      <th>41081</th>\n",
              "      <td>41081</td>\n",
              "      <td>0.015295</td>\n",
              "      <td>0.034201</td>\n",
              "      <td>26931.983083</td>\n",
              "      <td>4.544752e+07</td>\n",
              "      <td>26.20</td>\n",
              "      <td>0.0</td>\n",
              "    </tr>\n",
              "    <tr>\n",
              "      <th>41082</th>\n",
              "      <td>41082</td>\n",
              "      <td>0.121494</td>\n",
              "      <td>0.271669</td>\n",
              "      <td>25.000000</td>\n",
              "      <td>NaN</td>\n",
              "      <td>NaN</td>\n",
              "      <td>NaN</td>\n",
              "    </tr>\n",
              "  </tbody>\n",
              "</table>\n",
              "<p>41083 rows × 7 columns</p>\n",
              "</div>\n",
              "      <button class=\"colab-df-convert\" onclick=\"convertToInteractive('df-19c31e9c-979a-4537-a668-2387601eaead')\"\n",
              "              title=\"Convert this dataframe to an interactive table.\"\n",
              "              style=\"display:none;\">\n",
              "        \n",
              "  <svg xmlns=\"http://www.w3.org/2000/svg\" height=\"24px\"viewBox=\"0 0 24 24\"\n",
              "       width=\"24px\">\n",
              "    <path d=\"M0 0h24v24H0V0z\" fill=\"none\"/>\n",
              "    <path d=\"M18.56 5.44l.94 2.06.94-2.06 2.06-.94-2.06-.94-.94-2.06-.94 2.06-2.06.94zm-11 1L8.5 8.5l.94-2.06 2.06-.94-2.06-.94L8.5 2.5l-.94 2.06-2.06.94zm10 10l.94 2.06.94-2.06 2.06-.94-2.06-.94-.94-2.06-.94 2.06-2.06.94z\"/><path d=\"M17.41 7.96l-1.37-1.37c-.4-.4-.92-.59-1.43-.59-.52 0-1.04.2-1.43.59L10.3 9.45l-7.72 7.72c-.78.78-.78 2.05 0 2.83L4 21.41c.39.39.9.59 1.41.59.51 0 1.02-.2 1.41-.59l7.78-7.78 2.81-2.81c.8-.78.8-2.07 0-2.86zM5.41 20L4 18.59l7.72-7.72 1.47 1.35L5.41 20z\"/>\n",
              "  </svg>\n",
              "      </button>\n",
              "      \n",
              "  <style>\n",
              "    .colab-df-container {\n",
              "      display:flex;\n",
              "      flex-wrap:wrap;\n",
              "      gap: 12px;\n",
              "    }\n",
              "\n",
              "    .colab-df-convert {\n",
              "      background-color: #E8F0FE;\n",
              "      border: none;\n",
              "      border-radius: 50%;\n",
              "      cursor: pointer;\n",
              "      display: none;\n",
              "      fill: #1967D2;\n",
              "      height: 32px;\n",
              "      padding: 0 0 0 0;\n",
              "      width: 32px;\n",
              "    }\n",
              "\n",
              "    .colab-df-convert:hover {\n",
              "      background-color: #E2EBFA;\n",
              "      box-shadow: 0px 1px 2px rgba(60, 64, 67, 0.3), 0px 1px 3px 1px rgba(60, 64, 67, 0.15);\n",
              "      fill: #174EA6;\n",
              "    }\n",
              "\n",
              "    [theme=dark] .colab-df-convert {\n",
              "      background-color: #3B4455;\n",
              "      fill: #D2E3FC;\n",
              "    }\n",
              "\n",
              "    [theme=dark] .colab-df-convert:hover {\n",
              "      background-color: #434B5C;\n",
              "      box-shadow: 0px 1px 3px 1px rgba(0, 0, 0, 0.15);\n",
              "      filter: drop-shadow(0px 1px 2px rgba(0, 0, 0, 0.3));\n",
              "      fill: #FFFFFF;\n",
              "    }\n",
              "  </style>\n",
              "\n",
              "      <script>\n",
              "        const buttonEl =\n",
              "          document.querySelector('#df-19c31e9c-979a-4537-a668-2387601eaead button.colab-df-convert');\n",
              "        buttonEl.style.display =\n",
              "          google.colab.kernel.accessAllowed ? 'block' : 'none';\n",
              "\n",
              "        async function convertToInteractive(key) {\n",
              "          const element = document.querySelector('#df-19c31e9c-979a-4537-a668-2387601eaead');\n",
              "          const dataTable =\n",
              "            await google.colab.kernel.invokeFunction('convertToInteractive',\n",
              "                                                     [key], {});\n",
              "          if (!dataTable) return;\n",
              "\n",
              "          const docLinkHtml = 'Like what you see? Visit the ' +\n",
              "            '<a target=\"_blank\" href=https://colab.research.google.com/notebooks/data_table.ipynb>data table notebook</a>'\n",
              "            + ' to learn more about interactive tables.';\n",
              "          element.innerHTML = '';\n",
              "          dataTable['output_type'] = 'display_data';\n",
              "          await google.colab.output.renderOutput(dataTable, element);\n",
              "          const docLink = document.createElement('div');\n",
              "          docLink.innerHTML = docLinkHtml;\n",
              "          element.appendChild(docLink);\n",
              "        }\n",
              "      </script>\n",
              "    </div>\n",
              "  </div>\n",
              "  "
            ]
          },
          "metadata": {},
          "execution_count": 7
        }
      ]
    },
    {
      "cell_type": "markdown",
      "source": [
        "Сразу покажу одну штуку. Давай дропнем столбец Unnamed: 0."
      ],
      "metadata": {
        "id": "x6EHyY7f8W5Y"
      }
    },
    {
      "cell_type": "code",
      "source": [
        "data.drop(['Unnamed: 0'], axis=1, inplace=True)\n",
        "data"
      ],
      "metadata": {
        "colab": {
          "base_uri": "https://localhost:8080/",
          "height": 423
        },
        "id": "jysMaSH-8c-W",
        "outputId": "d13031d1-b43f-4c27-983d-243a59b8fe17"
      },
      "execution_count": null,
      "outputs": [
        {
          "output_type": "execute_result",
          "data": {
            "text/plain": [
              "       est_diameter_min  est_diameter_max  relative_velocity  miss_distance  \\\n",
              "0              0.016016          0.035813       56014.078517   1.024333e+06   \n",
              "1              0.030518          0.068240        7864.348060   3.268186e+07   \n",
              "2              0.055533          0.124177       55257.544508   6.538636e+07   \n",
              "3              0.019256          0.043057       41531.404722   1.260796e+07   \n",
              "4              0.139494          0.311918       67639.394481   7.130590e+07   \n",
              "...                 ...               ...                ...            ...   \n",
              "41078          0.925881          2.070332       53401.167163   5.279098e+07   \n",
              "41079          0.014607          0.032662       30675.903942   3.626284e+06   \n",
              "41080          0.004023          0.008996       76430.346045   4.145901e+07   \n",
              "41081          0.015295          0.034201       26931.983083   4.544752e+07   \n",
              "41082          0.121494          0.271669          25.000000            NaN   \n",
              "\n",
              "       absolute_magnitude  hazardous  \n",
              "0                   26.10        0.0  \n",
              "1                   24.70        0.0  \n",
              "2                   23.40        0.0  \n",
              "3                   25.70        0.0  \n",
              "4                   21.40        0.0  \n",
              "...                   ...        ...  \n",
              "41078               17.29        0.0  \n",
              "41079               26.30        0.0  \n",
              "41080               29.10        0.0  \n",
              "41081               26.20        0.0  \n",
              "41082                 NaN        NaN  \n",
              "\n",
              "[41083 rows x 6 columns]"
            ],
            "text/html": [
              "\n",
              "  <div id=\"df-a06d7ac7-38d4-4487-a035-b1f9be1e77a0\">\n",
              "    <div class=\"colab-df-container\">\n",
              "      <div>\n",
              "<style scoped>\n",
              "    .dataframe tbody tr th:only-of-type {\n",
              "        vertical-align: middle;\n",
              "    }\n",
              "\n",
              "    .dataframe tbody tr th {\n",
              "        vertical-align: top;\n",
              "    }\n",
              "\n",
              "    .dataframe thead th {\n",
              "        text-align: right;\n",
              "    }\n",
              "</style>\n",
              "<table border=\"1\" class=\"dataframe\">\n",
              "  <thead>\n",
              "    <tr style=\"text-align: right;\">\n",
              "      <th></th>\n",
              "      <th>est_diameter_min</th>\n",
              "      <th>est_diameter_max</th>\n",
              "      <th>relative_velocity</th>\n",
              "      <th>miss_distance</th>\n",
              "      <th>absolute_magnitude</th>\n",
              "      <th>hazardous</th>\n",
              "    </tr>\n",
              "  </thead>\n",
              "  <tbody>\n",
              "    <tr>\n",
              "      <th>0</th>\n",
              "      <td>0.016016</td>\n",
              "      <td>0.035813</td>\n",
              "      <td>56014.078517</td>\n",
              "      <td>1.024333e+06</td>\n",
              "      <td>26.10</td>\n",
              "      <td>0.0</td>\n",
              "    </tr>\n",
              "    <tr>\n",
              "      <th>1</th>\n",
              "      <td>0.030518</td>\n",
              "      <td>0.068240</td>\n",
              "      <td>7864.348060</td>\n",
              "      <td>3.268186e+07</td>\n",
              "      <td>24.70</td>\n",
              "      <td>0.0</td>\n",
              "    </tr>\n",
              "    <tr>\n",
              "      <th>2</th>\n",
              "      <td>0.055533</td>\n",
              "      <td>0.124177</td>\n",
              "      <td>55257.544508</td>\n",
              "      <td>6.538636e+07</td>\n",
              "      <td>23.40</td>\n",
              "      <td>0.0</td>\n",
              "    </tr>\n",
              "    <tr>\n",
              "      <th>3</th>\n",
              "      <td>0.019256</td>\n",
              "      <td>0.043057</td>\n",
              "      <td>41531.404722</td>\n",
              "      <td>1.260796e+07</td>\n",
              "      <td>25.70</td>\n",
              "      <td>0.0</td>\n",
              "    </tr>\n",
              "    <tr>\n",
              "      <th>4</th>\n",
              "      <td>0.139494</td>\n",
              "      <td>0.311918</td>\n",
              "      <td>67639.394481</td>\n",
              "      <td>7.130590e+07</td>\n",
              "      <td>21.40</td>\n",
              "      <td>0.0</td>\n",
              "    </tr>\n",
              "    <tr>\n",
              "      <th>...</th>\n",
              "      <td>...</td>\n",
              "      <td>...</td>\n",
              "      <td>...</td>\n",
              "      <td>...</td>\n",
              "      <td>...</td>\n",
              "      <td>...</td>\n",
              "    </tr>\n",
              "    <tr>\n",
              "      <th>41078</th>\n",
              "      <td>0.925881</td>\n",
              "      <td>2.070332</td>\n",
              "      <td>53401.167163</td>\n",
              "      <td>5.279098e+07</td>\n",
              "      <td>17.29</td>\n",
              "      <td>0.0</td>\n",
              "    </tr>\n",
              "    <tr>\n",
              "      <th>41079</th>\n",
              "      <td>0.014607</td>\n",
              "      <td>0.032662</td>\n",
              "      <td>30675.903942</td>\n",
              "      <td>3.626284e+06</td>\n",
              "      <td>26.30</td>\n",
              "      <td>0.0</td>\n",
              "    </tr>\n",
              "    <tr>\n",
              "      <th>41080</th>\n",
              "      <td>0.004023</td>\n",
              "      <td>0.008996</td>\n",
              "      <td>76430.346045</td>\n",
              "      <td>4.145901e+07</td>\n",
              "      <td>29.10</td>\n",
              "      <td>0.0</td>\n",
              "    </tr>\n",
              "    <tr>\n",
              "      <th>41081</th>\n",
              "      <td>0.015295</td>\n",
              "      <td>0.034201</td>\n",
              "      <td>26931.983083</td>\n",
              "      <td>4.544752e+07</td>\n",
              "      <td>26.20</td>\n",
              "      <td>0.0</td>\n",
              "    </tr>\n",
              "    <tr>\n",
              "      <th>41082</th>\n",
              "      <td>0.121494</td>\n",
              "      <td>0.271669</td>\n",
              "      <td>25.000000</td>\n",
              "      <td>NaN</td>\n",
              "      <td>NaN</td>\n",
              "      <td>NaN</td>\n",
              "    </tr>\n",
              "  </tbody>\n",
              "</table>\n",
              "<p>41083 rows × 6 columns</p>\n",
              "</div>\n",
              "      <button class=\"colab-df-convert\" onclick=\"convertToInteractive('df-a06d7ac7-38d4-4487-a035-b1f9be1e77a0')\"\n",
              "              title=\"Convert this dataframe to an interactive table.\"\n",
              "              style=\"display:none;\">\n",
              "        \n",
              "  <svg xmlns=\"http://www.w3.org/2000/svg\" height=\"24px\"viewBox=\"0 0 24 24\"\n",
              "       width=\"24px\">\n",
              "    <path d=\"M0 0h24v24H0V0z\" fill=\"none\"/>\n",
              "    <path d=\"M18.56 5.44l.94 2.06.94-2.06 2.06-.94-2.06-.94-.94-2.06-.94 2.06-2.06.94zm-11 1L8.5 8.5l.94-2.06 2.06-.94-2.06-.94L8.5 2.5l-.94 2.06-2.06.94zm10 10l.94 2.06.94-2.06 2.06-.94-2.06-.94-.94-2.06-.94 2.06-2.06.94z\"/><path d=\"M17.41 7.96l-1.37-1.37c-.4-.4-.92-.59-1.43-.59-.52 0-1.04.2-1.43.59L10.3 9.45l-7.72 7.72c-.78.78-.78 2.05 0 2.83L4 21.41c.39.39.9.59 1.41.59.51 0 1.02-.2 1.41-.59l7.78-7.78 2.81-2.81c.8-.78.8-2.07 0-2.86zM5.41 20L4 18.59l7.72-7.72 1.47 1.35L5.41 20z\"/>\n",
              "  </svg>\n",
              "      </button>\n",
              "      \n",
              "  <style>\n",
              "    .colab-df-container {\n",
              "      display:flex;\n",
              "      flex-wrap:wrap;\n",
              "      gap: 12px;\n",
              "    }\n",
              "\n",
              "    .colab-df-convert {\n",
              "      background-color: #E8F0FE;\n",
              "      border: none;\n",
              "      border-radius: 50%;\n",
              "      cursor: pointer;\n",
              "      display: none;\n",
              "      fill: #1967D2;\n",
              "      height: 32px;\n",
              "      padding: 0 0 0 0;\n",
              "      width: 32px;\n",
              "    }\n",
              "\n",
              "    .colab-df-convert:hover {\n",
              "      background-color: #E2EBFA;\n",
              "      box-shadow: 0px 1px 2px rgba(60, 64, 67, 0.3), 0px 1px 3px 1px rgba(60, 64, 67, 0.15);\n",
              "      fill: #174EA6;\n",
              "    }\n",
              "\n",
              "    [theme=dark] .colab-df-convert {\n",
              "      background-color: #3B4455;\n",
              "      fill: #D2E3FC;\n",
              "    }\n",
              "\n",
              "    [theme=dark] .colab-df-convert:hover {\n",
              "      background-color: #434B5C;\n",
              "      box-shadow: 0px 1px 3px 1px rgba(0, 0, 0, 0.15);\n",
              "      filter: drop-shadow(0px 1px 2px rgba(0, 0, 0, 0.3));\n",
              "      fill: #FFFFFF;\n",
              "    }\n",
              "  </style>\n",
              "\n",
              "      <script>\n",
              "        const buttonEl =\n",
              "          document.querySelector('#df-a06d7ac7-38d4-4487-a035-b1f9be1e77a0 button.colab-df-convert');\n",
              "        buttonEl.style.display =\n",
              "          google.colab.kernel.accessAllowed ? 'block' : 'none';\n",
              "\n",
              "        async function convertToInteractive(key) {\n",
              "          const element = document.querySelector('#df-a06d7ac7-38d4-4487-a035-b1f9be1e77a0');\n",
              "          const dataTable =\n",
              "            await google.colab.kernel.invokeFunction('convertToInteractive',\n",
              "                                                     [key], {});\n",
              "          if (!dataTable) return;\n",
              "\n",
              "          const docLinkHtml = 'Like what you see? Visit the ' +\n",
              "            '<a target=\"_blank\" href=https://colab.research.google.com/notebooks/data_table.ipynb>data table notebook</a>'\n",
              "            + ' to learn more about interactive tables.';\n",
              "          element.innerHTML = '';\n",
              "          dataTable['output_type'] = 'display_data';\n",
              "          await google.colab.output.renderOutput(dataTable, element);\n",
              "          const docLink = document.createElement('div');\n",
              "          docLink.innerHTML = docLinkHtml;\n",
              "          element.appendChild(docLink);\n",
              "        }\n",
              "      </script>\n",
              "    </div>\n",
              "  </div>\n",
              "  "
            ]
          },
          "metadata": {},
          "execution_count": 8
        }
      ]
    },
    {
      "cell_type": "markdown",
      "source": [
        "Смотри, если мы теперь сохраним этот датасет в csv (например, когда сделала предобработку), то при загрузке у тебя снова появится столбец Unnamed: 0! Это может усложнить тебе задачу. Чтобы он не появлялся, нужно сохранять датасет с параметром index = False. Давай посмотрим."
      ],
      "metadata": {
        "id": "6m52bxJY8qRc"
      }
    },
    {
      "cell_type": "code",
      "source": [
        "data.to_csv('copy.csv', index=False)\n",
        "data2 = pd.read_csv('copy.csv')\n",
        "data2"
      ],
      "metadata": {
        "colab": {
          "base_uri": "https://localhost:8080/",
          "height": 423
        },
        "id": "AWDe_Lr084vC",
        "outputId": "a80fd8a5-f3c4-4c82-d2da-351b4d26c80e"
      },
      "execution_count": null,
      "outputs": [
        {
          "output_type": "execute_result",
          "data": {
            "text/plain": [
              "       est_diameter_min  est_diameter_max  relative_velocity  miss_distance  \\\n",
              "0              0.016016          0.035813       56014.078517   1.024333e+06   \n",
              "1              0.030518          0.068240        7864.348060   3.268186e+07   \n",
              "2              0.055533          0.124177       55257.544508   6.538636e+07   \n",
              "3              0.019256          0.043057       41531.404722   1.260796e+07   \n",
              "4              0.139494          0.311918       67639.394481   7.130590e+07   \n",
              "...                 ...               ...                ...            ...   \n",
              "41078          0.925881          2.070332       53401.167163   5.279098e+07   \n",
              "41079          0.014607          0.032662       30675.903942   3.626284e+06   \n",
              "41080          0.004023          0.008996       76430.346045   4.145901e+07   \n",
              "41081          0.015295          0.034201       26931.983083   4.544752e+07   \n",
              "41082          0.121494          0.271669          25.000000            NaN   \n",
              "\n",
              "       absolute_magnitude  hazardous  \n",
              "0                   26.10        0.0  \n",
              "1                   24.70        0.0  \n",
              "2                   23.40        0.0  \n",
              "3                   25.70        0.0  \n",
              "4                   21.40        0.0  \n",
              "...                   ...        ...  \n",
              "41078               17.29        0.0  \n",
              "41079               26.30        0.0  \n",
              "41080               29.10        0.0  \n",
              "41081               26.20        0.0  \n",
              "41082                 NaN        NaN  \n",
              "\n",
              "[41083 rows x 6 columns]"
            ],
            "text/html": [
              "\n",
              "  <div id=\"df-c0bb6c17-9436-42b5-a960-52d3298e6c02\">\n",
              "    <div class=\"colab-df-container\">\n",
              "      <div>\n",
              "<style scoped>\n",
              "    .dataframe tbody tr th:only-of-type {\n",
              "        vertical-align: middle;\n",
              "    }\n",
              "\n",
              "    .dataframe tbody tr th {\n",
              "        vertical-align: top;\n",
              "    }\n",
              "\n",
              "    .dataframe thead th {\n",
              "        text-align: right;\n",
              "    }\n",
              "</style>\n",
              "<table border=\"1\" class=\"dataframe\">\n",
              "  <thead>\n",
              "    <tr style=\"text-align: right;\">\n",
              "      <th></th>\n",
              "      <th>est_diameter_min</th>\n",
              "      <th>est_diameter_max</th>\n",
              "      <th>relative_velocity</th>\n",
              "      <th>miss_distance</th>\n",
              "      <th>absolute_magnitude</th>\n",
              "      <th>hazardous</th>\n",
              "    </tr>\n",
              "  </thead>\n",
              "  <tbody>\n",
              "    <tr>\n",
              "      <th>0</th>\n",
              "      <td>0.016016</td>\n",
              "      <td>0.035813</td>\n",
              "      <td>56014.078517</td>\n",
              "      <td>1.024333e+06</td>\n",
              "      <td>26.10</td>\n",
              "      <td>0.0</td>\n",
              "    </tr>\n",
              "    <tr>\n",
              "      <th>1</th>\n",
              "      <td>0.030518</td>\n",
              "      <td>0.068240</td>\n",
              "      <td>7864.348060</td>\n",
              "      <td>3.268186e+07</td>\n",
              "      <td>24.70</td>\n",
              "      <td>0.0</td>\n",
              "    </tr>\n",
              "    <tr>\n",
              "      <th>2</th>\n",
              "      <td>0.055533</td>\n",
              "      <td>0.124177</td>\n",
              "      <td>55257.544508</td>\n",
              "      <td>6.538636e+07</td>\n",
              "      <td>23.40</td>\n",
              "      <td>0.0</td>\n",
              "    </tr>\n",
              "    <tr>\n",
              "      <th>3</th>\n",
              "      <td>0.019256</td>\n",
              "      <td>0.043057</td>\n",
              "      <td>41531.404722</td>\n",
              "      <td>1.260796e+07</td>\n",
              "      <td>25.70</td>\n",
              "      <td>0.0</td>\n",
              "    </tr>\n",
              "    <tr>\n",
              "      <th>4</th>\n",
              "      <td>0.139494</td>\n",
              "      <td>0.311918</td>\n",
              "      <td>67639.394481</td>\n",
              "      <td>7.130590e+07</td>\n",
              "      <td>21.40</td>\n",
              "      <td>0.0</td>\n",
              "    </tr>\n",
              "    <tr>\n",
              "      <th>...</th>\n",
              "      <td>...</td>\n",
              "      <td>...</td>\n",
              "      <td>...</td>\n",
              "      <td>...</td>\n",
              "      <td>...</td>\n",
              "      <td>...</td>\n",
              "    </tr>\n",
              "    <tr>\n",
              "      <th>41078</th>\n",
              "      <td>0.925881</td>\n",
              "      <td>2.070332</td>\n",
              "      <td>53401.167163</td>\n",
              "      <td>5.279098e+07</td>\n",
              "      <td>17.29</td>\n",
              "      <td>0.0</td>\n",
              "    </tr>\n",
              "    <tr>\n",
              "      <th>41079</th>\n",
              "      <td>0.014607</td>\n",
              "      <td>0.032662</td>\n",
              "      <td>30675.903942</td>\n",
              "      <td>3.626284e+06</td>\n",
              "      <td>26.30</td>\n",
              "      <td>0.0</td>\n",
              "    </tr>\n",
              "    <tr>\n",
              "      <th>41080</th>\n",
              "      <td>0.004023</td>\n",
              "      <td>0.008996</td>\n",
              "      <td>76430.346045</td>\n",
              "      <td>4.145901e+07</td>\n",
              "      <td>29.10</td>\n",
              "      <td>0.0</td>\n",
              "    </tr>\n",
              "    <tr>\n",
              "      <th>41081</th>\n",
              "      <td>0.015295</td>\n",
              "      <td>0.034201</td>\n",
              "      <td>26931.983083</td>\n",
              "      <td>4.544752e+07</td>\n",
              "      <td>26.20</td>\n",
              "      <td>0.0</td>\n",
              "    </tr>\n",
              "    <tr>\n",
              "      <th>41082</th>\n",
              "      <td>0.121494</td>\n",
              "      <td>0.271669</td>\n",
              "      <td>25.000000</td>\n",
              "      <td>NaN</td>\n",
              "      <td>NaN</td>\n",
              "      <td>NaN</td>\n",
              "    </tr>\n",
              "  </tbody>\n",
              "</table>\n",
              "<p>41083 rows × 6 columns</p>\n",
              "</div>\n",
              "      <button class=\"colab-df-convert\" onclick=\"convertToInteractive('df-c0bb6c17-9436-42b5-a960-52d3298e6c02')\"\n",
              "              title=\"Convert this dataframe to an interactive table.\"\n",
              "              style=\"display:none;\">\n",
              "        \n",
              "  <svg xmlns=\"http://www.w3.org/2000/svg\" height=\"24px\"viewBox=\"0 0 24 24\"\n",
              "       width=\"24px\">\n",
              "    <path d=\"M0 0h24v24H0V0z\" fill=\"none\"/>\n",
              "    <path d=\"M18.56 5.44l.94 2.06.94-2.06 2.06-.94-2.06-.94-.94-2.06-.94 2.06-2.06.94zm-11 1L8.5 8.5l.94-2.06 2.06-.94-2.06-.94L8.5 2.5l-.94 2.06-2.06.94zm10 10l.94 2.06.94-2.06 2.06-.94-2.06-.94-.94-2.06-.94 2.06-2.06.94z\"/><path d=\"M17.41 7.96l-1.37-1.37c-.4-.4-.92-.59-1.43-.59-.52 0-1.04.2-1.43.59L10.3 9.45l-7.72 7.72c-.78.78-.78 2.05 0 2.83L4 21.41c.39.39.9.59 1.41.59.51 0 1.02-.2 1.41-.59l7.78-7.78 2.81-2.81c.8-.78.8-2.07 0-2.86zM5.41 20L4 18.59l7.72-7.72 1.47 1.35L5.41 20z\"/>\n",
              "  </svg>\n",
              "      </button>\n",
              "      \n",
              "  <style>\n",
              "    .colab-df-container {\n",
              "      display:flex;\n",
              "      flex-wrap:wrap;\n",
              "      gap: 12px;\n",
              "    }\n",
              "\n",
              "    .colab-df-convert {\n",
              "      background-color: #E8F0FE;\n",
              "      border: none;\n",
              "      border-radius: 50%;\n",
              "      cursor: pointer;\n",
              "      display: none;\n",
              "      fill: #1967D2;\n",
              "      height: 32px;\n",
              "      padding: 0 0 0 0;\n",
              "      width: 32px;\n",
              "    }\n",
              "\n",
              "    .colab-df-convert:hover {\n",
              "      background-color: #E2EBFA;\n",
              "      box-shadow: 0px 1px 2px rgba(60, 64, 67, 0.3), 0px 1px 3px 1px rgba(60, 64, 67, 0.15);\n",
              "      fill: #174EA6;\n",
              "    }\n",
              "\n",
              "    [theme=dark] .colab-df-convert {\n",
              "      background-color: #3B4455;\n",
              "      fill: #D2E3FC;\n",
              "    }\n",
              "\n",
              "    [theme=dark] .colab-df-convert:hover {\n",
              "      background-color: #434B5C;\n",
              "      box-shadow: 0px 1px 3px 1px rgba(0, 0, 0, 0.15);\n",
              "      filter: drop-shadow(0px 1px 2px rgba(0, 0, 0, 0.3));\n",
              "      fill: #FFFFFF;\n",
              "    }\n",
              "  </style>\n",
              "\n",
              "      <script>\n",
              "        const buttonEl =\n",
              "          document.querySelector('#df-c0bb6c17-9436-42b5-a960-52d3298e6c02 button.colab-df-convert');\n",
              "        buttonEl.style.display =\n",
              "          google.colab.kernel.accessAllowed ? 'block' : 'none';\n",
              "\n",
              "        async function convertToInteractive(key) {\n",
              "          const element = document.querySelector('#df-c0bb6c17-9436-42b5-a960-52d3298e6c02');\n",
              "          const dataTable =\n",
              "            await google.colab.kernel.invokeFunction('convertToInteractive',\n",
              "                                                     [key], {});\n",
              "          if (!dataTable) return;\n",
              "\n",
              "          const docLinkHtml = 'Like what you see? Visit the ' +\n",
              "            '<a target=\"_blank\" href=https://colab.research.google.com/notebooks/data_table.ipynb>data table notebook</a>'\n",
              "            + ' to learn more about interactive tables.';\n",
              "          element.innerHTML = '';\n",
              "          dataTable['output_type'] = 'display_data';\n",
              "          await google.colab.output.renderOutput(dataTable, element);\n",
              "          const docLink = document.createElement('div');\n",
              "          docLink.innerHTML = docLinkHtml;\n",
              "          element.appendChild(docLink);\n",
              "        }\n",
              "      </script>\n",
              "    </div>\n",
              "  </div>\n",
              "  "
            ]
          },
          "metadata": {},
          "execution_count": 10
        }
      ]
    },
    {
      "cell_type": "markdown",
      "source": [
        "Видишь, все чисто! **Обращаю внимание: датасет этот не предобработан - есть пропуски.**"
      ],
      "metadata": {
        "id": "roPsPHN39GPW"
      }
    },
    {
      "cell_type": "code",
      "source": [
        "data.isnull().sum()"
      ],
      "metadata": {
        "colab": {
          "base_uri": "https://localhost:8080/"
        },
        "id": "HquYDcuu-A2Y",
        "outputId": "0977785a-dc57-48f8-bfe5-559de3f67103"
      },
      "execution_count": null,
      "outputs": [
        {
          "output_type": "execute_result",
          "data": {
            "text/plain": [
              "est_diameter_min      0\n",
              "est_diameter_max      0\n",
              "relative_velocity     0\n",
              "miss_distance         1\n",
              "absolute_magnitude    1\n",
              "hazardous             1\n",
              "dtype: int64"
            ]
          },
          "metadata": {},
          "execution_count": 11
        }
      ]
    },
    {
      "cell_type": "markdown",
      "source": [
        "Как я понял, это только в последней строке пропуск. Остальные ты заполнила) давай просто исключим из датасета последнюю строку."
      ],
      "metadata": {
        "id": "dFe7SRpw-H-f"
      }
    },
    {
      "cell_type": "code",
      "source": [
        "data = data[:41082] # исключая последнюю строку\n",
        "data.isnull().sum()"
      ],
      "metadata": {
        "colab": {
          "base_uri": "https://localhost:8080/"
        },
        "id": "KYmPwFhA-PJ6",
        "outputId": "6af5215e-0ff6-4b97-c4cb-f185feb2e4e9"
      },
      "execution_count": null,
      "outputs": [
        {
          "output_type": "execute_result",
          "data": {
            "text/plain": [
              "est_diameter_min      0\n",
              "est_diameter_max      0\n",
              "relative_velocity     0\n",
              "miss_distance         0\n",
              "absolute_magnitude    0\n",
              "hazardous             0\n",
              "dtype: int64"
            ]
          },
          "metadata": {},
          "execution_count": 12
        }
      ]
    },
    {
      "cell_type": "markdown",
      "source": [
        "## Моделирование"
      ],
      "metadata": {
        "id": "eSGsO3_V-XIM"
      }
    },
    {
      "cell_type": "markdown",
      "source": [
        "Приступаем к моделированию"
      ],
      "metadata": {
        "id": "-XM7giFH-Vuc"
      }
    },
    {
      "cell_type": "code",
      "source": [
        "from sklearn.model_selection import train_test_split\n",
        "from sklearn.neighbors import KNeighborsClassifier\n",
        "from sklearn.ensemble import BaggingClassifier\n",
        "import tensorflow as tf\n",
        "\n",
        "from sklearn.metrics import confusion_matrix, classification_report"
      ],
      "metadata": {
        "id": "VLp-TvEt9OCu"
      },
      "execution_count": null,
      "outputs": []
    },
    {
      "cell_type": "code",
      "source": [
        "import numpy as np"
      ],
      "metadata": {
        "id": "CwE-Lk6I-x_4"
      },
      "execution_count": null,
      "outputs": []
    },
    {
      "cell_type": "code",
      "source": [
        "y = data[\"hazardous\"]\n",
        "X = data.drop(['hazardous'], axis=1)\n",
        "np.unique(y, return_counts=True)"
      ],
      "metadata": {
        "colab": {
          "base_uri": "https://localhost:8080/"
        },
        "id": "qQcrJtcH9yDv",
        "outputId": "bb5249f0-b6ba-4966-a0d2-b4c026686d80"
      },
      "execution_count": null,
      "outputs": [
        {
          "output_type": "execute_result",
          "data": {
            "text/plain": [
              "(array([0., 1.]), array([37056,  4026]))"
            ]
          },
          "metadata": {},
          "execution_count": 20
        }
      ]
    },
    {
      "cell_type": "markdown",
      "source": [
        "Датасет не сбалансирован. Давай сбалансируем!"
      ],
      "metadata": {
        "id": "PEWVbtLA-3aq"
      }
    },
    {
      "cell_type": "code",
      "source": [
        "! pip install imbalanced-learn"
      ],
      "metadata": {
        "colab": {
          "base_uri": "https://localhost:8080/"
        },
        "id": "eURMTmiX_M5U",
        "outputId": "b6501772-673d-41f8-fe7c-919c3911cb61"
      },
      "execution_count": null,
      "outputs": [
        {
          "output_type": "stream",
          "name": "stdout",
          "text": [
            "Looking in indexes: https://pypi.org/simple, https://us-python.pkg.dev/colab-wheels/public/simple/\n",
            "Requirement already satisfied: imbalanced-learn in /usr/local/lib/python3.10/dist-packages (0.10.1)\n",
            "Requirement already satisfied: numpy>=1.17.3 in /usr/local/lib/python3.10/dist-packages (from imbalanced-learn) (1.22.4)\n",
            "Requirement already satisfied: scipy>=1.3.2 in /usr/local/lib/python3.10/dist-packages (from imbalanced-learn) (1.10.1)\n",
            "Requirement already satisfied: scikit-learn>=1.0.2 in /usr/local/lib/python3.10/dist-packages (from imbalanced-learn) (1.2.2)\n",
            "Requirement already satisfied: joblib>=1.1.1 in /usr/local/lib/python3.10/dist-packages (from imbalanced-learn) (1.2.0)\n",
            "Requirement already satisfied: threadpoolctl>=2.0.0 in /usr/local/lib/python3.10/dist-packages (from imbalanced-learn) (3.1.0)\n"
          ]
        }
      ]
    },
    {
      "cell_type": "markdown",
      "source": [
        "Предлагаю использовать алгоритм NearMiss (обращаю внимание - будем делать андерсемплинг - уменьшать количество объектов большего класса)."
      ],
      "metadata": {
        "id": "0HPbyq6p_9wi"
      }
    },
    {
      "cell_type": "code",
      "source": [
        "from imblearn.under_sampling import NearMiss"
      ],
      "metadata": {
        "id": "4_vo_a_-_PiM"
      },
      "execution_count": null,
      "outputs": []
    },
    {
      "cell_type": "code",
      "source": [
        "nm = NearMiss()\n",
        "X, y = nm.fit_resample(X, y)"
      ],
      "metadata": {
        "id": "5XWn9VafAZV-"
      },
      "execution_count": null,
      "outputs": []
    },
    {
      "cell_type": "code",
      "source": [
        "np.unique(y, return_counts=True)"
      ],
      "metadata": {
        "colab": {
          "base_uri": "https://localhost:8080/"
        },
        "id": "Pb3zY72bAriT",
        "outputId": "8c4c99a7-c5c9-4fbb-a3e9-9020943bdeb1"
      },
      "execution_count": null,
      "outputs": [
        {
          "output_type": "execute_result",
          "data": {
            "text/plain": [
              "(array([0., 1.]), array([4026, 4026]))"
            ]
          },
          "metadata": {},
          "execution_count": 22
        }
      ]
    },
    {
      "cell_type": "markdown",
      "source": [
        "Все, теперь данные сбалансированы. Приступаем к моделированию. Гиперпараметры не будем подбирать - РГР этого не требует. Но на дэмоэкзамене надо подбирать, даже если об этом не сказано!"
      ],
      "metadata": {
        "id": "QMNu5BN9BEkt"
      }
    },
    {
      "cell_type": "code",
      "source": [
        "X_train, X_test, y_train, y_test = train_test_split(X, y, stratify=y, test_size=0.2)"
      ],
      "metadata": {
        "id": "q762t55vBaJc"
      },
      "execution_count": null,
      "outputs": []
    },
    {
      "cell_type": "markdown",
      "source": [
        "### KNN"
      ],
      "metadata": {
        "id": "pzitH1TABQT6"
      }
    },
    {
      "cell_type": "code",
      "source": [
        "knn = KNeighborsClassifier().fit(X_train, y_train)\n",
        "print(classification_report(y_test, knn.predict(X_test)))"
      ],
      "metadata": {
        "colab": {
          "base_uri": "https://localhost:8080/"
        },
        "id": "v-zJ7JLXBPH8",
        "outputId": "bfb08318-269c-42e3-aa51-78b1d1eacc73"
      },
      "execution_count": null,
      "outputs": [
        {
          "output_type": "stream",
          "name": "stdout",
          "text": [
            "              precision    recall  f1-score   support\n",
            "\n",
            "         0.0       0.57      0.75      0.65       805\n",
            "         1.0       0.63      0.43      0.51       806\n",
            "\n",
            "    accuracy                           0.59      1611\n",
            "   macro avg       0.60      0.59      0.58      1611\n",
            "weighted avg       0.60      0.59      0.58      1611\n",
            "\n"
          ]
        }
      ]
    },
    {
      "cell_type": "markdown",
      "source": [
        "Так себе, но пойдет :)"
      ],
      "metadata": {
        "id": "MqI-xYIMBipa"
      }
    },
    {
      "cell_type": "markdown",
      "source": [
        "### BaggingClassifier"
      ],
      "metadata": {
        "id": "Yw8PHffmBl6o"
      }
    },
    {
      "cell_type": "code",
      "source": [
        "bag = BaggingClassifier().fit(X_train, y_train)\n",
        "print(classification_report(y_test, bag.predict(X_test)))"
      ],
      "metadata": {
        "colab": {
          "base_uri": "https://localhost:8080/"
        },
        "id": "hf09lZOBBoiD",
        "outputId": "8aa1c247-6387-46d7-91a5-58fd3e6944cc"
      },
      "execution_count": null,
      "outputs": [
        {
          "output_type": "stream",
          "name": "stdout",
          "text": [
            "              precision    recall  f1-score   support\n",
            "\n",
            "         0.0       0.85      0.81      0.83       805\n",
            "         1.0       0.82      0.86      0.84       806\n",
            "\n",
            "    accuracy                           0.83      1611\n",
            "   macro avg       0.83      0.83      0.83      1611\n",
            "weighted avg       0.83      0.83      0.83      1611\n",
            "\n"
          ]
        }
      ]
    },
    {
      "cell_type": "markdown",
      "source": [
        "Вот это уже четко. Думаю, что подбор гиперпараметров может еще улучшить результаты."
      ],
      "metadata": {
        "id": "qWshp_5wBuGU"
      }
    },
    {
      "cell_type": "markdown",
      "source": [
        "### Сверточная нейронная сеть"
      ],
      "metadata": {
        "id": "TfglmsM6BzU3"
      }
    },
    {
      "cell_type": "markdown",
      "source": [
        "Параметров не так много. Не будем юзать дропауты. Я предпочитаю softmax"
      ],
      "metadata": {
        "id": "msxwfbrNCZE-"
      }
    },
    {
      "cell_type": "code",
      "source": [
        "model = tf.keras.Sequential(\n",
        "    [\n",
        "        tf.keras.layers.Dense(64, activation='linear', input_shape=(5,)),\n",
        "        tf.keras.layers.Dense(128, activation='linear'),\n",
        "        tf.keras.layers.Dense(64, activation='relu'),\n",
        "        tf.keras.layers.Dense(64, activation='relu'),\n",
        "        tf.keras.layers.Dense(32, activation='relu'),\n",
        "        tf.keras.layers.Dense(16, activation='relu'),\n",
        "        tf.keras.layers.Dense(2, activation='softmax')\n",
        "    ]\n",
        ")\n",
        "model.compile(optimizer=tf.keras.optimizers.Adam(learning_rate=0.0005), loss='sparse_categorical_crossentropy')"
      ],
      "metadata": {
        "id": "-aFWB4evCgGC"
      },
      "execution_count": null,
      "outputs": []
    },
    {
      "cell_type": "markdown",
      "source": [
        "Архитектура модели тебе для отчета :)"
      ],
      "metadata": {
        "id": "vIEq0U-KCnpS"
      }
    },
    {
      "cell_type": "code",
      "source": [
        "model.summary()"
      ],
      "metadata": {
        "colab": {
          "base_uri": "https://localhost:8080/"
        },
        "id": "lCVJhel4CjA2",
        "outputId": "3e258e90-994e-46da-dc01-005d1a6ba022"
      },
      "execution_count": null,
      "outputs": [
        {
          "output_type": "stream",
          "name": "stdout",
          "text": [
            "Model: \"sequential_9\"\n",
            "_________________________________________________________________\n",
            " Layer (type)                Output Shape              Param #   \n",
            "=================================================================\n",
            " dense_47 (Dense)            (None, 64)                384       \n",
            "                                                                 \n",
            " dense_48 (Dense)            (None, 128)               8320      \n",
            "                                                                 \n",
            " dense_49 (Dense)            (None, 64)                8256      \n",
            "                                                                 \n",
            " dense_50 (Dense)            (None, 64)                4160      \n",
            "                                                                 \n",
            " dense_51 (Dense)            (None, 32)                2080      \n",
            "                                                                 \n",
            " dense_52 (Dense)            (None, 16)                528       \n",
            "                                                                 \n",
            " dense_53 (Dense)            (None, 2)                 34        \n",
            "                                                                 \n",
            "=================================================================\n",
            "Total params: 23,762\n",
            "Trainable params: 23,762\n",
            "Non-trainable params: 0\n",
            "_________________________________________________________________\n"
          ]
        }
      ]
    },
    {
      "cell_type": "code",
      "source": [
        "model.fit(X_train, y_train, epochs=8, verbose=None)"
      ],
      "metadata": {
        "colab": {
          "base_uri": "https://localhost:8080/"
        },
        "id": "MAjlamWnB4oz",
        "outputId": "3a3e8b4d-5b0d-4bf0-c1ff-d6260847ba64"
      },
      "execution_count": null,
      "outputs": [
        {
          "output_type": "execute_result",
          "data": {
            "text/plain": [
              "<keras.callbacks.History at 0x7f571fab6f80>"
            ]
          },
          "metadata": {},
          "execution_count": 96
        }
      ]
    },
    {
      "cell_type": "code",
      "source": [
        "y_pred = [np.argmax(pred) for pred in model.predict(X_test, verbose=None)]\n",
        "print(classification_report(y_test, y_pred))"
      ],
      "metadata": {
        "colab": {
          "base_uri": "https://localhost:8080/"
        },
        "id": "Qg8Jiyw4CxdY",
        "outputId": "ac59c7bf-5f47-4c52-ba62-5c5c84232a81"
      },
      "execution_count": null,
      "outputs": [
        {
          "output_type": "stream",
          "name": "stdout",
          "text": [
            "              precision    recall  f1-score   support\n",
            "\n",
            "         0.0       0.48      0.14      0.21       805\n",
            "         1.0       0.50      0.85      0.63       806\n",
            "\n",
            "    accuracy                           0.50      1611\n",
            "   macro avg       0.49      0.50      0.42      1611\n",
            "weighted avg       0.49      0.50      0.42      1611\n",
            "\n"
          ]
        }
      ]
    },
    {
      "cell_type": "markdown",
      "source": [
        "Нейронка показала себя плохо :( Но по заданию, мы в любом случае будем ее использовать. Давай сохраним все модели."
      ],
      "metadata": {
        "id": "TJWp8q8qFO_f"
      }
    },
    {
      "cell_type": "code",
      "source": [
        "import pickle"
      ],
      "metadata": {
        "id": "gZMEu48eFUdd"
      },
      "execution_count": null,
      "outputs": []
    },
    {
      "cell_type": "code",
      "source": [
        "pickle.dump(knn, open('knn.sav', 'wb'))\n",
        "pickle.dump(bag, open('bag.sav', 'wb'))\n",
        "model.save('nn.sav')"
      ],
      "metadata": {
        "colab": {
          "base_uri": "https://localhost:8080/"
        },
        "id": "rQtd81q3FaBZ",
        "outputId": "69b98d81-7add-4d45-90df-78081471669d"
      },
      "execution_count": null,
      "outputs": [
        {
          "output_type": "stream",
          "name": "stderr",
          "text": [
            "WARNING:absl:Found untraced functions such as _update_step_xla while saving (showing 1 of 1). These functions will not be directly callable after loading.\n"
          ]
        }
      ]
    },
    {
      "cell_type": "markdown",
      "source": [
        "Видим, что файлы сохранились в папке. Если сразу не появились - тыкай правой кнопкой мыши и жми Обновить."
      ],
      "metadata": {
        "id": "Z7mfEdsgFo8Z"
      }
    },
    {
      "cell_type": "markdown",
      "source": [
        "Давай также датасет сохраним - мы же удалили последнюю строку. При сохранении не забываем index = False"
      ],
      "metadata": {
        "id": "EY2IFb5ZFvAj"
      }
    },
    {
      "cell_type": "code",
      "source": [
        "data.to_csv('data.csv', index=False)"
      ],
      "metadata": {
        "id": "6XvGp6reF2e7"
      },
      "execution_count": null,
      "outputs": []
    },
    {
      "cell_type": "markdown",
      "source": [
        "Итак, у нас все готово для дашборда. Есть 3 модели и файл с данными. Давай сделаем дашборд в колабе!"
      ],
      "metadata": {
        "id": "X_1uMP9XF7lF"
      }
    },
    {
      "cell_type": "markdown",
      "source": [
        "![](https://i.imgur.com/Fv8lby7.png)"
      ],
      "metadata": {
        "id": "fZYbmu_eGQCF"
      }
    },
    {
      "cell_type": "markdown",
      "source": [
        "Еще момент - в дашборде я хочу показать, как загружать файлы. Чтобы делать предсказания загружая csv файл. Давай для этого сделаем отдельный датафрейм из X_test. И этот датафрейм сохраним в csv. Из папки в колабе его можно будет скачать и использовать в дашборде."
      ],
      "metadata": {
        "id": "1wqKKu5MOcpp"
      }
    },
    {
      "cell_type": "code",
      "source": [
        "X_test"
      ],
      "metadata": {
        "colab": {
          "base_uri": "https://localhost:8080/",
          "height": 423
        },
        "id": "6AzXq6yIOvFF",
        "outputId": "65cd2446-a5ff-41f1-e7fe-193bf89259fd"
      },
      "execution_count": null,
      "outputs": [
        {
          "output_type": "execute_result",
          "data": {
            "text/plain": [
              "      est_diameter_min  est_diameter_max  relative_velocity  miss_distance  \\\n",
              "6346          1.181830          2.642652       23625.648360   3.877299e+07   \n",
              "5686          0.118728          0.265485       80399.045243   5.794365e+07   \n",
              "4305          0.167708          0.375008       28072.387267   2.989064e+07   \n",
              "1306          0.018389          0.041119       48066.003701   6.450055e+07   \n",
              "6820          0.506471          1.132505       88553.878223   4.047802e+07   \n",
              "...                ...               ...                ...            ...   \n",
              "6847          0.513517          1.148259       58157.354566   4.068174e+07   \n",
              "689           0.033462          0.074824       34842.209441   3.123481e+07   \n",
              "1099          0.725362          1.621959       51810.417972   6.905876e+07   \n",
              "6691          0.319415          0.714233       74373.711344   4.647963e+07   \n",
              "3943          0.084053          0.187949       42884.382056   5.607109e+07   \n",
              "\n",
              "      absolute_magnitude  \n",
              "6346              16.760  \n",
              "5686              21.750  \n",
              "4305              21.000  \n",
              "1306              25.800  \n",
              "6820              18.600  \n",
              "...                  ...  \n",
              "6847              18.570  \n",
              "689               24.500  \n",
              "1099              17.820  \n",
              "6691              19.601  \n",
              "3943              22.500  \n",
              "\n",
              "[1611 rows x 5 columns]"
            ],
            "text/html": [
              "\n",
              "  <div id=\"df-26fd8c6a-a735-4830-b873-d9c7e03068f3\">\n",
              "    <div class=\"colab-df-container\">\n",
              "      <div>\n",
              "<style scoped>\n",
              "    .dataframe tbody tr th:only-of-type {\n",
              "        vertical-align: middle;\n",
              "    }\n",
              "\n",
              "    .dataframe tbody tr th {\n",
              "        vertical-align: top;\n",
              "    }\n",
              "\n",
              "    .dataframe thead th {\n",
              "        text-align: right;\n",
              "    }\n",
              "</style>\n",
              "<table border=\"1\" class=\"dataframe\">\n",
              "  <thead>\n",
              "    <tr style=\"text-align: right;\">\n",
              "      <th></th>\n",
              "      <th>est_diameter_min</th>\n",
              "      <th>est_diameter_max</th>\n",
              "      <th>relative_velocity</th>\n",
              "      <th>miss_distance</th>\n",
              "      <th>absolute_magnitude</th>\n",
              "    </tr>\n",
              "  </thead>\n",
              "  <tbody>\n",
              "    <tr>\n",
              "      <th>6346</th>\n",
              "      <td>1.181830</td>\n",
              "      <td>2.642652</td>\n",
              "      <td>23625.648360</td>\n",
              "      <td>3.877299e+07</td>\n",
              "      <td>16.760</td>\n",
              "    </tr>\n",
              "    <tr>\n",
              "      <th>5686</th>\n",
              "      <td>0.118728</td>\n",
              "      <td>0.265485</td>\n",
              "      <td>80399.045243</td>\n",
              "      <td>5.794365e+07</td>\n",
              "      <td>21.750</td>\n",
              "    </tr>\n",
              "    <tr>\n",
              "      <th>4305</th>\n",
              "      <td>0.167708</td>\n",
              "      <td>0.375008</td>\n",
              "      <td>28072.387267</td>\n",
              "      <td>2.989064e+07</td>\n",
              "      <td>21.000</td>\n",
              "    </tr>\n",
              "    <tr>\n",
              "      <th>1306</th>\n",
              "      <td>0.018389</td>\n",
              "      <td>0.041119</td>\n",
              "      <td>48066.003701</td>\n",
              "      <td>6.450055e+07</td>\n",
              "      <td>25.800</td>\n",
              "    </tr>\n",
              "    <tr>\n",
              "      <th>6820</th>\n",
              "      <td>0.506471</td>\n",
              "      <td>1.132505</td>\n",
              "      <td>88553.878223</td>\n",
              "      <td>4.047802e+07</td>\n",
              "      <td>18.600</td>\n",
              "    </tr>\n",
              "    <tr>\n",
              "      <th>...</th>\n",
              "      <td>...</td>\n",
              "      <td>...</td>\n",
              "      <td>...</td>\n",
              "      <td>...</td>\n",
              "      <td>...</td>\n",
              "    </tr>\n",
              "    <tr>\n",
              "      <th>6847</th>\n",
              "      <td>0.513517</td>\n",
              "      <td>1.148259</td>\n",
              "      <td>58157.354566</td>\n",
              "      <td>4.068174e+07</td>\n",
              "      <td>18.570</td>\n",
              "    </tr>\n",
              "    <tr>\n",
              "      <th>689</th>\n",
              "      <td>0.033462</td>\n",
              "      <td>0.074824</td>\n",
              "      <td>34842.209441</td>\n",
              "      <td>3.123481e+07</td>\n",
              "      <td>24.500</td>\n",
              "    </tr>\n",
              "    <tr>\n",
              "      <th>1099</th>\n",
              "      <td>0.725362</td>\n",
              "      <td>1.621959</td>\n",
              "      <td>51810.417972</td>\n",
              "      <td>6.905876e+07</td>\n",
              "      <td>17.820</td>\n",
              "    </tr>\n",
              "    <tr>\n",
              "      <th>6691</th>\n",
              "      <td>0.319415</td>\n",
              "      <td>0.714233</td>\n",
              "      <td>74373.711344</td>\n",
              "      <td>4.647963e+07</td>\n",
              "      <td>19.601</td>\n",
              "    </tr>\n",
              "    <tr>\n",
              "      <th>3943</th>\n",
              "      <td>0.084053</td>\n",
              "      <td>0.187949</td>\n",
              "      <td>42884.382056</td>\n",
              "      <td>5.607109e+07</td>\n",
              "      <td>22.500</td>\n",
              "    </tr>\n",
              "  </tbody>\n",
              "</table>\n",
              "<p>1611 rows × 5 columns</p>\n",
              "</div>\n",
              "      <button class=\"colab-df-convert\" onclick=\"convertToInteractive('df-26fd8c6a-a735-4830-b873-d9c7e03068f3')\"\n",
              "              title=\"Convert this dataframe to an interactive table.\"\n",
              "              style=\"display:none;\">\n",
              "        \n",
              "  <svg xmlns=\"http://www.w3.org/2000/svg\" height=\"24px\"viewBox=\"0 0 24 24\"\n",
              "       width=\"24px\">\n",
              "    <path d=\"M0 0h24v24H0V0z\" fill=\"none\"/>\n",
              "    <path d=\"M18.56 5.44l.94 2.06.94-2.06 2.06-.94-2.06-.94-.94-2.06-.94 2.06-2.06.94zm-11 1L8.5 8.5l.94-2.06 2.06-.94-2.06-.94L8.5 2.5l-.94 2.06-2.06.94zm10 10l.94 2.06.94-2.06 2.06-.94-2.06-.94-.94-2.06-.94 2.06-2.06.94z\"/><path d=\"M17.41 7.96l-1.37-1.37c-.4-.4-.92-.59-1.43-.59-.52 0-1.04.2-1.43.59L10.3 9.45l-7.72 7.72c-.78.78-.78 2.05 0 2.83L4 21.41c.39.39.9.59 1.41.59.51 0 1.02-.2 1.41-.59l7.78-7.78 2.81-2.81c.8-.78.8-2.07 0-2.86zM5.41 20L4 18.59l7.72-7.72 1.47 1.35L5.41 20z\"/>\n",
              "  </svg>\n",
              "      </button>\n",
              "      \n",
              "  <style>\n",
              "    .colab-df-container {\n",
              "      display:flex;\n",
              "      flex-wrap:wrap;\n",
              "      gap: 12px;\n",
              "    }\n",
              "\n",
              "    .colab-df-convert {\n",
              "      background-color: #E8F0FE;\n",
              "      border: none;\n",
              "      border-radius: 50%;\n",
              "      cursor: pointer;\n",
              "      display: none;\n",
              "      fill: #1967D2;\n",
              "      height: 32px;\n",
              "      padding: 0 0 0 0;\n",
              "      width: 32px;\n",
              "    }\n",
              "\n",
              "    .colab-df-convert:hover {\n",
              "      background-color: #E2EBFA;\n",
              "      box-shadow: 0px 1px 2px rgba(60, 64, 67, 0.3), 0px 1px 3px 1px rgba(60, 64, 67, 0.15);\n",
              "      fill: #174EA6;\n",
              "    }\n",
              "\n",
              "    [theme=dark] .colab-df-convert {\n",
              "      background-color: #3B4455;\n",
              "      fill: #D2E3FC;\n",
              "    }\n",
              "\n",
              "    [theme=dark] .colab-df-convert:hover {\n",
              "      background-color: #434B5C;\n",
              "      box-shadow: 0px 1px 3px 1px rgba(0, 0, 0, 0.15);\n",
              "      filter: drop-shadow(0px 1px 2px rgba(0, 0, 0, 0.3));\n",
              "      fill: #FFFFFF;\n",
              "    }\n",
              "  </style>\n",
              "\n",
              "      <script>\n",
              "        const buttonEl =\n",
              "          document.querySelector('#df-26fd8c6a-a735-4830-b873-d9c7e03068f3 button.colab-df-convert');\n",
              "        buttonEl.style.display =\n",
              "          google.colab.kernel.accessAllowed ? 'block' : 'none';\n",
              "\n",
              "        async function convertToInteractive(key) {\n",
              "          const element = document.querySelector('#df-26fd8c6a-a735-4830-b873-d9c7e03068f3');\n",
              "          const dataTable =\n",
              "            await google.colab.kernel.invokeFunction('convertToInteractive',\n",
              "                                                     [key], {});\n",
              "          if (!dataTable) return;\n",
              "\n",
              "          const docLinkHtml = 'Like what you see? Visit the ' +\n",
              "            '<a target=\"_blank\" href=https://colab.research.google.com/notebooks/data_table.ipynb>data table notebook</a>'\n",
              "            + ' to learn more about interactive tables.';\n",
              "          element.innerHTML = '';\n",
              "          dataTable['output_type'] = 'display_data';\n",
              "          await google.colab.output.renderOutput(dataTable, element);\n",
              "          const docLink = document.createElement('div');\n",
              "          docLink.innerHTML = docLinkHtml;\n",
              "          element.appendChild(docLink);\n",
              "        }\n",
              "      </script>\n",
              "    </div>\n",
              "  </div>\n",
              "  "
            ]
          },
          "metadata": {},
          "execution_count": 119
        }
      ]
    },
    {
      "cell_type": "code",
      "source": [
        "X_test.to_csv('test_data.csv', index = False)"
      ],
      "metadata": {
        "id": "BvYpdYTtO4Ou"
      },
      "execution_count": null,
      "outputs": []
    },
    {
      "cell_type": "markdown",
      "source": [
        "## Дашборд"
      ],
      "metadata": {
        "id": "-BhX7JcTGBV0"
      }
    },
    {
      "cell_type": "code",
      "source": [
        "! pip install streamlit"
      ],
      "metadata": {
        "colab": {
          "base_uri": "https://localhost:8080/"
        },
        "id": "MesKO38QGgQf",
        "outputId": "99a901d4-7b67-40ae-ecc8-ee0b465fd627"
      },
      "execution_count": null,
      "outputs": [
        {
          "output_type": "stream",
          "name": "stdout",
          "text": [
            "Looking in indexes: https://pypi.org/simple, https://us-python.pkg.dev/colab-wheels/public/simple/\n",
            "Collecting streamlit\n",
            "  Downloading streamlit-1.23.1-py2.py3-none-any.whl (8.9 MB)\n",
            "\u001b[2K     \u001b[90m━━━━━━━━━━━━━━━━━━━━━━━━━━━━━━━━━━━━━━━━\u001b[0m \u001b[32m8.9/8.9 MB\u001b[0m \u001b[31m54.2 MB/s\u001b[0m eta \u001b[36m0:00:00\u001b[0m\n",
            "\u001b[?25hRequirement already satisfied: altair<6,>=4.0 in /usr/local/lib/python3.10/dist-packages (from streamlit) (4.2.2)\n",
            "Collecting blinker<2,>=1.0.0 (from streamlit)\n",
            "  Downloading blinker-1.6.2-py3-none-any.whl (13 kB)\n",
            "Requirement already satisfied: cachetools<6,>=4.0 in /usr/local/lib/python3.10/dist-packages (from streamlit) (5.3.0)\n",
            "Requirement already satisfied: click<9,>=7.0 in /usr/local/lib/python3.10/dist-packages (from streamlit) (8.1.3)\n",
            "Collecting importlib-metadata<7,>=1.4 (from streamlit)\n",
            "  Downloading importlib_metadata-6.6.0-py3-none-any.whl (22 kB)\n",
            "Requirement already satisfied: numpy<2,>=1 in /usr/local/lib/python3.10/dist-packages (from streamlit) (1.22.4)\n",
            "Requirement already satisfied: packaging<24,>=14.1 in /usr/local/lib/python3.10/dist-packages (from streamlit) (23.1)\n",
            "Requirement already satisfied: pandas<3,>=0.25 in /usr/local/lib/python3.10/dist-packages (from streamlit) (1.5.3)\n",
            "Requirement already satisfied: pillow<10,>=6.2.0 in /usr/local/lib/python3.10/dist-packages (from streamlit) (8.4.0)\n",
            "Requirement already satisfied: protobuf<5,>=3.20 in /usr/local/lib/python3.10/dist-packages (from streamlit) (3.20.3)\n",
            "Requirement already satisfied: pyarrow>=4.0 in /usr/local/lib/python3.10/dist-packages (from streamlit) (9.0.0)\n",
            "Collecting pympler<2,>=0.9 (from streamlit)\n",
            "  Downloading Pympler-1.0.1-py3-none-any.whl (164 kB)\n",
            "\u001b[2K     \u001b[90m━━━━━━━━━━━━━━━━━━━━━━━━━━━━━━━━━━━━━━\u001b[0m \u001b[32m164.8/164.8 kB\u001b[0m \u001b[31m18.0 MB/s\u001b[0m eta \u001b[36m0:00:00\u001b[0m\n",
            "\u001b[?25hRequirement already satisfied: python-dateutil<3,>=2 in /usr/local/lib/python3.10/dist-packages (from streamlit) (2.8.2)\n",
            "Requirement already satisfied: requests<3,>=2.4 in /usr/local/lib/python3.10/dist-packages (from streamlit) (2.27.1)\n",
            "Requirement already satisfied: rich<14,>=10.11.0 in /usr/local/lib/python3.10/dist-packages (from streamlit) (13.3.4)\n",
            "Requirement already satisfied: tenacity<9,>=8.0.0 in /usr/local/lib/python3.10/dist-packages (from streamlit) (8.2.2)\n",
            "Requirement already satisfied: toml<2 in /usr/local/lib/python3.10/dist-packages (from streamlit) (0.10.2)\n",
            "Requirement already satisfied: typing-extensions<5,>=4.0.1 in /usr/local/lib/python3.10/dist-packages (from streamlit) (4.5.0)\n",
            "Requirement already satisfied: tzlocal<5,>=1.1 in /usr/local/lib/python3.10/dist-packages (from streamlit) (4.3)\n",
            "Collecting validators<1,>=0.2 (from streamlit)\n",
            "  Downloading validators-0.20.0.tar.gz (30 kB)\n",
            "  Preparing metadata (setup.py) ... \u001b[?25l\u001b[?25hdone\n",
            "Collecting gitpython!=3.1.19,<4,>=3 (from streamlit)\n",
            "  Downloading GitPython-3.1.31-py3-none-any.whl (184 kB)\n",
            "\u001b[2K     \u001b[90m━━━━━━━━━━━━━━━━━━━━━━━━━━━━━━━━━━━━━━\u001b[0m \u001b[32m184.3/184.3 kB\u001b[0m \u001b[31m18.2 MB/s\u001b[0m eta \u001b[36m0:00:00\u001b[0m\n",
            "\u001b[?25hCollecting pydeck<1,>=0.1.dev5 (from streamlit)\n",
            "  Downloading pydeck-0.8.1b0-py2.py3-none-any.whl (4.8 MB)\n",
            "\u001b[2K     \u001b[90m━━━━━━━━━━━━━━━━━━━━━━━━━━━━━━━━━━━━━━━━\u001b[0m \u001b[32m4.8/4.8 MB\u001b[0m \u001b[31m64.5 MB/s\u001b[0m eta \u001b[36m0:00:00\u001b[0m\n",
            "\u001b[?25hRequirement already satisfied: tornado<7,>=6.0.3 in /usr/local/lib/python3.10/dist-packages (from streamlit) (6.3.1)\n",
            "Collecting watchdog (from streamlit)\n",
            "  Downloading watchdog-3.0.0-py3-none-manylinux2014_x86_64.whl (82 kB)\n",
            "\u001b[2K     \u001b[90m━━━━━━━━━━━━━━━━━━━━━━━━━━━━━━━━━━━━━━━━\u001b[0m \u001b[32m82.1/82.1 kB\u001b[0m \u001b[31m6.5 MB/s\u001b[0m eta \u001b[36m0:00:00\u001b[0m\n",
            "\u001b[?25hRequirement already satisfied: entrypoints in /usr/local/lib/python3.10/dist-packages (from altair<6,>=4.0->streamlit) (0.4)\n",
            "Requirement already satisfied: jinja2 in /usr/local/lib/python3.10/dist-packages (from altair<6,>=4.0->streamlit) (3.1.2)\n",
            "Requirement already satisfied: jsonschema>=3.0 in /usr/local/lib/python3.10/dist-packages (from altair<6,>=4.0->streamlit) (4.3.3)\n",
            "Requirement already satisfied: toolz in /usr/local/lib/python3.10/dist-packages (from altair<6,>=4.0->streamlit) (0.12.0)\n",
            "Collecting gitdb<5,>=4.0.1 (from gitpython!=3.1.19,<4,>=3->streamlit)\n",
            "  Downloading gitdb-4.0.10-py3-none-any.whl (62 kB)\n",
            "\u001b[2K     \u001b[90m━━━━━━━━━━━━━━━━━━━━━━━━━━━━━━━━━━━━━━━━\u001b[0m \u001b[32m62.7/62.7 kB\u001b[0m \u001b[31m7.0 MB/s\u001b[0m eta \u001b[36m0:00:00\u001b[0m\n",
            "\u001b[?25hRequirement already satisfied: zipp>=0.5 in /usr/local/lib/python3.10/dist-packages (from importlib-metadata<7,>=1.4->streamlit) (3.15.0)\n",
            "Requirement already satisfied: pytz>=2020.1 in /usr/local/lib/python3.10/dist-packages (from pandas<3,>=0.25->streamlit) (2022.7.1)\n",
            "Requirement already satisfied: six>=1.5 in /usr/local/lib/python3.10/dist-packages (from python-dateutil<3,>=2->streamlit) (1.16.0)\n",
            "Requirement already satisfied: urllib3<1.27,>=1.21.1 in /usr/local/lib/python3.10/dist-packages (from requests<3,>=2.4->streamlit) (1.26.15)\n",
            "Requirement already satisfied: certifi>=2017.4.17 in /usr/local/lib/python3.10/dist-packages (from requests<3,>=2.4->streamlit) (2022.12.7)\n",
            "Requirement already satisfied: charset-normalizer~=2.0.0 in /usr/local/lib/python3.10/dist-packages (from requests<3,>=2.4->streamlit) (2.0.12)\n",
            "Requirement already satisfied: idna<4,>=2.5 in /usr/local/lib/python3.10/dist-packages (from requests<3,>=2.4->streamlit) (3.4)\n",
            "Requirement already satisfied: markdown-it-py<3.0.0,>=2.2.0 in /usr/local/lib/python3.10/dist-packages (from rich<14,>=10.11.0->streamlit) (2.2.0)\n",
            "Requirement already satisfied: pygments<3.0.0,>=2.13.0 in /usr/local/lib/python3.10/dist-packages (from rich<14,>=10.11.0->streamlit) (2.14.0)\n",
            "Requirement already satisfied: pytz-deprecation-shim in /usr/local/lib/python3.10/dist-packages (from tzlocal<5,>=1.1->streamlit) (0.1.0.post0)\n",
            "Requirement already satisfied: decorator>=3.4.0 in /usr/local/lib/python3.10/dist-packages (from validators<1,>=0.2->streamlit) (4.4.2)\n",
            "Collecting smmap<6,>=3.0.1 (from gitdb<5,>=4.0.1->gitpython!=3.1.19,<4,>=3->streamlit)\n",
            "  Downloading smmap-5.0.0-py3-none-any.whl (24 kB)\n",
            "Requirement already satisfied: MarkupSafe>=2.0 in /usr/local/lib/python3.10/dist-packages (from jinja2->altair<6,>=4.0->streamlit) (2.1.2)\n",
            "Requirement already satisfied: attrs>=17.4.0 in /usr/local/lib/python3.10/dist-packages (from jsonschema>=3.0->altair<6,>=4.0->streamlit) (23.1.0)\n",
            "Requirement already satisfied: pyrsistent!=0.17.0,!=0.17.1,!=0.17.2,>=0.14.0 in /usr/local/lib/python3.10/dist-packages (from jsonschema>=3.0->altair<6,>=4.0->streamlit) (0.19.3)\n",
            "Requirement already satisfied: mdurl~=0.1 in /usr/local/lib/python3.10/dist-packages (from markdown-it-py<3.0.0,>=2.2.0->rich<14,>=10.11.0->streamlit) (0.1.2)\n",
            "Requirement already satisfied: tzdata in /usr/local/lib/python3.10/dist-packages (from pytz-deprecation-shim->tzlocal<5,>=1.1->streamlit) (2023.3)\n",
            "Building wheels for collected packages: validators\n",
            "  Building wheel for validators (setup.py) ... \u001b[?25l\u001b[?25hdone\n",
            "  Created wheel for validators: filename=validators-0.20.0-py3-none-any.whl size=19579 sha256=36bfa1423cee5c054bfaf63cc2f50c64b44f252a464d076a322b295090c93aef\n",
            "  Stored in directory: /root/.cache/pip/wheels/f2/ed/dd/d3a556ad245ef9dc570c6bcd2f22886d17b0b408dd3bbb9ac3\n",
            "Successfully built validators\n",
            "Installing collected packages: watchdog, validators, smmap, pympler, importlib-metadata, blinker, pydeck, gitdb, gitpython, streamlit\n",
            "Successfully installed blinker-1.6.2 gitdb-4.0.10 gitpython-3.1.31 importlib-metadata-6.6.0 pydeck-0.8.1b0 pympler-1.0.1 smmap-5.0.0 streamlit-1.23.1 validators-0.20.0 watchdog-3.0.0\n"
          ]
        }
      ]
    },
    {
      "cell_type": "markdown",
      "source": [
        "Пишем дашборд. Лайфхак: чтобы видеть подсветку синтаксиса Python удобнее временно удалить строку с writefile - главное, потом не забыть вернуть!"
      ],
      "metadata": {
        "id": "IWSuZvvyGolp"
      }
    },
    {
      "cell_type": "code",
      "source": [
        "%%writefile app.py\n",
        "import pickle\n",
        "import tensorflow as tf\n",
        "\n",
        "import pandas as pd\n",
        "import numpy as np\n",
        "import streamlit as st\n",
        "import matplotlib.pyplot as plt\n",
        "import seaborn as sns\n",
        "\n",
        "\n",
        "def main():\n",
        "    knn = load_model(\"knn.sav\") # помни, что грузим из папки - файл с дашбордом будет сохранен в нее\n",
        "    bag = load_model(\"bag.sav\")\n",
        "    nn = load_model_tensorflow(\"nn.sav\")\n",
        "    data = load_test_data(\"data.csv\")\n",
        "\n",
        "    page = st.sidebar.selectbox(\n",
        "        \"Выберите страницу\",\n",
        "        [\"Описание данных\", \"Визуализации\", \"Запрос к моделям\"]\n",
        "    )\n",
        "\n",
        "    # если выбрана первая страница\n",
        "    if page == \"Описание данных\":\n",
        "        st.title(\"Описание данных\")\n",
        "        st.header(\"Опасные космические объекты\")\n",
        "        st.write(\"Описание с сайта Kaggle: https://www.kaggle.com/datasets/sameepvani/nasa-nearest-earth-objects\")\n",
        "        st.write(\"В космосе бесконечное количество объектов. Некоторые из них ближе, чем мы думаем. Хотя мы могли бы подумать, что расстояние в 70 000 км не может потенциально нам навредить, но в астрономических масштабах это очень небольшое расстояние и может нарушить многие природные явления. Таким образом, эти объекты/астероиды могут оказаться опасными. Поэтому разумно знать, что нас окружает и что из этого может нам навредить. Таким образом, этот набор данных составляет список сертифицированных НАСА астероидов, которые классифицируются как ближайшие к Земле объекты.\")\n",
        "        st.write(\"В рамках предобработки удалены пропуски в данных\")\n",
        "        st.write(data)\n",
        "\n",
        "    elif page == \"Визуализации\":\n",
        "\n",
        "        st.title(\"Визуализации\")\n",
        "        st.header(\"Визуализации зависимостей в данных\")\n",
        "\n",
        "        st.write(\"Гистограмма признака absolute_magnitude\")\n",
        "        fig, ax = plt.subplots()\n",
        "        ax.hist(data[\"absolute_magnitude\"])\n",
        "        st.pyplot(fig)\n",
        "\n",
        "        st.write(\"'Ящик с усами' для признака est_diameter_min\")\n",
        "        fig, ax = plt.subplots()\n",
        "        ax.boxplot(data[\"absolute_magnitude\"])\n",
        "        st.pyplot(fig)\n",
        "\n",
        "        st.write(\"Матрица взаимной корреляции признаков\")\n",
        "        fig, ax = plt.subplots()\n",
        "        ax = sns.heatmap(data.corr(), linewidth=0.5)\n",
        "        st.pyplot(fig)\n",
        "\n",
        "        st.write(\"Попарные зависимости между первыми тремя признаками (загрузка может быть долгой)\")\n",
        "        fig = sns.pairplot(data, vars=[\"est_diameter_min\", \"est_diameter_max\", \"relative_velocity\"])\n",
        "        st.pyplot(fig)\n",
        "\n",
        "    elif page == \"Запрос к моделям\":\n",
        "        st.title(\"Запрос к моделям\")\n",
        "        uploaded_data = st.file_uploader(\"Выберите csv файл\", accept_multiple_files=False)\n",
        "        if uploaded_data:\n",
        "          new_data = pd.read_csv(uploaded_data.name)\n",
        "          if st.button('Предсказать'):\n",
        "            knn_pred = knn.predict(new_data)\n",
        "            st.write(\"Предсказанное значение KNN\")\n",
        "            st.write(pd.DataFrame(knn_pred, columns=['Предсказания']))\n",
        "            bag_pred = bag.predict(new_data)\n",
        "            st.write(\"Предсказанное значение Bagging\")\n",
        "            st.write(pd.DataFrame(bag_pred, columns=['Предсказания']))\n",
        "            nn_pred = [np.argmax(pred) for pred in nn.predict(new_data, verbose=None)]\n",
        "            st.write(\"Предсказанное нейронной сетью значение\")\n",
        "            st.write(pd.DataFrame(nn_pred, columns=['Предсказания']))\n",
        "\n",
        "\n",
        "# для загрузки моделей sklearn - они у нас сохранены на диск как файлы\n",
        "@st.cache_data\n",
        "def load_model(path_to_file):\n",
        "    with open(path_to_file, 'rb') as model_file:\n",
        "        model = pickle.load(model_file)\n",
        "    return model\n",
        "\n",
        "# для загрузки моделей TensorFlow - они у нас сохранены на диск как папки\n",
        "@st.cache_data\n",
        "def load_model_tensorflow(path_to_folder):\n",
        "    model = tf.keras.models.load_model(path_to_folder)\n",
        "    return model\n",
        "\n",
        "# для загрузки датасета\n",
        "@st.cache_data\n",
        "def load_test_data(path_to_file):\n",
        "    df = pd.read_csv(path_to_file)\n",
        "    # ничего не дропаем - датасет полностью подготовлен\n",
        "    return df\n",
        "\n",
        "\n",
        "if __name__ == \"__main__\":\n",
        "    main()"
      ],
      "metadata": {
        "colab": {
          "base_uri": "https://localhost:8080/"
        },
        "id": "jo7DAfkgGn9L",
        "outputId": "35f3cd29-1f21-411f-dbca-d8ec64b6374e"
      },
      "execution_count": null,
      "outputs": [
        {
          "output_type": "stream",
          "name": "stdout",
          "text": [
            "Overwriting app.py\n"
          ]
        }
      ]
    },
    {
      "cell_type": "markdown",
      "source": [
        "Можно увидеть, что в папке появился файл app.py. Дашборд запускается командой streamlit run."
      ],
      "metadata": {
        "id": "-QjzB-sZKDF9"
      }
    },
    {
      "cell_type": "markdown",
      "source": [
        "Но мы с тобой делаем дашборд в колабе, поэтому здесь при выполнении этой команды браузер не откроется. Чтобы получить доступ извне к этому дашборду нужно не только запустить сервер, но и открыть соответствующий порт"
      ],
      "metadata": {
        "id": "hbds7KD7KKdH"
      }
    },
    {
      "cell_type": "markdown",
      "source": [
        "Сначала установим npm пакет, который позволит открыть туннель из интернета к порту, на котором запущен дашборд в колабе"
      ],
      "metadata": {
        "id": "AJsD7rfKKYRv"
      }
    },
    {
      "cell_type": "code",
      "source": [
        "!npm install localtunnel"
      ],
      "metadata": {
        "colab": {
          "base_uri": "https://localhost:8080/"
        },
        "id": "rDeNaX2FKX5d",
        "outputId": "e7f56c95-ce8d-485c-8cad-787465651c3e"
      },
      "execution_count": null,
      "outputs": [
        {
          "output_type": "stream",
          "name": "stdout",
          "text": [
            "\u001b[K\u001b[?25h\u001b[37;40mnpm\u001b[0m \u001b[0m\u001b[30;43mWARN\u001b[0m \u001b[0m\u001b[35msaveError\u001b[0m ENOENT: no such file or directory, open '/content/package.json'\n",
            "\u001b[0m\u001b[37;40mnpm\u001b[0m \u001b[0m\u001b[34;40mnotice\u001b[0m\u001b[35m\u001b[0m created a lockfile as package-lock.json. You should commit this file.\n",
            "\u001b[0m\u001b[37;40mnpm\u001b[0m \u001b[0m\u001b[30;43mWARN\u001b[0m \u001b[0m\u001b[35menoent\u001b[0m ENOENT: no such file or directory, open '/content/package.json'\n",
            "\u001b[0m\u001b[37;40mnpm\u001b[0m \u001b[0m\u001b[30;43mWARN\u001b[0m\u001b[35m\u001b[0m content No description\n",
            "\u001b[0m\u001b[37;40mnpm\u001b[0m \u001b[0m\u001b[30;43mWARN\u001b[0m\u001b[35m\u001b[0m content No repository field.\n",
            "\u001b[0m\u001b[37;40mnpm\u001b[0m \u001b[0m\u001b[30;43mWARN\u001b[0m\u001b[35m\u001b[0m content No README data\n",
            "\u001b[0m\u001b[37;40mnpm\u001b[0m \u001b[0m\u001b[30;43mWARN\u001b[0m\u001b[35m\u001b[0m content No license field.\n",
            "\u001b[0m\n",
            "+ localtunnel@2.0.2\n",
            "added 22 packages from 22 contributors and audited 22 packages in 2.366s\n",
            "\n",
            "3 packages are looking for funding\n",
            "  run `npm fund` for details\n",
            "\n",
            "found \u001b[92m0\u001b[0m vulnerabilities\n",
            "\n",
            "\u001b[K\u001b[?25h"
          ]
        }
      ]
    },
    {
      "cell_type": "markdown",
      "source": [
        "Теперь давай узнаем IP адрес виртуальной машины, с которой прямо сейчас мы работаем в колабе."
      ],
      "metadata": {
        "id": "gQtVQ4GJKgWT"
      }
    },
    {
      "cell_type": "code",
      "source": [
        "! curl https://ipinfo.io/ip"
      ],
      "metadata": {
        "colab": {
          "base_uri": "https://localhost:8080/"
        },
        "id": "iGJ72gNKKlwP",
        "outputId": "4ec6244c-c809-4328-b286-5c520742d1e3"
      },
      "execution_count": null,
      "outputs": [
        {
          "output_type": "stream",
          "name": "stdout",
          "text": [
            "34.125.34.154"
          ]
        }
      ]
    },
    {
      "cell_type": "markdown",
      "source": [
        "Теперь можно запустить дашборд"
      ],
      "metadata": {
        "id": "enP84EXTKr1_"
      }
    },
    {
      "cell_type": "code",
      "source": [
        "!streamlit run /content/app.py &>/content/logs.txt &"
      ],
      "metadata": {
        "id": "BAMjQFVcJ-PT"
      },
      "execution_count": null,
      "outputs": []
    },
    {
      "cell_type": "markdown",
      "source": [
        "Эта команда убивает дашборд на порту 8501. Рекомендую использовать перед перезапуском."
      ],
      "metadata": {
        "id": "vsH9vcmELBA_"
      }
    },
    {
      "cell_type": "code",
      "source": [
        "! fuser -k 8501/tcp"
      ],
      "metadata": {
        "id": "9-UcbzYZLAiX"
      },
      "execution_count": null,
      "outputs": []
    },
    {
      "cell_type": "markdown",
      "source": [
        "И, наконец, откроем тунель. Выполняем команду, переходим по ссылке и вводим IP адрес, который получили выше."
      ],
      "metadata": {
        "id": "n4beYsn5Ktqr"
      }
    },
    {
      "cell_type": "code",
      "source": [
        "!npx localtunnel --port 8501"
      ],
      "metadata": {
        "colab": {
          "base_uri": "https://localhost:8080/"
        },
        "id": "_TwdGqNiK1ZR",
        "outputId": "020e2693-5dc4-43d2-fb67-733ff0d0d518"
      },
      "execution_count": null,
      "outputs": [
        {
          "output_type": "stream",
          "name": "stdout",
          "text": [
            "\u001b[K\u001b[?25hnpx: installed 22 in 2.051s\n",
            "your url is: https://warm-cobras-kick.loca.lt\n",
            "^C\n"
          ]
        }
      ]
    },
    {
      "cell_type": "markdown",
      "source": [
        "На этом все! :)"
      ],
      "metadata": {
        "id": "hL0joCO3VUyk"
      }
    }
  ]
}