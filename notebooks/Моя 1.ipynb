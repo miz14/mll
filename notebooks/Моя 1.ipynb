{
 "cells": [
  {
   "cell_type": "markdown",
   "id": "942511e6",
   "metadata": {},
   "source": [
    "# Задача 1\n",
    "\n",
    "**Загрузите датасет для регрессии, выполните предварительную обработку (удалите пропуски, приведите все признаки к числам), выделите целевой признак и предикторы, разбейте данные на обучающую и тестовую выборку.**"
   ]
  },
  {
   "cell_type": "code",
   "execution_count": 1,
   "id": "4f5fec89",
   "metadata": {},
   "outputs": [],
   "source": [
    "import pandas as pd\n",
    "import numpy as np\n",
    "from matplotlib import pyplot as plt\n",
    "import matplotlib.dates as mdates\n",
    "from sklearn.linear_model import LinearRegression, Lasso, Ridge\n",
    "from sklearn.metrics import mean_squared_error, mean_absolute_error, mean_absolute_percentage_error, r2_score\n",
    "from math import sqrt, pow\n",
    "from sklearn.model_selection import GridSearchCV, RandomizedSearchCV\n",
    "from sklearn.model_selection import train_test_split\n",
    "from sklearn.preprocessing import PolynomialFeatures\n",
    "from datetime import datetime as dt\n",
    "import folium"
   ]
  },
  {
   "cell_type": "markdown",
   "id": "d02e6211",
   "metadata": {},
   "source": [
    "- **Загрузка датасета**"
   ]
  },
  {
   "cell_type": "code",
   "execution_count": 2,
   "id": "69613c7f",
   "metadata": {},
   "outputs": [
    {
     "data": {
      "text/html": [
       "<div>\n",
       "<style scoped>\n",
       "    .dataframe tbody tr th:only-of-type {\n",
       "        vertical-align: middle;\n",
       "    }\n",
       "\n",
       "    .dataframe tbody tr th {\n",
       "        vertical-align: top;\n",
       "    }\n",
       "\n",
       "    .dataframe thead th {\n",
       "        text-align: right;\n",
       "    }\n",
       "</style>\n",
       "<table border=\"1\" class=\"dataframe\">\n",
       "  <thead>\n",
       "    <tr style=\"text-align: right;\">\n",
       "      <th></th>\n",
       "      <th>id</th>\n",
       "      <th>vendor_id</th>\n",
       "      <th>pickup_datetime</th>\n",
       "      <th>dropoff_datetime</th>\n",
       "      <th>passenger_count</th>\n",
       "      <th>pickup_longitude</th>\n",
       "      <th>pickup_latitude</th>\n",
       "      <th>dropoff_longitude</th>\n",
       "      <th>dropoff_latitude</th>\n",
       "      <th>trip_duration</th>\n",
       "    </tr>\n",
       "  </thead>\n",
       "  <tbody>\n",
       "    <tr>\n",
       "      <th>0</th>\n",
       "      <td>id1080784</td>\n",
       "      <td>2.0</td>\n",
       "      <td>2016-02-29 16:40:21</td>\n",
       "      <td>2016-02-29 16:47:01</td>\n",
       "      <td>1</td>\n",
       "      <td>-73.953918</td>\n",
       "      <td>40.778873</td>\n",
       "      <td>-73.963875</td>\n",
       "      <td>40.771164</td>\n",
       "      <td>400</td>\n",
       "    </tr>\n",
       "    <tr>\n",
       "      <th>1</th>\n",
       "      <td>id0889885</td>\n",
       "      <td>1.0</td>\n",
       "      <td>2016-03-11 23:35:37</td>\n",
       "      <td>2016-03-11 23:53:57</td>\n",
       "      <td>2</td>\n",
       "      <td>-73.988312</td>\n",
       "      <td>40.731743</td>\n",
       "      <td>-73.994751</td>\n",
       "      <td>40.694931</td>\n",
       "      <td>1100</td>\n",
       "    </tr>\n",
       "    <tr>\n",
       "      <th>2</th>\n",
       "      <td>id0857912</td>\n",
       "      <td>2.0</td>\n",
       "      <td>2016-02-21 17:59:33</td>\n",
       "      <td>2016-02-21 18:26:48</td>\n",
       "      <td>2</td>\n",
       "      <td>-73.997314</td>\n",
       "      <td>40.721458</td>\n",
       "      <td>-73.948029</td>\n",
       "      <td>40.774918</td>\n",
       "      <td>1635</td>\n",
       "    </tr>\n",
       "    <tr>\n",
       "      <th>3</th>\n",
       "      <td>id3744273</td>\n",
       "      <td>2.0</td>\n",
       "      <td>2016-01-05 09:44:31</td>\n",
       "      <td>2016-01-05 10:03:32</td>\n",
       "      <td>6</td>\n",
       "      <td>-73.961670</td>\n",
       "      <td>40.759720</td>\n",
       "      <td>-73.956779</td>\n",
       "      <td>40.780628</td>\n",
       "      <td>1141</td>\n",
       "    </tr>\n",
       "    <tr>\n",
       "      <th>4</th>\n",
       "      <td>id0232939</td>\n",
       "      <td>1.0</td>\n",
       "      <td>2016-02-17 06:42:23</td>\n",
       "      <td>2016-02-17 06:56:31</td>\n",
       "      <td>1</td>\n",
       "      <td>-74.017120</td>\n",
       "      <td>40.708469</td>\n",
       "      <td>-73.988182</td>\n",
       "      <td>40.740631</td>\n",
       "      <td>848</td>\n",
       "    </tr>\n",
       "    <tr>\n",
       "      <th>...</th>\n",
       "      <td>...</td>\n",
       "      <td>...</td>\n",
       "      <td>...</td>\n",
       "      <td>...</td>\n",
       "      <td>...</td>\n",
       "      <td>...</td>\n",
       "      <td>...</td>\n",
       "      <td>...</td>\n",
       "      <td>...</td>\n",
       "      <td>...</td>\n",
       "    </tr>\n",
       "    <tr>\n",
       "      <th>729317</th>\n",
       "      <td>id3905982</td>\n",
       "      <td>2.0</td>\n",
       "      <td>2016-05-21 13:29:38</td>\n",
       "      <td>2016-05-21 13:34:34</td>\n",
       "      <td>2</td>\n",
       "      <td>-73.965919</td>\n",
       "      <td>40.789780</td>\n",
       "      <td>-73.952637</td>\n",
       "      <td>40.789181</td>\n",
       "      <td>296</td>\n",
       "    </tr>\n",
       "    <tr>\n",
       "      <th>729318</th>\n",
       "      <td>id0102861</td>\n",
       "      <td>1.0</td>\n",
       "      <td>2016-02-22 00:43:11</td>\n",
       "      <td>2016-02-22 00:48:26</td>\n",
       "      <td>1</td>\n",
       "      <td>-73.996666</td>\n",
       "      <td>40.737434</td>\n",
       "      <td>-74.001320</td>\n",
       "      <td>40.731911</td>\n",
       "      <td>315</td>\n",
       "    </tr>\n",
       "    <tr>\n",
       "      <th>729319</th>\n",
       "      <td>id0439699</td>\n",
       "      <td>1.0</td>\n",
       "      <td>2016-04-15 18:56:48</td>\n",
       "      <td>2016-04-15 19:08:01</td>\n",
       "      <td>1</td>\n",
       "      <td>-73.997849</td>\n",
       "      <td>40.761696</td>\n",
       "      <td>-74.001488</td>\n",
       "      <td>40.741207</td>\n",
       "      <td>673</td>\n",
       "    </tr>\n",
       "    <tr>\n",
       "      <th>729320</th>\n",
       "      <td>id2078912</td>\n",
       "      <td>1.0</td>\n",
       "      <td>2016-06-19 09:50:47</td>\n",
       "      <td>2016-06-19 09:58:14</td>\n",
       "      <td>1</td>\n",
       "      <td>-74.006706</td>\n",
       "      <td>40.708244</td>\n",
       "      <td>-74.013550</td>\n",
       "      <td>40.713814</td>\n",
       "      <td>447</td>\n",
       "    </tr>\n",
       "    <tr>\n",
       "      <th>729321</th>\n",
       "      <td>id1053441</td>\n",
       "      <td>2.0</td>\n",
       "      <td>2016-01-01 17:24:16</td>\n",
       "      <td>2016-01-01 17:44:40</td>\n",
       "      <td>4</td>\n",
       "      <td>-74.003342</td>\n",
       "      <td>40.743839</td>\n",
       "      <td>-73.945847</td>\n",
       "      <td>40.712841</td>\n",
       "      <td>1224</td>\n",
       "    </tr>\n",
       "  </tbody>\n",
       "</table>\n",
       "<p>729322 rows × 10 columns</p>\n",
       "</div>"
      ],
      "text/plain": [
       "               id  vendor_id      pickup_datetime     dropoff_datetime  \\\n",
       "0       id1080784        2.0  2016-02-29 16:40:21  2016-02-29 16:47:01   \n",
       "1       id0889885        1.0  2016-03-11 23:35:37  2016-03-11 23:53:57   \n",
       "2       id0857912        2.0  2016-02-21 17:59:33  2016-02-21 18:26:48   \n",
       "3       id3744273        2.0  2016-01-05 09:44:31  2016-01-05 10:03:32   \n",
       "4       id0232939        1.0  2016-02-17 06:42:23  2016-02-17 06:56:31   \n",
       "...           ...        ...                  ...                  ...   \n",
       "729317  id3905982        2.0  2016-05-21 13:29:38  2016-05-21 13:34:34   \n",
       "729318  id0102861        1.0  2016-02-22 00:43:11  2016-02-22 00:48:26   \n",
       "729319  id0439699        1.0  2016-04-15 18:56:48  2016-04-15 19:08:01   \n",
       "729320  id2078912        1.0  2016-06-19 09:50:47  2016-06-19 09:58:14   \n",
       "729321  id1053441        2.0  2016-01-01 17:24:16  2016-01-01 17:44:40   \n",
       "\n",
       "        passenger_count  pickup_longitude  pickup_latitude  dropoff_longitude  \\\n",
       "0                     1        -73.953918        40.778873         -73.963875   \n",
       "1                     2        -73.988312        40.731743         -73.994751   \n",
       "2                     2        -73.997314        40.721458         -73.948029   \n",
       "3                     6        -73.961670        40.759720         -73.956779   \n",
       "4                     1        -74.017120        40.708469         -73.988182   \n",
       "...                 ...               ...              ...                ...   \n",
       "729317                2        -73.965919        40.789780         -73.952637   \n",
       "729318                1        -73.996666        40.737434         -74.001320   \n",
       "729319                1        -73.997849        40.761696         -74.001488   \n",
       "729320                1        -74.006706        40.708244         -74.013550   \n",
       "729321                4        -74.003342        40.743839         -73.945847   \n",
       "\n",
       "        dropoff_latitude  trip_duration  \n",
       "0              40.771164            400  \n",
       "1              40.694931           1100  \n",
       "2              40.774918           1635  \n",
       "3              40.780628           1141  \n",
       "4              40.740631            848  \n",
       "...                  ...            ...  \n",
       "729317         40.789181            296  \n",
       "729318         40.731911            315  \n",
       "729319         40.741207            673  \n",
       "729320         40.713814            447  \n",
       "729321         40.712841           1224  \n",
       "\n",
       "[729322 rows x 10 columns]"
      ]
     },
     "execution_count": 2,
     "metadata": {},
     "output_type": "execute_result"
    }
   ],
   "source": [
    "df = pd.read_csv('../data/trip_duration_task.csv')\n",
    "\n",
    "df"
   ]
  },
  {
   "cell_type": "markdown",
   "id": "70506d1c",
   "metadata": {},
   "source": [
    "## Предобработка датасета\n",
    "\n",
    "- **Удаление столбцов id, dropoff_datetime(т.к. является искомым)**"
   ]
  },
  {
   "cell_type": "code",
   "execution_count": 3,
   "id": "8b1f1b9f",
   "metadata": {},
   "outputs": [
    {
     "name": "stdout",
     "output_type": "stream",
     "text": [
      "<class 'pandas.core.frame.DataFrame'>\n",
      "RangeIndex: 729322 entries, 0 to 729321\n",
      "Data columns (total 8 columns):\n",
      " #   Column             Non-Null Count   Dtype  \n",
      "---  ------             --------------   -----  \n",
      " 0   vendor_id          727135 non-null  float64\n",
      " 1   pickup_datetime    729322 non-null  object \n",
      " 2   passenger_count    729322 non-null  int64  \n",
      " 3   pickup_longitude   729322 non-null  float64\n",
      " 4   pickup_latitude    727475 non-null  float64\n",
      " 5   dropoff_longitude  729322 non-null  float64\n",
      " 6   dropoff_latitude   729322 non-null  float64\n",
      " 7   trip_duration      729322 non-null  int64  \n",
      "dtypes: float64(5), int64(2), object(1)\n",
      "memory usage: 44.5+ MB\n"
     ]
    }
   ],
   "source": [
    "df1 = df.drop([\"id\", \"dropoff_datetime\"], axis=1)\n",
    "df1.info()"
   ]
  },
  {
   "cell_type": "markdown",
   "id": "0c7a345c",
   "metadata": {},
   "source": [
    "- **Исключение пустых строк**"
   ]
  },
  {
   "cell_type": "code",
   "execution_count": 4,
   "id": "38abd4a6",
   "metadata": {},
   "outputs": [],
   "source": [
    "df2 = df1.dropna()"
   ]
  },
  {
   "cell_type": "markdown",
   "id": "3d20bd12",
   "metadata": {},
   "source": [
    "- **Отбор основных путей перездок для улучшения результата прогноза**"
   ]
  },
  {
   "cell_type": "code",
   "execution_count": 5,
   "id": "c6eb2538",
   "metadata": {},
   "outputs": [],
   "source": [
    "dfl = df.head(500)\n",
    "m = folium.Map(location=[40.753093719482415, -73.97315979003906], zoom_start=12)\n",
    "result = [folium.Marker([x1, y1]).add_to(m) and folium.Marker([x2, y2]).add_to(m) for x1, y1, x2, y2 in zip(dfl['pickup_latitude'], dfl['pickup_longitude'], dfl['dropoff_latitude'], dfl['dropoff_longitude'])]\n",
    "m.save(\"name1.html\")\n",
    "#40.691510, -74.020491\n",
    "#40.820779, -73.919535\n",
    "\n",
    "df3 = df2[(40.691510 < df2.pickup_latitude) & (40.691510 < df2.dropoff_latitude) & (df2.pickup_latitude < 40.820779) & (df2.dropoff_latitude < 40.820779)]\n",
    "df3 = df3[(-74.020491 < df3.pickup_longitude) & (-74.020491 < df3.dropoff_longitude) & (df3.pickup_longitude < -73.919535) & (df3.dropoff_longitude < -73.919535)]"
   ]
  },
  {
   "cell_type": "markdown",
   "id": "423d3cb1",
   "metadata": {},
   "source": [
    "![plot](./loc.png)"
   ]
  },
  {
   "cell_type": "markdown",
   "id": "4716ea4a",
   "metadata": {},
   "source": [
    "- **Выделение прзнака из даты отправки - часовой период, из кол-ва пассажиров - 2 типа вместительности; удаление столбца vendor_idt**"
   ]
  },
  {
   "cell_type": "code",
   "execution_count": 6,
   "id": "b177fa05",
   "metadata": {
    "scrolled": false
   },
   "outputs": [
    {
     "name": "stdout",
     "output_type": "stream",
     "text": [
      "[1 2 6 3 4 5 0]\n",
      "<class 'pandas.core.frame.DataFrame'>\n",
      "Int64Index: 629577 entries, 0 to 729321\n",
      "Data columns (total 11 columns):\n",
      " #   Column             Non-Null Count   Dtype  \n",
      "---  ------             --------------   -----  \n",
      " 0   pickup_longitude   629577 non-null  float64\n",
      " 1   pickup_latitude    629577 non-null  float64\n",
      " 2   dropoff_longitude  629577 non-null  float64\n",
      " 3   dropoff_latitude   629577 non-null  float64\n",
      " 4   trip_duration      629577 non-null  int64  \n",
      " 5   hour_4_9           629577 non-null  uint8  \n",
      " 6   hour_10_15         629577 non-null  uint8  \n",
      " 7   hour_16_15         629577 non-null  uint8  \n",
      " 8   hour_night         629577 non-null  uint8  \n",
      " 9   pas0-3             629577 non-null  int64  \n",
      " 10  pas4-6             629577 non-null  int64  \n",
      "dtypes: float64(4), int64(3), uint8(4)\n",
      "memory usage: 40.8 MB\n"
     ]
    }
   ],
   "source": [
    "df4 = df3\n",
    "df_hours = pd.get_dummies(df4[\"pickup_datetime\"].apply(lambda date: int(date[11:13])), prefix=\"hour\")\n",
    "df4[\"hour_4_9\"] = df_hours.hour_4 + df_hours.hour_5 + df_hours.hour_6 + df_hours.hour_7 + df_hours.hour_8 + df_hours.hour_9\n",
    "df4[\"hour_10_15\"] = df_hours.hour_10 + df_hours.hour_11 + df_hours.hour_12 + df_hours.hour_13 + df_hours.hour_14 + df_hours.hour_15\n",
    "df4[\"hour_16_15\"] = df_hours.hour_16 + df_hours.hour_17 + df_hours.hour_18 + df_hours.hour_19 + df_hours.hour_20 + df_hours.hour_21\n",
    "df4[\"hour_night\"] = df_hours.hour_22 + df_hours.hour_23 + df_hours.hour_0 + df_hours.hour_1 + df_hours.hour_2 + df_hours.hour_3\n",
    "\n",
    "print(df4[\"passenger_count\"].unique())\n",
    "df4[\"pas0-3\"] = df4[\"passenger_count\"].apply(lambda count: 1 if count < 4 else 0)\n",
    "df4[\"pas4-6\"] = df4[\"passenger_count\"].apply(lambda count: 1 if count > 3 else 0)\n",
    "\n",
    "df4 = df4.drop([\"pickup_datetime\", \"vendor_id\", \"passenger_count\"], axis=1)\n",
    "df4.info()"
   ]
  },
  {
   "cell_type": "markdown",
   "id": "0763ba59",
   "metadata": {},
   "source": [
    "- **Избавляемся от слишком завышенных параметров времени поездки**"
   ]
  },
  {
   "cell_type": "code",
   "execution_count": 7,
   "id": "33ffc629",
   "metadata": {
    "scrolled": true
   },
   "outputs": [
    {
     "name": "stdout",
     "output_type": "stream",
     "text": [
      "838\n",
      "<class 'pandas.core.frame.DataFrame'>\n",
      "Int64Index: 628739 entries, 0 to 729321\n",
      "Data columns (total 11 columns):\n",
      " #   Column             Non-Null Count   Dtype  \n",
      "---  ------             --------------   -----  \n",
      " 0   pickup_longitude   628739 non-null  float64\n",
      " 1   pickup_latitude    628739 non-null  float64\n",
      " 2   dropoff_longitude  628739 non-null  float64\n",
      " 3   dropoff_latitude   628739 non-null  float64\n",
      " 4   trip_duration      628739 non-null  int64  \n",
      " 5   hour_4_9           628739 non-null  uint8  \n",
      " 6   hour_10_15         628739 non-null  uint8  \n",
      " 7   hour_16_15         628739 non-null  uint8  \n",
      " 8   hour_night         628739 non-null  uint8  \n",
      " 9   pas0-3             628739 non-null  int64  \n",
      " 10  pas4-6             628739 non-null  int64  \n",
      "dtypes: float64(4), int64(3), uint8(4)\n",
      "memory usage: 40.8 MB\n"
     ]
    }
   ],
   "source": [
    "df5 = df4\n",
    "print(df5[df5[\"trip_duration\"]>8000].shape[0])\n",
    "df5 = df5[df5[\"trip_duration\"]<8000]\n",
    "df5.info()"
   ]
  },
  {
   "cell_type": "code",
   "execution_count": 9,
   "id": "1179de29",
   "metadata": {},
   "outputs": [],
   "source": [
    "df5.to_csv(\"../data/taxi.csv\", index_label = False)"
   ]
  },
  {
   "cell_type": "markdown",
   "id": "6a9aba1e",
   "metadata": {},
   "source": [
    "- **Выделение целевого признака и предикатов.**"
   ]
  },
  {
   "cell_type": "code",
   "execution_count": 8,
   "id": "d6df9171",
   "metadata": {},
   "outputs": [],
   "source": [
    "y = df5['trip_duration']\n",
    "X = df5.drop(['trip_duration'], axis = 1)"
   ]
  },
  {
   "cell_type": "code",
   "execution_count": 456,
   "id": "ce20d00b",
   "metadata": {},
   "outputs": [],
   "source": [
    "X_train, X_test, y_train, y_test = train_test_split(X, y, test_size=0.7)"
   ]
  },
  {
   "cell_type": "code",
   "execution_count": 10,
   "id": "eaffb26d",
   "metadata": {},
   "outputs": [
    {
     "data": {
      "text/plain": [
       "((188621, 10), (188621,), (440118, 10), (440118,))"
      ]
     },
     "execution_count": 10,
     "metadata": {},
     "output_type": "execute_result"
    }
   ],
   "source": [
    "X_train.shape, y_train.shape, X_test.shape, y_test.shape"
   ]
  },
  {
   "cell_type": "markdown",
   "id": "851ab728",
   "metadata": {},
   "source": [
    "# Задача 2\n",
    "\n",
    "**Решите задачу регрессии на ваших данных с использованием моделей sklearn (линейная регрессия + L1, L2), для моделей с регуляризациями подберите гиперпараметр.**"
   ]
  },
  {
   "cell_type": "markdown",
   "id": "8eded0a9",
   "metadata": {},
   "source": [
    "- **!Подготовка нескольких гиперпараметров**"
   ]
  },
  {
   "cell_type": "code",
   "execution_count": 11,
   "id": "41bb0f1d",
   "metadata": {},
   "outputs": [],
   "source": [
    "parameters = {'alpha': np.arange(0.1, 1, 0.05)}"
   ]
  },
  {
   "cell_type": "markdown",
   "id": "d48c365f",
   "metadata": {},
   "source": [
    "- **Линейная регрессия.**"
   ]
  },
  {
   "cell_type": "code",
   "execution_count": 113,
   "id": "ff0cb715",
   "metadata": {},
   "outputs": [],
   "source": [
    "lr = LinearRegression().fit(X_train, y_train)\n",
    "y_pred = lr.predict(X_test)\n"
   ]
  },
  {
   "cell_type": "code",
   "execution_count": 114,
   "id": "1eb6ae5d",
   "metadata": {},
   "outputs": [
    {
     "name": "stdout",
     "output_type": "stream",
     "text": [
      "MAE: 341.11165187517895\n",
      "MSE: 203634.64584582997\n",
      "RMSE: 451.25895652699234\n",
      "MAPE: 1.0196725110633162\n",
      "R^2: -31.324020524673877\n"
     ]
    }
   ],
   "source": [
    "print(f'MAE: {mean_absolute_error(y_test, y_pred)}')\n",
    "print(f'MSE: {mean_squared_error(y_test, y_pred)}')\n",
    "print(f'RMSE: {sqrt(mean_squared_error(y_test, y_pred))}')\n",
    "print(f'MAPE: {sqrt(mean_absolute_percentage_error(y_test, y_pred))}')\n",
    "score_lr = r2_score(y_pred, y_test)\n",
    "print(f'R^2: {score_lr}')"
   ]
  },
  {
   "cell_type": "code",
   "execution_count": 115,
   "id": "7937db11",
   "metadata": {},
   "outputs": [
    {
     "data": {
      "text/plain": [
       "array([-1.99293250e+03, -2.17956037e+02,  2.75678045e+03, -2.77367576e+03,\n",
       "       -9.88144914e+14, -9.88144914e+14, -9.88144914e+14, -9.88144914e+14,\n",
       "       -1.15919226e+15, -1.15919226e+15])"
      ]
     },
     "execution_count": 115,
     "metadata": {},
     "output_type": "execute_result"
    }
   ],
   "source": [
    "lr.coef_"
   ]
  },
  {
   "cell_type": "markdown",
   "id": "94b1ca20",
   "metadata": {},
   "source": [
    "- **Линейная регрессия. Регуляризация L1 / Ridge.**"
   ]
  },
  {
   "cell_type": "code",
   "execution_count": 116,
   "id": "01eefa8e",
   "metadata": {},
   "outputs": [],
   "source": [
    "# L1(RandomizedSearchCV)\n",
    "ridge_optimal = RandomizedSearchCV(Ridge(), parameters).fit(X_train, y_train)\n",
    "ridge = Ridge(alpha=ridge_optimal.best_params_['alpha']).fit(X_train, y_train)\n",
    "y_pred = ridge.predict(X_test)\n"
   ]
  },
  {
   "cell_type": "code",
   "execution_count": 117,
   "id": "023370c0",
   "metadata": {},
   "outputs": [
    {
     "name": "stdout",
     "output_type": "stream",
     "text": [
      "MAE: 341.07249114756905\n",
      "MSE: 203629.64862191404\n",
      "RMSE: 451.2534195127102\n",
      "MAPE: 1.0195370815279488\n",
      "R^2: -31.768557646892674\n"
     ]
    }
   ],
   "source": [
    "print(f'MAE: {mean_absolute_error(y_test, y_pred)}')\n",
    "print(f'MSE: {mean_squared_error(y_test, y_pred)}')\n",
    "print(f'RMSE: {sqrt(mean_squared_error(y_test, y_pred))}')\n",
    "print(f'MAPE: {sqrt(mean_absolute_percentage_error(y_test, y_pred))}')\n",
    "score_lr_L1_RandomSearchCV = r2_score(y_pred, y_test)\n",
    "print(f'R^2: {score_lr_L1_RandomSearchCV}')"
   ]
  },
  {
   "cell_type": "code",
   "execution_count": 118,
   "id": "be8d0400",
   "metadata": {},
   "outputs": [
    {
     "data": {
      "text/plain": [
       "array([-1964.34156997,  -222.93839293,  2725.31972878, -2757.36071385,\n",
       "         -31.28912331,    80.55209789,    15.49758785,   -64.76056251,\n",
       "          -4.85354084,     4.85354083])"
      ]
     },
     "execution_count": 118,
     "metadata": {},
     "output_type": "execute_result"
    }
   ],
   "source": [
    "ridge.coef_"
   ]
  },
  {
   "cell_type": "code",
   "execution_count": 119,
   "id": "c89f7327",
   "metadata": {},
   "outputs": [],
   "source": [
    "# L1(GridSearchCV)\n",
    "ridge_optimal = GridSearchCV(Ridge(), parameters).fit(X_train, y_train)\n",
    "ridge = Ridge(alpha=ridge_optimal.best_params_['alpha']).fit(X_train, y_train)\n",
    "y_pred = ridge.predict(X_test)"
   ]
  },
  {
   "cell_type": "code",
   "execution_count": 120,
   "id": "c2d9417e",
   "metadata": {},
   "outputs": [
    {
     "name": "stdout",
     "output_type": "stream",
     "text": [
      "MAE: 341.07249114756905\n",
      "MSE: 203629.64862191404\n",
      "RMSE: 451.2534195127102\n",
      "MAPE: 1.0195370815279488\n",
      "R^2: -31.768557646892674\n"
     ]
    }
   ],
   "source": [
    "print(f'MAE: {mean_absolute_error(y_test, y_pred)}')\n",
    "print(f'MSE: {mean_squared_error(y_test, y_pred)}')\n",
    "print(f'RMSE: {sqrt(mean_squared_error(y_test, y_pred))}')\n",
    "print(f'MAPE: {sqrt(mean_absolute_percentage_error(y_test, y_pred))}')\n",
    "score_lr_L1_GridSearchCV = r2_score(y_pred, y_test)\n",
    "print(f'R^2: {score_lr_L1_GridSearchCV}')"
   ]
  },
  {
   "cell_type": "code",
   "execution_count": 121,
   "id": "cdc393b1",
   "metadata": {},
   "outputs": [
    {
     "data": {
      "text/plain": [
       "array([-1964.34156997,  -222.93839293,  2725.31972878, -2757.36071385,\n",
       "         -31.28912331,    80.55209789,    15.49758785,   -64.76056251,\n",
       "          -4.85354084,     4.85354083])"
      ]
     },
     "execution_count": 121,
     "metadata": {},
     "output_type": "execute_result"
    }
   ],
   "source": [
    "ridge.coef_"
   ]
  },
  {
   "cell_type": "markdown",
   "id": "12f9716a",
   "metadata": {},
   "source": [
    "- **Линейная регрессия. Регуляризация L2 / Lasso.**"
   ]
  },
  {
   "cell_type": "code",
   "execution_count": 122,
   "id": "49a17511",
   "metadata": {},
   "outputs": [],
   "source": [
    "# L2(RandomizedSearchCV)\n",
    "lasso_optimal = RandomizedSearchCV(Lasso(), parameters).fit(X_train, y_train)\n",
    "lasso = Lasso(alpha=lasso_optimal.best_params_['alpha']).fit(X_train, y_train)\n",
    "y_pred = lasso.predict(X_test)"
   ]
  },
  {
   "cell_type": "code",
   "execution_count": 123,
   "id": "401160bb",
   "metadata": {},
   "outputs": [
    {
     "name": "stdout",
     "output_type": "stream",
     "text": [
      "MAE: 341.2959699712704\n",
      "MSE: 203859.9602937503\n",
      "RMSE: 451.5085384505484\n",
      "MAPE: 1.020180086831387\n",
      "R^2: -40.87055544168539\n"
     ]
    }
   ],
   "source": [
    "print(f'MAE: {mean_absolute_error(y_test, y_pred)}')\n",
    "print(f'MSE: {mean_squared_error(y_test, y_pred)}')\n",
    "print(f'RMSE: {sqrt(mean_squared_error(y_test, y_pred))}')\n",
    "print(f'MAPE: {sqrt(mean_absolute_percentage_error(y_test, y_pred))}')\n",
    "score_lr_L2_RandomSearchCV = r2_score(y_pred, y_test)\n",
    "print(f'R^2: {score_lr_L2_RandomSearchCV}')"
   ]
  },
  {
   "cell_type": "code",
   "execution_count": 124,
   "id": "74829bca",
   "metadata": {},
   "outputs": [
    {
     "data": {
      "text/plain": [
       "array([-1.25114887e+03, -4.17112169e+02,  1.75349077e+03, -2.19594381e+03,\n",
       "       -2.50487021e+01,  8.56661051e+01,  2.22177022e+01, -5.28396309e+01,\n",
       "       -8.50368737e+00,  5.75595419e-15])"
      ]
     },
     "execution_count": 124,
     "metadata": {},
     "output_type": "execute_result"
    }
   ],
   "source": [
    "lasso.coef_"
   ]
  },
  {
   "cell_type": "code",
   "execution_count": 125,
   "id": "394c5f23",
   "metadata": {},
   "outputs": [],
   "source": [
    "# L2(GridSearchCV)\n",
    "lasso_optimal = GridSearchCV(Lasso(), parameters).fit(X_train, y_train)\n",
    "lasso = Lasso(alpha=lasso_optimal.best_params_['alpha']).fit(X_train, y_train)\n",
    "y_pred = lasso.predict(X_test)"
   ]
  },
  {
   "cell_type": "code",
   "execution_count": 126,
   "id": "149da510",
   "metadata": {},
   "outputs": [
    {
     "name": "stdout",
     "output_type": "stream",
     "text": [
      "MAE: 341.2959699712704\n",
      "MSE: 203859.9602937503\n",
      "RMSE: 451.5085384505484\n",
      "MAPE: 1.020180086831387\n",
      "R^2: -40.87055544168539\n"
     ]
    }
   ],
   "source": [
    "print(f'MAE: {mean_absolute_error(y_test, y_pred)}')\n",
    "print(f'MSE: {mean_squared_error(y_test, y_pred)}')\n",
    "print(f'RMSE: {sqrt(mean_squared_error(y_test, y_pred))}')\n",
    "print(f'MAPE: {sqrt(mean_absolute_percentage_error(y_test, y_pred))}')\n",
    "score_lr_L2_GridSearchCV = r2_score(y_pred, y_test)\n",
    "print(f'R^2: {score_lr_L2_GridSearchCV}')"
   ]
  },
  {
   "cell_type": "code",
   "execution_count": 127,
   "id": "a44df321",
   "metadata": {},
   "outputs": [
    {
     "data": {
      "text/plain": [
       "array([-1.25114887e+03, -4.17112169e+02,  1.75349077e+03, -2.19594381e+03,\n",
       "       -2.50487021e+01,  8.56661051e+01,  2.22177022e+01, -5.28396309e+01,\n",
       "       -8.50368737e+00,  5.75595419e-15])"
      ]
     },
     "execution_count": 127,
     "metadata": {},
     "output_type": "execute_result"
    }
   ],
   "source": [
    "lasso.coef_"
   ]
  },
  {
   "cell_type": "markdown",
   "id": "5c337ed7",
   "metadata": {},
   "source": [
    "# Задача 3\n",
    "\n",
    "**Решите задачу регрессии на ваших данных с использованием моделей sklearn (полиномиальная регрессия + L1, L2), для моделей с регуляризациями подберите гиперпараметр.**"
   ]
  },
  {
   "cell_type": "markdown",
   "id": "9867ef36",
   "metadata": {},
   "source": [
    "- **Добавление предиката, степень полинома 2.**"
   ]
  },
  {
   "cell_type": "code",
   "execution_count": 463,
   "id": "81e38143",
   "metadata": {},
   "outputs": [],
   "source": [
    "pf = PolynomialFeatures(4)\n",
    "X_train_p = pf.fit_transform(X_train)\n",
    "X_test_p = pf.fit_transform(X_test)\n"
   ]
  },
  {
   "cell_type": "markdown",
   "id": "140e0b53",
   "metadata": {},
   "source": [
    "- **Полиномиальная регрессия.**"
   ]
  },
  {
   "cell_type": "code",
   "execution_count": 464,
   "id": "8ee213ed",
   "metadata": {},
   "outputs": [],
   "source": [
    "pr = LinearRegression().fit(X_train_p, y_train)\n",
    "y_pred = pr.predict(X_test_p)\n"
   ]
  },
  {
   "cell_type": "code",
   "execution_count": 465,
   "id": "5d8bd7e8",
   "metadata": {},
   "outputs": [
    {
     "name": "stdout",
     "output_type": "stream",
     "text": [
      "MAE: 217.96852361029633\n",
      "MSE: 98226.84682480925\n",
      "RMSE: 313.4116252228198\n",
      "MAPE: 0.7555453215292696\n",
      "R^2: 0.125516104388256\n"
     ]
    }
   ],
   "source": [
    "print(f'MAE: {mean_absolute_error(y_test, y_pred)}')\n",
    "print(f'MSE: {mean_squared_error(y_test, y_pred)}')\n",
    "print(f'RMSE: {sqrt(mean_squared_error(y_test, y_pred))}')\n",
    "print(f'MAPE: {sqrt(mean_absolute_percentage_error(y_test, y_pred))}')\n",
    "score_pr = r2_score(y_pred, y_test)\n",
    "print(f'R^2: {score_pr}')"
   ]
  },
  {
   "cell_type": "code",
   "execution_count": 30,
   "id": "a2a3625d",
   "metadata": {},
   "outputs": [
    {
     "data": {
      "text/plain": [
       "array([ 9.62274759e+02, -8.54688002e+08, -1.03356501e+09, ...,\n",
       "        0.00000000e+00,  0.00000000e+00, -4.38519146e+06])"
      ]
     },
     "execution_count": 30,
     "metadata": {},
     "output_type": "execute_result"
    }
   ],
   "source": [
    "pr.coef_"
   ]
  },
  {
   "cell_type": "markdown",
   "id": "b8d37747",
   "metadata": {},
   "source": [
    "- **Полиномиальная регрессия. Регуляризация L1 / Ridge.**"
   ]
  },
  {
   "cell_type": "code",
   "execution_count": 139,
   "id": "c32d88f5",
   "metadata": {},
   "outputs": [],
   "source": [
    "ridge = Ridge().fit(X_train_p, y_train)\n",
    "y_pred = ridge.predict(X_test_p)"
   ]
  },
  {
   "cell_type": "code",
   "execution_count": 140,
   "id": "cd5afbba",
   "metadata": {},
   "outputs": [
    {
     "name": "stdout",
     "output_type": "stream",
     "text": [
      "MAE: 241.29299822364837\n",
      "MSE: 117277.6125851629\n",
      "RMSE: 342.4581910031689\n",
      "MAPE: 0.8186678954252306\n",
      "R^2: -0.2725200597986355\n"
     ]
    }
   ],
   "source": [
    "print(f'MAE: {mean_absolute_error(y_test, y_pred)}')\n",
    "print(f'MSE: {mean_squared_error(y_test, y_pred)}')\n",
    "print(f'RMSE: {sqrt(mean_squared_error(y_test, y_pred))}')\n",
    "print(f'MAPE: {sqrt(mean_absolute_percentage_error(y_test, y_pred))}')\n",
    "score_pr_L1 = r2_score(y_pred, y_test)\n",
    "print(f'R^2: {score_pr_L1}')"
   ]
  },
  {
   "cell_type": "markdown",
   "id": "c0fb8f5c",
   "metadata": {},
   "source": [
    "# Задача 4\n",
    "\n",
    "**Вычислите значения метрик $R^2$, MAE, MSE, RMSE, MAPE для всех обученных моделей; выберите лучшую модель.**"
   ]
  },
  {
   "cell_type": "markdown",
   "id": "0d8905ce",
   "metadata": {},
   "source": [
    "- **Сравнение всех моделей по наибольшему коэффициенту детерминации.**"
   ]
  },
  {
   "cell_type": "code",
   "execution_count": 143,
   "id": "276e861b",
   "metadata": {},
   "outputs": [
    {
     "name": "stdout",
     "output_type": "stream",
     "text": [
      "-31.324020524673877\n",
      "-31.768557646892674\n",
      "-31.768557646892674\n",
      "-40.87055544168539\n",
      "-40.87055544168539\n",
      "----\n",
      "0.12677161467913023\n",
      "-0.2725200597986355\n"
     ]
    }
   ],
   "source": [
    "print(score_lr)\n",
    "print(score_lr_L1_RandomSearchCV)\n",
    "print(score_lr_L1_GridSearchCV)\n",
    "print(score_lr_L2_RandomSearchCV)\n",
    "print(score_lr_L2_GridSearchCV)\n",
    "print(\"----\")\n",
    "print(score_pr)\n",
    "print(score_pr_L1)"
   ]
  },
  {
   "cell_type": "markdown",
   "id": "7e70f64e",
   "metadata": {},
   "source": [
    "**Наилучшей моделью оказалась: Полиномиальная регрессия 4 степени**"
   ]
  },
  {
   "cell_type": "markdown",
   "id": "2c2e8ba9",
   "metadata": {},
   "source": [
    "# Задача 5\n",
    "- **Самостоятельно реализуйте (желательно в виде класса) модель линейной регрессии с регуляризацией (можете выбрать L1 или L2).**\n",
    "- **Самостоятельно реализуйте вычисление всех используемых метрик (в виде функций, принимающих два аргумента).**\n",
    "- **Обучите вашу модель линейной регрессии на ваших данных; оцените качество с помощью реализованных вами метрик.**"
   ]
  },
  {
   "cell_type": "code",
   "execution_count": 544,
   "id": "49d68291",
   "metadata": {},
   "outputs": [],
   "source": [
    "class Metrics:\n",
    "    def conf_matrix(y_test, y_pred):\n",
    "        \n",
    "    @staticmethod\n",
    "    def  MAE(y_test, y_pred): #mean_absolute_error\n",
    "        real, pred = np.array(y_test), np.array(y_pred)\n",
    "        return float(np.mean(np.abs(real - pred)))\n",
    "    @staticmethod\n",
    "    def MSE(y_test, y_pred): #mean_squared_error\n",
    "        real, pred = np.array(y_test), np.array(y_pred)\n",
    "        return float(np.mean((real - pred) ** 2))\n",
    "    @staticmethod\n",
    "    def RMSE(y_test, y_pred): #root_mean_squared_error\n",
    "        return float(np.sqrt(Metrics.mean_squared_error(y_test, y_pred)))\n",
    "    @staticmethod\n",
    "    def MAPE(y_test, y_pred): #mean_absolute_percentage_error\n",
    "        y_true, predictions = np.array(y_test), np.array(y_pred)\n",
    "        return np.mean(np.abs((real - pred) / np.abs(real)))\n",
    "    @staticmethod\n",
    "    def R2(y_test, y_pred): #r2_score\n",
    "        real, pred = np.array(y_test), np.array(y_pred)\n",
    "        return float(1 - np.sum((real - pred)**2) / np.sum((real - np.mean(real))**2))"
   ]
  },
  {
   "cell_type": "code",
   "execution_count": 554,
   "id": "e923ab9d",
   "metadata": {},
   "outputs": [],
   "source": [
    "class MyLinearRegression:\n",
    "    def __init__(self, iterations = 1000, learning_rate = 1e-4):\n",
    "        self.lr = learning_rate  \n",
    "        self.i = iterations        \n",
    "\n",
    "    def loss_func(self, x, y, w):\n",
    "        return sum((np.dot(x, w) - y) ** 2)/x.shape[1] #функция потерь sum((<w, x> - y)^2) * 1/len(x)\n",
    "    \n",
    "    def gradient(self, X, y, XT, l, w):\n",
    "        return w - self.lr * 2 * np.dot(XT, np.dot(X, w) - y) / l #функция для вычисления градиента\n",
    "                                                                  #w -n∇Q(w, X) = w - 2n/l * X.T(Xw - y)\n",
    "\n",
    "    def fit(self, x, y):\n",
    "        loss_abs = np.inf #переменная, отвечающая за прекращение работы алгоритма при минимальном изменении знач. функции потерь \n",
    "        eps = 1e-4\n",
    "        \n",
    "        X = x#self.transform(x)\n",
    "        w = np.zeros(X.shape[1]) #изначально веса = 0\n",
    "        iter = 0\n",
    "        XT = X.T\n",
    "        l = X.shape[0]\n",
    "        while iter <= self.i:\n",
    "            loss = self.loss_func(X, y, w)\n",
    "            w_save = w\n",
    "            w = self.gradient(X, y, XT, l, w)\n",
    "            loss_abs_save = loss_abs\n",
    "            loss_abs = np.abs(loss - self.loss_func(X, y,w))\n",
    "            if (loss_abs > loss_abs_save):\n",
    "                loss_abs = loss_abs_save\n",
    "                self.lr *= 0.99\n",
    "            if (loss_abs <= eps):\n",
    "                break\n",
    "            iter += 1\n",
    "            \n",
    "        self.w = w\n",
    "        \n",
    "        \n",
    "    def predict(self, x):\n",
    "        return np.dot(x, self.w) #ожидаемые y"
   ]
  },
  {
   "cell_type": "code",
   "execution_count": 551,
   "id": "c68dc7e9",
   "metadata": {},
   "outputs": [],
   "source": [
    "class MyRidge:\n",
    "    def __init__(self, iterations = 1000, learning_rate = 1e-4, alpha = 2):\n",
    "        self.lr = learning_rate  \n",
    "        self.i = iterations        \n",
    "        self.a = alpha\n",
    "\n",
    "    def loss_func(self, x, y, w):\n",
    "        return sum((np.dot(x, w) - y) ** 2 + self.a * sum(w**2))/x.shape[1] #функция потерь sum((<w, x> - y)^2) * 1/len(x)\n",
    "    def gradient(self, X, y, XT, l, w):\n",
    "        return w - self.lr * (2 * np.dot(XT, np.dot(X, w) - y) + self.a * sum(2 * w)) / l #функция для вычисления градиента\n",
    "                                                                  #w -n∇Q(w, X) = w - 2n/l * X.T(Xw - y)\n",
    "\n",
    "    def fit(self, x, y):\n",
    "        loss_abs = np.inf #переменная, отвечающая за прекращение работы алгоритма при минимальном изменении знач. функции потерь \n",
    "        eps = 1e-4\n",
    "        \n",
    "        X = x#self.transform(x)\n",
    "        w = np.zeros(X.shape[1]) #изначально веса = 0\n",
    "        iter = 0\n",
    "        XT = X.T\n",
    "        l = X.shape[0]\n",
    "        while iter <= self.i:\n",
    "            loss = self.loss_func(X, y, w)\n",
    "            w_save = w\n",
    "            w = self.gradient(X, y, XT, l, w)\n",
    "            loss_abs_save = loss_abs\n",
    "            loss_abs = np.abs(loss - self.loss_func(X, y,w))\n",
    "            if (loss_abs > loss_abs_save):\n",
    "                loss_abs = loss_abs_save\n",
    "                self.lr *= 0.99\n",
    "            if (loss_abs <= eps):\n",
    "                break\n",
    "            iter += 1\n",
    "            \n",
    "        self.w = w\n",
    "        return self\n",
    "        \n",
    "        \n",
    "    def predict(self, x):\n",
    "        return np.dot(x, self.w) #ожидаемые y"
   ]
  },
  {
   "cell_type": "code",
   "execution_count": 501,
   "id": "045c4658",
   "metadata": {},
   "outputs": [
    {
     "data": {
      "text/plain": [
       "13203"
      ]
     },
     "execution_count": 501,
     "metadata": {},
     "output_type": "execute_result"
    }
   ],
   "source": [
    "(X1_train, \n",
    " X2_train, \n",
    " y1_train, y2_train) = train_test_split(X_train_p, y_train, \n",
    "                                     test_size=0.93, \n",
    "                                     random_state=0)\n",
    "len(X1_train)"
   ]
  },
  {
   "cell_type": "code",
   "execution_count": 504,
   "id": "243b7f2e",
   "metadata": {},
   "outputs": [
    {
     "name": "stdout",
     "output_type": "stream",
     "text": [
      "(3500, 7)\n"
     ]
    }
   ],
   "source": [
    "from sklearn.datasets import make_regression\n",
    "Xmr, ymr = make_regression(n_samples=5000, n_features=7, noise=30, random_state=42)\n",
    "X3_train, X3_test, y3_train, y3_test = train_test_split(Xmr, ymr, test_size=0.3)\n",
    "len(X3_train)\n",
    "print(X3_train.shape)"
   ]
  },
  {
   "cell_type": "code",
   "execution_count": 555,
   "id": "17806fde",
   "metadata": {},
   "outputs": [],
   "source": [
    "#print(pr.coef_)\n",
    "parameters = np.arange(0.1, 1, 0.05)\n",
    "mlr = MyLinearRegression(iterations =10000, learning_rate = 3)\n",
    "mlrr = MyRidge(iterations =10000, learning_rate = 3, alpha = 0.5)\n",
    "lr1 = LinearRegression()\n",
    "mlrr.fit(X3_train, y3_train)\n",
    "lr1.fit(X3_train, y3_train)\n",
    "mlr.fit(X3_train, y3_train)\n",
    "stats = [ Metrics.MSE(MyRidge(iterations =10000, learning_rate = 3, alpha = i).fit(X3_train, y3_train).predict(X3_test), y3_test) for i in parameters]"
   ]
  },
  {
   "cell_type": "code",
   "execution_count": 559,
   "id": "2da80df8",
   "metadata": {},
   "outputs": [
    {
     "name": "stdout",
     "output_type": "stream",
     "text": [
      "862.9485781966463\n",
      "0.25000000000000006\n"
     ]
    },
    {
     "data": {
      "image/png": "[encoded data removed]",
      "text/plain": [
       "<Figure size 640x480 with 1 Axes>"
      ]
     },
     "metadata": {},
     "output_type": "display_data"
    }
   ],
   "source": [
    "plt.plot(parameters, stats)\n",
    "print(min(stats))\n",
    "print(parameters[stats.index(min(stats))])\n"
   ]
  },
  {
   "cell_type": "code",
   "execution_count": 535,
   "id": "f52c5b10",
   "metadata": {},
   "outputs": [
    {
     "name": "stdout",
     "output_type": "stream",
     "text": [
      "0.9569841451575292\n",
      "0.9569833204182712\n",
      "0.9569186819778042\n"
     ]
    }
   ],
   "source": [
    "pred1 = mlr.predict(X3_test)\n",
    "pred2 = lr1.predict(X3_test)\n",
    "pred3 = mlrr.predict(X3_test)\n",
    "print(Metrics.r_2_score(pred1, y3_test))\n",
    "print(Metrics.r_2_score(pred2, y3_test))\n",
    "print(Metrics.r_2_score(pred3, y3_test))\n",
    "#-1523081.8375414188\n",
    "#-1496222.53845041\n",
    "#-0.008642139528650672"
   ]
  },
  {
   "cell_type": "code",
   "execution_count": null,
   "id": "816321ac",
   "metadata": {},
   "outputs": [],
   "source": []
  }
 ],
 "metadata": {
  "kernelspec": {
   "display_name": "Python 3 (ipykernel)",
   "language": "python",
   "name": "python3"
  },
  "language_info": {
   "codemirror_mode": {
    "name": "ipython",
    "version": 3
   },
   "file_extension": ".py",
   "mimetype": "text/x-python",
   "name": "python",
   "nbconvert_exporter": "python",
   "pygments_lexer": "ipython3",
   "version": "3.10.7"
  }
 },
 "nbformat": 4,
 "nbformat_minor": 5
}
